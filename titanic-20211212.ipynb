{
 "cells": [
  {
   "cell_type": "code",
   "execution_count": 1,
   "id": "546a8ebd",
   "metadata": {
    "_cell_guid": "b1076dfc-b9ad-4769-8c92-a6c4dae69d19",
    "_uuid": "8f2839f25d086af736a60e9eeb907d3b93b6e0e5",
    "execution": {
     "iopub.execute_input": "2022-01-05T02:57:39.242083Z",
     "iopub.status.busy": "2022-01-05T02:57:39.240538Z",
     "iopub.status.idle": "2022-01-05T02:57:39.248008Z",
     "shell.execute_reply": "2022-01-05T02:57:39.247485Z",
     "shell.execute_reply.started": "2022-01-05T02:49:04.251817Z"
    },
    "papermill": {
     "duration": 0.078223,
     "end_time": "2022-01-05T02:57:39.248142",
     "exception": false,
     "start_time": "2022-01-05T02:57:39.169919",
     "status": "completed"
    },
    "tags": []
   },
   "outputs": [
    {
     "name": "stdout",
     "output_type": "stream",
     "text": [
      "/kaggle/input/titanic/train.csv\n",
      "/kaggle/input/titanic/test.csv\n",
      "/kaggle/input/titanic/gender_submission.csv\n"
     ]
    }
   ],
   "source": [
    "# This Python 3 environment comes with many helpful analytics libraries installed\n",
    "# It is defined by the kaggle/python Docker image: https://github.com/kaggle/docker-python\n",
    "# For example, here's several helpful packages to load\n",
    "\n",
    "import numpy as np # linear algebra\n",
    "import pandas as pd # data processing, CSV file I/O (e.g. pd.read_csv)\n",
    "import matplotlib.pyplot as plt\n",
    "\n",
    "# Input data files are available in the read-only \"../input/\" directory\n",
    "# For example, running this (by clicking run or pressing Shift+Enter) will list all files under the input directory\n",
    "\n",
    "import os\n",
    "for dirname, _, filenames in os.walk('/kaggle/input'):\n",
    "    for filename in filenames:\n",
    "        print(os.path.join(dirname, filename))\n",
    "\n",
    "# You can write up to 20GB to the current directory (/kaggle/working/) that gets preserved as output when you create a version using \"Save & Run All\" \n",
    "# You can also write temporary files to /kaggle/temp/, but they won't be saved outside of the current session"
   ]
  },
  {
   "cell_type": "code",
   "execution_count": 2,
   "id": "9d43a50d",
   "metadata": {
    "execution": {
     "iopub.execute_input": "2022-01-05T02:57:39.317565Z",
     "iopub.status.busy": "2022-01-05T02:57:39.316761Z",
     "iopub.status.idle": "2022-01-05T02:57:39.318722Z",
     "shell.execute_reply": "2022-01-05T02:57:39.319122Z",
     "shell.execute_reply.started": "2022-01-05T02:49:04.266218Z"
    },
    "papermill": {
     "duration": 0.037017,
     "end_time": "2022-01-05T02:57:39.319254",
     "exception": false,
     "start_time": "2022-01-05T02:57:39.282237",
     "status": "completed"
    },
    "tags": []
   },
   "outputs": [],
   "source": [
    "# setup\n",
    "TRAIN_PATH = \"../input/titanic/train.csv\"\n",
    "TEST_PATH = \"../input/titanic/test.csv\"\n",
    "SUBMISSION_PATH = \"../input/titanic/gender_submission.csv\"\n",
    "\n",
    "OUTPUT_PATH = \"../output/submission.csv\""
   ]
  },
  {
   "cell_type": "code",
   "execution_count": 3,
   "id": "df6149b4",
   "metadata": {
    "execution": {
     "iopub.execute_input": "2022-01-05T02:57:39.413246Z",
     "iopub.status.busy": "2022-01-05T02:57:39.412461Z",
     "iopub.status.idle": "2022-01-05T02:57:39.439735Z",
     "shell.execute_reply": "2022-01-05T02:57:39.440148Z",
     "shell.execute_reply.started": "2022-01-05T02:49:04.273515Z"
    },
    "papermill": {
     "duration": 0.089253,
     "end_time": "2022-01-05T02:57:39.440284",
     "exception": false,
     "start_time": "2022-01-05T02:57:39.351031",
     "status": "completed"
    },
    "tags": []
   },
   "outputs": [],
   "source": [
    "train_df = pd.read_csv(TRAIN_PATH)\n",
    "test_df = pd.read_csv(TEST_PATH)"
   ]
  },
  {
   "cell_type": "code",
   "execution_count": 4,
   "id": "8030c42c",
   "metadata": {
    "execution": {
     "iopub.execute_input": "2022-01-05T02:57:39.510804Z",
     "iopub.status.busy": "2022-01-05T02:57:39.509976Z",
     "iopub.status.idle": "2022-01-05T02:57:39.524460Z",
     "shell.execute_reply": "2022-01-05T02:57:39.524898Z",
     "shell.execute_reply.started": "2022-01-05T02:49:04.303057Z"
    },
    "papermill": {
     "duration": 0.052501,
     "end_time": "2022-01-05T02:57:39.525036",
     "exception": false,
     "start_time": "2022-01-05T02:57:39.472535",
     "status": "completed"
    },
    "tags": []
   },
   "outputs": [
    {
     "data": {
      "text/html": [
       "<div>\n",
       "<style scoped>\n",
       "    .dataframe tbody tr th:only-of-type {\n",
       "        vertical-align: middle;\n",
       "    }\n",
       "\n",
       "    .dataframe tbody tr th {\n",
       "        vertical-align: top;\n",
       "    }\n",
       "\n",
       "    .dataframe thead th {\n",
       "        text-align: right;\n",
       "    }\n",
       "</style>\n",
       "<table border=\"1\" class=\"dataframe\">\n",
       "  <thead>\n",
       "    <tr style=\"text-align: right;\">\n",
       "      <th></th>\n",
       "      <th>PassengerId</th>\n",
       "      <th>Survived</th>\n",
       "      <th>Pclass</th>\n",
       "      <th>Name</th>\n",
       "      <th>Sex</th>\n",
       "      <th>Age</th>\n",
       "      <th>SibSp</th>\n",
       "      <th>Parch</th>\n",
       "      <th>Ticket</th>\n",
       "      <th>Fare</th>\n",
       "      <th>Cabin</th>\n",
       "      <th>Embarked</th>\n",
       "    </tr>\n",
       "  </thead>\n",
       "  <tbody>\n",
       "    <tr>\n",
       "      <th>0</th>\n",
       "      <td>1</td>\n",
       "      <td>0</td>\n",
       "      <td>3</td>\n",
       "      <td>Braund, Mr. Owen Harris</td>\n",
       "      <td>male</td>\n",
       "      <td>22.0</td>\n",
       "      <td>1</td>\n",
       "      <td>0</td>\n",
       "      <td>A/5 21171</td>\n",
       "      <td>7.2500</td>\n",
       "      <td>NaN</td>\n",
       "      <td>S</td>\n",
       "    </tr>\n",
       "    <tr>\n",
       "      <th>1</th>\n",
       "      <td>2</td>\n",
       "      <td>1</td>\n",
       "      <td>1</td>\n",
       "      <td>Cumings, Mrs. John Bradley (Florence Briggs Th...</td>\n",
       "      <td>female</td>\n",
       "      <td>38.0</td>\n",
       "      <td>1</td>\n",
       "      <td>0</td>\n",
       "      <td>PC 17599</td>\n",
       "      <td>71.2833</td>\n",
       "      <td>C85</td>\n",
       "      <td>C</td>\n",
       "    </tr>\n",
       "    <tr>\n",
       "      <th>2</th>\n",
       "      <td>3</td>\n",
       "      <td>1</td>\n",
       "      <td>3</td>\n",
       "      <td>Heikkinen, Miss. Laina</td>\n",
       "      <td>female</td>\n",
       "      <td>26.0</td>\n",
       "      <td>0</td>\n",
       "      <td>0</td>\n",
       "      <td>STON/O2. 3101282</td>\n",
       "      <td>7.9250</td>\n",
       "      <td>NaN</td>\n",
       "      <td>S</td>\n",
       "    </tr>\n",
       "    <tr>\n",
       "      <th>3</th>\n",
       "      <td>4</td>\n",
       "      <td>1</td>\n",
       "      <td>1</td>\n",
       "      <td>Futrelle, Mrs. Jacques Heath (Lily May Peel)</td>\n",
       "      <td>female</td>\n",
       "      <td>35.0</td>\n",
       "      <td>1</td>\n",
       "      <td>0</td>\n",
       "      <td>113803</td>\n",
       "      <td>53.1000</td>\n",
       "      <td>C123</td>\n",
       "      <td>S</td>\n",
       "    </tr>\n",
       "    <tr>\n",
       "      <th>4</th>\n",
       "      <td>5</td>\n",
       "      <td>0</td>\n",
       "      <td>3</td>\n",
       "      <td>Allen, Mr. William Henry</td>\n",
       "      <td>male</td>\n",
       "      <td>35.0</td>\n",
       "      <td>0</td>\n",
       "      <td>0</td>\n",
       "      <td>373450</td>\n",
       "      <td>8.0500</td>\n",
       "      <td>NaN</td>\n",
       "      <td>S</td>\n",
       "    </tr>\n",
       "  </tbody>\n",
       "</table>\n",
       "</div>"
      ],
      "text/plain": [
       "   PassengerId  Survived  Pclass  \\\n",
       "0            1         0       3   \n",
       "1            2         1       1   \n",
       "2            3         1       3   \n",
       "3            4         1       1   \n",
       "4            5         0       3   \n",
       "\n",
       "                                                Name     Sex   Age  SibSp  \\\n",
       "0                            Braund, Mr. Owen Harris    male  22.0      1   \n",
       "1  Cumings, Mrs. John Bradley (Florence Briggs Th...  female  38.0      1   \n",
       "2                             Heikkinen, Miss. Laina  female  26.0      0   \n",
       "3       Futrelle, Mrs. Jacques Heath (Lily May Peel)  female  35.0      1   \n",
       "4                           Allen, Mr. William Henry    male  35.0      0   \n",
       "\n",
       "   Parch            Ticket     Fare Cabin Embarked  \n",
       "0      0         A/5 21171   7.2500   NaN        S  \n",
       "1      0          PC 17599  71.2833   C85        C  \n",
       "2      0  STON/O2. 3101282   7.9250   NaN        S  \n",
       "3      0            113803  53.1000  C123        S  \n",
       "4      0            373450   8.0500   NaN        S  "
      ]
     },
     "execution_count": 4,
     "metadata": {},
     "output_type": "execute_result"
    }
   ],
   "source": [
    "train_df.head(5)"
   ]
  },
  {
   "cell_type": "code",
   "execution_count": 5,
   "id": "8c016b84",
   "metadata": {
    "execution": {
     "iopub.execute_input": "2022-01-05T02:57:39.605061Z",
     "iopub.status.busy": "2022-01-05T02:57:39.604304Z",
     "iopub.status.idle": "2022-01-05T02:57:39.806982Z",
     "shell.execute_reply": "2022-01-05T02:57:39.807369Z",
     "shell.execute_reply.started": "2022-01-05T02:49:04.319390Z"
    },
    "papermill": {
     "duration": 0.249832,
     "end_time": "2022-01-05T02:57:39.807519",
     "exception": false,
     "start_time": "2022-01-05T02:57:39.557687",
     "status": "completed"
    },
    "tags": []
   },
   "outputs": [
    {
     "data": {
      "image/png": "[encoded data removed]",
      "text/plain": [
       "<Figure size 432x288 with 1 Axes>"
      ]
     },
     "metadata": {
      "needs_background": "light"
     },
     "output_type": "display_data"
    }
   ],
   "source": [
    "gender_df = train_df[[\"PassengerId\", \"Survived\", \"Sex\"]].copy()\n",
    "gender_pivot_df = gender_df.groupby(\"Sex\").agg({\"Survived\": np.mean})\n",
    "gender_pivot_df.plot.bar()\n",
    "plt.show()"
   ]
  },
  {
   "cell_type": "code",
   "execution_count": 6,
   "id": "0cc48960",
   "metadata": {
    "execution": {
     "iopub.execute_input": "2022-01-05T02:57:39.878502Z",
     "iopub.status.busy": "2022-01-05T02:57:39.877558Z",
     "iopub.status.idle": "2022-01-05T02:57:40.710588Z",
     "shell.execute_reply": "2022-01-05T02:57:40.710033Z",
     "shell.execute_reply.started": "2022-01-05T02:49:04.476767Z"
    },
    "papermill": {
     "duration": 0.871449,
     "end_time": "2022-01-05T02:57:40.710779",
     "exception": false,
     "start_time": "2022-01-05T02:57:39.839330",
     "status": "completed"
    },
    "tags": []
   },
   "outputs": [],
   "source": [
    "# create baseline gender model\n",
    "from sklearn.linear_model import LogisticRegression\n",
    "from sklearn.model_selection import cross_val_score\n",
    "\n",
    "\n",
    "def create_dummies(df, feature):\n",
    "    dummy_df = pd.get_dummies(data = df[feature], prefix = feature)\n",
    "    df = pd.concat([df, dummy_df], axis=1)\n",
    "    new_df = df.drop(columns = feature)\n",
    "    return new_df\n",
    "\n",
    "def cross_validate(model, df, features, target):\n",
    "    all_X = df[features]\n",
    "    all_y = df[target]\n",
    "    scores = cross_val_score(model, all_X, all_y, cv = 10)\n",
    "    accuracy_lr = np.mean(scores)\n",
    "    return accuracy_lr\n",
    "\n",
    "def train_model(model, df, features, target):\n",
    "    model.fit(df[features], df[target])\n",
    "    return model\n",
    "\n",
    "def generate_predictions(model, df, features):\n",
    "    predictions = model.predict(df[features])\n",
    "    return predictions"
   ]
  },
  {
   "cell_type": "code",
   "execution_count": 7,
   "id": "e69540f1",
   "metadata": {
    "execution": {
     "iopub.execute_input": "2022-01-05T02:57:40.790639Z",
     "iopub.status.busy": "2022-01-05T02:57:40.789704Z",
     "iopub.status.idle": "2022-01-05T02:57:40.909678Z",
     "shell.execute_reply": "2022-01-05T02:57:40.910221Z",
     "shell.execute_reply.started": "2022-01-05T02:49:04.486737Z"
    },
    "papermill": {
     "duration": 0.16158,
     "end_time": "2022-01-05T02:57:40.910386",
     "exception": false,
     "start_time": "2022-01-05T02:57:40.748806",
     "status": "completed"
    },
    "tags": []
   },
   "outputs": [
    {
     "name": "stdout",
     "output_type": "stream",
     "text": [
      "0.786729088639201\n"
     ]
    }
   ],
   "source": [
    "# cross validate\n",
    "version1 = create_dummies(train_df, \"Sex\")\n",
    "features = [\"Sex_male\", \"Sex_female\"]\n",
    "target = \"Survived\"\n",
    "model = LogisticRegression()\n",
    "acc = cross_validate(model, version1, features, target)\n",
    "print(acc)\n",
    "\n",
    "# generate the baseline model\n",
    "lr = train_model(model, version1, features, target)\n",
    "\n",
    "# generate predictions\n",
    "test_version1 = create_dummies(test_df, \"Sex\")\n",
    "predictions = generate_predictions(lr, test_version1, features)"
   ]
  },
  {
   "cell_type": "code",
   "execution_count": 8,
   "id": "97619d5c",
   "metadata": {
    "execution": {
     "iopub.execute_input": "2022-01-05T02:57:40.997689Z",
     "iopub.status.busy": "2022-01-05T02:57:40.996660Z",
     "iopub.status.idle": "2022-01-05T02:57:41.002294Z",
     "shell.execute_reply": "2022-01-05T02:57:41.003099Z",
     "shell.execute_reply.started": "2022-01-05T02:49:04.610728Z"
    },
    "papermill": {
     "duration": 0.05467,
     "end_time": "2022-01-05T02:57:41.003358",
     "exception": false,
     "start_time": "2022-01-05T02:57:40.948688",
     "status": "completed"
    },
    "tags": []
   },
   "outputs": [
    {
     "data": {
      "text/plain": [
       "array([[-1.23963654,  1.23958792]])"
      ]
     },
     "execution_count": 8,
     "metadata": {},
     "output_type": "execute_result"
    }
   ],
   "source": [
    "lr.coef_"
   ]
  },
  {
   "cell_type": "code",
   "execution_count": 9,
   "id": "a560e652",
   "metadata": {
    "execution": {
     "iopub.execute_input": "2022-01-05T02:57:41.148078Z",
     "iopub.status.busy": "2022-01-05T02:57:41.147096Z",
     "iopub.status.idle": "2022-01-05T02:57:41.150808Z",
     "shell.execute_reply": "2022-01-05T02:57:41.148850Z",
     "shell.execute_reply.started": "2022-01-05T02:49:04.620514Z"
    },
    "papermill": {
     "duration": 0.071426,
     "end_time": "2022-01-05T02:57:41.150970",
     "exception": false,
     "start_time": "2022-01-05T02:57:41.079544",
     "status": "completed"
    },
    "tags": []
   },
   "outputs": [
    {
     "data": {
      "text/plain": [
       "array([0, 1, 0, 0, 1, 0, 1, 0, 1, 0])"
      ]
     },
     "execution_count": 9,
     "metadata": {},
     "output_type": "execute_result"
    }
   ],
   "source": [
    "predictions[0:10]"
   ]
  },
  {
   "cell_type": "code",
   "execution_count": 10,
   "id": "befb13a8",
   "metadata": {
    "execution": {
     "iopub.execute_input": "2022-01-05T02:57:41.265144Z",
     "iopub.status.busy": "2022-01-05T02:57:41.264270Z",
     "iopub.status.idle": "2022-01-05T02:57:41.266529Z",
     "shell.execute_reply": "2022-01-05T02:57:41.265885Z",
     "shell.execute_reply.started": "2022-01-05T02:49:04.633576Z"
    },
    "papermill": {
     "duration": 0.061927,
     "end_time": "2022-01-05T02:57:41.266694",
     "exception": false,
     "start_time": "2022-01-05T02:57:41.204767",
     "status": "completed"
    },
    "tags": []
   },
   "outputs": [],
   "source": [
    "# passenger_ids = test_df[\"PassengerId\"]\n",
    "# prediction = predictions\n",
    "# submission = pd.DataFrame(\n",
    "#     {\n",
    "#         \"PassengerId\": passenger_ids,\n",
    "#         \"Survived\": prediction\n",
    "#     }\n",
    "# )\n",
    "\n",
    "# submission.to_csv(\"submission.csv\", index=False)"
   ]
  },
  {
   "cell_type": "code",
   "execution_count": null,
   "id": "6575fcdd",
   "metadata": {
    "papermill": {
     "duration": 0.053493,
     "end_time": "2022-01-05T02:57:41.373878",
     "exception": false,
     "start_time": "2022-01-05T02:57:41.320385",
     "status": "completed"
    },
    "tags": []
   },
   "outputs": [],
   "source": []
  },
  {
   "cell_type": "markdown",
   "id": "ad4b7216",
   "metadata": {
    "papermill": {
     "duration": 0.053074,
     "end_time": "2022-01-05T02:57:41.480786",
     "exception": false,
     "start_time": "2022-01-05T02:57:41.427712",
     "status": "completed"
    },
    "tags": []
   },
   "source": [
    "Baseline gender model -> score of 0.7655"
   ]
  },
  {
   "cell_type": "code",
   "execution_count": 11,
   "id": "047c76f1",
   "metadata": {
    "execution": {
     "iopub.execute_input": "2022-01-05T02:57:41.612690Z",
     "iopub.status.busy": "2022-01-05T02:57:41.611826Z",
     "iopub.status.idle": "2022-01-05T02:57:41.774780Z",
     "shell.execute_reply": "2022-01-05T02:57:41.774316Z",
     "shell.execute_reply.started": "2022-01-05T02:49:04.647160Z"
    },
    "papermill": {
     "duration": 0.240186,
     "end_time": "2022-01-05T02:57:41.774909",
     "exception": false,
     "start_time": "2022-01-05T02:57:41.534723",
     "status": "completed"
    },
    "tags": []
   },
   "outputs": [
    {
     "data": {
      "text/plain": [
       "<AxesSubplot:ylabel='Pclass'>"
      ]
     },
     "execution_count": 11,
     "metadata": {},
     "output_type": "execute_result"
    },
    {
     "data": {
      "image/png": "[encoded data removed]",
      "text/plain": [
       "<Figure size 432x288 with 1 Axes>"
      ]
     },
     "metadata": {
      "needs_background": "light"
     },
     "output_type": "display_data"
    }
   ],
   "source": [
    "# Lets build on top of the baseline gender model and try to improve the accuracy\n",
    "# Lets look at the PClass column and Embarked columns\n",
    "p_class_df = train_df[[\"Pclass\", \"PassengerId\", \"Survived\"]].copy()\n",
    "p_class_agg = p_class_df.groupby(\"Pclass\").agg({\"Survived\": np.mean})\n",
    "p_class_agg.plot.barh()"
   ]
  },
  {
   "cell_type": "code",
   "execution_count": 12,
   "id": "0ad107b8",
   "metadata": {
    "execution": {
     "iopub.execute_input": "2022-01-05T02:57:41.848328Z",
     "iopub.status.busy": "2022-01-05T02:57:41.847513Z",
     "iopub.status.idle": "2022-01-05T02:57:42.030593Z",
     "shell.execute_reply": "2022-01-05T02:57:42.030069Z",
     "shell.execute_reply.started": "2022-01-05T02:49:04.848423Z"
    },
    "papermill": {
     "duration": 0.221959,
     "end_time": "2022-01-05T02:57:42.030746",
     "exception": false,
     "start_time": "2022-01-05T02:57:41.808787",
     "status": "completed"
    },
    "tags": []
   },
   "outputs": [
    {
     "data": {
      "text/plain": [
       "<AxesSubplot:ylabel='Embarked'>"
      ]
     },
     "execution_count": 12,
     "metadata": {},
     "output_type": "execute_result"
    },
    {
     "data": {
      "image/png": "[encoded data removed]",
      "text/plain": [
       "<Figure size 432x288 with 1 Axes>"
      ]
     },
     "metadata": {
      "needs_background": "light"
     },
     "output_type": "display_data"
    }
   ],
   "source": [
    "embarked_df = train_df[[\"Embarked\", \"PassengerId\", \"Survived\"]].copy()\n",
    "embarked_agg = embarked_df.groupby(\"Embarked\").agg({\"Survived\": np.mean})\n",
    "embarked_agg.plot.barh()"
   ]
  },
  {
   "cell_type": "code",
   "execution_count": 13,
   "id": "daf15886",
   "metadata": {
    "execution": {
     "iopub.execute_input": "2022-01-05T02:57:42.112942Z",
     "iopub.status.busy": "2022-01-05T02:57:42.112085Z",
     "iopub.status.idle": "2022-01-05T02:57:42.133244Z",
     "shell.execute_reply": "2022-01-05T02:57:42.132782Z",
     "shell.execute_reply.started": "2022-01-05T02:49:05.042550Z"
    },
    "papermill": {
     "duration": 0.066336,
     "end_time": "2022-01-05T02:57:42.133377",
     "exception": false,
     "start_time": "2022-01-05T02:57:42.067041",
     "status": "completed"
    },
    "tags": []
   },
   "outputs": [
    {
     "data": {
      "text/html": [
       "<div>\n",
       "<style scoped>\n",
       "    .dataframe tbody tr th:only-of-type {\n",
       "        vertical-align: middle;\n",
       "    }\n",
       "\n",
       "    .dataframe tbody tr th {\n",
       "        vertical-align: top;\n",
       "    }\n",
       "\n",
       "    .dataframe thead th {\n",
       "        text-align: right;\n",
       "    }\n",
       "</style>\n",
       "<table border=\"1\" class=\"dataframe\">\n",
       "  <thead>\n",
       "    <tr style=\"text-align: right;\">\n",
       "      <th></th>\n",
       "      <th>PassengerId</th>\n",
       "      <th>Survived</th>\n",
       "      <th>Name</th>\n",
       "      <th>Age</th>\n",
       "      <th>SibSp</th>\n",
       "      <th>Parch</th>\n",
       "      <th>Ticket</th>\n",
       "      <th>Fare</th>\n",
       "      <th>Cabin</th>\n",
       "      <th>Sex_female</th>\n",
       "      <th>Sex_male</th>\n",
       "      <th>Pclass_1</th>\n",
       "      <th>Pclass_2</th>\n",
       "      <th>Pclass_3</th>\n",
       "      <th>Embarked_C</th>\n",
       "      <th>Embarked_Q</th>\n",
       "      <th>Embarked_S</th>\n",
       "    </tr>\n",
       "  </thead>\n",
       "  <tbody>\n",
       "    <tr>\n",
       "      <th>0</th>\n",
       "      <td>1</td>\n",
       "      <td>0</td>\n",
       "      <td>Braund, Mr. Owen Harris</td>\n",
       "      <td>22.0</td>\n",
       "      <td>1</td>\n",
       "      <td>0</td>\n",
       "      <td>A/5 21171</td>\n",
       "      <td>7.2500</td>\n",
       "      <td>NaN</td>\n",
       "      <td>0</td>\n",
       "      <td>1</td>\n",
       "      <td>0</td>\n",
       "      <td>0</td>\n",
       "      <td>1</td>\n",
       "      <td>0</td>\n",
       "      <td>0</td>\n",
       "      <td>1</td>\n",
       "    </tr>\n",
       "    <tr>\n",
       "      <th>1</th>\n",
       "      <td>2</td>\n",
       "      <td>1</td>\n",
       "      <td>Cumings, Mrs. John Bradley (Florence Briggs Th...</td>\n",
       "      <td>38.0</td>\n",
       "      <td>1</td>\n",
       "      <td>0</td>\n",
       "      <td>PC 17599</td>\n",
       "      <td>71.2833</td>\n",
       "      <td>C85</td>\n",
       "      <td>1</td>\n",
       "      <td>0</td>\n",
       "      <td>1</td>\n",
       "      <td>0</td>\n",
       "      <td>0</td>\n",
       "      <td>1</td>\n",
       "      <td>0</td>\n",
       "      <td>0</td>\n",
       "    </tr>\n",
       "    <tr>\n",
       "      <th>2</th>\n",
       "      <td>3</td>\n",
       "      <td>1</td>\n",
       "      <td>Heikkinen, Miss. Laina</td>\n",
       "      <td>26.0</td>\n",
       "      <td>0</td>\n",
       "      <td>0</td>\n",
       "      <td>STON/O2. 3101282</td>\n",
       "      <td>7.9250</td>\n",
       "      <td>NaN</td>\n",
       "      <td>1</td>\n",
       "      <td>0</td>\n",
       "      <td>0</td>\n",
       "      <td>0</td>\n",
       "      <td>1</td>\n",
       "      <td>0</td>\n",
       "      <td>0</td>\n",
       "      <td>1</td>\n",
       "    </tr>\n",
       "    <tr>\n",
       "      <th>3</th>\n",
       "      <td>4</td>\n",
       "      <td>1</td>\n",
       "      <td>Futrelle, Mrs. Jacques Heath (Lily May Peel)</td>\n",
       "      <td>35.0</td>\n",
       "      <td>1</td>\n",
       "      <td>0</td>\n",
       "      <td>113803</td>\n",
       "      <td>53.1000</td>\n",
       "      <td>C123</td>\n",
       "      <td>1</td>\n",
       "      <td>0</td>\n",
       "      <td>1</td>\n",
       "      <td>0</td>\n",
       "      <td>0</td>\n",
       "      <td>0</td>\n",
       "      <td>0</td>\n",
       "      <td>1</td>\n",
       "    </tr>\n",
       "  </tbody>\n",
       "</table>\n",
       "</div>"
      ],
      "text/plain": [
       "   PassengerId  Survived                                               Name  \\\n",
       "0            1         0                            Braund, Mr. Owen Harris   \n",
       "1            2         1  Cumings, Mrs. John Bradley (Florence Briggs Th...   \n",
       "2            3         1                             Heikkinen, Miss. Laina   \n",
       "3            4         1       Futrelle, Mrs. Jacques Heath (Lily May Peel)   \n",
       "\n",
       "    Age  SibSp  Parch            Ticket     Fare Cabin  Sex_female  Sex_male  \\\n",
       "0  22.0      1      0         A/5 21171   7.2500   NaN           0         1   \n",
       "1  38.0      1      0          PC 17599  71.2833   C85           1         0   \n",
       "2  26.0      0      0  STON/O2. 3101282   7.9250   NaN           1         0   \n",
       "3  35.0      1      0            113803  53.1000  C123           1         0   \n",
       "\n",
       "   Pclass_1  Pclass_2  Pclass_3  Embarked_C  Embarked_Q  Embarked_S  \n",
       "0         0         0         1           0           0           1  \n",
       "1         1         0         0           1           0           0  \n",
       "2         0         0         1           0           0           1  \n",
       "3         1         0         0           0           0           1  "
      ]
     },
     "execution_count": 13,
     "metadata": {},
     "output_type": "execute_result"
    }
   ],
   "source": [
    "# Building a combination of the gender, Embarked, Pclass column\n",
    "cols = [\"Sex\", \"Pclass\", \"Embarked\"]\n",
    "version2 = train_df.copy()\n",
    "for col in cols:\n",
    "    version2 = create_dummies(version2, col)\n",
    "    \n",
    "version2.head(4)"
   ]
  },
  {
   "cell_type": "code",
   "execution_count": 14,
   "id": "59c0b332",
   "metadata": {
    "execution": {
     "iopub.execute_input": "2022-01-05T02:57:42.214902Z",
     "iopub.status.busy": "2022-01-05T02:57:42.214254Z",
     "iopub.status.idle": "2022-01-05T02:57:42.336392Z",
     "shell.execute_reply": "2022-01-05T02:57:42.336848Z",
     "shell.execute_reply.started": "2022-01-05T02:49:05.072935Z"
    },
    "papermill": {
     "duration": 0.164098,
     "end_time": "2022-01-05T02:57:42.337002",
     "exception": false,
     "start_time": "2022-01-05T02:57:42.172904",
     "status": "completed"
    },
    "tags": []
   },
   "outputs": [
    {
     "name": "stdout",
     "output_type": "stream",
     "text": [
      "0.8114357053682897\n"
     ]
    }
   ],
   "source": [
    "features = [\"Pclass_1\", \"Pclass_2\", \"Pclass_3\", \"Sex_female\", \"Sex_male\", \"Embarked_C\", \"Embarked_Q\", \"Embarked_S\"]\n",
    "target = \"Survived\"\n",
    "from sklearn.tree import DecisionTreeClassifier\n",
    "model = DecisionTreeClassifier()\n",
    "\n",
    "acc = cross_validate(model, version2, features, target)\n",
    "print(acc)\n",
    "\n",
    "# generate the baseline model\n",
    "lr = train_model(model, version2, features, target)\n",
    "\n",
    "# generate predictions\n",
    "test_version2 = test_df.copy()\n",
    "for col in cols:\n",
    "    test_version2 = create_dummies(test_version2, col)\n",
    "\n",
    "predictions2 = generate_predictions(lr, test_version2, features)"
   ]
  },
  {
   "cell_type": "code",
   "execution_count": 15,
   "id": "41e070d4",
   "metadata": {
    "execution": {
     "iopub.execute_input": "2022-01-05T02:57:42.415111Z",
     "iopub.status.busy": "2022-01-05T02:57:42.411766Z",
     "iopub.status.idle": "2022-01-05T02:57:42.418234Z",
     "shell.execute_reply": "2022-01-05T02:57:42.417810Z",
     "shell.execute_reply.started": "2022-01-05T02:49:05.139320Z"
    },
    "papermill": {
     "duration": 0.044416,
     "end_time": "2022-01-05T02:57:42.418350",
     "exception": false,
     "start_time": "2022-01-05T02:57:42.373934",
     "status": "completed"
    },
    "tags": []
   },
   "outputs": [
    {
     "data": {
      "text/plain": [
       "{'ccp_alpha': 0.0,\n",
       " 'class_weight': None,\n",
       " 'criterion': 'gini',\n",
       " 'max_depth': None,\n",
       " 'max_features': None,\n",
       " 'max_leaf_nodes': None,\n",
       " 'min_impurity_decrease': 0.0,\n",
       " 'min_impurity_split': None,\n",
       " 'min_samples_leaf': 1,\n",
       " 'min_samples_split': 2,\n",
       " 'min_weight_fraction_leaf': 0.0,\n",
       " 'presort': 'deprecated',\n",
       " 'random_state': None,\n",
       " 'splitter': 'best'}"
      ]
     },
     "execution_count": 15,
     "metadata": {},
     "output_type": "execute_result"
    }
   ],
   "source": [
    "lr.get_params()"
   ]
  },
  {
   "cell_type": "code",
   "execution_count": 16,
   "id": "a64b365d",
   "metadata": {
    "execution": {
     "iopub.execute_input": "2022-01-05T02:57:42.494794Z",
     "iopub.status.busy": "2022-01-05T02:57:42.493877Z",
     "iopub.status.idle": "2022-01-05T02:57:42.495696Z",
     "shell.execute_reply": "2022-01-05T02:57:42.496142Z",
     "shell.execute_reply.started": "2022-01-05T02:49:05.148918Z"
    },
    "papermill": {
     "duration": 0.042389,
     "end_time": "2022-01-05T02:57:42.496279",
     "exception": false,
     "start_time": "2022-01-05T02:57:42.453890",
     "status": "completed"
    },
    "tags": []
   },
   "outputs": [],
   "source": [
    "# passenger_ids = test_df[\"PassengerId\"]\n",
    "# prediction2 = predictions2\n",
    "# submission = pd.DataFrame(\n",
    "#     {\n",
    "#         \"PassengerId\": passenger_ids,\n",
    "#         \"Survived\": prediction2\n",
    "#     }\n",
    "# )\n",
    "\n",
    "# submission.to_csv(\"submission.csv\", index=False)\n"
   ]
  },
  {
   "cell_type": "markdown",
   "id": "21ad7d1d",
   "metadata": {
    "papermill": {
     "duration": 0.035669,
     "end_time": "2022-01-05T02:57:42.567863",
     "exception": false,
     "start_time": "2022-01-05T02:57:42.532194",
     "status": "completed"
    },
    "tags": []
   },
   "source": [
    "After adding DecisionTree classifier with Pclass, Sex and Embarked columns, the accuracy went up to 0.77751"
   ]
  },
  {
   "cell_type": "code",
   "execution_count": 17,
   "id": "a80919c8",
   "metadata": {
    "execution": {
     "iopub.execute_input": "2022-01-05T02:57:42.651639Z",
     "iopub.status.busy": "2022-01-05T02:57:42.650913Z",
     "iopub.status.idle": "2022-01-05T02:57:42.653695Z",
     "shell.execute_reply": "2022-01-05T02:57:42.654089Z",
     "shell.execute_reply.started": "2022-01-05T02:49:05.158263Z"
    },
    "papermill": {
     "duration": 0.05131,
     "end_time": "2022-01-05T02:57:42.654221",
     "exception": false,
     "start_time": "2022-01-05T02:57:42.602911",
     "status": "completed"
    },
    "tags": []
   },
   "outputs": [
    {
     "data": {
      "text/html": [
       "<div>\n",
       "<style scoped>\n",
       "    .dataframe tbody tr th:only-of-type {\n",
       "        vertical-align: middle;\n",
       "    }\n",
       "\n",
       "    .dataframe tbody tr th {\n",
       "        vertical-align: top;\n",
       "    }\n",
       "\n",
       "    .dataframe thead th {\n",
       "        text-align: right;\n",
       "    }\n",
       "</style>\n",
       "<table border=\"1\" class=\"dataframe\">\n",
       "  <thead>\n",
       "    <tr style=\"text-align: right;\">\n",
       "      <th></th>\n",
       "      <th>PassengerId</th>\n",
       "      <th>Survived</th>\n",
       "      <th>Pclass</th>\n",
       "      <th>Name</th>\n",
       "      <th>Sex</th>\n",
       "      <th>Age</th>\n",
       "      <th>SibSp</th>\n",
       "      <th>Parch</th>\n",
       "      <th>Ticket</th>\n",
       "      <th>Fare</th>\n",
       "      <th>Cabin</th>\n",
       "      <th>Embarked</th>\n",
       "    </tr>\n",
       "  </thead>\n",
       "  <tbody>\n",
       "    <tr>\n",
       "      <th>0</th>\n",
       "      <td>1</td>\n",
       "      <td>0</td>\n",
       "      <td>3</td>\n",
       "      <td>Braund, Mr. Owen Harris</td>\n",
       "      <td>male</td>\n",
       "      <td>22.0</td>\n",
       "      <td>1</td>\n",
       "      <td>0</td>\n",
       "      <td>A/5 21171</td>\n",
       "      <td>7.2500</td>\n",
       "      <td>NaN</td>\n",
       "      <td>S</td>\n",
       "    </tr>\n",
       "    <tr>\n",
       "      <th>1</th>\n",
       "      <td>2</td>\n",
       "      <td>1</td>\n",
       "      <td>1</td>\n",
       "      <td>Cumings, Mrs. John Bradley (Florence Briggs Th...</td>\n",
       "      <td>female</td>\n",
       "      <td>38.0</td>\n",
       "      <td>1</td>\n",
       "      <td>0</td>\n",
       "      <td>PC 17599</td>\n",
       "      <td>71.2833</td>\n",
       "      <td>C85</td>\n",
       "      <td>C</td>\n",
       "    </tr>\n",
       "    <tr>\n",
       "      <th>2</th>\n",
       "      <td>3</td>\n",
       "      <td>1</td>\n",
       "      <td>3</td>\n",
       "      <td>Heikkinen, Miss. Laina</td>\n",
       "      <td>female</td>\n",
       "      <td>26.0</td>\n",
       "      <td>0</td>\n",
       "      <td>0</td>\n",
       "      <td>STON/O2. 3101282</td>\n",
       "      <td>7.9250</td>\n",
       "      <td>NaN</td>\n",
       "      <td>S</td>\n",
       "    </tr>\n",
       "    <tr>\n",
       "      <th>3</th>\n",
       "      <td>4</td>\n",
       "      <td>1</td>\n",
       "      <td>1</td>\n",
       "      <td>Futrelle, Mrs. Jacques Heath (Lily May Peel)</td>\n",
       "      <td>female</td>\n",
       "      <td>35.0</td>\n",
       "      <td>1</td>\n",
       "      <td>0</td>\n",
       "      <td>113803</td>\n",
       "      <td>53.1000</td>\n",
       "      <td>C123</td>\n",
       "      <td>S</td>\n",
       "    </tr>\n",
       "    <tr>\n",
       "      <th>4</th>\n",
       "      <td>5</td>\n",
       "      <td>0</td>\n",
       "      <td>3</td>\n",
       "      <td>Allen, Mr. William Henry</td>\n",
       "      <td>male</td>\n",
       "      <td>35.0</td>\n",
       "      <td>0</td>\n",
       "      <td>0</td>\n",
       "      <td>373450</td>\n",
       "      <td>8.0500</td>\n",
       "      <td>NaN</td>\n",
       "      <td>S</td>\n",
       "    </tr>\n",
       "  </tbody>\n",
       "</table>\n",
       "</div>"
      ],
      "text/plain": [
       "   PassengerId  Survived  Pclass  \\\n",
       "0            1         0       3   \n",
       "1            2         1       1   \n",
       "2            3         1       3   \n",
       "3            4         1       1   \n",
       "4            5         0       3   \n",
       "\n",
       "                                                Name     Sex   Age  SibSp  \\\n",
       "0                            Braund, Mr. Owen Harris    male  22.0      1   \n",
       "1  Cumings, Mrs. John Bradley (Florence Briggs Th...  female  38.0      1   \n",
       "2                             Heikkinen, Miss. Laina  female  26.0      0   \n",
       "3       Futrelle, Mrs. Jacques Heath (Lily May Peel)  female  35.0      1   \n",
       "4                           Allen, Mr. William Henry    male  35.0      0   \n",
       "\n",
       "   Parch            Ticket     Fare Cabin Embarked  \n",
       "0      0         A/5 21171   7.2500   NaN        S  \n",
       "1      0          PC 17599  71.2833   C85        C  \n",
       "2      0  STON/O2. 3101282   7.9250   NaN        S  \n",
       "3      0            113803  53.1000  C123        S  \n",
       "4      0            373450   8.0500   NaN        S  "
      ]
     },
     "execution_count": 17,
     "metadata": {},
     "output_type": "execute_result"
    }
   ],
   "source": [
    "# Lets look at the other columns and perform some feature engineering\n",
    "train_df.head(5)"
   ]
  },
  {
   "cell_type": "code",
   "execution_count": 18,
   "id": "40124e21",
   "metadata": {
    "execution": {
     "iopub.execute_input": "2022-01-05T02:57:42.740080Z",
     "iopub.status.busy": "2022-01-05T02:57:42.739260Z",
     "iopub.status.idle": "2022-01-05T02:57:42.742063Z",
     "shell.execute_reply": "2022-01-05T02:57:42.742503Z",
     "shell.execute_reply.started": "2022-01-05T02:49:05.182048Z"
    },
    "papermill": {
     "duration": 0.05221,
     "end_time": "2022-01-05T02:57:42.742642",
     "exception": false,
     "start_time": "2022-01-05T02:57:42.690432",
     "status": "completed"
    },
    "tags": []
   },
   "outputs": [
    {
     "data": {
      "text/html": [
       "<div>\n",
       "<style scoped>\n",
       "    .dataframe tbody tr th:only-of-type {\n",
       "        vertical-align: middle;\n",
       "    }\n",
       "\n",
       "    .dataframe tbody tr th {\n",
       "        vertical-align: top;\n",
       "    }\n",
       "\n",
       "    .dataframe thead th {\n",
       "        text-align: right;\n",
       "    }\n",
       "</style>\n",
       "<table border=\"1\" class=\"dataframe\">\n",
       "  <thead>\n",
       "    <tr style=\"text-align: right;\">\n",
       "      <th></th>\n",
       "      <th>PassengerId</th>\n",
       "      <th>Survived</th>\n",
       "      <th>Pclass</th>\n",
       "      <th>Name</th>\n",
       "      <th>Sex</th>\n",
       "      <th>Age</th>\n",
       "      <th>SibSp</th>\n",
       "      <th>Parch</th>\n",
       "      <th>Ticket</th>\n",
       "      <th>Fare</th>\n",
       "      <th>Cabin</th>\n",
       "      <th>Embarked</th>\n",
       "    </tr>\n",
       "  </thead>\n",
       "  <tbody>\n",
       "    <tr>\n",
       "      <th>5</th>\n",
       "      <td>6</td>\n",
       "      <td>0</td>\n",
       "      <td>3</td>\n",
       "      <td>Moran, Mr. James</td>\n",
       "      <td>male</td>\n",
       "      <td>NaN</td>\n",
       "      <td>0</td>\n",
       "      <td>0</td>\n",
       "      <td>330877</td>\n",
       "      <td>8.4583</td>\n",
       "      <td>NaN</td>\n",
       "      <td>Q</td>\n",
       "    </tr>\n",
       "    <tr>\n",
       "      <th>17</th>\n",
       "      <td>18</td>\n",
       "      <td>1</td>\n",
       "      <td>2</td>\n",
       "      <td>Williams, Mr. Charles Eugene</td>\n",
       "      <td>male</td>\n",
       "      <td>NaN</td>\n",
       "      <td>0</td>\n",
       "      <td>0</td>\n",
       "      <td>244373</td>\n",
       "      <td>13.0000</td>\n",
       "      <td>NaN</td>\n",
       "      <td>S</td>\n",
       "    </tr>\n",
       "    <tr>\n",
       "      <th>19</th>\n",
       "      <td>20</td>\n",
       "      <td>1</td>\n",
       "      <td>3</td>\n",
       "      <td>Masselmani, Mrs. Fatima</td>\n",
       "      <td>female</td>\n",
       "      <td>NaN</td>\n",
       "      <td>0</td>\n",
       "      <td>0</td>\n",
       "      <td>2649</td>\n",
       "      <td>7.2250</td>\n",
       "      <td>NaN</td>\n",
       "      <td>C</td>\n",
       "    </tr>\n",
       "    <tr>\n",
       "      <th>26</th>\n",
       "      <td>27</td>\n",
       "      <td>0</td>\n",
       "      <td>3</td>\n",
       "      <td>Emir, Mr. Farred Chehab</td>\n",
       "      <td>male</td>\n",
       "      <td>NaN</td>\n",
       "      <td>0</td>\n",
       "      <td>0</td>\n",
       "      <td>2631</td>\n",
       "      <td>7.2250</td>\n",
       "      <td>NaN</td>\n",
       "      <td>C</td>\n",
       "    </tr>\n",
       "    <tr>\n",
       "      <th>28</th>\n",
       "      <td>29</td>\n",
       "      <td>1</td>\n",
       "      <td>3</td>\n",
       "      <td>O'Dwyer, Miss. Ellen \"Nellie\"</td>\n",
       "      <td>female</td>\n",
       "      <td>NaN</td>\n",
       "      <td>0</td>\n",
       "      <td>0</td>\n",
       "      <td>330959</td>\n",
       "      <td>7.8792</td>\n",
       "      <td>NaN</td>\n",
       "      <td>Q</td>\n",
       "    </tr>\n",
       "  </tbody>\n",
       "</table>\n",
       "</div>"
      ],
      "text/plain": [
       "    PassengerId  Survived  Pclass                           Name     Sex  Age  \\\n",
       "5             6         0       3               Moran, Mr. James    male  NaN   \n",
       "17           18         1       2   Williams, Mr. Charles Eugene    male  NaN   \n",
       "19           20         1       3        Masselmani, Mrs. Fatima  female  NaN   \n",
       "26           27         0       3        Emir, Mr. Farred Chehab    male  NaN   \n",
       "28           29         1       3  O'Dwyer, Miss. Ellen \"Nellie\"  female  NaN   \n",
       "\n",
       "    SibSp  Parch  Ticket     Fare Cabin Embarked  \n",
       "5       0      0  330877   8.4583   NaN        Q  \n",
       "17      0      0  244373  13.0000   NaN        S  \n",
       "19      0      0    2649   7.2250   NaN        C  \n",
       "26      0      0    2631   7.2250   NaN        C  \n",
       "28      0      0  330959   7.8792   NaN        Q  "
      ]
     },
     "execution_count": 18,
     "metadata": {},
     "output_type": "execute_result"
    }
   ],
   "source": [
    "train_df[train_df[\"Age\"].isnull()].head()"
   ]
  },
  {
   "cell_type": "code",
   "execution_count": 19,
   "id": "eea56c2e",
   "metadata": {
    "execution": {
     "iopub.execute_input": "2022-01-05T02:57:42.826562Z",
     "iopub.status.busy": "2022-01-05T02:57:42.825724Z",
     "iopub.status.idle": "2022-01-05T02:57:43.070742Z",
     "shell.execute_reply": "2022-01-05T02:57:43.070287Z",
     "shell.execute_reply.started": "2022-01-05T02:49:05.205595Z"
    },
    "papermill": {
     "duration": 0.287673,
     "end_time": "2022-01-05T02:57:43.070870",
     "exception": false,
     "start_time": "2022-01-05T02:57:42.783197",
     "status": "completed"
    },
    "tags": []
   },
   "outputs": [
    {
     "data": {
      "text/plain": [
       "<AxesSubplot:ylabel='Frequency'>"
      ]
     },
     "execution_count": 19,
     "metadata": {},
     "output_type": "execute_result"
    },
    {
     "data": {
      "image/png": "[encoded data removed]",
      "text/plain": [
       "<Figure size 432x288 with 1 Axes>"
      ]
     },
     "metadata": {
      "needs_background": "light"
     },
     "output_type": "display_data"
    }
   ],
   "source": [
    "train_df[\"Fare\"].plot.hist(bins = 20)"
   ]
  },
  {
   "cell_type": "code",
   "execution_count": 20,
   "id": "c6324573",
   "metadata": {
    "execution": {
     "iopub.execute_input": "2022-01-05T02:57:43.152487Z",
     "iopub.status.busy": "2022-01-05T02:57:43.149461Z",
     "iopub.status.idle": "2022-01-05T02:57:43.155584Z",
     "shell.execute_reply": "2022-01-05T02:57:43.155197Z",
     "shell.execute_reply.started": "2022-01-05T02:49:05.440504Z"
    },
    "papermill": {
     "duration": 0.047784,
     "end_time": "2022-01-05T02:57:43.155728",
     "exception": false,
     "start_time": "2022-01-05T02:57:43.107944",
     "status": "completed"
    },
    "tags": []
   },
   "outputs": [
    {
     "data": {
      "text/plain": [
       "count    891.000000\n",
       "mean      32.204208\n",
       "std       49.693429\n",
       "min        0.000000\n",
       "25%        7.910400\n",
       "50%       14.454200\n",
       "75%       31.000000\n",
       "max      512.329200\n",
       "Name: Fare, dtype: float64"
      ]
     },
     "execution_count": 20,
     "metadata": {},
     "output_type": "execute_result"
    }
   ],
   "source": [
    "train_df[\"Fare\"].describe()"
   ]
  },
  {
   "cell_type": "code",
   "execution_count": 21,
   "id": "8f593f05",
   "metadata": {
    "execution": {
     "iopub.execute_input": "2022-01-05T02:57:43.239764Z",
     "iopub.status.busy": "2022-01-05T02:57:43.238405Z",
     "iopub.status.idle": "2022-01-05T02:57:43.242154Z",
     "shell.execute_reply": "2022-01-05T02:57:43.241731Z",
     "shell.execute_reply.started": "2022-01-05T02:49:05.454524Z"
    },
    "papermill": {
     "duration": 0.048664,
     "end_time": "2022-01-05T02:57:43.242254",
     "exception": false,
     "start_time": "2022-01-05T02:57:43.193590",
     "status": "completed"
    },
    "tags": []
   },
   "outputs": [],
   "source": [
    "def process_fare(df):\n",
    "    cut_points = [-1, 10, 15, 50, 100, 1000]\n",
    "    labels = [\"<10\", \"10-15\", \"15-50\", \"50-100\", \"100-1000\"]\n",
    "    df[\"Fare_category\"] = pd.cut(df[\"Fare\"], bins = cut_points, labels=labels)\n",
    "    return df\n",
    "\n",
    "# process age\n",
    "def process_age(df):\n",
    "    df[\"Age\"] = df[\"Age\"].fillna(-0.5)\n",
    "    cut_points = [-1,0,5,12,18,35,60,100]\n",
    "    label_names = [\"Missing\",\"Infant\",\"Child\",\"Teenager\",\"Young Adult\",\"Adult\",\"Senior\"]\n",
    "    df[\"Age_category\"] = pd.cut(df[\"Age\"],cut_points,labels=label_names)\n",
    "    return df\n",
    "\n",
    "def process_name(df):\n",
    "    titles = {\n",
    "        \"Mr\" :         \"Mr\",\n",
    "        \"Mme\":         \"Mrs\",\n",
    "        \"Ms\":          \"Mrs\",\n",
    "        \"Mrs\" :        \"Mrs\",\n",
    "        \"Master\" :     \"Master\",\n",
    "        \"Mlle\":        \"Miss\",\n",
    "        \"Miss\" :       \"Miss\",\n",
    "        \"Capt\":        \"Officer\",\n",
    "        \"Col\":         \"Officer\",\n",
    "        \"Major\":       \"Officer\",\n",
    "        \"Dr\":          \"Officer\",\n",
    "        \"Rev\":         \"Officer\",\n",
    "        \"Jonkheer\":    \"Royalty\",\n",
    "        \"Don\":         \"Royalty\",\n",
    "        \"Sir\" :        \"Royalty\",\n",
    "        \"Countess\":    \"Royalty\",\n",
    "        \"Dona\":        \"Royalty\",\n",
    "        \"Lady\" :       \"Royalty\"\n",
    "    }\n",
    "    extracted_titles = df[\"Name\"].str.extract(' ([A-Za-z]+)\\.',expand=False)\n",
    "    df[\"Title\"] = extracted_titles.map(titles)\n",
    "    return df\n"
   ]
  },
  {
   "cell_type": "code",
   "execution_count": 22,
   "id": "33ccaa91",
   "metadata": {
    "execution": {
     "iopub.execute_input": "2022-01-05T02:57:43.322434Z",
     "iopub.status.busy": "2022-01-05T02:57:43.321650Z",
     "iopub.status.idle": "2022-01-05T02:57:43.325110Z",
     "shell.execute_reply": "2022-01-05T02:57:43.324681Z",
     "shell.execute_reply.started": "2022-01-05T02:49:05.467785Z"
    },
    "papermill": {
     "duration": 0.04557,
     "end_time": "2022-01-05T02:57:43.325215",
     "exception": false,
     "start_time": "2022-01-05T02:57:43.279645",
     "status": "completed"
    },
    "tags": []
   },
   "outputs": [],
   "source": [
    "fare_df = process_fare(train_df)"
   ]
  },
  {
   "cell_type": "code",
   "execution_count": 23,
   "id": "01f4b3f1",
   "metadata": {
    "execution": {
     "iopub.execute_input": "2022-01-05T02:57:43.407487Z",
     "iopub.status.busy": "2022-01-05T02:57:43.406746Z",
     "iopub.status.idle": "2022-01-05T02:57:43.409547Z",
     "shell.execute_reply": "2022-01-05T02:57:43.410006Z",
     "shell.execute_reply.started": "2022-01-05T02:49:05.486284Z"
    },
    "papermill": {
     "duration": 0.047074,
     "end_time": "2022-01-05T02:57:43.410132",
     "exception": false,
     "start_time": "2022-01-05T02:57:43.363058",
     "status": "completed"
    },
    "tags": []
   },
   "outputs": [
    {
     "data": {
      "text/plain": [
       "Fare_category\n",
       "<10         336\n",
       "10-15       122\n",
       "15-50       273\n",
       "50-100      107\n",
       "100-1000     53\n",
       "dtype: int64"
      ]
     },
     "execution_count": 23,
     "metadata": {},
     "output_type": "execute_result"
    }
   ],
   "source": [
    "fare_df.groupby(\"Fare_category\").size()"
   ]
  },
  {
   "cell_type": "code",
   "execution_count": 24,
   "id": "23c12428",
   "metadata": {
    "execution": {
     "iopub.execute_input": "2022-01-05T02:57:43.511082Z",
     "iopub.status.busy": "2022-01-05T02:57:43.504305Z",
     "iopub.status.idle": "2022-01-05T02:57:43.699909Z",
     "shell.execute_reply": "2022-01-05T02:57:43.700371Z",
     "shell.execute_reply.started": "2022-01-05T02:49:05.502804Z"
    },
    "papermill": {
     "duration": 0.252992,
     "end_time": "2022-01-05T02:57:43.700517",
     "exception": false,
     "start_time": "2022-01-05T02:57:43.447525",
     "status": "completed"
    },
    "tags": []
   },
   "outputs": [
    {
     "data": {
      "text/plain": [
       "<AxesSubplot:ylabel='Fare_category'>"
      ]
     },
     "execution_count": 24,
     "metadata": {},
     "output_type": "execute_result"
    },
    {
     "data": {
      "image/png": "[encoded data removed]",
      "text/plain": [
       "<Figure size 432x288 with 1 Axes>"
      ]
     },
     "metadata": {
      "needs_background": "light"
     },
     "output_type": "display_data"
    }
   ],
   "source": [
    "fare_df.groupby(\"Fare_category\").agg({\"Survived\": np.mean}).plot.barh()"
   ]
  },
  {
   "cell_type": "code",
   "execution_count": 25,
   "id": "4ed80a43",
   "metadata": {
    "execution": {
     "iopub.execute_input": "2022-01-05T02:57:43.783335Z",
     "iopub.status.busy": "2022-01-05T02:57:43.782516Z",
     "iopub.status.idle": "2022-01-05T02:57:43.790513Z",
     "shell.execute_reply": "2022-01-05T02:57:43.789925Z",
     "shell.execute_reply.started": "2022-01-05T02:49:05.724990Z"
    },
    "papermill": {
     "duration": 0.051237,
     "end_time": "2022-01-05T02:57:43.790649",
     "exception": false,
     "start_time": "2022-01-05T02:57:43.739412",
     "status": "completed"
    },
    "tags": []
   },
   "outputs": [
    {
     "data": {
      "text/plain": [
       "Age_category\n",
       "Missing        177\n",
       "Infant          44\n",
       "Child           25\n",
       "Teenager        70\n",
       "Young Adult    358\n",
       "Adult          195\n",
       "Senior          22\n",
       "dtype: int64"
      ]
     },
     "execution_count": 25,
     "metadata": {},
     "output_type": "execute_result"
    }
   ],
   "source": [
    "age_df = process_age(train_df)\n",
    "age_df.groupby(\"Age_category\").size()"
   ]
  },
  {
   "cell_type": "code",
   "execution_count": 26,
   "id": "9f17c1b2",
   "metadata": {
    "execution": {
     "iopub.execute_input": "2022-01-05T02:57:43.906981Z",
     "iopub.status.busy": "2022-01-05T02:57:43.898686Z",
     "iopub.status.idle": "2022-01-05T02:57:44.101289Z",
     "shell.execute_reply": "2022-01-05T02:57:44.101767Z",
     "shell.execute_reply.started": "2022-01-05T02:49:05.742118Z"
    },
    "papermill": {
     "duration": 0.272231,
     "end_time": "2022-01-05T02:57:44.101929",
     "exception": false,
     "start_time": "2022-01-05T02:57:43.829698",
     "status": "completed"
    },
    "tags": []
   },
   "outputs": [
    {
     "data": {
      "text/plain": [
       "<AxesSubplot:ylabel='Age_category'>"
      ]
     },
     "execution_count": 26,
     "metadata": {},
     "output_type": "execute_result"
    },
    {
     "data": {
      "image/png": "[encoded data removed]",
      "text/plain": [
       "<Figure size 432x288 with 1 Axes>"
      ]
     },
     "metadata": {
      "needs_background": "light"
     },
     "output_type": "display_data"
    }
   ],
   "source": [
    "age_df.groupby(\"Age_category\").agg({\"Survived\": np.mean}).plot.barh()"
   ]
  },
  {
   "cell_type": "code",
   "execution_count": 27,
   "id": "d4f13f9e",
   "metadata": {
    "execution": {
     "iopub.execute_input": "2022-01-05T02:57:44.197480Z",
     "iopub.status.busy": "2022-01-05T02:57:44.194532Z",
     "iopub.status.idle": "2022-01-05T02:57:44.423569Z",
     "shell.execute_reply": "2022-01-05T02:57:44.423085Z",
     "shell.execute_reply.started": "2022-01-05T02:49:05.982037Z"
    },
    "papermill": {
     "duration": 0.277147,
     "end_time": "2022-01-05T02:57:44.423715",
     "exception": false,
     "start_time": "2022-01-05T02:57:44.146568",
     "status": "completed"
    },
    "tags": []
   },
   "outputs": [
    {
     "data": {
      "text/plain": [
       "<AxesSubplot:ylabel='Title'>"
      ]
     },
     "execution_count": 27,
     "metadata": {},
     "output_type": "execute_result"
    },
    {
     "data": {
      "image/png": "[encoded data removed]",
      "text/plain": [
       "<Figure size 432x288 with 1 Axes>"
      ]
     },
     "metadata": {
      "needs_background": "light"
     },
     "output_type": "display_data"
    }
   ],
   "source": [
    "name_df = process_name(train_df)\n",
    "name_df.groupby(\"Title\").agg({\"Survived\": np.mean}).plot.barh()"
   ]
  },
  {
   "cell_type": "code",
   "execution_count": 28,
   "id": "1b74c7ee",
   "metadata": {
    "execution": {
     "iopub.execute_input": "2022-01-05T02:57:44.513234Z",
     "iopub.status.busy": "2022-01-05T02:57:44.512345Z",
     "iopub.status.idle": "2022-01-05T02:57:44.552100Z",
     "shell.execute_reply": "2022-01-05T02:57:44.552465Z",
     "shell.execute_reply.started": "2022-01-05T02:49:06.749558Z"
    },
    "papermill": {
     "duration": 0.088103,
     "end_time": "2022-01-05T02:57:44.552605",
     "exception": false,
     "start_time": "2022-01-05T02:57:44.464502",
     "status": "completed"
    },
    "tags": []
   },
   "outputs": [
    {
     "data": {
      "text/html": [
       "<div>\n",
       "<style scoped>\n",
       "    .dataframe tbody tr th:only-of-type {\n",
       "        vertical-align: middle;\n",
       "    }\n",
       "\n",
       "    .dataframe tbody tr th {\n",
       "        vertical-align: top;\n",
       "    }\n",
       "\n",
       "    .dataframe thead th {\n",
       "        text-align: right;\n",
       "    }\n",
       "</style>\n",
       "<table border=\"1\" class=\"dataframe\">\n",
       "  <thead>\n",
       "    <tr style=\"text-align: right;\">\n",
       "      <th></th>\n",
       "      <th>PassengerId</th>\n",
       "      <th>Survived</th>\n",
       "      <th>Name</th>\n",
       "      <th>Age</th>\n",
       "      <th>SibSp</th>\n",
       "      <th>Parch</th>\n",
       "      <th>Ticket</th>\n",
       "      <th>Fare</th>\n",
       "      <th>Cabin</th>\n",
       "      <th>Sex_female</th>\n",
       "      <th>...</th>\n",
       "      <th>Age_category_Teenager</th>\n",
       "      <th>Age_category_Young Adult</th>\n",
       "      <th>Age_category_Adult</th>\n",
       "      <th>Age_category_Senior</th>\n",
       "      <th>Title_Master</th>\n",
       "      <th>Title_Miss</th>\n",
       "      <th>Title_Mr</th>\n",
       "      <th>Title_Mrs</th>\n",
       "      <th>Title_Officer</th>\n",
       "      <th>Title_Royalty</th>\n",
       "    </tr>\n",
       "  </thead>\n",
       "  <tbody>\n",
       "    <tr>\n",
       "      <th>0</th>\n",
       "      <td>1</td>\n",
       "      <td>0</td>\n",
       "      <td>Braund, Mr. Owen Harris</td>\n",
       "      <td>22.0</td>\n",
       "      <td>1</td>\n",
       "      <td>0</td>\n",
       "      <td>A/5 21171</td>\n",
       "      <td>7.2500</td>\n",
       "      <td>NaN</td>\n",
       "      <td>0</td>\n",
       "      <td>...</td>\n",
       "      <td>0</td>\n",
       "      <td>1</td>\n",
       "      <td>0</td>\n",
       "      <td>0</td>\n",
       "      <td>0</td>\n",
       "      <td>0</td>\n",
       "      <td>1</td>\n",
       "      <td>0</td>\n",
       "      <td>0</td>\n",
       "      <td>0</td>\n",
       "    </tr>\n",
       "    <tr>\n",
       "      <th>1</th>\n",
       "      <td>2</td>\n",
       "      <td>1</td>\n",
       "      <td>Cumings, Mrs. John Bradley (Florence Briggs Th...</td>\n",
       "      <td>38.0</td>\n",
       "      <td>1</td>\n",
       "      <td>0</td>\n",
       "      <td>PC 17599</td>\n",
       "      <td>71.2833</td>\n",
       "      <td>C85</td>\n",
       "      <td>1</td>\n",
       "      <td>...</td>\n",
       "      <td>0</td>\n",
       "      <td>0</td>\n",
       "      <td>1</td>\n",
       "      <td>0</td>\n",
       "      <td>0</td>\n",
       "      <td>0</td>\n",
       "      <td>0</td>\n",
       "      <td>1</td>\n",
       "      <td>0</td>\n",
       "      <td>0</td>\n",
       "    </tr>\n",
       "    <tr>\n",
       "      <th>2</th>\n",
       "      <td>3</td>\n",
       "      <td>1</td>\n",
       "      <td>Heikkinen, Miss. Laina</td>\n",
       "      <td>26.0</td>\n",
       "      <td>0</td>\n",
       "      <td>0</td>\n",
       "      <td>STON/O2. 3101282</td>\n",
       "      <td>7.9250</td>\n",
       "      <td>NaN</td>\n",
       "      <td>1</td>\n",
       "      <td>...</td>\n",
       "      <td>0</td>\n",
       "      <td>1</td>\n",
       "      <td>0</td>\n",
       "      <td>0</td>\n",
       "      <td>0</td>\n",
       "      <td>1</td>\n",
       "      <td>0</td>\n",
       "      <td>0</td>\n",
       "      <td>0</td>\n",
       "      <td>0</td>\n",
       "    </tr>\n",
       "    <tr>\n",
       "      <th>3</th>\n",
       "      <td>4</td>\n",
       "      <td>1</td>\n",
       "      <td>Futrelle, Mrs. Jacques Heath (Lily May Peel)</td>\n",
       "      <td>35.0</td>\n",
       "      <td>1</td>\n",
       "      <td>0</td>\n",
       "      <td>113803</td>\n",
       "      <td>53.1000</td>\n",
       "      <td>C123</td>\n",
       "      <td>1</td>\n",
       "      <td>...</td>\n",
       "      <td>0</td>\n",
       "      <td>1</td>\n",
       "      <td>0</td>\n",
       "      <td>0</td>\n",
       "      <td>0</td>\n",
       "      <td>0</td>\n",
       "      <td>0</td>\n",
       "      <td>1</td>\n",
       "      <td>0</td>\n",
       "      <td>0</td>\n",
       "    </tr>\n",
       "  </tbody>\n",
       "</table>\n",
       "<p>4 rows × 35 columns</p>\n",
       "</div>"
      ],
      "text/plain": [
       "   PassengerId  Survived                                               Name  \\\n",
       "0            1         0                            Braund, Mr. Owen Harris   \n",
       "1            2         1  Cumings, Mrs. John Bradley (Florence Briggs Th...   \n",
       "2            3         1                             Heikkinen, Miss. Laina   \n",
       "3            4         1       Futrelle, Mrs. Jacques Heath (Lily May Peel)   \n",
       "\n",
       "    Age  SibSp  Parch            Ticket     Fare Cabin  Sex_female  ...  \\\n",
       "0  22.0      1      0         A/5 21171   7.2500   NaN           0  ...   \n",
       "1  38.0      1      0          PC 17599  71.2833   C85           1  ...   \n",
       "2  26.0      0      0  STON/O2. 3101282   7.9250   NaN           1  ...   \n",
       "3  35.0      1      0            113803  53.1000  C123           1  ...   \n",
       "\n",
       "   Age_category_Teenager  Age_category_Young Adult  Age_category_Adult  \\\n",
       "0                      0                         1                   0   \n",
       "1                      0                         0                   1   \n",
       "2                      0                         1                   0   \n",
       "3                      0                         1                   0   \n",
       "\n",
       "   Age_category_Senior  Title_Master  Title_Miss  Title_Mr  Title_Mrs  \\\n",
       "0                    0             0           0         1          0   \n",
       "1                    0             0           0         0          1   \n",
       "2                    0             0           1         0          0   \n",
       "3                    0             0           0         0          1   \n",
       "\n",
       "   Title_Officer  Title_Royalty  \n",
       "0              0              0  \n",
       "1              0              0  \n",
       "2              0              0  \n",
       "3              0              0  \n",
       "\n",
       "[4 rows x 35 columns]"
      ]
     },
     "execution_count": 28,
     "metadata": {},
     "output_type": "execute_result"
    }
   ],
   "source": [
    "# Building a more sophisticated model\n",
    "cols = [\"Sex\", \"Pclass\", \"Embarked\", \"Fare_category\", \"Age_category\", \"Title\"]\n",
    "version3 = train_df.copy()\n",
    "version3 = process_fare(version3)\n",
    "version3 = process_age(version3)\n",
    "version3 = process_name(version3)\n",
    "for col in cols:\n",
    "    version3 = create_dummies(version3, col)\n",
    "    \n",
    "version3.head(4)"
   ]
  },
  {
   "cell_type": "code",
   "execution_count": 29,
   "id": "18e0aa32",
   "metadata": {
    "execution": {
     "iopub.execute_input": "2022-01-05T02:57:44.645933Z",
     "iopub.status.busy": "2022-01-05T02:57:44.645286Z",
     "iopub.status.idle": "2022-01-05T02:57:46.828308Z",
     "shell.execute_reply": "2022-01-05T02:57:46.828744Z",
     "shell.execute_reply.started": "2022-01-05T02:49:06.799042Z"
    },
    "papermill": {
     "duration": 2.232409,
     "end_time": "2022-01-05T02:57:46.828913",
     "exception": false,
     "start_time": "2022-01-05T02:57:44.596504",
     "status": "completed"
    },
    "tags": []
   },
   "outputs": [
    {
     "name": "stdout",
     "output_type": "stream",
     "text": [
      "0.8159675405742821\n"
     ]
    }
   ],
   "source": [
    "features = [\"Pclass_1\", \"Pclass_2\", \"Pclass_3\", \n",
    "            \"Sex_female\", \"Sex_male\", \n",
    "            \"Embarked_C\", \"Embarked_Q\", \"Embarked_S\",\n",
    "            \"Fare_category_<10\", \"Fare_category_10-15\", \"Fare_category_15-50\", \"Fare_category_50-100\", \"Fare_category_100-1000\",\n",
    "            \"Age_category_Missing\", \"Age_category_Infant\", \"Age_category_Child\", \"Age_category_Teenager\", \"Age_category_Young Adult\", \"Age_category_Adult\", \"Age_category_Senior\",\n",
    "            \"Title_Master\", \"Title_Miss\", \"Title_Mr\", \"Title_Mrs\", \"Title_Officer\", \"Title_Royalty\"]\n",
    "target = \"Survived\"\n",
    "from sklearn.ensemble import RandomForestClassifier\n",
    "model = RandomForestClassifier(random_state=1)\n",
    "\n",
    "acc = cross_validate(model, version3, features, target)\n",
    "print(acc)\n",
    "\n",
    "# generate the model\n",
    "lr = train_model(model, version3, features, target)\n",
    "\n",
    "# generate predictions\n",
    "test_version3 = test_df.copy()\n",
    "test_version3 = process_fare(test_version3)\n",
    "test_version3 = process_age(test_version3)\n",
    "test_version3 = process_name(test_version3)\n",
    "\n",
    "for col in cols:\n",
    "    test_version3 = create_dummies(test_version3, col)\n",
    "\n",
    "predictions3 = generate_predictions(lr, test_version3, features)"
   ]
  },
  {
   "cell_type": "code",
   "execution_count": 30,
   "id": "42fec816",
   "metadata": {
    "execution": {
     "iopub.execute_input": "2022-01-05T02:57:46.917798Z",
     "iopub.status.busy": "2022-01-05T02:57:46.917119Z",
     "iopub.status.idle": "2022-01-05T02:57:46.928035Z",
     "shell.execute_reply": "2022-01-05T02:57:46.927487Z",
     "shell.execute_reply.started": "2022-01-05T02:49:08.819980Z"
    },
    "papermill": {
     "duration": 0.056836,
     "end_time": "2022-01-05T02:57:46.928144",
     "exception": false,
     "start_time": "2022-01-05T02:57:46.871308",
     "status": "completed"
    },
    "tags": []
   },
   "outputs": [],
   "source": [
    "from sklearn.feature_selection import RFECV\n",
    "\n",
    "def select_features(X, Y, model):\n",
    "    selector = RFECV(model,cv=10)\n",
    "    selector.fit(X, Y)\n",
    "    \n",
    "    best_columns = list(X.columns[selector.support_])\n",
    "    print(\"Best Columns \\n\"+\"-\"*12+\"\\n{}\\n\".format(best_columns))\n",
    "    \n",
    "    return best_columns"
   ]
  },
  {
   "cell_type": "code",
   "execution_count": 31,
   "id": "4d7ccc38",
   "metadata": {
    "execution": {
     "iopub.execute_input": "2022-01-05T02:57:47.014352Z",
     "iopub.status.busy": "2022-01-05T02:57:47.013665Z",
     "iopub.status.idle": "2022-01-05T02:57:47.016237Z",
     "shell.execute_reply": "2022-01-05T02:57:47.015798Z",
     "shell.execute_reply.started": "2022-01-05T02:49:08.826462Z"
    },
    "papermill": {
     "duration": 0.047254,
     "end_time": "2022-01-05T02:57:47.016341",
     "exception": false,
     "start_time": "2022-01-05T02:57:46.969087",
     "status": "completed"
    },
    "tags": []
   },
   "outputs": [],
   "source": [
    "clf = RandomForestClassifier(random_state = 1)\n",
    "# all_X = version3[features]\n",
    "# all_Y = version3[target]\n",
    "# best_features = select_features(all_X, all_Y, clf)"
   ]
  },
  {
   "cell_type": "code",
   "execution_count": 32,
   "id": "a82c04b2",
   "metadata": {
    "execution": {
     "iopub.execute_input": "2022-01-05T02:57:47.103815Z",
     "iopub.status.busy": "2022-01-05T02:57:47.102974Z",
     "iopub.status.idle": "2022-01-05T02:57:47.104833Z",
     "shell.execute_reply": "2022-01-05T02:57:47.105248Z",
     "shell.execute_reply.started": "2022-01-05T02:49:53.948621Z"
    },
    "papermill": {
     "duration": 0.047879,
     "end_time": "2022-01-05T02:57:47.105372",
     "exception": false,
     "start_time": "2022-01-05T02:57:47.057493",
     "status": "completed"
    },
    "tags": []
   },
   "outputs": [],
   "source": [
    "best_features = ['Pclass_1', 'Pclass_2', 'Pclass_3', 'Sex_female', 'Sex_male', \n",
    "                 'Embarked_C', 'Embarked_Q', 'Embarked_S', 'Fare_category_<10', \n",
    "                 'Fare_category_10-15', 'Fare_category_15-50', 'Fare_category_50-100', \n",
    "                 'Fare_category_100-1000', 'Age_category_Missing', 'Age_category_Infant', \n",
    "                 'Age_category_Child', 'Age_category_Teenager', 'Age_category_Young Adult', \n",
    "                 'Age_category_Adult', 'Age_category_Senior', 'Title_Master', 'Title_Miss', \n",
    "                 'Title_Mr', 'Title_Mrs']"
   ]
  },
  {
   "cell_type": "code",
   "execution_count": 33,
   "id": "35f2c35a",
   "metadata": {
    "execution": {
     "iopub.execute_input": "2022-01-05T02:57:47.202672Z",
     "iopub.status.busy": "2022-01-05T02:57:47.201801Z",
     "iopub.status.idle": "2022-01-05T02:57:49.358424Z",
     "shell.execute_reply": "2022-01-05T02:57:49.358853Z",
     "shell.execute_reply.started": "2022-01-05T02:49:53.957826Z"
    },
    "papermill": {
     "duration": 2.209931,
     "end_time": "2022-01-05T02:57:49.359013",
     "exception": false,
     "start_time": "2022-01-05T02:57:47.149082",
     "status": "completed"
    },
    "tags": []
   },
   "outputs": [
    {
     "name": "stdout",
     "output_type": "stream",
     "text": [
      "0.8125967540574282\n"
     ]
    }
   ],
   "source": [
    "# generate the model\n",
    "clf = RandomForestClassifier(random_state = 1)\n",
    "\n",
    "acc = cross_validate(clf, version3, best_features, target)\n",
    "print(acc)\n",
    "\n",
    "lr = train_model(clf, version3, best_features, target)\n",
    "\n",
    "# generate predictions\n",
    "test_version3 = test_df.copy()\n",
    "test_version3 = process_fare(test_version3)\n",
    "test_version3 = process_age(test_version3)\n",
    "test_version3 = process_name(test_version3)\n",
    "\n",
    "for col in cols:\n",
    "    test_version3 = create_dummies(test_version3, col)\n",
    "\n",
    "predictions3 = generate_predictions(lr, test_version3, best_features)"
   ]
  },
  {
   "cell_type": "code",
   "execution_count": 34,
   "id": "53f4fcb7",
   "metadata": {
    "execution": {
     "iopub.execute_input": "2022-01-05T02:57:49.448409Z",
     "iopub.status.busy": "2022-01-05T02:57:49.447516Z",
     "iopub.status.idle": "2022-01-05T02:57:49.449229Z",
     "shell.execute_reply": "2022-01-05T02:57:49.449670Z",
     "shell.execute_reply.started": "2022-01-05T02:49:55.933828Z"
    },
    "papermill": {
     "duration": 0.048402,
     "end_time": "2022-01-05T02:57:49.449808",
     "exception": false,
     "start_time": "2022-01-05T02:57:49.401406",
     "status": "completed"
    },
    "tags": []
   },
   "outputs": [],
   "source": [
    "# # hyperparameter tuning using the GridSearchCV\n",
    "# from sklearn.model_selection import GridSearchCV\n",
    "\n",
    "# rfclassifier = \\\n",
    "# {\n",
    "#     \"name\": \"RandomForestClassifier\",\n",
    "#     \"estimator\": RandomForestClassifier(random_state=1),\n",
    "#     \"hyperparameters\":\n",
    "#         {\n",
    "#             \"n_estimators\": [25, 50, 100, 125],\n",
    "#             \"criterion\": [\"entropy\", \"gini\"],\n",
    "#             \"max_depth\": [5, 10],\n",
    "#             \"max_features\": [\"log2\", \"sqrt\"],\n",
    "#             \"min_samples_leaf\": [3, 6],\n",
    "#             \"min_samples_split\": [3, 6]\n",
    "\n",
    "#         }\n",
    "# }\n",
    "# grid = GridSearchCV(rfclassifier[\"estimator\"],\n",
    "#                             param_grid=rfclassifier[\"hyperparameters\"],\n",
    "#                             cv=10)\n",
    "# grid.fit(version3[best_features],version3[target])\n",
    "\n",
    "# print(\"Best Score: {}\".format(grid.best_score_))\n",
    "# print(\"Best Parameters: {}\\n\".format(grid.best_params_))\n",
    "\n",
    "# final_model = grid.best_estimator_"
   ]
  },
  {
   "cell_type": "code",
   "execution_count": 35,
   "id": "a427ba07",
   "metadata": {
    "execution": {
     "iopub.execute_input": "2022-01-05T02:57:49.539766Z",
     "iopub.status.busy": "2022-01-05T02:57:49.539112Z",
     "iopub.status.idle": "2022-01-05T02:57:49.541812Z",
     "shell.execute_reply": "2022-01-05T02:57:49.542214Z",
     "shell.execute_reply.started": "2022-01-05T02:52:27.738448Z"
    },
    "papermill": {
     "duration": 0.051042,
     "end_time": "2022-01-05T02:57:49.542339",
     "exception": false,
     "start_time": "2022-01-05T02:57:49.491297",
     "status": "completed"
    },
    "tags": []
   },
   "outputs": [
    {
     "data": {
      "text/plain": [
       "['Pclass_1',\n",
       " 'Pclass_2',\n",
       " 'Pclass_3',\n",
       " 'Sex_female',\n",
       " 'Sex_male',\n",
       " 'Embarked_C',\n",
       " 'Embarked_Q',\n",
       " 'Embarked_S',\n",
       " 'Fare_category_<10',\n",
       " 'Fare_category_10-15',\n",
       " 'Fare_category_15-50',\n",
       " 'Fare_category_50-100',\n",
       " 'Fare_category_100-1000',\n",
       " 'Age_category_Missing',\n",
       " 'Age_category_Infant',\n",
       " 'Age_category_Child',\n",
       " 'Age_category_Teenager',\n",
       " 'Age_category_Young Adult',\n",
       " 'Age_category_Adult',\n",
       " 'Age_category_Senior',\n",
       " 'Title_Master',\n",
       " 'Title_Miss',\n",
       " 'Title_Mr',\n",
       " 'Title_Mrs']"
      ]
     },
     "execution_count": 35,
     "metadata": {},
     "output_type": "execute_result"
    }
   ],
   "source": [
    "best_features"
   ]
  },
  {
   "cell_type": "code",
   "execution_count": 36,
   "id": "93858d39",
   "metadata": {
    "execution": {
     "iopub.execute_input": "2022-01-05T02:57:49.632583Z",
     "iopub.status.busy": "2022-01-05T02:57:49.631826Z",
     "iopub.status.idle": "2022-01-05T02:57:50.798727Z",
     "shell.execute_reply": "2022-01-05T02:57:50.798234Z",
     "shell.execute_reply.started": "2022-01-05T02:54:49.814710Z"
    },
    "papermill": {
     "duration": 1.214851,
     "end_time": "2022-01-05T02:57:50.798870",
     "exception": false,
     "start_time": "2022-01-05T02:57:49.584019",
     "status": "completed"
    },
    "tags": []
   },
   "outputs": [
    {
     "name": "stdout",
     "output_type": "stream",
     "text": [
      "0.8227215980024969\n"
     ]
    }
   ],
   "source": [
    "final_model = RandomForestClassifier(criterion='entropy', max_depth=10, max_features='log2',\n",
    "                       min_samples_leaf=6, min_samples_split=3, n_estimators=50,\n",
    "                       random_state=1)\n",
    "\n",
    "acc = cross_validate(final_model, version3, best_features, target)\n",
    "print(acc)\n",
    "\n",
    "lr = train_model(final_model, version3, best_features, target)\n",
    "\n",
    "# generate predictions\n",
    "test_version3 = test_df.copy()\n",
    "test_version3 = process_fare(test_version3)\n",
    "test_version3 = process_age(test_version3)\n",
    "test_version3 = process_name(test_version3)\n",
    "\n",
    "for col in cols:\n",
    "    test_version3 = create_dummies(test_version3, col)\n",
    "\n",
    "predictions3 = generate_predictions(lr, test_version3, best_features)"
   ]
  },
  {
   "cell_type": "code",
   "execution_count": 37,
   "id": "a9530594",
   "metadata": {
    "execution": {
     "iopub.execute_input": "2022-01-05T02:57:50.890936Z",
     "iopub.status.busy": "2022-01-05T02:57:50.890210Z",
     "iopub.status.idle": "2022-01-05T02:57:50.895734Z",
     "shell.execute_reply": "2022-01-05T02:57:50.895296Z",
     "shell.execute_reply.started": "2022-01-05T02:49:55.993184Z"
    },
    "papermill": {
     "duration": 0.053763,
     "end_time": "2022-01-05T02:57:50.895855",
     "exception": false,
     "start_time": "2022-01-05T02:57:50.842092",
     "status": "completed"
    },
    "tags": []
   },
   "outputs": [],
   "source": [
    "passenger_ids = test_df[\"PassengerId\"]\n",
    "prediction3 = predictions3\n",
    "submission = pd.DataFrame(\n",
    "    {\n",
    "        \"PassengerId\": passenger_ids,\n",
    "        \"Survived\": prediction3\n",
    "    }\n",
    ")\n",
    "\n",
    "submission.to_csv(\"submission.csv\", index=False)\n"
   ]
  },
  {
   "cell_type": "code",
   "execution_count": null,
   "id": "86050b92",
   "metadata": {
    "papermill": {
     "duration": 0.045586,
     "end_time": "2022-01-05T02:57:50.984079",
     "exception": false,
     "start_time": "2022-01-05T02:57:50.938493",
     "status": "completed"
    },
    "tags": []
   },
   "outputs": [],
   "source": []
  },
  {
   "cell_type": "code",
   "execution_count": 38,
   "id": "85e927e6",
   "metadata": {
    "execution": {
     "iopub.execute_input": "2022-01-05T02:57:51.083484Z",
     "iopub.status.busy": "2022-01-05T02:57:51.082804Z",
     "iopub.status.idle": "2022-01-05T02:57:51.086938Z",
     "shell.execute_reply": "2022-01-05T02:57:51.086457Z",
     "shell.execute_reply.started": "2022-01-05T02:49:55.994543Z"
    },
    "papermill": {
     "duration": 0.055672,
     "end_time": "2022-01-05T02:57:51.087055",
     "exception": false,
     "start_time": "2022-01-05T02:57:51.031383",
     "status": "completed"
    },
    "tags": []
   },
   "outputs": [],
   "source": [
    "# # hyperparameter tuning using the GridSearchCV\n",
    "# from sklearn.model_selection import GridSearchCV\n",
    "\n",
    "# rfclassifier = \\\n",
    "# {\n",
    "#     \"name\": \"RandomForestClassifier\",\n",
    "#     \"estimator\": RandomForestClassifier(random_state=1),\n",
    "#     \"hyperparameters\":\n",
    "#         {\n",
    "#             \"n_estimators\": [10, 25, 50, 100],\n",
    "#             \"criterion\": [\"entropy\", \"gini\"],\n",
    "#             \"max_depth\": [2, 5, 10, 15, 20],\n",
    "#             \"max_features\": [\"log2\", \"sqrt\"],\n",
    "#             \"min_samples_leaf\": [1, 3, 5, 7, 9],\n",
    "#             \"min_samples_split\": [2, 3, 5, 7, 9]\n",
    "\n",
    "#         }\n",
    "# }\n",
    "# grid = GridSearchCV(rfclassifier[\"estimator\"],\n",
    "#                             param_grid=rfclassifier[\"hyperparameters\"],\n",
    "#                             cv=10)\n",
    "# grid.fit(version3[features],version3[target])\n",
    "\n",
    "# print(\"Best Score: {}\".format(grid.best_score_))\n",
    "# print(\"Best Parameters: {}\\n\".format(grid.best_params_))\n",
    "\n",
    "# final_model = grid.best_estimator_"
   ]
  },
  {
   "cell_type": "code",
   "execution_count": 39,
   "id": "94b08a30",
   "metadata": {
    "execution": {
     "iopub.execute_input": "2022-01-05T02:57:51.180491Z",
     "iopub.status.busy": "2022-01-05T02:57:51.179701Z",
     "iopub.status.idle": "2022-01-05T02:57:51.182154Z",
     "shell.execute_reply": "2022-01-05T02:57:51.181750Z",
     "shell.execute_reply.started": "2022-01-05T02:49:55.996170Z"
    },
    "papermill": {
     "duration": 0.04878,
     "end_time": "2022-01-05T02:57:51.182264",
     "exception": false,
     "start_time": "2022-01-05T02:57:51.133484",
     "status": "completed"
    },
    "tags": []
   },
   "outputs": [],
   "source": [
    "# final_model"
   ]
  },
  {
   "cell_type": "code",
   "execution_count": 40,
   "id": "64bc77cc",
   "metadata": {
    "execution": {
     "iopub.execute_input": "2022-01-05T02:57:51.270277Z",
     "iopub.status.busy": "2022-01-05T02:57:51.269573Z",
     "iopub.status.idle": "2022-01-05T02:57:51.271782Z",
     "shell.execute_reply": "2022-01-05T02:57:51.272182Z",
     "shell.execute_reply.started": "2022-01-05T02:49:55.997540Z"
    },
    "papermill": {
     "duration": 0.048241,
     "end_time": "2022-01-05T02:57:51.272304",
     "exception": false,
     "start_time": "2022-01-05T02:57:51.224063",
     "status": "completed"
    },
    "tags": []
   },
   "outputs": [],
   "source": [
    "# # generate predictions\n",
    "# test_version3 = test_df.copy()\n",
    "# test_version3 = process_fare(test_version3)\n",
    "\n",
    "# for col in cols:\n",
    "#     test_version3 = create_dummies(test_version3, col)\n",
    "\n",
    "# predictions3 = generate_predictions(final_model, test_version3, features)"
   ]
  },
  {
   "cell_type": "code",
   "execution_count": 41,
   "id": "82a2fd67",
   "metadata": {
    "execution": {
     "iopub.execute_input": "2022-01-05T02:57:51.360691Z",
     "iopub.status.busy": "2022-01-05T02:57:51.359929Z",
     "iopub.status.idle": "2022-01-05T02:57:51.362289Z",
     "shell.execute_reply": "2022-01-05T02:57:51.361871Z",
     "shell.execute_reply.started": "2022-01-05T02:49:55.998884Z"
    },
    "papermill": {
     "duration": 0.047443,
     "end_time": "2022-01-05T02:57:51.362388",
     "exception": false,
     "start_time": "2022-01-05T02:57:51.314945",
     "status": "completed"
    },
    "tags": []
   },
   "outputs": [],
   "source": [
    "# passenger_ids = test_df[\"PassengerId\"]\n",
    "# prediction3 = predictions3\n",
    "# submission = pd.DataFrame(\n",
    "#     {\n",
    "#         \"PassengerId\": passenger_ids,\n",
    "#         \"Survived\": prediction3\n",
    "#     }\n",
    "# )\n",
    "\n",
    "# submission.to_csv(\"submission.csv\", index=False)\n"
   ]
  },
  {
   "cell_type": "code",
   "execution_count": 42,
   "id": "84e84c0f",
   "metadata": {
    "execution": {
     "iopub.execute_input": "2022-01-05T02:57:51.449669Z",
     "iopub.status.busy": "2022-01-05T02:57:51.448819Z",
     "iopub.status.idle": "2022-01-05T02:57:51.451952Z",
     "shell.execute_reply": "2022-01-05T02:57:51.452329Z",
     "shell.execute_reply.started": "2022-01-05T02:49:56.000258Z"
    },
    "papermill": {
     "duration": 0.0481,
     "end_time": "2022-01-05T02:57:51.452458",
     "exception": false,
     "start_time": "2022-01-05T02:57:51.404358",
     "status": "completed"
    },
    "tags": []
   },
   "outputs": [],
   "source": [
    "# test_version3.head()"
   ]
  },
  {
   "cell_type": "code",
   "execution_count": null,
   "id": "f1d9211a",
   "metadata": {
    "papermill": {
     "duration": 0.041897,
     "end_time": "2022-01-05T02:57:51.536428",
     "exception": false,
     "start_time": "2022-01-05T02:57:51.494531",
     "status": "completed"
    },
    "tags": []
   },
   "outputs": [],
   "source": []
  }
 ],
 "metadata": {
  "kernelspec": {
   "display_name": "Python 3",
   "language": "python",
   "name": "python3"
  },
  "language_info": {
   "codemirror_mode": {
    "name": "ipython",
    "version": 3
   },
   "file_extension": ".py",
   "mimetype": "text/x-python",
   "name": "python",
   "nbconvert_exporter": "python",
   "pygments_lexer": "ipython3",
   "version": "3.7.12"
  },
  "papermill": {
   "default_parameters": {},
   "duration": 21.187136,
   "end_time": "2022-01-05T02:57:52.188673",
   "environment_variables": {},
   "exception": null,
   "input_path": "__notebook__.ipynb",
   "output_path": "__notebook__.ipynb",
   "parameters": {},
   "start_time": "2022-01-05T02:57:31.001537",
   "version": "2.3.3"
  }
 },
 "nbformat": 4,
 "nbformat_minor": 5
}
