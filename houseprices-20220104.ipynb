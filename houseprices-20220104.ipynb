{
 "cells": [
  {
   "cell_type": "code",
   "execution_count": 1,
   "id": "4f7ba80f",
   "metadata": {
    "_cell_guid": "b1076dfc-b9ad-4769-8c92-a6c4dae69d19",
    "_uuid": "8f2839f25d086af736a60e9eeb907d3b93b6e0e5",
    "execution": {
     "iopub.execute_input": "2022-01-07T22:55:31.778074Z",
     "iopub.status.busy": "2022-01-07T22:55:31.776966Z",
     "iopub.status.idle": "2022-01-07T22:55:31.790973Z",
     "shell.execute_reply": "2022-01-07T22:55:31.791761Z",
     "shell.execute_reply.started": "2022-01-07T22:13:08.627156Z"
    },
    "papermill": {
     "duration": 0.052399,
     "end_time": "2022-01-07T22:55:31.792090",
     "exception": false,
     "start_time": "2022-01-07T22:55:31.739691",
     "status": "completed"
    },
    "tags": []
   },
   "outputs": [
    {
     "name": "stdout",
     "output_type": "stream",
     "text": [
      "/kaggle/input/house-prices-advanced-regression-techniques/sample_submission.csv\n",
      "/kaggle/input/house-prices-advanced-regression-techniques/data_description.txt\n",
      "/kaggle/input/house-prices-advanced-regression-techniques/train.csv\n",
      "/kaggle/input/house-prices-advanced-regression-techniques/test.csv\n"
     ]
    }
   ],
   "source": [
    "# This Python 3 environment comes with many helpful analytics libraries installed\n",
    "# It is defined by the kaggle/python Docker image: https://github.com/kaggle/docker-python\n",
    "# For example, here's several helpful packages to load\n",
    "\n",
    "import numpy as np # linear algebra\n",
    "import pandas as pd # data processing, CSV file I/O (e.g. pd.read_csv)\n",
    "\n",
    "# Input data files are available in the read-only \"../input/\" directory\n",
    "# For example, running this (by clicking run or pressing Shift+Enter) will list all files under the input directory\n",
    "\n",
    "import os\n",
    "for dirname, _, filenames in os.walk('/kaggle/input'):\n",
    "    for filename in filenames:\n",
    "        print(os.path.join(dirname, filename))\n",
    "\n",
    "# You can write up to 20GB to the current directory (/kaggle/working/) that gets preserved as output when you create a version using \"Save & Run All\" \n",
    "# You can also write temporary files to /kaggle/temp/, but they won't be saved outside of the current session"
   ]
  },
  {
   "cell_type": "code",
   "execution_count": 2,
   "id": "0a359ac7",
   "metadata": {
    "execution": {
     "iopub.execute_input": "2022-01-07T22:55:31.862395Z",
     "iopub.status.busy": "2022-01-07T22:55:31.861732Z",
     "iopub.status.idle": "2022-01-07T22:55:31.865058Z",
     "shell.execute_reply": "2022-01-07T22:55:31.865597Z",
     "shell.execute_reply.started": "2022-01-07T22:13:08.641438Z"
    },
    "papermill": {
     "duration": 0.039207,
     "end_time": "2022-01-07T22:55:31.865767",
     "exception": false,
     "start_time": "2022-01-07T22:55:31.826560",
     "status": "completed"
    },
    "tags": []
   },
   "outputs": [],
   "source": [
    "# setup\n",
    "TRAIN_PATH = \"../input/house-prices-advanced-regression-techniques/train.csv\"\n",
    "TEST_PATH = \"../input/house-prices-advanced-regression-techniques/test.csv\"\n",
    "SUBMISSION_PATH = \"../input/house-prices-advanced-regression-techniques/sample_submission.csv\"\n",
    "\n",
    "OUTPUT_PATH = \"../output/kaggle/working/submission.csv\""
   ]
  },
  {
   "cell_type": "code",
   "execution_count": 3,
   "id": "7f6de116",
   "metadata": {
    "execution": {
     "iopub.execute_input": "2022-01-07T22:55:31.955963Z",
     "iopub.status.busy": "2022-01-07T22:55:31.955022Z",
     "iopub.status.idle": "2022-01-07T22:55:32.040600Z",
     "shell.execute_reply": "2022-01-07T22:55:32.041167Z",
     "shell.execute_reply.started": "2022-01-07T22:13:08.648272Z"
    },
    "papermill": {
     "duration": 0.13878,
     "end_time": "2022-01-07T22:55:32.041364",
     "exception": false,
     "start_time": "2022-01-07T22:55:31.902584",
     "status": "completed"
    },
    "tags": []
   },
   "outputs": [],
   "source": [
    "train_df = pd.read_csv(TRAIN_PATH)\n",
    "test_df = pd.read_csv(TEST_PATH)\n",
    "sample_submission_df = pd.read_csv(SUBMISSION_PATH)"
   ]
  },
  {
   "cell_type": "code",
   "execution_count": 4,
   "id": "8601033a",
   "metadata": {
    "execution": {
     "iopub.execute_input": "2022-01-07T22:55:32.112078Z",
     "iopub.status.busy": "2022-01-07T22:55:32.111496Z",
     "iopub.status.idle": "2022-01-07T22:55:32.144361Z",
     "shell.execute_reply": "2022-01-07T22:55:32.144982Z",
     "shell.execute_reply.started": "2022-01-07T22:13:08.739215Z"
    },
    "papermill": {
     "duration": 0.069745,
     "end_time": "2022-01-07T22:55:32.145146",
     "exception": false,
     "start_time": "2022-01-07T22:55:32.075401",
     "status": "completed"
    },
    "tags": []
   },
   "outputs": [
    {
     "name": "stdout",
     "output_type": "stream",
     "text": [
      "<class 'pandas.core.frame.DataFrame'>\n",
      "RangeIndex: 1460 entries, 0 to 1459\n",
      "Data columns (total 81 columns):\n",
      " #   Column         Non-Null Count  Dtype  \n",
      "---  ------         --------------  -----  \n",
      " 0   Id             1460 non-null   int64  \n",
      " 1   MSSubClass     1460 non-null   int64  \n",
      " 2   MSZoning       1460 non-null   object \n",
      " 3   LotFrontage    1201 non-null   float64\n",
      " 4   LotArea        1460 non-null   int64  \n",
      " 5   Street         1460 non-null   object \n",
      " 6   Alley          91 non-null     object \n",
      " 7   LotShape       1460 non-null   object \n",
      " 8   LandContour    1460 non-null   object \n",
      " 9   Utilities      1460 non-null   object \n",
      " 10  LotConfig      1460 non-null   object \n",
      " 11  LandSlope      1460 non-null   object \n",
      " 12  Neighborhood   1460 non-null   object \n",
      " 13  Condition1     1460 non-null   object \n",
      " 14  Condition2     1460 non-null   object \n",
      " 15  BldgType       1460 non-null   object \n",
      " 16  HouseStyle     1460 non-null   object \n",
      " 17  OverallQual    1460 non-null   int64  \n",
      " 18  OverallCond    1460 non-null   int64  \n",
      " 19  YearBuilt      1460 non-null   int64  \n",
      " 20  YearRemodAdd   1460 non-null   int64  \n",
      " 21  RoofStyle      1460 non-null   object \n",
      " 22  RoofMatl       1460 non-null   object \n",
      " 23  Exterior1st    1460 non-null   object \n",
      " 24  Exterior2nd    1460 non-null   object \n",
      " 25  MasVnrType     1452 non-null   object \n",
      " 26  MasVnrArea     1452 non-null   float64\n",
      " 27  ExterQual      1460 non-null   object \n",
      " 28  ExterCond      1460 non-null   object \n",
      " 29  Foundation     1460 non-null   object \n",
      " 30  BsmtQual       1423 non-null   object \n",
      " 31  BsmtCond       1423 non-null   object \n",
      " 32  BsmtExposure   1422 non-null   object \n",
      " 33  BsmtFinType1   1423 non-null   object \n",
      " 34  BsmtFinSF1     1460 non-null   int64  \n",
      " 35  BsmtFinType2   1422 non-null   object \n",
      " 36  BsmtFinSF2     1460 non-null   int64  \n",
      " 37  BsmtUnfSF      1460 non-null   int64  \n",
      " 38  TotalBsmtSF    1460 non-null   int64  \n",
      " 39  Heating        1460 non-null   object \n",
      " 40  HeatingQC      1460 non-null   object \n",
      " 41  CentralAir     1460 non-null   object \n",
      " 42  Electrical     1459 non-null   object \n",
      " 43  1stFlrSF       1460 non-null   int64  \n",
      " 44  2ndFlrSF       1460 non-null   int64  \n",
      " 45  LowQualFinSF   1460 non-null   int64  \n",
      " 46  GrLivArea      1460 non-null   int64  \n",
      " 47  BsmtFullBath   1460 non-null   int64  \n",
      " 48  BsmtHalfBath   1460 non-null   int64  \n",
      " 49  FullBath       1460 non-null   int64  \n",
      " 50  HalfBath       1460 non-null   int64  \n",
      " 51  BedroomAbvGr   1460 non-null   int64  \n",
      " 52  KitchenAbvGr   1460 non-null   int64  \n",
      " 53  KitchenQual    1460 non-null   object \n",
      " 54  TotRmsAbvGrd   1460 non-null   int64  \n",
      " 55  Functional     1460 non-null   object \n",
      " 56  Fireplaces     1460 non-null   int64  \n",
      " 57  FireplaceQu    770 non-null    object \n",
      " 58  GarageType     1379 non-null   object \n",
      " 59  GarageYrBlt    1379 non-null   float64\n",
      " 60  GarageFinish   1379 non-null   object \n",
      " 61  GarageCars     1460 non-null   int64  \n",
      " 62  GarageArea     1460 non-null   int64  \n",
      " 63  GarageQual     1379 non-null   object \n",
      " 64  GarageCond     1379 non-null   object \n",
      " 65  PavedDrive     1460 non-null   object \n",
      " 66  WoodDeckSF     1460 non-null   int64  \n",
      " 67  OpenPorchSF    1460 non-null   int64  \n",
      " 68  EnclosedPorch  1460 non-null   int64  \n",
      " 69  3SsnPorch      1460 non-null   int64  \n",
      " 70  ScreenPorch    1460 non-null   int64  \n",
      " 71  PoolArea       1460 non-null   int64  \n",
      " 72  PoolQC         7 non-null      object \n",
      " 73  Fence          281 non-null    object \n",
      " 74  MiscFeature    54 non-null     object \n",
      " 75  MiscVal        1460 non-null   int64  \n",
      " 76  MoSold         1460 non-null   int64  \n",
      " 77  YrSold         1460 non-null   int64  \n",
      " 78  SaleType       1460 non-null   object \n",
      " 79  SaleCondition  1460 non-null   object \n",
      " 80  SalePrice      1460 non-null   int64  \n",
      "dtypes: float64(3), int64(35), object(43)\n",
      "memory usage: 924.0+ KB\n"
     ]
    }
   ],
   "source": [
    "train_df.info()"
   ]
  },
  {
   "cell_type": "code",
   "execution_count": 5,
   "id": "c25a6105",
   "metadata": {
    "execution": {
     "iopub.execute_input": "2022-01-07T22:55:32.220058Z",
     "iopub.status.busy": "2022-01-07T22:55:32.219455Z",
     "iopub.status.idle": "2022-01-07T22:55:32.230479Z",
     "shell.execute_reply": "2022-01-07T22:55:32.229788Z",
     "shell.execute_reply.started": "2022-01-07T22:13:08.774699Z"
    },
    "papermill": {
     "duration": 0.051211,
     "end_time": "2022-01-07T22:55:32.230637",
     "exception": false,
     "start_time": "2022-01-07T22:55:32.179426",
     "status": "completed"
    },
    "tags": []
   },
   "outputs": [
    {
     "data": {
      "text/html": [
       "<div>\n",
       "<style scoped>\n",
       "    .dataframe tbody tr th:only-of-type {\n",
       "        vertical-align: middle;\n",
       "    }\n",
       "\n",
       "    .dataframe tbody tr th {\n",
       "        vertical-align: top;\n",
       "    }\n",
       "\n",
       "    .dataframe thead th {\n",
       "        text-align: right;\n",
       "    }\n",
       "</style>\n",
       "<table border=\"1\" class=\"dataframe\">\n",
       "  <thead>\n",
       "    <tr style=\"text-align: right;\">\n",
       "      <th></th>\n",
       "      <th>Id</th>\n",
       "      <th>SalePrice</th>\n",
       "    </tr>\n",
       "  </thead>\n",
       "  <tbody>\n",
       "    <tr>\n",
       "      <th>0</th>\n",
       "      <td>1461</td>\n",
       "      <td>169277.052498</td>\n",
       "    </tr>\n",
       "    <tr>\n",
       "      <th>1</th>\n",
       "      <td>1462</td>\n",
       "      <td>187758.393989</td>\n",
       "    </tr>\n",
       "    <tr>\n",
       "      <th>2</th>\n",
       "      <td>1463</td>\n",
       "      <td>183583.683570</td>\n",
       "    </tr>\n",
       "    <tr>\n",
       "      <th>3</th>\n",
       "      <td>1464</td>\n",
       "      <td>179317.477511</td>\n",
       "    </tr>\n",
       "    <tr>\n",
       "      <th>4</th>\n",
       "      <td>1465</td>\n",
       "      <td>150730.079977</td>\n",
       "    </tr>\n",
       "  </tbody>\n",
       "</table>\n",
       "</div>"
      ],
      "text/plain": [
       "     Id      SalePrice\n",
       "0  1461  169277.052498\n",
       "1  1462  187758.393989\n",
       "2  1463  183583.683570\n",
       "3  1464  179317.477511\n",
       "4  1465  150730.079977"
      ]
     },
     "execution_count": 5,
     "metadata": {},
     "output_type": "execute_result"
    }
   ],
   "source": [
    "sample_submission_df.head(5)"
   ]
  },
  {
   "cell_type": "markdown",
   "id": "cd0276b8",
   "metadata": {
    "papermill": {
     "duration": 0.034125,
     "end_time": "2022-01-07T22:55:32.299714",
     "exception": false,
     "start_time": "2022-01-07T22:55:32.265589",
     "status": "completed"
    },
    "tags": []
   },
   "source": [
    "### Approach\n",
    "1. First, lets create a basic LinearRegression Model using few features like Bedroom, Bathroom and SqFt\n",
    "2. We will take that neg RMSE as the baseline evaluation metric\n",
    "3. Then we will perform some feature engineering\n",
    "4. We will use more complex models\n",
    "5. Perform model hyper parameter tuning"
   ]
  },
  {
   "cell_type": "code",
   "execution_count": 6,
   "id": "ec8541f1",
   "metadata": {
    "execution": {
     "iopub.execute_input": "2022-01-07T22:55:32.371418Z",
     "iopub.status.busy": "2022-01-07T22:55:32.370800Z",
     "iopub.status.idle": "2022-01-07T22:55:32.380608Z",
     "shell.execute_reply": "2022-01-07T22:55:32.381107Z",
     "shell.execute_reply.started": "2022-01-07T22:13:08.791199Z"
    },
    "papermill": {
     "duration": 0.04636,
     "end_time": "2022-01-07T22:55:32.381258",
     "exception": false,
     "start_time": "2022-01-07T22:55:32.334898",
     "status": "completed"
    },
    "tags": []
   },
   "outputs": [
    {
     "data": {
      "text/plain": [
       "FullBath\n",
       "2           768\n",
       "1           650\n",
       "3            33\n",
       "0             9\n",
       "dtype: int64"
      ]
     },
     "execution_count": 6,
     "metadata": {},
     "output_type": "execute_result"
    }
   ],
   "source": [
    "train_df[[\"FullBath\"]].value_counts()"
   ]
  },
  {
   "cell_type": "code",
   "execution_count": 7,
   "id": "6ce133dd",
   "metadata": {
    "execution": {
     "iopub.execute_input": "2022-01-07T22:55:32.453896Z",
     "iopub.status.busy": "2022-01-07T22:55:32.453122Z",
     "iopub.status.idle": "2022-01-07T22:55:32.463112Z",
     "shell.execute_reply": "2022-01-07T22:55:32.463604Z",
     "shell.execute_reply.started": "2022-01-07T22:13:08.806097Z"
    },
    "papermill": {
     "duration": 0.047756,
     "end_time": "2022-01-07T22:55:32.463761",
     "exception": false,
     "start_time": "2022-01-07T22:55:32.416005",
     "status": "completed"
    },
    "tags": []
   },
   "outputs": [
    {
     "data": {
      "text/plain": [
       "LotArea\n",
       "7200       25\n",
       "9600       24\n",
       "6000       17\n",
       "9000       14\n",
       "10800      14\n",
       "           ..\n",
       "8930        1\n",
       "8935        1\n",
       "8944        1\n",
       "8960        1\n",
       "215245      1\n",
       "Length: 1073, dtype: int64"
      ]
     },
     "execution_count": 7,
     "metadata": {},
     "output_type": "execute_result"
    }
   ],
   "source": [
    "train_df[[\"LotArea\"]].value_counts()"
   ]
  },
  {
   "cell_type": "code",
   "execution_count": 8,
   "id": "b10f1776",
   "metadata": {
    "execution": {
     "iopub.execute_input": "2022-01-07T22:55:32.536288Z",
     "iopub.status.busy": "2022-01-07T22:55:32.535416Z",
     "iopub.status.idle": "2022-01-07T22:55:32.828391Z",
     "shell.execute_reply": "2022-01-07T22:55:32.827884Z",
     "shell.execute_reply.started": "2022-01-07T22:13:08.819968Z"
    },
    "papermill": {
     "duration": 0.330776,
     "end_time": "2022-01-07T22:55:32.828542",
     "exception": false,
     "start_time": "2022-01-07T22:55:32.497766",
     "status": "completed"
    },
    "tags": []
   },
   "outputs": [
    {
     "data": {
      "text/plain": [
       "<AxesSubplot:ylabel='Frequency'>"
      ]
     },
     "execution_count": 8,
     "metadata": {},
     "output_type": "execute_result"
    },
    {
     "data": {
      "image/png": "[encoded data removed]",
      "text/plain": [
       "<Figure size 432x288 with 1 Axes>"
      ]
     },
     "metadata": {
      "needs_background": "light"
     },
     "output_type": "display_data"
    }
   ],
   "source": [
    "train_df[\"LotArea\"].plot.hist(bins = 30)"
   ]
  },
  {
   "cell_type": "code",
   "execution_count": 9,
   "id": "ec090198",
   "metadata": {
    "execution": {
     "iopub.execute_input": "2022-01-07T22:55:32.904776Z",
     "iopub.status.busy": "2022-01-07T22:55:32.904078Z",
     "iopub.status.idle": "2022-01-07T22:55:33.254152Z",
     "shell.execute_reply": "2022-01-07T22:55:33.254637Z",
     "shell.execute_reply.started": "2022-01-07T22:13:09.192552Z"
    },
    "papermill": {
     "duration": 0.390687,
     "end_time": "2022-01-07T22:55:33.254816",
     "exception": false,
     "start_time": "2022-01-07T22:55:32.864129",
     "status": "completed"
    },
    "tags": []
   },
   "outputs": [
    {
     "data": {
      "text/plain": [
       "<AxesSubplot:ylabel='Frequency'>"
      ]
     },
     "execution_count": 9,
     "metadata": {},
     "output_type": "execute_result"
    },
    {
     "data": {
      "image/png": "[encoded data removed]",
      "text/plain": [
       "<Figure size 432x288 with 1 Axes>"
      ]
     },
     "metadata": {
      "needs_background": "light"
     },
     "output_type": "display_data"
    }
   ],
   "source": [
    "train_df[\"SalePrice\"].plot.hist(bins = 30)"
   ]
  },
  {
   "cell_type": "code",
   "execution_count": 10,
   "id": "70cf4a6c",
   "metadata": {
    "execution": {
     "iopub.execute_input": "2022-01-07T22:55:33.333249Z",
     "iopub.status.busy": "2022-01-07T22:55:33.332653Z",
     "iopub.status.idle": "2022-01-07T22:55:34.208592Z",
     "shell.execute_reply": "2022-01-07T22:55:34.207903Z",
     "shell.execute_reply.started": "2022-01-07T22:13:09.442049Z"
    },
    "papermill": {
     "duration": 0.917799,
     "end_time": "2022-01-07T22:55:34.208747",
     "exception": false,
     "start_time": "2022-01-07T22:55:33.290948",
     "status": "completed"
    },
    "tags": []
   },
   "outputs": [],
   "source": [
    "# perform minmax scaler\n",
    "def perform_minmaxscaler(df, col):\n",
    "    min_value = df[col].min()\n",
    "    max_value = df[col].max()\n",
    "    df[col] = (df[col] - min_value) / (max_value - min_value)\n",
    "    return df\n",
    "\n",
    "# perform cross validation\n",
    "from sklearn.model_selection import cross_val_score\n",
    "def perform_cross_validation(model, features, target, train):\n",
    "    X = train[features]\n",
    "    Y = train[target]\n",
    "    scores = cross_val_score(model, X, Y, cv=10, scoring = 'neg_root_mean_squared_error')\n",
    "    mean_score = np.mean(scores)\n",
    "    return mean_score\n",
    "    "
   ]
  },
  {
   "cell_type": "code",
   "execution_count": 11,
   "id": "f069663e",
   "metadata": {
    "execution": {
     "iopub.execute_input": "2022-01-07T22:55:34.291562Z",
     "iopub.status.busy": "2022-01-07T22:55:34.290945Z",
     "iopub.status.idle": "2022-01-07T22:55:34.293609Z",
     "shell.execute_reply": "2022-01-07T22:55:34.294091Z",
     "shell.execute_reply.started": "2022-01-07T22:13:10.218099Z"
    },
    "papermill": {
     "duration": 0.048305,
     "end_time": "2022-01-07T22:55:34.294242",
     "exception": false,
     "start_time": "2022-01-07T22:55:34.245937",
     "status": "completed"
    },
    "tags": []
   },
   "outputs": [
    {
     "data": {
      "text/plain": [
       "BedroomAbvGr\n",
       "3               804\n",
       "2               358\n",
       "4               213\n",
       "1                50\n",
       "5                21\n",
       "6                 7\n",
       "0                 6\n",
       "8                 1\n",
       "dtype: int64"
      ]
     },
     "execution_count": 11,
     "metadata": {},
     "output_type": "execute_result"
    }
   ],
   "source": [
    "train_df[[\"BedroomAbvGr\"]].value_counts()"
   ]
  },
  {
   "cell_type": "code",
   "execution_count": 12,
   "id": "e9c4b9e9",
   "metadata": {
    "execution": {
     "iopub.execute_input": "2022-01-07T22:55:34.373792Z",
     "iopub.status.busy": "2022-01-07T22:55:34.373029Z",
     "iopub.status.idle": "2022-01-07T22:55:34.377978Z",
     "shell.execute_reply": "2022-01-07T22:55:34.377465Z",
     "shell.execute_reply.started": "2022-01-07T22:13:10.237835Z"
    },
    "papermill": {
     "duration": 0.047308,
     "end_time": "2022-01-07T22:55:34.378108",
     "exception": false,
     "start_time": "2022-01-07T22:55:34.330800",
     "status": "completed"
    },
    "tags": []
   },
   "outputs": [],
   "source": [
    "initial_features = [\"TotRmsAbvGrd\", \"LotArea\", \"FullBath\"]\n",
    "target = \"SalePrice\"\n",
    "for col in initial_features:\n",
    "    train_df = perform_minmaxscaler(train_df, col)"
   ]
  },
  {
   "cell_type": "code",
   "execution_count": 13,
   "id": "ccae00f6",
   "metadata": {
    "execution": {
     "iopub.execute_input": "2022-01-07T22:55:34.457228Z",
     "iopub.status.busy": "2022-01-07T22:55:34.456661Z",
     "iopub.status.idle": "2022-01-07T22:55:34.693080Z",
     "shell.execute_reply": "2022-01-07T22:55:34.693579Z",
     "shell.execute_reply.started": "2022-01-07T22:13:10.251442Z"
    },
    "papermill": {
     "duration": 0.278909,
     "end_time": "2022-01-07T22:55:34.693745",
     "exception": false,
     "start_time": "2022-01-07T22:55:34.414836",
     "status": "completed"
    },
    "tags": []
   },
   "outputs": [
    {
     "name": "stdout",
     "output_type": "stream",
     "text": [
      "-61274.52565300374\n"
     ]
    }
   ],
   "source": [
    "from sklearn.linear_model import LinearRegression\n",
    "from sklearn.tree import DecisionTreeRegressor\n",
    "from sklearn.ensemble import RandomForestRegressor\n",
    "\n",
    "model = LinearRegression()\n",
    "#model.fit(train_df[initial_features], train_df[target])\n",
    "score = perform_cross_validation(model, initial_features, target, train_df)\n",
    "print(score)"
   ]
  },
  {
   "cell_type": "code",
   "execution_count": 14,
   "id": "ad0c5944",
   "metadata": {
    "execution": {
     "iopub.execute_input": "2022-01-07T22:55:34.775057Z",
     "iopub.status.busy": "2022-01-07T22:55:34.774391Z",
     "iopub.status.idle": "2022-01-07T22:55:34.776745Z",
     "shell.execute_reply": "2022-01-07T22:55:34.776157Z",
     "shell.execute_reply.started": "2022-01-07T22:13:10.532646Z"
    },
    "papermill": {
     "duration": 0.045956,
     "end_time": "2022-01-07T22:55:34.776868",
     "exception": false,
     "start_time": "2022-01-07T22:55:34.730912",
     "status": "completed"
    },
    "tags": []
   },
   "outputs": [],
   "source": [
    "def model_training(train_df, features, target):\n",
    "    model = RandomForestRegressor()\n",
    "    X = train_df[features]\n",
    "    Y = train_df[target]\n",
    "    model.fit(X, Y)\n",
    "    return model\n",
    "    \n",
    "def generate_predictions(model, test_df, features):\n",
    "    for col in initial_features:\n",
    "        test_df = perform_minmaxscaler(test_df, col)\n",
    "    predictions = model.predict(test_df[features])\n",
    "    return predictions"
   ]
  },
  {
   "cell_type": "code",
   "execution_count": 15,
   "id": "045fbe56",
   "metadata": {
    "execution": {
     "iopub.execute_input": "2022-01-07T22:55:34.879228Z",
     "iopub.status.busy": "2022-01-07T22:55:34.868892Z",
     "iopub.status.idle": "2022-01-07T22:55:35.212404Z",
     "shell.execute_reply": "2022-01-07T22:55:35.211753Z",
     "shell.execute_reply.started": "2022-01-07T22:13:10.554287Z"
    },
    "papermill": {
     "duration": 0.397762,
     "end_time": "2022-01-07T22:55:35.212568",
     "exception": false,
     "start_time": "2022-01-07T22:55:34.814806",
     "status": "completed"
    },
    "tags": []
   },
   "outputs": [],
   "source": [
    "model = model_training(train_df, initial_features, target)\n",
    "predictions = generate_predictions(model, test_df, initial_features)"
   ]
  },
  {
   "cell_type": "code",
   "execution_count": 16,
   "id": "90c921a3",
   "metadata": {
    "execution": {
     "iopub.execute_input": "2022-01-07T22:55:35.292446Z",
     "iopub.status.busy": "2022-01-07T22:55:35.291839Z",
     "iopub.status.idle": "2022-01-07T22:55:35.294677Z",
     "shell.execute_reply": "2022-01-07T22:55:35.294181Z",
     "shell.execute_reply.started": "2022-01-07T22:13:10.983894Z"
    },
    "papermill": {
     "duration": 0.043564,
     "end_time": "2022-01-07T22:55:35.294802",
     "exception": false,
     "start_time": "2022-01-07T22:55:35.251238",
     "status": "completed"
    },
    "tags": []
   },
   "outputs": [],
   "source": [
    "# ids = test_df[\"Id\"]\n",
    "# submission = pd.DataFrame(\n",
    "#     {\n",
    "#         \"Id\": ids,\n",
    "#         \"SalePrice\": predictions\n",
    "#     }\n",
    "# )\n",
    "\n",
    "# submission.to_csv(\"submission.csv\", index=False)"
   ]
  },
  {
   "cell_type": "markdown",
   "id": "c8675621",
   "metadata": {
    "papermill": {
     "duration": 0.03626,
     "end_time": "2022-01-07T22:55:35.368583",
     "exception": false,
     "start_time": "2022-01-07T22:55:35.332323",
     "status": "completed"
    },
    "tags": []
   },
   "source": [
    "Done with the baseline model with few columns. Best score of 0.33691.\n",
    "\n",
    "Perform more feature engineering and advanced tasks next."
   ]
  },
  {
   "cell_type": "code",
   "execution_count": 17,
   "id": "b42789d8",
   "metadata": {
    "execution": {
     "iopub.execute_input": "2022-01-07T22:55:35.446312Z",
     "iopub.status.busy": "2022-01-07T22:55:35.445721Z",
     "iopub.status.idle": "2022-01-07T22:55:35.504454Z",
     "shell.execute_reply": "2022-01-07T22:55:35.503662Z",
     "shell.execute_reply.started": "2022-01-07T22:13:10.990557Z"
    },
    "papermill": {
     "duration": 0.100215,
     "end_time": "2022-01-07T22:55:35.504611",
     "exception": false,
     "start_time": "2022-01-07T22:55:35.404396",
     "status": "completed"
    },
    "tags": []
   },
   "outputs": [],
   "source": [
    "train_df = pd.read_csv(TRAIN_PATH)\n",
    "test_df = pd.read_csv(TEST_PATH)\n",
    "sample_submission_df = pd.read_csv(SUBMISSION_PATH)\n",
    "\n",
    "corr_df = train_df.corr().loc[:, [\"SalePrice\"]]\n",
    "cols_of_interest = corr_df[np.abs(corr_df[\"SalePrice\"]) > 0.2].index\n",
    "# since there are lot of features, we will only focus on those features that have correlation > 0.3"
   ]
  },
  {
   "cell_type": "code",
   "execution_count": 18,
   "id": "7074a94d",
   "metadata": {
    "execution": {
     "iopub.execute_input": "2022-01-07T22:55:35.583785Z",
     "iopub.status.busy": "2022-01-07T22:55:35.583160Z",
     "iopub.status.idle": "2022-01-07T22:55:35.586857Z",
     "shell.execute_reply": "2022-01-07T22:55:35.586286Z",
     "shell.execute_reply.started": "2022-01-07T22:13:11.054669Z"
    },
    "papermill": {
     "duration": 0.045082,
     "end_time": "2022-01-07T22:55:35.586987",
     "exception": false,
     "start_time": "2022-01-07T22:55:35.541905",
     "status": "completed"
    },
    "tags": []
   },
   "outputs": [
    {
     "data": {
      "text/plain": [
       "Index(['LotFrontage', 'LotArea', 'OverallQual', 'YearBuilt', 'YearRemodAdd',\n",
       "       'MasVnrArea', 'BsmtFinSF1', 'BsmtUnfSF', 'TotalBsmtSF', '1stFlrSF',\n",
       "       '2ndFlrSF', 'GrLivArea', 'BsmtFullBath', 'FullBath', 'HalfBath',\n",
       "       'TotRmsAbvGrd', 'Fireplaces', 'GarageYrBlt', 'GarageCars', 'GarageArea',\n",
       "       'WoodDeckSF', 'OpenPorchSF', 'SalePrice'],\n",
       "      dtype='object')"
      ]
     },
     "execution_count": 18,
     "metadata": {},
     "output_type": "execute_result"
    }
   ],
   "source": [
    "cols_of_interest"
   ]
  },
  {
   "cell_type": "code",
   "execution_count": 19,
   "id": "c51fda04",
   "metadata": {
    "execution": {
     "iopub.execute_input": "2022-01-07T22:55:35.666479Z",
     "iopub.status.busy": "2022-01-07T22:55:35.663160Z",
     "iopub.status.idle": "2022-01-07T22:55:35.668770Z",
     "shell.execute_reply": "2022-01-07T22:55:35.669205Z",
     "shell.execute_reply.started": "2022-01-07T22:13:11.065675Z"
    },
    "papermill": {
     "duration": 0.045473,
     "end_time": "2022-01-07T22:55:35.669362",
     "exception": false,
     "start_time": "2022-01-07T22:55:35.623889",
     "status": "completed"
    },
    "tags": []
   },
   "outputs": [],
   "source": [
    "train_df = train_df[cols_of_interest]"
   ]
  },
  {
   "cell_type": "code",
   "execution_count": 20,
   "id": "21dc8fab",
   "metadata": {
    "execution": {
     "iopub.execute_input": "2022-01-07T22:55:35.746197Z",
     "iopub.status.busy": "2022-01-07T22:55:35.745657Z",
     "iopub.status.idle": "2022-01-07T22:55:35.770384Z",
     "shell.execute_reply": "2022-01-07T22:55:35.770921Z",
     "shell.execute_reply.started": "2022-01-07T22:13:11.077152Z"
    },
    "papermill": {
     "duration": 0.06481,
     "end_time": "2022-01-07T22:55:35.771090",
     "exception": false,
     "start_time": "2022-01-07T22:55:35.706280",
     "status": "completed"
    },
    "tags": []
   },
   "outputs": [
    {
     "data": {
      "text/html": [
       "<div>\n",
       "<style scoped>\n",
       "    .dataframe tbody tr th:only-of-type {\n",
       "        vertical-align: middle;\n",
       "    }\n",
       "\n",
       "    .dataframe tbody tr th {\n",
       "        vertical-align: top;\n",
       "    }\n",
       "\n",
       "    .dataframe thead th {\n",
       "        text-align: right;\n",
       "    }\n",
       "</style>\n",
       "<table border=\"1\" class=\"dataframe\">\n",
       "  <thead>\n",
       "    <tr style=\"text-align: right;\">\n",
       "      <th></th>\n",
       "      <th>LotFrontage</th>\n",
       "      <th>LotArea</th>\n",
       "      <th>OverallQual</th>\n",
       "      <th>YearBuilt</th>\n",
       "      <th>YearRemodAdd</th>\n",
       "      <th>MasVnrArea</th>\n",
       "      <th>BsmtFinSF1</th>\n",
       "      <th>BsmtUnfSF</th>\n",
       "      <th>TotalBsmtSF</th>\n",
       "      <th>1stFlrSF</th>\n",
       "      <th>...</th>\n",
       "      <th>FullBath</th>\n",
       "      <th>HalfBath</th>\n",
       "      <th>TotRmsAbvGrd</th>\n",
       "      <th>Fireplaces</th>\n",
       "      <th>GarageYrBlt</th>\n",
       "      <th>GarageCars</th>\n",
       "      <th>GarageArea</th>\n",
       "      <th>WoodDeckSF</th>\n",
       "      <th>OpenPorchSF</th>\n",
       "      <th>SalePrice</th>\n",
       "    </tr>\n",
       "  </thead>\n",
       "  <tbody>\n",
       "    <tr>\n",
       "      <th>0</th>\n",
       "      <td>65.0</td>\n",
       "      <td>8450</td>\n",
       "      <td>7</td>\n",
       "      <td>2003</td>\n",
       "      <td>2003</td>\n",
       "      <td>196.0</td>\n",
       "      <td>706</td>\n",
       "      <td>150</td>\n",
       "      <td>856</td>\n",
       "      <td>856</td>\n",
       "      <td>...</td>\n",
       "      <td>2</td>\n",
       "      <td>1</td>\n",
       "      <td>8</td>\n",
       "      <td>0</td>\n",
       "      <td>2003.0</td>\n",
       "      <td>2</td>\n",
       "      <td>548</td>\n",
       "      <td>0</td>\n",
       "      <td>61</td>\n",
       "      <td>208500</td>\n",
       "    </tr>\n",
       "    <tr>\n",
       "      <th>1</th>\n",
       "      <td>80.0</td>\n",
       "      <td>9600</td>\n",
       "      <td>6</td>\n",
       "      <td>1976</td>\n",
       "      <td>1976</td>\n",
       "      <td>0.0</td>\n",
       "      <td>978</td>\n",
       "      <td>284</td>\n",
       "      <td>1262</td>\n",
       "      <td>1262</td>\n",
       "      <td>...</td>\n",
       "      <td>2</td>\n",
       "      <td>0</td>\n",
       "      <td>6</td>\n",
       "      <td>1</td>\n",
       "      <td>1976.0</td>\n",
       "      <td>2</td>\n",
       "      <td>460</td>\n",
       "      <td>298</td>\n",
       "      <td>0</td>\n",
       "      <td>181500</td>\n",
       "    </tr>\n",
       "    <tr>\n",
       "      <th>2</th>\n",
       "      <td>68.0</td>\n",
       "      <td>11250</td>\n",
       "      <td>7</td>\n",
       "      <td>2001</td>\n",
       "      <td>2002</td>\n",
       "      <td>162.0</td>\n",
       "      <td>486</td>\n",
       "      <td>434</td>\n",
       "      <td>920</td>\n",
       "      <td>920</td>\n",
       "      <td>...</td>\n",
       "      <td>2</td>\n",
       "      <td>1</td>\n",
       "      <td>6</td>\n",
       "      <td>1</td>\n",
       "      <td>2001.0</td>\n",
       "      <td>2</td>\n",
       "      <td>608</td>\n",
       "      <td>0</td>\n",
       "      <td>42</td>\n",
       "      <td>223500</td>\n",
       "    </tr>\n",
       "    <tr>\n",
       "      <th>3</th>\n",
       "      <td>60.0</td>\n",
       "      <td>9550</td>\n",
       "      <td>7</td>\n",
       "      <td>1915</td>\n",
       "      <td>1970</td>\n",
       "      <td>0.0</td>\n",
       "      <td>216</td>\n",
       "      <td>540</td>\n",
       "      <td>756</td>\n",
       "      <td>961</td>\n",
       "      <td>...</td>\n",
       "      <td>1</td>\n",
       "      <td>0</td>\n",
       "      <td>7</td>\n",
       "      <td>1</td>\n",
       "      <td>1998.0</td>\n",
       "      <td>3</td>\n",
       "      <td>642</td>\n",
       "      <td>0</td>\n",
       "      <td>35</td>\n",
       "      <td>140000</td>\n",
       "    </tr>\n",
       "    <tr>\n",
       "      <th>4</th>\n",
       "      <td>84.0</td>\n",
       "      <td>14260</td>\n",
       "      <td>8</td>\n",
       "      <td>2000</td>\n",
       "      <td>2000</td>\n",
       "      <td>350.0</td>\n",
       "      <td>655</td>\n",
       "      <td>490</td>\n",
       "      <td>1145</td>\n",
       "      <td>1145</td>\n",
       "      <td>...</td>\n",
       "      <td>2</td>\n",
       "      <td>1</td>\n",
       "      <td>9</td>\n",
       "      <td>1</td>\n",
       "      <td>2000.0</td>\n",
       "      <td>3</td>\n",
       "      <td>836</td>\n",
       "      <td>192</td>\n",
       "      <td>84</td>\n",
       "      <td>250000</td>\n",
       "    </tr>\n",
       "    <tr>\n",
       "      <th>...</th>\n",
       "      <td>...</td>\n",
       "      <td>...</td>\n",
       "      <td>...</td>\n",
       "      <td>...</td>\n",
       "      <td>...</td>\n",
       "      <td>...</td>\n",
       "      <td>...</td>\n",
       "      <td>...</td>\n",
       "      <td>...</td>\n",
       "      <td>...</td>\n",
       "      <td>...</td>\n",
       "      <td>...</td>\n",
       "      <td>...</td>\n",
       "      <td>...</td>\n",
       "      <td>...</td>\n",
       "      <td>...</td>\n",
       "      <td>...</td>\n",
       "      <td>...</td>\n",
       "      <td>...</td>\n",
       "      <td>...</td>\n",
       "      <td>...</td>\n",
       "    </tr>\n",
       "    <tr>\n",
       "      <th>1455</th>\n",
       "      <td>62.0</td>\n",
       "      <td>7917</td>\n",
       "      <td>6</td>\n",
       "      <td>1999</td>\n",
       "      <td>2000</td>\n",
       "      <td>0.0</td>\n",
       "      <td>0</td>\n",
       "      <td>953</td>\n",
       "      <td>953</td>\n",
       "      <td>953</td>\n",
       "      <td>...</td>\n",
       "      <td>2</td>\n",
       "      <td>1</td>\n",
       "      <td>7</td>\n",
       "      <td>1</td>\n",
       "      <td>1999.0</td>\n",
       "      <td>2</td>\n",
       "      <td>460</td>\n",
       "      <td>0</td>\n",
       "      <td>40</td>\n",
       "      <td>175000</td>\n",
       "    </tr>\n",
       "    <tr>\n",
       "      <th>1456</th>\n",
       "      <td>85.0</td>\n",
       "      <td>13175</td>\n",
       "      <td>6</td>\n",
       "      <td>1978</td>\n",
       "      <td>1988</td>\n",
       "      <td>119.0</td>\n",
       "      <td>790</td>\n",
       "      <td>589</td>\n",
       "      <td>1542</td>\n",
       "      <td>2073</td>\n",
       "      <td>...</td>\n",
       "      <td>2</td>\n",
       "      <td>0</td>\n",
       "      <td>7</td>\n",
       "      <td>2</td>\n",
       "      <td>1978.0</td>\n",
       "      <td>2</td>\n",
       "      <td>500</td>\n",
       "      <td>349</td>\n",
       "      <td>0</td>\n",
       "      <td>210000</td>\n",
       "    </tr>\n",
       "    <tr>\n",
       "      <th>1457</th>\n",
       "      <td>66.0</td>\n",
       "      <td>9042</td>\n",
       "      <td>7</td>\n",
       "      <td>1941</td>\n",
       "      <td>2006</td>\n",
       "      <td>0.0</td>\n",
       "      <td>275</td>\n",
       "      <td>877</td>\n",
       "      <td>1152</td>\n",
       "      <td>1188</td>\n",
       "      <td>...</td>\n",
       "      <td>2</td>\n",
       "      <td>0</td>\n",
       "      <td>9</td>\n",
       "      <td>2</td>\n",
       "      <td>1941.0</td>\n",
       "      <td>1</td>\n",
       "      <td>252</td>\n",
       "      <td>0</td>\n",
       "      <td>60</td>\n",
       "      <td>266500</td>\n",
       "    </tr>\n",
       "    <tr>\n",
       "      <th>1458</th>\n",
       "      <td>68.0</td>\n",
       "      <td>9717</td>\n",
       "      <td>5</td>\n",
       "      <td>1950</td>\n",
       "      <td>1996</td>\n",
       "      <td>0.0</td>\n",
       "      <td>49</td>\n",
       "      <td>0</td>\n",
       "      <td>1078</td>\n",
       "      <td>1078</td>\n",
       "      <td>...</td>\n",
       "      <td>1</td>\n",
       "      <td>0</td>\n",
       "      <td>5</td>\n",
       "      <td>0</td>\n",
       "      <td>1950.0</td>\n",
       "      <td>1</td>\n",
       "      <td>240</td>\n",
       "      <td>366</td>\n",
       "      <td>0</td>\n",
       "      <td>142125</td>\n",
       "    </tr>\n",
       "    <tr>\n",
       "      <th>1459</th>\n",
       "      <td>75.0</td>\n",
       "      <td>9937</td>\n",
       "      <td>5</td>\n",
       "      <td>1965</td>\n",
       "      <td>1965</td>\n",
       "      <td>0.0</td>\n",
       "      <td>830</td>\n",
       "      <td>136</td>\n",
       "      <td>1256</td>\n",
       "      <td>1256</td>\n",
       "      <td>...</td>\n",
       "      <td>1</td>\n",
       "      <td>1</td>\n",
       "      <td>6</td>\n",
       "      <td>0</td>\n",
       "      <td>1965.0</td>\n",
       "      <td>1</td>\n",
       "      <td>276</td>\n",
       "      <td>736</td>\n",
       "      <td>68</td>\n",
       "      <td>147500</td>\n",
       "    </tr>\n",
       "  </tbody>\n",
       "</table>\n",
       "<p>1460 rows × 23 columns</p>\n",
       "</div>"
      ],
      "text/plain": [
       "      LotFrontage  LotArea  OverallQual  YearBuilt  YearRemodAdd  MasVnrArea  \\\n",
       "0            65.0     8450            7       2003          2003       196.0   \n",
       "1            80.0     9600            6       1976          1976         0.0   \n",
       "2            68.0    11250            7       2001          2002       162.0   \n",
       "3            60.0     9550            7       1915          1970         0.0   \n",
       "4            84.0    14260            8       2000          2000       350.0   \n",
       "...           ...      ...          ...        ...           ...         ...   \n",
       "1455         62.0     7917            6       1999          2000         0.0   \n",
       "1456         85.0    13175            6       1978          1988       119.0   \n",
       "1457         66.0     9042            7       1941          2006         0.0   \n",
       "1458         68.0     9717            5       1950          1996         0.0   \n",
       "1459         75.0     9937            5       1965          1965         0.0   \n",
       "\n",
       "      BsmtFinSF1  BsmtUnfSF  TotalBsmtSF  1stFlrSF  ...  FullBath  HalfBath  \\\n",
       "0            706        150          856       856  ...         2         1   \n",
       "1            978        284         1262      1262  ...         2         0   \n",
       "2            486        434          920       920  ...         2         1   \n",
       "3            216        540          756       961  ...         1         0   \n",
       "4            655        490         1145      1145  ...         2         1   \n",
       "...          ...        ...          ...       ...  ...       ...       ...   \n",
       "1455           0        953          953       953  ...         2         1   \n",
       "1456         790        589         1542      2073  ...         2         0   \n",
       "1457         275        877         1152      1188  ...         2         0   \n",
       "1458          49          0         1078      1078  ...         1         0   \n",
       "1459         830        136         1256      1256  ...         1         1   \n",
       "\n",
       "      TotRmsAbvGrd  Fireplaces  GarageYrBlt  GarageCars  GarageArea  \\\n",
       "0                8           0       2003.0           2         548   \n",
       "1                6           1       1976.0           2         460   \n",
       "2                6           1       2001.0           2         608   \n",
       "3                7           1       1998.0           3         642   \n",
       "4                9           1       2000.0           3         836   \n",
       "...            ...         ...          ...         ...         ...   \n",
       "1455             7           1       1999.0           2         460   \n",
       "1456             7           2       1978.0           2         500   \n",
       "1457             9           2       1941.0           1         252   \n",
       "1458             5           0       1950.0           1         240   \n",
       "1459             6           0       1965.0           1         276   \n",
       "\n",
       "      WoodDeckSF  OpenPorchSF  SalePrice  \n",
       "0              0           61     208500  \n",
       "1            298            0     181500  \n",
       "2              0           42     223500  \n",
       "3              0           35     140000  \n",
       "4            192           84     250000  \n",
       "...          ...          ...        ...  \n",
       "1455           0           40     175000  \n",
       "1456         349            0     210000  \n",
       "1457           0           60     266500  \n",
       "1458         366            0     142125  \n",
       "1459         736           68     147500  \n",
       "\n",
       "[1460 rows x 23 columns]"
      ]
     },
     "execution_count": 20,
     "metadata": {},
     "output_type": "execute_result"
    }
   ],
   "source": [
    "train_df"
   ]
  },
  {
   "cell_type": "code",
   "execution_count": 21,
   "id": "557d7fb0",
   "metadata": {
    "execution": {
     "iopub.execute_input": "2022-01-07T22:55:35.851198Z",
     "iopub.status.busy": "2022-01-07T22:55:35.850610Z",
     "iopub.status.idle": "2022-01-07T22:55:36.075597Z",
     "shell.execute_reply": "2022-01-07T22:55:36.076025Z",
     "shell.execute_reply.started": "2022-01-07T22:13:11.111949Z"
    },
    "papermill": {
     "duration": 0.266364,
     "end_time": "2022-01-07T22:55:36.076175",
     "exception": false,
     "start_time": "2022-01-07T22:55:35.809811",
     "status": "completed"
    },
    "tags": []
   },
   "outputs": [
    {
     "data": {
      "text/plain": [
       "<AxesSubplot:ylabel='Frequency'>"
      ]
     },
     "execution_count": 21,
     "metadata": {},
     "output_type": "execute_result"
    },
    {
     "data": {
      "image/png": "[encoded data removed]",
      "text/plain": [
       "<Figure size 432x288 with 1 Axes>"
      ]
     },
     "metadata": {
      "needs_background": "light"
     },
     "output_type": "display_data"
    }
   ],
   "source": [
    "train_df[\"YearRemodAdd\"].plot.hist()"
   ]
  },
  {
   "cell_type": "code",
   "execution_count": 22,
   "id": "19854d95",
   "metadata": {
    "execution": {
     "iopub.execute_input": "2022-01-07T22:55:36.156961Z",
     "iopub.status.busy": "2022-01-07T22:55:36.156407Z",
     "iopub.status.idle": "2022-01-07T22:55:36.161805Z",
     "shell.execute_reply": "2022-01-07T22:55:36.162362Z",
     "shell.execute_reply.started": "2022-01-07T22:13:11.346773Z"
    },
    "papermill": {
     "duration": 0.047514,
     "end_time": "2022-01-07T22:55:36.162526",
     "exception": false,
     "start_time": "2022-01-07T22:55:36.115012",
     "status": "completed"
    },
    "tags": []
   },
   "outputs": [
    {
     "data": {
      "text/plain": [
       "(761, 23)"
      ]
     },
     "execution_count": 22,
     "metadata": {},
     "output_type": "execute_result"
    }
   ],
   "source": [
    "train_df[train_df[\"WoodDeckSF\"] == 0].shape # removing the WoodDeckSF since 761 records have value = 0"
   ]
  },
  {
   "cell_type": "code",
   "execution_count": 23,
   "id": "e8117657",
   "metadata": {
    "execution": {
     "iopub.execute_input": "2022-01-07T22:55:36.243354Z",
     "iopub.status.busy": "2022-01-07T22:55:36.242732Z",
     "iopub.status.idle": "2022-01-07T22:55:36.248683Z",
     "shell.execute_reply": "2022-01-07T22:55:36.249234Z",
     "shell.execute_reply.started": "2022-01-07T22:13:11.359879Z"
    },
    "papermill": {
     "duration": 0.048272,
     "end_time": "2022-01-07T22:55:36.249392",
     "exception": false,
     "start_time": "2022-01-07T22:55:36.201120",
     "status": "completed"
    },
    "tags": []
   },
   "outputs": [
    {
     "data": {
      "text/plain": [
       "(656, 23)"
      ]
     },
     "execution_count": 23,
     "metadata": {},
     "output_type": "execute_result"
    }
   ],
   "source": [
    "train_df[train_df[\"OpenPorchSF\"] == 0].shape # removing the OpenPorchSF since 761 records have value = 0"
   ]
  },
  {
   "cell_type": "code",
   "execution_count": 24,
   "id": "49ce5ab1",
   "metadata": {
    "execution": {
     "iopub.execute_input": "2022-01-07T22:55:36.333332Z",
     "iopub.status.busy": "2022-01-07T22:55:36.332726Z",
     "iopub.status.idle": "2022-01-07T22:55:36.342911Z",
     "shell.execute_reply": "2022-01-07T22:55:36.343381Z",
     "shell.execute_reply.started": "2022-01-07T22:13:11.370609Z"
    },
    "papermill": {
     "duration": 0.053661,
     "end_time": "2022-01-07T22:55:36.343563",
     "exception": false,
     "start_time": "2022-01-07T22:55:36.289902",
     "status": "completed"
    },
    "tags": []
   },
   "outputs": [
    {
     "data": {
      "text/html": [
       "<div>\n",
       "<style scoped>\n",
       "    .dataframe tbody tr th:only-of-type {\n",
       "        vertical-align: middle;\n",
       "    }\n",
       "\n",
       "    .dataframe tbody tr th {\n",
       "        vertical-align: top;\n",
       "    }\n",
       "\n",
       "    .dataframe thead th {\n",
       "        text-align: right;\n",
       "    }\n",
       "</style>\n",
       "<table border=\"1\" class=\"dataframe\">\n",
       "  <thead>\n",
       "    <tr style=\"text-align: right;\">\n",
       "      <th></th>\n",
       "      <th>GarageArea</th>\n",
       "      <th>GarageCars</th>\n",
       "    </tr>\n",
       "  </thead>\n",
       "  <tbody>\n",
       "    <tr>\n",
       "      <th>GarageArea</th>\n",
       "      <td>1.000000</td>\n",
       "      <td>0.882475</td>\n",
       "    </tr>\n",
       "    <tr>\n",
       "      <th>GarageCars</th>\n",
       "      <td>0.882475</td>\n",
       "      <td>1.000000</td>\n",
       "    </tr>\n",
       "  </tbody>\n",
       "</table>\n",
       "</div>"
      ],
      "text/plain": [
       "            GarageArea  GarageCars\n",
       "GarageArea    1.000000    0.882475\n",
       "GarageCars    0.882475    1.000000"
      ]
     },
     "execution_count": 24,
     "metadata": {},
     "output_type": "execute_result"
    }
   ],
   "source": [
    "train_df.loc[:, [\"GarageArea\", \"GarageCars\"]].corr()\n",
    "# Looks like GarageArea and GarageCars are highly correlated \n",
    "# so lets use only GarageCars and drop the GarageArea column\n"
   ]
  },
  {
   "cell_type": "code",
   "execution_count": 25,
   "id": "aa5118de",
   "metadata": {
    "execution": {
     "iopub.execute_input": "2022-01-07T22:55:36.428746Z",
     "iopub.status.busy": "2022-01-07T22:55:36.427824Z",
     "iopub.status.idle": "2022-01-07T22:55:36.436583Z",
     "shell.execute_reply": "2022-01-07T22:55:36.437045Z",
     "shell.execute_reply.started": "2022-01-07T22:13:11.387557Z"
    },
    "papermill": {
     "duration": 0.053009,
     "end_time": "2022-01-07T22:55:36.437198",
     "exception": false,
     "start_time": "2022-01-07T22:55:36.384189",
     "status": "completed"
    },
    "tags": []
   },
   "outputs": [
    {
     "data": {
      "text/html": [
       "<div>\n",
       "<style scoped>\n",
       "    .dataframe tbody tr th:only-of-type {\n",
       "        vertical-align: middle;\n",
       "    }\n",
       "\n",
       "    .dataframe tbody tr th {\n",
       "        vertical-align: top;\n",
       "    }\n",
       "\n",
       "    .dataframe thead th {\n",
       "        text-align: right;\n",
       "    }\n",
       "</style>\n",
       "<table border=\"1\" class=\"dataframe\">\n",
       "  <thead>\n",
       "    <tr style=\"text-align: right;\">\n",
       "      <th></th>\n",
       "      <th>BsmtFinSF1</th>\n",
       "      <th>BsmtUnfSF</th>\n",
       "      <th>TotalBsmtSF</th>\n",
       "    </tr>\n",
       "  </thead>\n",
       "  <tbody>\n",
       "    <tr>\n",
       "      <th>0</th>\n",
       "      <td>706</td>\n",
       "      <td>150</td>\n",
       "      <td>856</td>\n",
       "    </tr>\n",
       "    <tr>\n",
       "      <th>1</th>\n",
       "      <td>978</td>\n",
       "      <td>284</td>\n",
       "      <td>1262</td>\n",
       "    </tr>\n",
       "    <tr>\n",
       "      <th>2</th>\n",
       "      <td>486</td>\n",
       "      <td>434</td>\n",
       "      <td>920</td>\n",
       "    </tr>\n",
       "    <tr>\n",
       "      <th>3</th>\n",
       "      <td>216</td>\n",
       "      <td>540</td>\n",
       "      <td>756</td>\n",
       "    </tr>\n",
       "  </tbody>\n",
       "</table>\n",
       "</div>"
      ],
      "text/plain": [
       "   BsmtFinSF1  BsmtUnfSF  TotalBsmtSF\n",
       "0         706        150          856\n",
       "1         978        284         1262\n",
       "2         486        434          920\n",
       "3         216        540          756"
      ]
     },
     "execution_count": 25,
     "metadata": {},
     "output_type": "execute_result"
    }
   ],
   "source": [
    "train_df.loc[:, [\"BsmtFinSF1\", \"BsmtUnfSF\", \"TotalBsmtSF\"]].head(4)\n",
    "# lets just use the TotalBsmtSF as its a summation of Finished + Unfinished sq ft\n",
    "# need to drop BsmtFinSF1 and BsmtUnfSF"
   ]
  },
  {
   "cell_type": "code",
   "execution_count": 26,
   "id": "063e6480",
   "metadata": {
    "execution": {
     "iopub.execute_input": "2022-01-07T22:55:36.522623Z",
     "iopub.status.busy": "2022-01-07T22:55:36.521617Z",
     "iopub.status.idle": "2022-01-07T22:55:36.527577Z",
     "shell.execute_reply": "2022-01-07T22:55:36.528113Z",
     "shell.execute_reply.started": "2022-01-07T22:13:11.401622Z"
    },
    "papermill": {
     "duration": 0.050809,
     "end_time": "2022-01-07T22:55:36.528271",
     "exception": false,
     "start_time": "2022-01-07T22:55:36.477462",
     "status": "completed"
    },
    "tags": []
   },
   "outputs": [],
   "source": [
    "# drop MasVnrArea, YearBuilt, LotFrontage and GarageYrBlt\n",
    "train_final_df = train_df.copy()\n",
    "# train_df.drop(columns = [\"1stFlrSF\", \"2ndFlrSF\", \"TotalBsmtSF\"])\n",
    "# dropping TotalBsmtSF since its value is same as the 1stFlrSF\n",
    "cols_to_drop = [\"BsmtFinSF1\", \"BsmtUnfSF\", \"GarageArea\", \"OpenPorchSF\", \"WoodDeckSF\", \"MasVnrArea\", \"GarageYrBlt\", \"LotFrontage\", \"YearBuilt\", \"1stFlrSF\", \"2ndFlrSF\", \"TotalBsmtSF\"]\n",
    "train_final_df = train_final_df.drop(columns = cols_to_drop)\n"
   ]
  },
  {
   "cell_type": "code",
   "execution_count": 27,
   "id": "159623f6",
   "metadata": {
    "execution": {
     "iopub.execute_input": "2022-01-07T22:55:36.614096Z",
     "iopub.status.busy": "2022-01-07T22:55:36.613467Z",
     "iopub.status.idle": "2022-01-07T22:55:36.623613Z",
     "shell.execute_reply": "2022-01-07T22:55:36.624169Z",
     "shell.execute_reply.started": "2022-01-07T22:13:11.412002Z"
    },
    "papermill": {
     "duration": 0.05475,
     "end_time": "2022-01-07T22:55:36.624366",
     "exception": false,
     "start_time": "2022-01-07T22:55:36.569616",
     "status": "completed"
    },
    "tags": []
   },
   "outputs": [
    {
     "data": {
      "text/html": [
       "<div>\n",
       "<style scoped>\n",
       "    .dataframe tbody tr th:only-of-type {\n",
       "        vertical-align: middle;\n",
       "    }\n",
       "\n",
       "    .dataframe tbody tr th {\n",
       "        vertical-align: top;\n",
       "    }\n",
       "\n",
       "    .dataframe thead th {\n",
       "        text-align: right;\n",
       "    }\n",
       "</style>\n",
       "<table border=\"1\" class=\"dataframe\">\n",
       "  <thead>\n",
       "    <tr style=\"text-align: right;\">\n",
       "      <th></th>\n",
       "      <th>LotArea</th>\n",
       "      <th>OverallQual</th>\n",
       "      <th>YearRemodAdd</th>\n",
       "      <th>GrLivArea</th>\n",
       "      <th>BsmtFullBath</th>\n",
       "      <th>FullBath</th>\n",
       "      <th>HalfBath</th>\n",
       "      <th>TotRmsAbvGrd</th>\n",
       "      <th>Fireplaces</th>\n",
       "      <th>GarageCars</th>\n",
       "      <th>SalePrice</th>\n",
       "    </tr>\n",
       "  </thead>\n",
       "  <tbody>\n",
       "    <tr>\n",
       "      <th>0</th>\n",
       "      <td>8450</td>\n",
       "      <td>7</td>\n",
       "      <td>2003</td>\n",
       "      <td>1710</td>\n",
       "      <td>1</td>\n",
       "      <td>2</td>\n",
       "      <td>1</td>\n",
       "      <td>8</td>\n",
       "      <td>0</td>\n",
       "      <td>2</td>\n",
       "      <td>208500</td>\n",
       "    </tr>\n",
       "    <tr>\n",
       "      <th>1</th>\n",
       "      <td>9600</td>\n",
       "      <td>6</td>\n",
       "      <td>1976</td>\n",
       "      <td>1262</td>\n",
       "      <td>0</td>\n",
       "      <td>2</td>\n",
       "      <td>0</td>\n",
       "      <td>6</td>\n",
       "      <td>1</td>\n",
       "      <td>2</td>\n",
       "      <td>181500</td>\n",
       "    </tr>\n",
       "    <tr>\n",
       "      <th>2</th>\n",
       "      <td>11250</td>\n",
       "      <td>7</td>\n",
       "      <td>2002</td>\n",
       "      <td>1786</td>\n",
       "      <td>1</td>\n",
       "      <td>2</td>\n",
       "      <td>1</td>\n",
       "      <td>6</td>\n",
       "      <td>1</td>\n",
       "      <td>2</td>\n",
       "      <td>223500</td>\n",
       "    </tr>\n",
       "    <tr>\n",
       "      <th>3</th>\n",
       "      <td>9550</td>\n",
       "      <td>7</td>\n",
       "      <td>1970</td>\n",
       "      <td>1717</td>\n",
       "      <td>1</td>\n",
       "      <td>1</td>\n",
       "      <td>0</td>\n",
       "      <td>7</td>\n",
       "      <td>1</td>\n",
       "      <td>3</td>\n",
       "      <td>140000</td>\n",
       "    </tr>\n",
       "    <tr>\n",
       "      <th>4</th>\n",
       "      <td>14260</td>\n",
       "      <td>8</td>\n",
       "      <td>2000</td>\n",
       "      <td>2198</td>\n",
       "      <td>1</td>\n",
       "      <td>2</td>\n",
       "      <td>1</td>\n",
       "      <td>9</td>\n",
       "      <td>1</td>\n",
       "      <td>3</td>\n",
       "      <td>250000</td>\n",
       "    </tr>\n",
       "  </tbody>\n",
       "</table>\n",
       "</div>"
      ],
      "text/plain": [
       "   LotArea  OverallQual  YearRemodAdd  GrLivArea  BsmtFullBath  FullBath  \\\n",
       "0     8450            7          2003       1710             1         2   \n",
       "1     9600            6          1976       1262             0         2   \n",
       "2    11250            7          2002       1786             1         2   \n",
       "3     9550            7          1970       1717             1         1   \n",
       "4    14260            8          2000       2198             1         2   \n",
       "\n",
       "   HalfBath  TotRmsAbvGrd  Fireplaces  GarageCars  SalePrice  \n",
       "0         1             8           0           2     208500  \n",
       "1         0             6           1           2     181500  \n",
       "2         1             6           1           2     223500  \n",
       "3         0             7           1           3     140000  \n",
       "4         1             9           1           3     250000  "
      ]
     },
     "execution_count": 27,
     "metadata": {},
     "output_type": "execute_result"
    }
   ],
   "source": [
    "train_final_df.head(5)"
   ]
  },
  {
   "cell_type": "code",
   "execution_count": 28,
   "id": "3be6850a",
   "metadata": {
    "execution": {
     "iopub.execute_input": "2022-01-07T22:55:36.709983Z",
     "iopub.status.busy": "2022-01-07T22:55:36.709455Z",
     "iopub.status.idle": "2022-01-07T22:55:36.892282Z",
     "shell.execute_reply": "2022-01-07T22:55:36.891786Z",
     "shell.execute_reply.started": "2022-01-07T22:13:11.432001Z"
    },
    "papermill": {
     "duration": 0.226538,
     "end_time": "2022-01-07T22:55:36.892414",
     "exception": false,
     "start_time": "2022-01-07T22:55:36.665876",
     "status": "completed"
    },
    "tags": []
   },
   "outputs": [
    {
     "data": {
      "text/plain": [
       "<AxesSubplot:ylabel='Frequency'>"
      ]
     },
     "execution_count": 28,
     "metadata": {},
     "output_type": "execute_result"
    },
    {
     "data": {
      "image/png": "[encoded data removed]",
      "text/plain": [
       "<Figure size 432x288 with 1 Axes>"
      ]
     },
     "metadata": {
      "needs_background": "light"
     },
     "output_type": "display_data"
    }
   ],
   "source": [
    "train_final_df[\"YearRemodAdd\"].plot.hist()"
   ]
  },
  {
   "cell_type": "code",
   "execution_count": 29,
   "id": "76cebd0e",
   "metadata": {
    "execution": {
     "iopub.execute_input": "2022-01-07T22:55:36.984067Z",
     "iopub.status.busy": "2022-01-07T22:55:36.982590Z",
     "iopub.status.idle": "2022-01-07T22:55:36.989370Z",
     "shell.execute_reply": "2022-01-07T22:55:36.990494Z",
     "shell.execute_reply.started": "2022-01-07T22:13:11.676016Z"
    },
    "papermill": {
     "duration": 0.056102,
     "end_time": "2022-01-07T22:55:36.990703",
     "exception": false,
     "start_time": "2022-01-07T22:55:36.934601",
     "status": "completed"
    },
    "tags": []
   },
   "outputs": [],
   "source": [
    "# map the YearRemodAdd to numerical values\n",
    "# since more recent the remod year better it is, we will map the histogram bins and assign them numbers\n",
    "def map_year_remod(year):\n",
    "    if year >= 1950 and year < 1960:\n",
    "        return 1\n",
    "    elif year >= 1960 and year < 1970:\n",
    "        return 2\n",
    "    elif year >= 1970 and year < 1980:\n",
    "        return 3\n",
    "    elif year >= 1980 and year < 1990:\n",
    "        return 4\n",
    "    elif year >= 1990 and year < 2000:\n",
    "        return 5\n",
    "    else:\n",
    "        return 6"
   ]
  },
  {
   "cell_type": "code",
   "execution_count": 30,
   "id": "8584645d",
   "metadata": {
    "execution": {
     "iopub.execute_input": "2022-01-07T22:55:37.080966Z",
     "iopub.status.busy": "2022-01-07T22:55:37.080040Z",
     "iopub.status.idle": "2022-01-07T22:55:37.087267Z",
     "shell.execute_reply": "2022-01-07T22:55:37.087743Z",
     "shell.execute_reply.started": "2022-01-07T22:13:11.683748Z"
    },
    "papermill": {
     "duration": 0.054019,
     "end_time": "2022-01-07T22:55:37.087909",
     "exception": false,
     "start_time": "2022-01-07T22:55:37.033890",
     "status": "completed"
    },
    "tags": []
   },
   "outputs": [],
   "source": [
    "train_final_df[\"remod_year_mapped\"] = train_final_df['YearRemodAdd'].apply(map_year_remod)\n",
    "train_final_df = train_final_df.drop(columns = [\"YearRemodAdd\"])"
   ]
  },
  {
   "cell_type": "code",
   "execution_count": 31,
   "id": "2d1d608c",
   "metadata": {
    "execution": {
     "iopub.execute_input": "2022-01-07T22:55:37.173332Z",
     "iopub.status.busy": "2022-01-07T22:55:37.172713Z",
     "iopub.status.idle": "2022-01-07T22:55:37.183311Z",
     "shell.execute_reply": "2022-01-07T22:55:37.183898Z",
     "shell.execute_reply.started": "2022-01-07T22:13:11.697382Z"
    },
    "papermill": {
     "duration": 0.054393,
     "end_time": "2022-01-07T22:55:37.184049",
     "exception": false,
     "start_time": "2022-01-07T22:55:37.129656",
     "status": "completed"
    },
    "tags": []
   },
   "outputs": [
    {
     "data": {
      "text/html": [
       "<div>\n",
       "<style scoped>\n",
       "    .dataframe tbody tr th:only-of-type {\n",
       "        vertical-align: middle;\n",
       "    }\n",
       "\n",
       "    .dataframe tbody tr th {\n",
       "        vertical-align: top;\n",
       "    }\n",
       "\n",
       "    .dataframe thead th {\n",
       "        text-align: right;\n",
       "    }\n",
       "</style>\n",
       "<table border=\"1\" class=\"dataframe\">\n",
       "  <thead>\n",
       "    <tr style=\"text-align: right;\">\n",
       "      <th></th>\n",
       "      <th>LotArea</th>\n",
       "      <th>OverallQual</th>\n",
       "      <th>GrLivArea</th>\n",
       "      <th>BsmtFullBath</th>\n",
       "      <th>FullBath</th>\n",
       "      <th>HalfBath</th>\n",
       "      <th>TotRmsAbvGrd</th>\n",
       "      <th>Fireplaces</th>\n",
       "      <th>GarageCars</th>\n",
       "      <th>SalePrice</th>\n",
       "      <th>remod_year_mapped</th>\n",
       "    </tr>\n",
       "  </thead>\n",
       "  <tbody>\n",
       "    <tr>\n",
       "      <th>0</th>\n",
       "      <td>8450</td>\n",
       "      <td>7</td>\n",
       "      <td>1710</td>\n",
       "      <td>1</td>\n",
       "      <td>2</td>\n",
       "      <td>1</td>\n",
       "      <td>8</td>\n",
       "      <td>0</td>\n",
       "      <td>2</td>\n",
       "      <td>208500</td>\n",
       "      <td>6</td>\n",
       "    </tr>\n",
       "    <tr>\n",
       "      <th>1</th>\n",
       "      <td>9600</td>\n",
       "      <td>6</td>\n",
       "      <td>1262</td>\n",
       "      <td>0</td>\n",
       "      <td>2</td>\n",
       "      <td>0</td>\n",
       "      <td>6</td>\n",
       "      <td>1</td>\n",
       "      <td>2</td>\n",
       "      <td>181500</td>\n",
       "      <td>3</td>\n",
       "    </tr>\n",
       "    <tr>\n",
       "      <th>2</th>\n",
       "      <td>11250</td>\n",
       "      <td>7</td>\n",
       "      <td>1786</td>\n",
       "      <td>1</td>\n",
       "      <td>2</td>\n",
       "      <td>1</td>\n",
       "      <td>6</td>\n",
       "      <td>1</td>\n",
       "      <td>2</td>\n",
       "      <td>223500</td>\n",
       "      <td>6</td>\n",
       "    </tr>\n",
       "    <tr>\n",
       "      <th>3</th>\n",
       "      <td>9550</td>\n",
       "      <td>7</td>\n",
       "      <td>1717</td>\n",
       "      <td>1</td>\n",
       "      <td>1</td>\n",
       "      <td>0</td>\n",
       "      <td>7</td>\n",
       "      <td>1</td>\n",
       "      <td>3</td>\n",
       "      <td>140000</td>\n",
       "      <td>3</td>\n",
       "    </tr>\n",
       "    <tr>\n",
       "      <th>4</th>\n",
       "      <td>14260</td>\n",
       "      <td>8</td>\n",
       "      <td>2198</td>\n",
       "      <td>1</td>\n",
       "      <td>2</td>\n",
       "      <td>1</td>\n",
       "      <td>9</td>\n",
       "      <td>1</td>\n",
       "      <td>3</td>\n",
       "      <td>250000</td>\n",
       "      <td>6</td>\n",
       "    </tr>\n",
       "  </tbody>\n",
       "</table>\n",
       "</div>"
      ],
      "text/plain": [
       "   LotArea  OverallQual  GrLivArea  BsmtFullBath  FullBath  HalfBath  \\\n",
       "0     8450            7       1710             1         2         1   \n",
       "1     9600            6       1262             0         2         0   \n",
       "2    11250            7       1786             1         2         1   \n",
       "3     9550            7       1717             1         1         0   \n",
       "4    14260            8       2198             1         2         1   \n",
       "\n",
       "   TotRmsAbvGrd  Fireplaces  GarageCars  SalePrice  remod_year_mapped  \n",
       "0             8           0           2     208500                  6  \n",
       "1             6           1           2     181500                  3  \n",
       "2             6           1           2     223500                  6  \n",
       "3             7           1           3     140000                  3  \n",
       "4             9           1           3     250000                  6  "
      ]
     },
     "execution_count": 31,
     "metadata": {},
     "output_type": "execute_result"
    }
   ],
   "source": [
    "train_final_df.head(5)"
   ]
  },
  {
   "cell_type": "code",
   "execution_count": 32,
   "id": "7d2df7f8",
   "metadata": {
    "execution": {
     "iopub.execute_input": "2022-01-07T22:55:37.269605Z",
     "iopub.status.busy": "2022-01-07T22:55:37.268996Z",
     "iopub.status.idle": "2022-01-07T22:55:42.723068Z",
     "shell.execute_reply": "2022-01-07T22:55:42.724046Z",
     "shell.execute_reply.started": "2022-01-07T22:13:11.715024Z"
    },
    "papermill": {
     "duration": 5.49939,
     "end_time": "2022-01-07T22:55:42.724353",
     "exception": false,
     "start_time": "2022-01-07T22:55:37.224963",
     "status": "completed"
    },
    "tags": []
   },
   "outputs": [
    {
     "name": "stdout",
     "output_type": "stream",
     "text": [
      "-37623.66474782881\n",
      "-41263.7230042281\n",
      "-32673.05122683464\n"
     ]
    }
   ],
   "source": [
    "features = [\"LotArea\", \"OverallQual\", \"GrLivArea\", \"BsmtFullBath\", \"FullBath\", \"HalfBath\", \"TotRmsAbvGrd\", \"Fireplaces\", \"GarageCars\", \"remod_year_mapped\"]\n",
    "target = \"SalePrice\"\n",
    "\n",
    "models = [LinearRegression(), DecisionTreeRegressor(), RandomForestRegressor()]\n",
    "for m in models:\n",
    "    rmse = perform_cross_validation(m, features, target, train_final_df)\n",
    "    print(rmse)"
   ]
  },
  {
   "cell_type": "code",
   "execution_count": 33,
   "id": "742f29d9",
   "metadata": {
    "execution": {
     "iopub.execute_input": "2022-01-07T22:55:42.817594Z",
     "iopub.status.busy": "2022-01-07T22:55:42.816611Z",
     "iopub.status.idle": "2022-01-07T22:55:43.434659Z",
     "shell.execute_reply": "2022-01-07T22:55:43.434118Z",
     "shell.execute_reply.started": "2022-01-07T22:13:16.901587Z"
    },
    "papermill": {
     "duration": 0.664971,
     "end_time": "2022-01-07T22:55:43.434809",
     "exception": false,
     "start_time": "2022-01-07T22:55:42.769838",
     "status": "completed"
    },
    "tags": []
   },
   "outputs": [],
   "source": [
    "# Looks like RandomForestRegressor has the lowest error.\n",
    "# Let us try to fit and make the predictions\n",
    "test_df[\"remod_year_mapped\"] = test_df['YearRemodAdd'].apply(map_year_remod)\n",
    "test_df[\"BsmtFullBath\"] = test_df[\"BsmtFullBath\"].fillna(test_df[\"BsmtFullBath\"].mode()[0])\n",
    "test_df[\"GarageCars\"] = test_df[\"GarageCars\"].fillna(test_df[\"GarageCars\"].mode()[0])\n",
    "\n",
    "model = RandomForestRegressor(random_state = 1)\n",
    "model.fit(train_final_df[features], train_final_df[target])\n",
    "predictions = model.predict(test_df[features])"
   ]
  },
  {
   "cell_type": "code",
   "execution_count": 34,
   "id": "e4f700c4",
   "metadata": {
    "execution": {
     "iopub.execute_input": "2022-01-07T22:55:43.527133Z",
     "iopub.status.busy": "2022-01-07T22:55:43.526522Z",
     "iopub.status.idle": "2022-01-07T22:55:43.529309Z",
     "shell.execute_reply": "2022-01-07T22:55:43.529904Z",
     "shell.execute_reply.started": "2022-01-07T22:13:17.420964Z"
    },
    "papermill": {
     "duration": 0.050335,
     "end_time": "2022-01-07T22:55:43.530056",
     "exception": false,
     "start_time": "2022-01-07T22:55:43.479721",
     "status": "completed"
    },
    "tags": []
   },
   "outputs": [],
   "source": [
    "# ids = test_df[\"Id\"]\n",
    "# submission = pd.DataFrame(\n",
    "#     {\n",
    "#         \"Id\": ids,\n",
    "#         \"SalePrice\": predictions\n",
    "#     }\n",
    "# )\n",
    "\n",
    "# submission.to_csv(\"submission.csv\", index=False)"
   ]
  },
  {
   "cell_type": "code",
   "execution_count": 35,
   "id": "adcc7784",
   "metadata": {
    "execution": {
     "iopub.execute_input": "2022-01-07T22:55:43.621498Z",
     "iopub.status.busy": "2022-01-07T22:55:43.620866Z",
     "iopub.status.idle": "2022-01-07T22:55:43.624358Z",
     "shell.execute_reply": "2022-01-07T22:55:43.624929Z",
     "shell.execute_reply.started": "2022-01-07T22:40:55.991245Z"
    },
    "papermill": {
     "duration": 0.050397,
     "end_time": "2022-01-07T22:55:43.625079",
     "exception": false,
     "start_time": "2022-01-07T22:55:43.574682",
     "status": "completed"
    },
    "tags": []
   },
   "outputs": [],
   "source": [
    "# # score of 0.16504 (not too shabby!)\n",
    "# # lets try hyper parameter optimization using GridSearchCV\n",
    "# from sklearn.model_selection import GridSearchCV\n",
    "\n",
    "# rfRegressor = \\\n",
    "# {\n",
    "#     \"name\": \"RandomForestRegressor\",\n",
    "#     \"estimator\": RandomForestRegressor(random_state=1),\n",
    "#     \"hyperparameters\":\n",
    "#         {\n",
    "#             \"n_estimators\": [100],\n",
    "#             \"criterion\": [\"mae\"],\n",
    "#             \"max_depth\": [10],\n",
    "#             #\"max_features\": [\"log2\", \"sqrt\"],\n",
    "#             \"min_samples_leaf\": [3, 6, 9, 12],\n",
    "#             \"min_samples_split\": [3, 6, 9, 12]\n",
    "\n",
    "#         }\n",
    "# }\n",
    "# grid = GridSearchCV(rfRegressor[\"estimator\"],\n",
    "#                             param_grid=rfRegressor[\"hyperparameters\"],\n",
    "#                             cv=10)\n",
    "# grid.fit(train_final_df[features],train_final_df[target])\n",
    "\n",
    "# print(\"Best Score: {}\".format(grid.best_score_))\n",
    "# print(\"Best Parameters: {}\\n\".format(grid.best_params_))\n",
    "\n",
    "# final_model = grid.best_estimator_"
   ]
  },
  {
   "cell_type": "code",
   "execution_count": 36,
   "id": "c273448c",
   "metadata": {
    "execution": {
     "iopub.execute_input": "2022-01-07T22:55:43.717066Z",
     "iopub.status.busy": "2022-01-07T22:55:43.716484Z",
     "iopub.status.idle": "2022-01-07T22:55:43.727535Z",
     "shell.execute_reply": "2022-01-07T22:55:43.728076Z",
     "shell.execute_reply.started": "2022-01-07T22:53:21.701390Z"
    },
    "papermill": {
     "duration": 0.059091,
     "end_time": "2022-01-07T22:55:43.728242",
     "exception": false,
     "start_time": "2022-01-07T22:55:43.669151",
     "status": "completed"
    },
    "tags": []
   },
   "outputs": [
    {
     "name": "stdout",
     "output_type": "stream",
     "text": [
      "<class 'pandas.core.frame.DataFrame'>\n",
      "RangeIndex: 1460 entries, 0 to 1459\n",
      "Data columns (total 10 columns):\n",
      " #   Column             Non-Null Count  Dtype\n",
      "---  ------             --------------  -----\n",
      " 0   LotArea            1460 non-null   int64\n",
      " 1   OverallQual        1460 non-null   int64\n",
      " 2   GrLivArea          1460 non-null   int64\n",
      " 3   BsmtFullBath       1460 non-null   int64\n",
      " 4   FullBath           1460 non-null   int64\n",
      " 5   HalfBath           1460 non-null   int64\n",
      " 6   TotRmsAbvGrd       1460 non-null   int64\n",
      " 7   Fireplaces         1460 non-null   int64\n",
      " 8   GarageCars         1460 non-null   int64\n",
      " 9   remod_year_mapped  1460 non-null   int64\n",
      "dtypes: int64(10)\n",
      "memory usage: 114.2 KB\n"
     ]
    }
   ],
   "source": [
    "train_final_df[features].info()"
   ]
  },
  {
   "cell_type": "code",
   "execution_count": 37,
   "id": "58c2a2d7",
   "metadata": {
    "execution": {
     "iopub.execute_input": "2022-01-07T22:55:43.832212Z",
     "iopub.status.busy": "2022-01-07T22:55:43.831619Z",
     "iopub.status.idle": "2022-01-07T22:55:43.835411Z",
     "shell.execute_reply": "2022-01-07T22:55:43.836070Z",
     "shell.execute_reply.started": "2022-01-07T22:53:32.797266Z"
    },
    "papermill": {
     "duration": 0.063026,
     "end_time": "2022-01-07T22:55:43.836287",
     "exception": false,
     "start_time": "2022-01-07T22:55:43.773261",
     "status": "completed"
    },
    "tags": []
   },
   "outputs": [
    {
     "name": "stdout",
     "output_type": "stream",
     "text": [
      "<class 'pandas.core.frame.DataFrame'>\n",
      "RangeIndex: 1459 entries, 0 to 1458\n",
      "Data columns (total 10 columns):\n",
      " #   Column             Non-Null Count  Dtype  \n",
      "---  ------             --------------  -----  \n",
      " 0   LotArea            1459 non-null   int64  \n",
      " 1   OverallQual        1459 non-null   int64  \n",
      " 2   GrLivArea          1459 non-null   int64  \n",
      " 3   BsmtFullBath       1459 non-null   float64\n",
      " 4   FullBath           1459 non-null   int64  \n",
      " 5   HalfBath           1459 non-null   int64  \n",
      " 6   TotRmsAbvGrd       1459 non-null   int64  \n",
      " 7   Fireplaces         1459 non-null   int64  \n",
      " 8   GarageCars         1459 non-null   float64\n",
      " 9   remod_year_mapped  1459 non-null   int64  \n",
      "dtypes: float64(2), int64(8)\n",
      "memory usage: 114.1 KB\n"
     ]
    }
   ],
   "source": [
    "test_df[features].info()"
   ]
  },
  {
   "cell_type": "code",
   "execution_count": 38,
   "id": "16c377e4",
   "metadata": {
    "execution": {
     "iopub.execute_input": "2022-01-07T22:55:43.933352Z",
     "iopub.status.busy": "2022-01-07T22:55:43.932463Z",
     "iopub.status.idle": "2022-01-07T22:55:43.938184Z",
     "shell.execute_reply": "2022-01-07T22:55:43.937691Z"
    },
    "papermill": {
     "duration": 0.054753,
     "end_time": "2022-01-07T22:55:43.938326",
     "exception": false,
     "start_time": "2022-01-07T22:55:43.883573",
     "status": "completed"
    },
    "tags": []
   },
   "outputs": [],
   "source": [
    "test_df[\"BsmtFullBath\"] = test_df[\"BsmtFullBath\"].astype(int)\n",
    "test_df[\"GarageCars\"] = test_df[\"GarageCars\"].astype(int)"
   ]
  },
  {
   "cell_type": "code",
   "execution_count": 39,
   "id": "fb2c9935",
   "metadata": {
    "execution": {
     "iopub.execute_input": "2022-01-07T22:55:44.032722Z",
     "iopub.status.busy": "2022-01-07T22:55:44.032107Z",
     "iopub.status.idle": "2022-01-07T22:55:44.633498Z",
     "shell.execute_reply": "2022-01-07T22:55:44.634076Z"
    },
    "papermill": {
     "duration": 0.650509,
     "end_time": "2022-01-07T22:55:44.634254",
     "exception": false,
     "start_time": "2022-01-07T22:55:43.983745",
     "status": "completed"
    },
    "tags": []
   },
   "outputs": [],
   "source": [
    "# create final submission file\n",
    "\n",
    "final_model = RandomForestRegressor(criterion='mae', max_depth=10, min_samples_leaf=3,\n",
    "                      min_samples_split=3, random_state=1)\n",
    "model.fit(train_final_df[features], train_final_df[target])\n",
    "predictions = model.predict(test_df[features])\n",
    "\n",
    "ids = test_df[\"Id\"]\n",
    "submission = pd.DataFrame(\n",
    "    {\n",
    "        \"Id\": ids,\n",
    "        \"SalePrice\": predictions\n",
    "    }\n",
    ")\n",
    "\n",
    "submission.to_csv(\"submission.csv\", index=False)"
   ]
  },
  {
   "cell_type": "code",
   "execution_count": 40,
   "id": "3e2f053c",
   "metadata": {
    "execution": {
     "iopub.execute_input": "2022-01-07T22:55:44.727764Z",
     "iopub.status.busy": "2022-01-07T22:55:44.727110Z",
     "iopub.status.idle": "2022-01-07T22:55:44.748844Z",
     "shell.execute_reply": "2022-01-07T22:55:44.749363Z",
     "shell.execute_reply.started": "2022-01-07T22:52:57.030121Z"
    },
    "papermill": {
     "duration": 0.07006,
     "end_time": "2022-01-07T22:55:44.749551",
     "exception": false,
     "start_time": "2022-01-07T22:55:44.679491",
     "status": "completed"
    },
    "tags": []
   },
   "outputs": [
    {
     "data": {
      "text/html": [
       "<div>\n",
       "<style scoped>\n",
       "    .dataframe tbody tr th:only-of-type {\n",
       "        vertical-align: middle;\n",
       "    }\n",
       "\n",
       "    .dataframe tbody tr th {\n",
       "        vertical-align: top;\n",
       "    }\n",
       "\n",
       "    .dataframe thead th {\n",
       "        text-align: right;\n",
       "    }\n",
       "</style>\n",
       "<table border=\"1\" class=\"dataframe\">\n",
       "  <thead>\n",
       "    <tr style=\"text-align: right;\">\n",
       "      <th></th>\n",
       "      <th>Id</th>\n",
       "      <th>MSSubClass</th>\n",
       "      <th>MSZoning</th>\n",
       "      <th>LotFrontage</th>\n",
       "      <th>LotArea</th>\n",
       "      <th>Street</th>\n",
       "      <th>Alley</th>\n",
       "      <th>LotShape</th>\n",
       "      <th>LandContour</th>\n",
       "      <th>Utilities</th>\n",
       "      <th>...</th>\n",
       "      <th>PoolArea</th>\n",
       "      <th>PoolQC</th>\n",
       "      <th>Fence</th>\n",
       "      <th>MiscFeature</th>\n",
       "      <th>MiscVal</th>\n",
       "      <th>MoSold</th>\n",
       "      <th>YrSold</th>\n",
       "      <th>SaleType</th>\n",
       "      <th>SaleCondition</th>\n",
       "      <th>remod_year_mapped</th>\n",
       "    </tr>\n",
       "  </thead>\n",
       "  <tbody>\n",
       "    <tr>\n",
       "      <th>0</th>\n",
       "      <td>1461</td>\n",
       "      <td>20</td>\n",
       "      <td>RH</td>\n",
       "      <td>80.0</td>\n",
       "      <td>11622</td>\n",
       "      <td>Pave</td>\n",
       "      <td>NaN</td>\n",
       "      <td>Reg</td>\n",
       "      <td>Lvl</td>\n",
       "      <td>AllPub</td>\n",
       "      <td>...</td>\n",
       "      <td>0</td>\n",
       "      <td>NaN</td>\n",
       "      <td>MnPrv</td>\n",
       "      <td>NaN</td>\n",
       "      <td>0</td>\n",
       "      <td>6</td>\n",
       "      <td>2010</td>\n",
       "      <td>WD</td>\n",
       "      <td>Normal</td>\n",
       "      <td>2</td>\n",
       "    </tr>\n",
       "    <tr>\n",
       "      <th>1</th>\n",
       "      <td>1462</td>\n",
       "      <td>20</td>\n",
       "      <td>RL</td>\n",
       "      <td>81.0</td>\n",
       "      <td>14267</td>\n",
       "      <td>Pave</td>\n",
       "      <td>NaN</td>\n",
       "      <td>IR1</td>\n",
       "      <td>Lvl</td>\n",
       "      <td>AllPub</td>\n",
       "      <td>...</td>\n",
       "      <td>0</td>\n",
       "      <td>NaN</td>\n",
       "      <td>NaN</td>\n",
       "      <td>Gar2</td>\n",
       "      <td>12500</td>\n",
       "      <td>6</td>\n",
       "      <td>2010</td>\n",
       "      <td>WD</td>\n",
       "      <td>Normal</td>\n",
       "      <td>1</td>\n",
       "    </tr>\n",
       "    <tr>\n",
       "      <th>2</th>\n",
       "      <td>1463</td>\n",
       "      <td>60</td>\n",
       "      <td>RL</td>\n",
       "      <td>74.0</td>\n",
       "      <td>13830</td>\n",
       "      <td>Pave</td>\n",
       "      <td>NaN</td>\n",
       "      <td>IR1</td>\n",
       "      <td>Lvl</td>\n",
       "      <td>AllPub</td>\n",
       "      <td>...</td>\n",
       "      <td>0</td>\n",
       "      <td>NaN</td>\n",
       "      <td>MnPrv</td>\n",
       "      <td>NaN</td>\n",
       "      <td>0</td>\n",
       "      <td>3</td>\n",
       "      <td>2010</td>\n",
       "      <td>WD</td>\n",
       "      <td>Normal</td>\n",
       "      <td>5</td>\n",
       "    </tr>\n",
       "    <tr>\n",
       "      <th>3</th>\n",
       "      <td>1464</td>\n",
       "      <td>60</td>\n",
       "      <td>RL</td>\n",
       "      <td>78.0</td>\n",
       "      <td>9978</td>\n",
       "      <td>Pave</td>\n",
       "      <td>NaN</td>\n",
       "      <td>IR1</td>\n",
       "      <td>Lvl</td>\n",
       "      <td>AllPub</td>\n",
       "      <td>...</td>\n",
       "      <td>0</td>\n",
       "      <td>NaN</td>\n",
       "      <td>NaN</td>\n",
       "      <td>NaN</td>\n",
       "      <td>0</td>\n",
       "      <td>6</td>\n",
       "      <td>2010</td>\n",
       "      <td>WD</td>\n",
       "      <td>Normal</td>\n",
       "      <td>5</td>\n",
       "    </tr>\n",
       "    <tr>\n",
       "      <th>4</th>\n",
       "      <td>1465</td>\n",
       "      <td>120</td>\n",
       "      <td>RL</td>\n",
       "      <td>43.0</td>\n",
       "      <td>5005</td>\n",
       "      <td>Pave</td>\n",
       "      <td>NaN</td>\n",
       "      <td>IR1</td>\n",
       "      <td>HLS</td>\n",
       "      <td>AllPub</td>\n",
       "      <td>...</td>\n",
       "      <td>0</td>\n",
       "      <td>NaN</td>\n",
       "      <td>NaN</td>\n",
       "      <td>NaN</td>\n",
       "      <td>0</td>\n",
       "      <td>1</td>\n",
       "      <td>2010</td>\n",
       "      <td>WD</td>\n",
       "      <td>Normal</td>\n",
       "      <td>5</td>\n",
       "    </tr>\n",
       "  </tbody>\n",
       "</table>\n",
       "<p>5 rows × 81 columns</p>\n",
       "</div>"
      ],
      "text/plain": [
       "     Id  MSSubClass MSZoning  LotFrontage  LotArea Street Alley LotShape  \\\n",
       "0  1461          20       RH         80.0    11622   Pave   NaN      Reg   \n",
       "1  1462          20       RL         81.0    14267   Pave   NaN      IR1   \n",
       "2  1463          60       RL         74.0    13830   Pave   NaN      IR1   \n",
       "3  1464          60       RL         78.0     9978   Pave   NaN      IR1   \n",
       "4  1465         120       RL         43.0     5005   Pave   NaN      IR1   \n",
       "\n",
       "  LandContour Utilities  ... PoolArea PoolQC  Fence MiscFeature MiscVal  \\\n",
       "0         Lvl    AllPub  ...        0    NaN  MnPrv         NaN       0   \n",
       "1         Lvl    AllPub  ...        0    NaN    NaN        Gar2   12500   \n",
       "2         Lvl    AllPub  ...        0    NaN  MnPrv         NaN       0   \n",
       "3         Lvl    AllPub  ...        0    NaN    NaN         NaN       0   \n",
       "4         HLS    AllPub  ...        0    NaN    NaN         NaN       0   \n",
       "\n",
       "  MoSold YrSold  SaleType  SaleCondition  remod_year_mapped  \n",
       "0      6   2010        WD         Normal                  2  \n",
       "1      6   2010        WD         Normal                  1  \n",
       "2      3   2010        WD         Normal                  5  \n",
       "3      6   2010        WD         Normal                  5  \n",
       "4      1   2010        WD         Normal                  5  \n",
       "\n",
       "[5 rows x 81 columns]"
      ]
     },
     "execution_count": 40,
     "metadata": {},
     "output_type": "execute_result"
    }
   ],
   "source": [
    "test_df.head(5)"
   ]
  },
  {
   "cell_type": "code",
   "execution_count": null,
   "id": "ccbf028f",
   "metadata": {
    "papermill": {
     "duration": 0.046287,
     "end_time": "2022-01-07T22:55:44.842992",
     "exception": false,
     "start_time": "2022-01-07T22:55:44.796705",
     "status": "completed"
    },
    "tags": []
   },
   "outputs": [],
   "source": []
  }
 ],
 "metadata": {
  "kernelspec": {
   "display_name": "Python 3",
   "language": "python",
   "name": "python3"
  },
  "language_info": {
   "codemirror_mode": {
    "name": "ipython",
    "version": 3
   },
   "file_extension": ".py",
   "mimetype": "text/x-python",
   "name": "python",
   "nbconvert_exporter": "python",
   "pygments_lexer": "ipython3",
   "version": "3.7.12"
  },
  "papermill": {
   "default_parameters": {},
   "duration": 23.081584,
   "end_time": "2022-01-07T22:55:45.498987",
   "environment_variables": {},
   "exception": null,
   "input_path": "__notebook__.ipynb",
   "output_path": "__notebook__.ipynb",
   "parameters": {},
   "start_time": "2022-01-07T22:55:22.417403",
   "version": "2.3.3"
  }
 },
 "nbformat": 4,
 "nbformat_minor": 5
}
