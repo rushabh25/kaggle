{
 "cells": [
  {
   "cell_type": "code",
   "execution_count": 1,
   "id": "f0451ad5",
   "metadata": {
    "_cell_guid": "b1076dfc-b9ad-4769-8c92-a6c4dae69d19",
    "_uuid": "8f2839f25d086af736a60e9eeb907d3b93b6e0e5",
    "execution": {
     "iopub.execute_input": "2022-01-07T23:04:13.756633Z",
     "iopub.status.busy": "2022-01-07T23:04:13.754826Z",
     "iopub.status.idle": "2022-01-07T23:04:13.772029Z",
     "shell.execute_reply": "2022-01-07T23:04:13.772643Z",
     "shell.execute_reply.started": "2022-01-07T22:13:08.627156Z"
    },
    "papermill": {
     "duration": 0.057777,
     "end_time": "2022-01-07T23:04:13.772958",
     "exception": false,
     "start_time": "2022-01-07T23:04:13.715181",
     "status": "completed"
    },
    "tags": []
   },
   "outputs": [
    {
     "name": "stdout",
     "output_type": "stream",
     "text": [
      "/kaggle/input/house-prices-advanced-regression-techniques/sample_submission.csv\n",
      "/kaggle/input/house-prices-advanced-regression-techniques/data_description.txt\n",
      "/kaggle/input/house-prices-advanced-regression-techniques/train.csv\n",
      "/kaggle/input/house-prices-advanced-regression-techniques/test.csv\n"
     ]
    }
   ],
   "source": [
    "# This Python 3 environment comes with many helpful analytics libraries installed\n",
    "# It is defined by the kaggle/python Docker image: https://github.com/kaggle/docker-python\n",
    "# For example, here's several helpful packages to load\n",
    "\n",
    "import numpy as np # linear algebra\n",
    "import pandas as pd # data processing, CSV file I/O (e.g. pd.read_csv)\n",
    "\n",
    "# Input data files are available in the read-only \"../input/\" directory\n",
    "# For example, running this (by clicking run or pressing Shift+Enter) will list all files under the input directory\n",
    "\n",
    "import os\n",
    "for dirname, _, filenames in os.walk('/kaggle/input'):\n",
    "    for filename in filenames:\n",
    "        print(os.path.join(dirname, filename))\n",
    "\n",
    "# You can write up to 20GB to the current directory (/kaggle/working/) that gets preserved as output when you create a version using \"Save & Run All\" \n",
    "# You can also write temporary files to /kaggle/temp/, but they won't be saved outside of the current session"
   ]
  },
  {
   "cell_type": "code",
   "execution_count": 2,
   "id": "cf59b62e",
   "metadata": {
    "execution": {
     "iopub.execute_input": "2022-01-07T23:04:13.845215Z",
     "iopub.status.busy": "2022-01-07T23:04:13.844564Z",
     "iopub.status.idle": "2022-01-07T23:04:13.848287Z",
     "shell.execute_reply": "2022-01-07T23:04:13.848827Z",
     "shell.execute_reply.started": "2022-01-07T22:13:08.641438Z"
    },
    "papermill": {
     "duration": 0.041048,
     "end_time": "2022-01-07T23:04:13.849007",
     "exception": false,
     "start_time": "2022-01-07T23:04:13.807959",
     "status": "completed"
    },
    "tags": []
   },
   "outputs": [],
   "source": [
    "# setup\n",
    "TRAIN_PATH = \"../input/house-prices-advanced-regression-techniques/train.csv\"\n",
    "TEST_PATH = \"../input/house-prices-advanced-regression-techniques/test.csv\"\n",
    "SUBMISSION_PATH = \"../input/house-prices-advanced-regression-techniques/sample_submission.csv\"\n",
    "\n",
    "OUTPUT_PATH = \"../output/kaggle/working/submission.csv\""
   ]
  },
  {
   "cell_type": "code",
   "execution_count": 3,
   "id": "a761e121",
   "metadata": {
    "execution": {
     "iopub.execute_input": "2022-01-07T23:04:13.919840Z",
     "iopub.status.busy": "2022-01-07T23:04:13.919177Z",
     "iopub.status.idle": "2022-01-07T23:04:14.008768Z",
     "shell.execute_reply": "2022-01-07T23:04:14.009398Z",
     "shell.execute_reply.started": "2022-01-07T22:13:08.648272Z"
    },
    "papermill": {
     "duration": 0.12694,
     "end_time": "2022-01-07T23:04:14.009629",
     "exception": false,
     "start_time": "2022-01-07T23:04:13.882689",
     "status": "completed"
    },
    "tags": []
   },
   "outputs": [],
   "source": [
    "train_df = pd.read_csv(TRAIN_PATH)\n",
    "test_df = pd.read_csv(TEST_PATH)\n",
    "sample_submission_df = pd.read_csv(SUBMISSION_PATH)"
   ]
  },
  {
   "cell_type": "code",
   "execution_count": 4,
   "id": "5793977d",
   "metadata": {
    "execution": {
     "iopub.execute_input": "2022-01-07T23:04:14.083534Z",
     "iopub.status.busy": "2022-01-07T23:04:14.082834Z",
     "iopub.status.idle": "2022-01-07T23:04:14.120686Z",
     "shell.execute_reply": "2022-01-07T23:04:14.121296Z",
     "shell.execute_reply.started": "2022-01-07T22:13:08.739215Z"
    },
    "papermill": {
     "duration": 0.076426,
     "end_time": "2022-01-07T23:04:14.121490",
     "exception": false,
     "start_time": "2022-01-07T23:04:14.045064",
     "status": "completed"
    },
    "tags": []
   },
   "outputs": [
    {
     "name": "stdout",
     "output_type": "stream",
     "text": [
      "<class 'pandas.core.frame.DataFrame'>\n",
      "RangeIndex: 1460 entries, 0 to 1459\n",
      "Data columns (total 81 columns):\n",
      " #   Column         Non-Null Count  Dtype  \n",
      "---  ------         --------------  -----  \n",
      " 0   Id             1460 non-null   int64  \n",
      " 1   MSSubClass     1460 non-null   int64  \n",
      " 2   MSZoning       1460 non-null   object \n",
      " 3   LotFrontage    1201 non-null   float64\n",
      " 4   LotArea        1460 non-null   int64  \n",
      " 5   Street         1460 non-null   object \n",
      " 6   Alley          91 non-null     object \n",
      " 7   LotShape       1460 non-null   object \n",
      " 8   LandContour    1460 non-null   object \n",
      " 9   Utilities      1460 non-null   object \n",
      " 10  LotConfig      1460 non-null   object \n",
      " 11  LandSlope      1460 non-null   object \n",
      " 12  Neighborhood   1460 non-null   object \n",
      " 13  Condition1     1460 non-null   object \n",
      " 14  Condition2     1460 non-null   object \n",
      " 15  BldgType       1460 non-null   object \n",
      " 16  HouseStyle     1460 non-null   object \n",
      " 17  OverallQual    1460 non-null   int64  \n",
      " 18  OverallCond    1460 non-null   int64  \n",
      " 19  YearBuilt      1460 non-null   int64  \n",
      " 20  YearRemodAdd   1460 non-null   int64  \n",
      " 21  RoofStyle      1460 non-null   object \n",
      " 22  RoofMatl       1460 non-null   object \n",
      " 23  Exterior1st    1460 non-null   object \n",
      " 24  Exterior2nd    1460 non-null   object \n",
      " 25  MasVnrType     1452 non-null   object \n",
      " 26  MasVnrArea     1452 non-null   float64\n",
      " 27  ExterQual      1460 non-null   object \n",
      " 28  ExterCond      1460 non-null   object \n",
      " 29  Foundation     1460 non-null   object \n",
      " 30  BsmtQual       1423 non-null   object \n",
      " 31  BsmtCond       1423 non-null   object \n",
      " 32  BsmtExposure   1422 non-null   object \n",
      " 33  BsmtFinType1   1423 non-null   object \n",
      " 34  BsmtFinSF1     1460 non-null   int64  \n",
      " 35  BsmtFinType2   1422 non-null   object \n",
      " 36  BsmtFinSF2     1460 non-null   int64  \n",
      " 37  BsmtUnfSF      1460 non-null   int64  \n",
      " 38  TotalBsmtSF    1460 non-null   int64  \n",
      " 39  Heating        1460 non-null   object \n",
      " 40  HeatingQC      1460 non-null   object \n",
      " 41  CentralAir     1460 non-null   object \n",
      " 42  Electrical     1459 non-null   object \n",
      " 43  1stFlrSF       1460 non-null   int64  \n",
      " 44  2ndFlrSF       1460 non-null   int64  \n",
      " 45  LowQualFinSF   1460 non-null   int64  \n",
      " 46  GrLivArea      1460 non-null   int64  \n",
      " 47  BsmtFullBath   1460 non-null   int64  \n",
      " 48  BsmtHalfBath   1460 non-null   int64  \n",
      " 49  FullBath       1460 non-null   int64  \n",
      " 50  HalfBath       1460 non-null   int64  \n",
      " 51  BedroomAbvGr   1460 non-null   int64  \n",
      " 52  KitchenAbvGr   1460 non-null   int64  \n",
      " 53  KitchenQual    1460 non-null   object \n",
      " 54  TotRmsAbvGrd   1460 non-null   int64  \n",
      " 55  Functional     1460 non-null   object \n",
      " 56  Fireplaces     1460 non-null   int64  \n",
      " 57  FireplaceQu    770 non-null    object \n",
      " 58  GarageType     1379 non-null   object \n",
      " 59  GarageYrBlt    1379 non-null   float64\n",
      " 60  GarageFinish   1379 non-null   object \n",
      " 61  GarageCars     1460 non-null   int64  \n",
      " 62  GarageArea     1460 non-null   int64  \n",
      " 63  GarageQual     1379 non-null   object \n",
      " 64  GarageCond     1379 non-null   object \n",
      " 65  PavedDrive     1460 non-null   object \n",
      " 66  WoodDeckSF     1460 non-null   int64  \n",
      " 67  OpenPorchSF    1460 non-null   int64  \n",
      " 68  EnclosedPorch  1460 non-null   int64  \n",
      " 69  3SsnPorch      1460 non-null   int64  \n",
      " 70  ScreenPorch    1460 non-null   int64  \n",
      " 71  PoolArea       1460 non-null   int64  \n",
      " 72  PoolQC         7 non-null      object \n",
      " 73  Fence          281 non-null    object \n",
      " 74  MiscFeature    54 non-null     object \n",
      " 75  MiscVal        1460 non-null   int64  \n",
      " 76  MoSold         1460 non-null   int64  \n",
      " 77  YrSold         1460 non-null   int64  \n",
      " 78  SaleType       1460 non-null   object \n",
      " 79  SaleCondition  1460 non-null   object \n",
      " 80  SalePrice      1460 non-null   int64  \n",
      "dtypes: float64(3), int64(35), object(43)\n",
      "memory usage: 924.0+ KB\n"
     ]
    }
   ],
   "source": [
    "train_df.info()"
   ]
  },
  {
   "cell_type": "code",
   "execution_count": 5,
   "id": "085bbdc6",
   "metadata": {
    "execution": {
     "iopub.execute_input": "2022-01-07T23:04:14.194209Z",
     "iopub.status.busy": "2022-01-07T23:04:14.193487Z",
     "iopub.status.idle": "2022-01-07T23:04:14.209155Z",
     "shell.execute_reply": "2022-01-07T23:04:14.209694Z",
     "shell.execute_reply.started": "2022-01-07T22:13:08.774699Z"
    },
    "papermill": {
     "duration": 0.053884,
     "end_time": "2022-01-07T23:04:14.209890",
     "exception": false,
     "start_time": "2022-01-07T23:04:14.156006",
     "status": "completed"
    },
    "tags": []
   },
   "outputs": [
    {
     "data": {
      "text/html": [
       "<div>\n",
       "<style scoped>\n",
       "    .dataframe tbody tr th:only-of-type {\n",
       "        vertical-align: middle;\n",
       "    }\n",
       "\n",
       "    .dataframe tbody tr th {\n",
       "        vertical-align: top;\n",
       "    }\n",
       "\n",
       "    .dataframe thead th {\n",
       "        text-align: right;\n",
       "    }\n",
       "</style>\n",
       "<table border=\"1\" class=\"dataframe\">\n",
       "  <thead>\n",
       "    <tr style=\"text-align: right;\">\n",
       "      <th></th>\n",
       "      <th>Id</th>\n",
       "      <th>SalePrice</th>\n",
       "    </tr>\n",
       "  </thead>\n",
       "  <tbody>\n",
       "    <tr>\n",
       "      <th>0</th>\n",
       "      <td>1461</td>\n",
       "      <td>169277.052498</td>\n",
       "    </tr>\n",
       "    <tr>\n",
       "      <th>1</th>\n",
       "      <td>1462</td>\n",
       "      <td>187758.393989</td>\n",
       "    </tr>\n",
       "    <tr>\n",
       "      <th>2</th>\n",
       "      <td>1463</td>\n",
       "      <td>183583.683570</td>\n",
       "    </tr>\n",
       "    <tr>\n",
       "      <th>3</th>\n",
       "      <td>1464</td>\n",
       "      <td>179317.477511</td>\n",
       "    </tr>\n",
       "    <tr>\n",
       "      <th>4</th>\n",
       "      <td>1465</td>\n",
       "      <td>150730.079977</td>\n",
       "    </tr>\n",
       "  </tbody>\n",
       "</table>\n",
       "</div>"
      ],
      "text/plain": [
       "     Id      SalePrice\n",
       "0  1461  169277.052498\n",
       "1  1462  187758.393989\n",
       "2  1463  183583.683570\n",
       "3  1464  179317.477511\n",
       "4  1465  150730.079977"
      ]
     },
     "execution_count": 5,
     "metadata": {},
     "output_type": "execute_result"
    }
   ],
   "source": [
    "sample_submission_df.head(5)"
   ]
  },
  {
   "cell_type": "markdown",
   "id": "2d40ba86",
   "metadata": {
    "papermill": {
     "duration": 0.034623,
     "end_time": "2022-01-07T23:04:14.279707",
     "exception": false,
     "start_time": "2022-01-07T23:04:14.245084",
     "status": "completed"
    },
    "tags": []
   },
   "source": [
    "### Approach\n",
    "1. First, lets create a basic LinearRegression Model using few features like Bedroom, Bathroom and SqFt\n",
    "2. We will take that neg RMSE as the baseline evaluation metric\n",
    "3. Then we will perform some feature engineering\n",
    "4. We will use more complex models\n",
    "5. Perform model hyper parameter tuning"
   ]
  },
  {
   "cell_type": "code",
   "execution_count": 6,
   "id": "2ede2b02",
   "metadata": {
    "execution": {
     "iopub.execute_input": "2022-01-07T23:04:14.354867Z",
     "iopub.status.busy": "2022-01-07T23:04:14.354122Z",
     "iopub.status.idle": "2022-01-07T23:04:14.368147Z",
     "shell.execute_reply": "2022-01-07T23:04:14.368996Z",
     "shell.execute_reply.started": "2022-01-07T22:13:08.791199Z"
    },
    "papermill": {
     "duration": 0.053186,
     "end_time": "2022-01-07T23:04:14.369216",
     "exception": false,
     "start_time": "2022-01-07T23:04:14.316030",
     "status": "completed"
    },
    "tags": []
   },
   "outputs": [
    {
     "data": {
      "text/plain": [
       "FullBath\n",
       "2           768\n",
       "1           650\n",
       "3            33\n",
       "0             9\n",
       "dtype: int64"
      ]
     },
     "execution_count": 6,
     "metadata": {},
     "output_type": "execute_result"
    }
   ],
   "source": [
    "train_df[[\"FullBath\"]].value_counts()"
   ]
  },
  {
   "cell_type": "code",
   "execution_count": 7,
   "id": "60499b70",
   "metadata": {
    "execution": {
     "iopub.execute_input": "2022-01-07T23:04:14.445708Z",
     "iopub.status.busy": "2022-01-07T23:04:14.444952Z",
     "iopub.status.idle": "2022-01-07T23:04:14.456325Z",
     "shell.execute_reply": "2022-01-07T23:04:14.456908Z",
     "shell.execute_reply.started": "2022-01-07T22:13:08.806097Z"
    },
    "papermill": {
     "duration": 0.050503,
     "end_time": "2022-01-07T23:04:14.457100",
     "exception": false,
     "start_time": "2022-01-07T23:04:14.406597",
     "status": "completed"
    },
    "tags": []
   },
   "outputs": [
    {
     "data": {
      "text/plain": [
       "LotArea\n",
       "7200       25\n",
       "9600       24\n",
       "6000       17\n",
       "9000       14\n",
       "10800      14\n",
       "           ..\n",
       "8930        1\n",
       "8935        1\n",
       "8944        1\n",
       "8960        1\n",
       "215245      1\n",
       "Length: 1073, dtype: int64"
      ]
     },
     "execution_count": 7,
     "metadata": {},
     "output_type": "execute_result"
    }
   ],
   "source": [
    "train_df[[\"LotArea\"]].value_counts()"
   ]
  },
  {
   "cell_type": "code",
   "execution_count": 8,
   "id": "cbf0cdc7",
   "metadata": {
    "execution": {
     "iopub.execute_input": "2022-01-07T23:04:14.535942Z",
     "iopub.status.busy": "2022-01-07T23:04:14.534983Z",
     "iopub.status.idle": "2022-01-07T23:04:14.865645Z",
     "shell.execute_reply": "2022-01-07T23:04:14.866200Z",
     "shell.execute_reply.started": "2022-01-07T22:13:08.819968Z"
    },
    "papermill": {
     "duration": 0.373473,
     "end_time": "2022-01-07T23:04:14.866389",
     "exception": false,
     "start_time": "2022-01-07T23:04:14.492916",
     "status": "completed"
    },
    "tags": []
   },
   "outputs": [
    {
     "data": {
      "text/plain": [
       "<AxesSubplot:ylabel='Frequency'>"
      ]
     },
     "execution_count": 8,
     "metadata": {},
     "output_type": "execute_result"
    },
    {
     "data": {
      "image/png": "[encoded data removed]",
      "text/plain": [
       "<Figure size 432x288 with 1 Axes>"
      ]
     },
     "metadata": {
      "needs_background": "light"
     },
     "output_type": "display_data"
    }
   ],
   "source": [
    "train_df[\"LotArea\"].plot.hist(bins = 30)"
   ]
  },
  {
   "cell_type": "code",
   "execution_count": 9,
   "id": "89b7e213",
   "metadata": {
    "execution": {
     "iopub.execute_input": "2022-01-07T23:04:14.945973Z",
     "iopub.status.busy": "2022-01-07T23:04:14.945252Z",
     "iopub.status.idle": "2022-01-07T23:04:15.322518Z",
     "shell.execute_reply": "2022-01-07T23:04:15.323081Z",
     "shell.execute_reply.started": "2022-01-07T22:13:09.192552Z"
    },
    "papermill": {
     "duration": 0.420127,
     "end_time": "2022-01-07T23:04:15.323264",
     "exception": false,
     "start_time": "2022-01-07T23:04:14.903137",
     "status": "completed"
    },
    "tags": []
   },
   "outputs": [
    {
     "data": {
      "text/plain": [
       "<AxesSubplot:ylabel='Frequency'>"
      ]
     },
     "execution_count": 9,
     "metadata": {},
     "output_type": "execute_result"
    },
    {
     "data": {
      "image/png": "[encoded data removed]",
      "text/plain": [
       "<Figure size 432x288 with 1 Axes>"
      ]
     },
     "metadata": {
      "needs_background": "light"
     },
     "output_type": "display_data"
    }
   ],
   "source": [
    "train_df[\"SalePrice\"].plot.hist(bins = 30)"
   ]
  },
  {
   "cell_type": "code",
   "execution_count": 10,
   "id": "a527e78e",
   "metadata": {
    "execution": {
     "iopub.execute_input": "2022-01-07T23:04:15.403246Z",
     "iopub.status.busy": "2022-01-07T23:04:15.402570Z",
     "iopub.status.idle": "2022-01-07T23:04:16.425740Z",
     "shell.execute_reply": "2022-01-07T23:04:16.424983Z",
     "shell.execute_reply.started": "2022-01-07T22:13:09.442049Z"
    },
    "papermill": {
     "duration": 1.064328,
     "end_time": "2022-01-07T23:04:16.425922",
     "exception": false,
     "start_time": "2022-01-07T23:04:15.361594",
     "status": "completed"
    },
    "tags": []
   },
   "outputs": [],
   "source": [
    "# perform minmax scaler\n",
    "def perform_minmaxscaler(df, col):\n",
    "    min_value = df[col].min()\n",
    "    max_value = df[col].max()\n",
    "    df[col] = (df[col] - min_value) / (max_value - min_value)\n",
    "    return df\n",
    "\n",
    "# perform cross validation\n",
    "from sklearn.model_selection import cross_val_score\n",
    "def perform_cross_validation(model, features, target, train):\n",
    "    X = train[features]\n",
    "    Y = train[target]\n",
    "    scores = cross_val_score(model, X, Y, cv=10, scoring = 'neg_root_mean_squared_error')\n",
    "    mean_score = np.mean(scores)\n",
    "    return mean_score\n",
    "    "
   ]
  },
  {
   "cell_type": "code",
   "execution_count": 11,
   "id": "61e6845a",
   "metadata": {
    "execution": {
     "iopub.execute_input": "2022-01-07T23:04:16.507946Z",
     "iopub.status.busy": "2022-01-07T23:04:16.507285Z",
     "iopub.status.idle": "2022-01-07T23:04:16.517094Z",
     "shell.execute_reply": "2022-01-07T23:04:16.517676Z",
     "shell.execute_reply.started": "2022-01-07T22:13:10.218099Z"
    },
    "papermill": {
     "duration": 0.051415,
     "end_time": "2022-01-07T23:04:16.517862",
     "exception": false,
     "start_time": "2022-01-07T23:04:16.466447",
     "status": "completed"
    },
    "tags": []
   },
   "outputs": [
    {
     "data": {
      "text/plain": [
       "BedroomAbvGr\n",
       "3               804\n",
       "2               358\n",
       "4               213\n",
       "1                50\n",
       "5                21\n",
       "6                 7\n",
       "0                 6\n",
       "8                 1\n",
       "dtype: int64"
      ]
     },
     "execution_count": 11,
     "metadata": {},
     "output_type": "execute_result"
    }
   ],
   "source": [
    "train_df[[\"BedroomAbvGr\"]].value_counts()"
   ]
  },
  {
   "cell_type": "code",
   "execution_count": 12,
   "id": "89ee964d",
   "metadata": {
    "execution": {
     "iopub.execute_input": "2022-01-07T23:04:16.599102Z",
     "iopub.status.busy": "2022-01-07T23:04:16.598347Z",
     "iopub.status.idle": "2022-01-07T23:04:16.606486Z",
     "shell.execute_reply": "2022-01-07T23:04:16.607082Z",
     "shell.execute_reply.started": "2022-01-07T22:13:10.237835Z"
    },
    "papermill": {
     "duration": 0.051402,
     "end_time": "2022-01-07T23:04:16.607278",
     "exception": false,
     "start_time": "2022-01-07T23:04:16.555876",
     "status": "completed"
    },
    "tags": []
   },
   "outputs": [],
   "source": [
    "initial_features = [\"TotRmsAbvGrd\", \"LotArea\", \"FullBath\"]\n",
    "target = \"SalePrice\"\n",
    "for col in initial_features:\n",
    "    train_df = perform_minmaxscaler(train_df, col)"
   ]
  },
  {
   "cell_type": "code",
   "execution_count": 13,
   "id": "b2002427",
   "metadata": {
    "execution": {
     "iopub.execute_input": "2022-01-07T23:04:16.691014Z",
     "iopub.status.busy": "2022-01-07T23:04:16.690120Z",
     "iopub.status.idle": "2022-01-07T23:04:16.952574Z",
     "shell.execute_reply": "2022-01-07T23:04:16.951994Z",
     "shell.execute_reply.started": "2022-01-07T22:13:10.251442Z"
    },
    "papermill": {
     "duration": 0.306011,
     "end_time": "2022-01-07T23:04:16.952731",
     "exception": false,
     "start_time": "2022-01-07T23:04:16.646720",
     "status": "completed"
    },
    "tags": []
   },
   "outputs": [
    {
     "name": "stdout",
     "output_type": "stream",
     "text": [
      "-61274.52565300374\n"
     ]
    }
   ],
   "source": [
    "from sklearn.linear_model import LinearRegression\n",
    "from sklearn.tree import DecisionTreeRegressor\n",
    "from sklearn.ensemble import RandomForestRegressor\n",
    "\n",
    "model = LinearRegression()\n",
    "#model.fit(train_df[initial_features], train_df[target])\n",
    "score = perform_cross_validation(model, initial_features, target, train_df)\n",
    "print(score)"
   ]
  },
  {
   "cell_type": "code",
   "execution_count": 14,
   "id": "0e211dc5",
   "metadata": {
    "execution": {
     "iopub.execute_input": "2022-01-07T23:04:17.033997Z",
     "iopub.status.busy": "2022-01-07T23:04:17.033298Z",
     "iopub.status.idle": "2022-01-07T23:04:17.039029Z",
     "shell.execute_reply": "2022-01-07T23:04:17.039618Z",
     "shell.execute_reply.started": "2022-01-07T22:13:10.532646Z"
    },
    "papermill": {
     "duration": 0.048199,
     "end_time": "2022-01-07T23:04:17.039803",
     "exception": false,
     "start_time": "2022-01-07T23:04:16.991604",
     "status": "completed"
    },
    "tags": []
   },
   "outputs": [],
   "source": [
    "def model_training(train_df, features, target):\n",
    "    model = RandomForestRegressor()\n",
    "    X = train_df[features]\n",
    "    Y = train_df[target]\n",
    "    model.fit(X, Y)\n",
    "    return model\n",
    "    \n",
    "def generate_predictions(model, test_df, features):\n",
    "    for col in initial_features:\n",
    "        test_df = perform_minmaxscaler(test_df, col)\n",
    "    predictions = model.predict(test_df[features])\n",
    "    return predictions"
   ]
  },
  {
   "cell_type": "code",
   "execution_count": 15,
   "id": "1fbac7a9",
   "metadata": {
    "execution": {
     "iopub.execute_input": "2022-01-07T23:04:17.119055Z",
     "iopub.status.busy": "2022-01-07T23:04:17.118335Z",
     "iopub.status.idle": "2022-01-07T23:04:17.506506Z",
     "shell.execute_reply": "2022-01-07T23:04:17.505936Z",
     "shell.execute_reply.started": "2022-01-07T22:13:10.554287Z"
    },
    "papermill": {
     "duration": 0.428618,
     "end_time": "2022-01-07T23:04:17.506668",
     "exception": false,
     "start_time": "2022-01-07T23:04:17.078050",
     "status": "completed"
    },
    "tags": []
   },
   "outputs": [],
   "source": [
    "model = model_training(train_df, initial_features, target)\n",
    "predictions = generate_predictions(model, test_df, initial_features)"
   ]
  },
  {
   "cell_type": "code",
   "execution_count": 16,
   "id": "5816ed0a",
   "metadata": {
    "execution": {
     "iopub.execute_input": "2022-01-07T23:04:17.589765Z",
     "iopub.status.busy": "2022-01-07T23:04:17.588679Z",
     "iopub.status.idle": "2022-01-07T23:04:17.591537Z",
     "shell.execute_reply": "2022-01-07T23:04:17.590998Z",
     "shell.execute_reply.started": "2022-01-07T22:13:10.983894Z"
    },
    "papermill": {
     "duration": 0.046334,
     "end_time": "2022-01-07T23:04:17.591691",
     "exception": false,
     "start_time": "2022-01-07T23:04:17.545357",
     "status": "completed"
    },
    "tags": []
   },
   "outputs": [],
   "source": [
    "# ids = test_df[\"Id\"]\n",
    "# submission = pd.DataFrame(\n",
    "#     {\n",
    "#         \"Id\": ids,\n",
    "#         \"SalePrice\": predictions\n",
    "#     }\n",
    "# )\n",
    "\n",
    "# submission.to_csv(\"submission.csv\", index=False)"
   ]
  },
  {
   "cell_type": "markdown",
   "id": "c8e6bb16",
   "metadata": {
    "papermill": {
     "duration": 0.037881,
     "end_time": "2022-01-07T23:04:17.670332",
     "exception": false,
     "start_time": "2022-01-07T23:04:17.632451",
     "status": "completed"
    },
    "tags": []
   },
   "source": [
    "Done with the baseline model with few columns. Best score of 0.33691.\n",
    "\n",
    "Perform more feature engineering and advanced tasks next."
   ]
  },
  {
   "cell_type": "code",
   "execution_count": 17,
   "id": "55737f95",
   "metadata": {
    "execution": {
     "iopub.execute_input": "2022-01-07T23:04:17.751412Z",
     "iopub.status.busy": "2022-01-07T23:04:17.750655Z",
     "iopub.status.idle": "2022-01-07T23:04:17.819505Z",
     "shell.execute_reply": "2022-01-07T23:04:17.818717Z",
     "shell.execute_reply.started": "2022-01-07T22:13:10.990557Z"
    },
    "papermill": {
     "duration": 0.109838,
     "end_time": "2022-01-07T23:04:17.819667",
     "exception": false,
     "start_time": "2022-01-07T23:04:17.709829",
     "status": "completed"
    },
    "tags": []
   },
   "outputs": [],
   "source": [
    "train_df = pd.read_csv(TRAIN_PATH)\n",
    "test_df = pd.read_csv(TEST_PATH)\n",
    "sample_submission_df = pd.read_csv(SUBMISSION_PATH)\n",
    "\n",
    "corr_df = train_df.corr().loc[:, [\"SalePrice\"]]\n",
    "cols_of_interest = corr_df[np.abs(corr_df[\"SalePrice\"]) > 0.2].index\n",
    "# since there are lot of features, we will only focus on those features that have correlation > 0.3"
   ]
  },
  {
   "cell_type": "code",
   "execution_count": 18,
   "id": "25ac1db3",
   "metadata": {
    "execution": {
     "iopub.execute_input": "2022-01-07T23:04:17.902580Z",
     "iopub.status.busy": "2022-01-07T23:04:17.901927Z",
     "iopub.status.idle": "2022-01-07T23:04:17.905697Z",
     "shell.execute_reply": "2022-01-07T23:04:17.905153Z",
     "shell.execute_reply.started": "2022-01-07T22:13:11.054669Z"
    },
    "papermill": {
     "duration": 0.047546,
     "end_time": "2022-01-07T23:04:17.905867",
     "exception": false,
     "start_time": "2022-01-07T23:04:17.858321",
     "status": "completed"
    },
    "tags": []
   },
   "outputs": [
    {
     "data": {
      "text/plain": [
       "Index(['LotFrontage', 'LotArea', 'OverallQual', 'YearBuilt', 'YearRemodAdd',\n",
       "       'MasVnrArea', 'BsmtFinSF1', 'BsmtUnfSF', 'TotalBsmtSF', '1stFlrSF',\n",
       "       '2ndFlrSF', 'GrLivArea', 'BsmtFullBath', 'FullBath', 'HalfBath',\n",
       "       'TotRmsAbvGrd', 'Fireplaces', 'GarageYrBlt', 'GarageCars', 'GarageArea',\n",
       "       'WoodDeckSF', 'OpenPorchSF', 'SalePrice'],\n",
       "      dtype='object')"
      ]
     },
     "execution_count": 18,
     "metadata": {},
     "output_type": "execute_result"
    }
   ],
   "source": [
    "cols_of_interest"
   ]
  },
  {
   "cell_type": "code",
   "execution_count": 19,
   "id": "2ec2b933",
   "metadata": {
    "execution": {
     "iopub.execute_input": "2022-01-07T23:04:17.986748Z",
     "iopub.status.busy": "2022-01-07T23:04:17.986002Z",
     "iopub.status.idle": "2022-01-07T23:04:17.990437Z",
     "shell.execute_reply": "2022-01-07T23:04:17.991003Z",
     "shell.execute_reply.started": "2022-01-07T22:13:11.065675Z"
    },
    "papermill": {
     "duration": 0.046772,
     "end_time": "2022-01-07T23:04:17.991179",
     "exception": false,
     "start_time": "2022-01-07T23:04:17.944407",
     "status": "completed"
    },
    "tags": []
   },
   "outputs": [],
   "source": [
    "train_df = train_df[cols_of_interest]"
   ]
  },
  {
   "cell_type": "code",
   "execution_count": 20,
   "id": "bd0e6a06",
   "metadata": {
    "execution": {
     "iopub.execute_input": "2022-01-07T23:04:18.072487Z",
     "iopub.status.busy": "2022-01-07T23:04:18.071836Z",
     "iopub.status.idle": "2022-01-07T23:04:18.100744Z",
     "shell.execute_reply": "2022-01-07T23:04:18.101447Z",
     "shell.execute_reply.started": "2022-01-07T22:13:11.077152Z"
    },
    "papermill": {
     "duration": 0.072199,
     "end_time": "2022-01-07T23:04:18.101652",
     "exception": false,
     "start_time": "2022-01-07T23:04:18.029453",
     "status": "completed"
    },
    "tags": []
   },
   "outputs": [
    {
     "data": {
      "text/html": [
       "<div>\n",
       "<style scoped>\n",
       "    .dataframe tbody tr th:only-of-type {\n",
       "        vertical-align: middle;\n",
       "    }\n",
       "\n",
       "    .dataframe tbody tr th {\n",
       "        vertical-align: top;\n",
       "    }\n",
       "\n",
       "    .dataframe thead th {\n",
       "        text-align: right;\n",
       "    }\n",
       "</style>\n",
       "<table border=\"1\" class=\"dataframe\">\n",
       "  <thead>\n",
       "    <tr style=\"text-align: right;\">\n",
       "      <th></th>\n",
       "      <th>LotFrontage</th>\n",
       "      <th>LotArea</th>\n",
       "      <th>OverallQual</th>\n",
       "      <th>YearBuilt</th>\n",
       "      <th>YearRemodAdd</th>\n",
       "      <th>MasVnrArea</th>\n",
       "      <th>BsmtFinSF1</th>\n",
       "      <th>BsmtUnfSF</th>\n",
       "      <th>TotalBsmtSF</th>\n",
       "      <th>1stFlrSF</th>\n",
       "      <th>...</th>\n",
       "      <th>FullBath</th>\n",
       "      <th>HalfBath</th>\n",
       "      <th>TotRmsAbvGrd</th>\n",
       "      <th>Fireplaces</th>\n",
       "      <th>GarageYrBlt</th>\n",
       "      <th>GarageCars</th>\n",
       "      <th>GarageArea</th>\n",
       "      <th>WoodDeckSF</th>\n",
       "      <th>OpenPorchSF</th>\n",
       "      <th>SalePrice</th>\n",
       "    </tr>\n",
       "  </thead>\n",
       "  <tbody>\n",
       "    <tr>\n",
       "      <th>0</th>\n",
       "      <td>65.0</td>\n",
       "      <td>8450</td>\n",
       "      <td>7</td>\n",
       "      <td>2003</td>\n",
       "      <td>2003</td>\n",
       "      <td>196.0</td>\n",
       "      <td>706</td>\n",
       "      <td>150</td>\n",
       "      <td>856</td>\n",
       "      <td>856</td>\n",
       "      <td>...</td>\n",
       "      <td>2</td>\n",
       "      <td>1</td>\n",
       "      <td>8</td>\n",
       "      <td>0</td>\n",
       "      <td>2003.0</td>\n",
       "      <td>2</td>\n",
       "      <td>548</td>\n",
       "      <td>0</td>\n",
       "      <td>61</td>\n",
       "      <td>208500</td>\n",
       "    </tr>\n",
       "    <tr>\n",
       "      <th>1</th>\n",
       "      <td>80.0</td>\n",
       "      <td>9600</td>\n",
       "      <td>6</td>\n",
       "      <td>1976</td>\n",
       "      <td>1976</td>\n",
       "      <td>0.0</td>\n",
       "      <td>978</td>\n",
       "      <td>284</td>\n",
       "      <td>1262</td>\n",
       "      <td>1262</td>\n",
       "      <td>...</td>\n",
       "      <td>2</td>\n",
       "      <td>0</td>\n",
       "      <td>6</td>\n",
       "      <td>1</td>\n",
       "      <td>1976.0</td>\n",
       "      <td>2</td>\n",
       "      <td>460</td>\n",
       "      <td>298</td>\n",
       "      <td>0</td>\n",
       "      <td>181500</td>\n",
       "    </tr>\n",
       "    <tr>\n",
       "      <th>2</th>\n",
       "      <td>68.0</td>\n",
       "      <td>11250</td>\n",
       "      <td>7</td>\n",
       "      <td>2001</td>\n",
       "      <td>2002</td>\n",
       "      <td>162.0</td>\n",
       "      <td>486</td>\n",
       "      <td>434</td>\n",
       "      <td>920</td>\n",
       "      <td>920</td>\n",
       "      <td>...</td>\n",
       "      <td>2</td>\n",
       "      <td>1</td>\n",
       "      <td>6</td>\n",
       "      <td>1</td>\n",
       "      <td>2001.0</td>\n",
       "      <td>2</td>\n",
       "      <td>608</td>\n",
       "      <td>0</td>\n",
       "      <td>42</td>\n",
       "      <td>223500</td>\n",
       "    </tr>\n",
       "    <tr>\n",
       "      <th>3</th>\n",
       "      <td>60.0</td>\n",
       "      <td>9550</td>\n",
       "      <td>7</td>\n",
       "      <td>1915</td>\n",
       "      <td>1970</td>\n",
       "      <td>0.0</td>\n",
       "      <td>216</td>\n",
       "      <td>540</td>\n",
       "      <td>756</td>\n",
       "      <td>961</td>\n",
       "      <td>...</td>\n",
       "      <td>1</td>\n",
       "      <td>0</td>\n",
       "      <td>7</td>\n",
       "      <td>1</td>\n",
       "      <td>1998.0</td>\n",
       "      <td>3</td>\n",
       "      <td>642</td>\n",
       "      <td>0</td>\n",
       "      <td>35</td>\n",
       "      <td>140000</td>\n",
       "    </tr>\n",
       "    <tr>\n",
       "      <th>4</th>\n",
       "      <td>84.0</td>\n",
       "      <td>14260</td>\n",
       "      <td>8</td>\n",
       "      <td>2000</td>\n",
       "      <td>2000</td>\n",
       "      <td>350.0</td>\n",
       "      <td>655</td>\n",
       "      <td>490</td>\n",
       "      <td>1145</td>\n",
       "      <td>1145</td>\n",
       "      <td>...</td>\n",
       "      <td>2</td>\n",
       "      <td>1</td>\n",
       "      <td>9</td>\n",
       "      <td>1</td>\n",
       "      <td>2000.0</td>\n",
       "      <td>3</td>\n",
       "      <td>836</td>\n",
       "      <td>192</td>\n",
       "      <td>84</td>\n",
       "      <td>250000</td>\n",
       "    </tr>\n",
       "    <tr>\n",
       "      <th>...</th>\n",
       "      <td>...</td>\n",
       "      <td>...</td>\n",
       "      <td>...</td>\n",
       "      <td>...</td>\n",
       "      <td>...</td>\n",
       "      <td>...</td>\n",
       "      <td>...</td>\n",
       "      <td>...</td>\n",
       "      <td>...</td>\n",
       "      <td>...</td>\n",
       "      <td>...</td>\n",
       "      <td>...</td>\n",
       "      <td>...</td>\n",
       "      <td>...</td>\n",
       "      <td>...</td>\n",
       "      <td>...</td>\n",
       "      <td>...</td>\n",
       "      <td>...</td>\n",
       "      <td>...</td>\n",
       "      <td>...</td>\n",
       "      <td>...</td>\n",
       "    </tr>\n",
       "    <tr>\n",
       "      <th>1455</th>\n",
       "      <td>62.0</td>\n",
       "      <td>7917</td>\n",
       "      <td>6</td>\n",
       "      <td>1999</td>\n",
       "      <td>2000</td>\n",
       "      <td>0.0</td>\n",
       "      <td>0</td>\n",
       "      <td>953</td>\n",
       "      <td>953</td>\n",
       "      <td>953</td>\n",
       "      <td>...</td>\n",
       "      <td>2</td>\n",
       "      <td>1</td>\n",
       "      <td>7</td>\n",
       "      <td>1</td>\n",
       "      <td>1999.0</td>\n",
       "      <td>2</td>\n",
       "      <td>460</td>\n",
       "      <td>0</td>\n",
       "      <td>40</td>\n",
       "      <td>175000</td>\n",
       "    </tr>\n",
       "    <tr>\n",
       "      <th>1456</th>\n",
       "      <td>85.0</td>\n",
       "      <td>13175</td>\n",
       "      <td>6</td>\n",
       "      <td>1978</td>\n",
       "      <td>1988</td>\n",
       "      <td>119.0</td>\n",
       "      <td>790</td>\n",
       "      <td>589</td>\n",
       "      <td>1542</td>\n",
       "      <td>2073</td>\n",
       "      <td>...</td>\n",
       "      <td>2</td>\n",
       "      <td>0</td>\n",
       "      <td>7</td>\n",
       "      <td>2</td>\n",
       "      <td>1978.0</td>\n",
       "      <td>2</td>\n",
       "      <td>500</td>\n",
       "      <td>349</td>\n",
       "      <td>0</td>\n",
       "      <td>210000</td>\n",
       "    </tr>\n",
       "    <tr>\n",
       "      <th>1457</th>\n",
       "      <td>66.0</td>\n",
       "      <td>9042</td>\n",
       "      <td>7</td>\n",
       "      <td>1941</td>\n",
       "      <td>2006</td>\n",
       "      <td>0.0</td>\n",
       "      <td>275</td>\n",
       "      <td>877</td>\n",
       "      <td>1152</td>\n",
       "      <td>1188</td>\n",
       "      <td>...</td>\n",
       "      <td>2</td>\n",
       "      <td>0</td>\n",
       "      <td>9</td>\n",
       "      <td>2</td>\n",
       "      <td>1941.0</td>\n",
       "      <td>1</td>\n",
       "      <td>252</td>\n",
       "      <td>0</td>\n",
       "      <td>60</td>\n",
       "      <td>266500</td>\n",
       "    </tr>\n",
       "    <tr>\n",
       "      <th>1458</th>\n",
       "      <td>68.0</td>\n",
       "      <td>9717</td>\n",
       "      <td>5</td>\n",
       "      <td>1950</td>\n",
       "      <td>1996</td>\n",
       "      <td>0.0</td>\n",
       "      <td>49</td>\n",
       "      <td>0</td>\n",
       "      <td>1078</td>\n",
       "      <td>1078</td>\n",
       "      <td>...</td>\n",
       "      <td>1</td>\n",
       "      <td>0</td>\n",
       "      <td>5</td>\n",
       "      <td>0</td>\n",
       "      <td>1950.0</td>\n",
       "      <td>1</td>\n",
       "      <td>240</td>\n",
       "      <td>366</td>\n",
       "      <td>0</td>\n",
       "      <td>142125</td>\n",
       "    </tr>\n",
       "    <tr>\n",
       "      <th>1459</th>\n",
       "      <td>75.0</td>\n",
       "      <td>9937</td>\n",
       "      <td>5</td>\n",
       "      <td>1965</td>\n",
       "      <td>1965</td>\n",
       "      <td>0.0</td>\n",
       "      <td>830</td>\n",
       "      <td>136</td>\n",
       "      <td>1256</td>\n",
       "      <td>1256</td>\n",
       "      <td>...</td>\n",
       "      <td>1</td>\n",
       "      <td>1</td>\n",
       "      <td>6</td>\n",
       "      <td>0</td>\n",
       "      <td>1965.0</td>\n",
       "      <td>1</td>\n",
       "      <td>276</td>\n",
       "      <td>736</td>\n",
       "      <td>68</td>\n",
       "      <td>147500</td>\n",
       "    </tr>\n",
       "  </tbody>\n",
       "</table>\n",
       "<p>1460 rows × 23 columns</p>\n",
       "</div>"
      ],
      "text/plain": [
       "      LotFrontage  LotArea  OverallQual  YearBuilt  YearRemodAdd  MasVnrArea  \\\n",
       "0            65.0     8450            7       2003          2003       196.0   \n",
       "1            80.0     9600            6       1976          1976         0.0   \n",
       "2            68.0    11250            7       2001          2002       162.0   \n",
       "3            60.0     9550            7       1915          1970         0.0   \n",
       "4            84.0    14260            8       2000          2000       350.0   \n",
       "...           ...      ...          ...        ...           ...         ...   \n",
       "1455         62.0     7917            6       1999          2000         0.0   \n",
       "1456         85.0    13175            6       1978          1988       119.0   \n",
       "1457         66.0     9042            7       1941          2006         0.0   \n",
       "1458         68.0     9717            5       1950          1996         0.0   \n",
       "1459         75.0     9937            5       1965          1965         0.0   \n",
       "\n",
       "      BsmtFinSF1  BsmtUnfSF  TotalBsmtSF  1stFlrSF  ...  FullBath  HalfBath  \\\n",
       "0            706        150          856       856  ...         2         1   \n",
       "1            978        284         1262      1262  ...         2         0   \n",
       "2            486        434          920       920  ...         2         1   \n",
       "3            216        540          756       961  ...         1         0   \n",
       "4            655        490         1145      1145  ...         2         1   \n",
       "...          ...        ...          ...       ...  ...       ...       ...   \n",
       "1455           0        953          953       953  ...         2         1   \n",
       "1456         790        589         1542      2073  ...         2         0   \n",
       "1457         275        877         1152      1188  ...         2         0   \n",
       "1458          49          0         1078      1078  ...         1         0   \n",
       "1459         830        136         1256      1256  ...         1         1   \n",
       "\n",
       "      TotRmsAbvGrd  Fireplaces  GarageYrBlt  GarageCars  GarageArea  \\\n",
       "0                8           0       2003.0           2         548   \n",
       "1                6           1       1976.0           2         460   \n",
       "2                6           1       2001.0           2         608   \n",
       "3                7           1       1998.0           3         642   \n",
       "4                9           1       2000.0           3         836   \n",
       "...            ...         ...          ...         ...         ...   \n",
       "1455             7           1       1999.0           2         460   \n",
       "1456             7           2       1978.0           2         500   \n",
       "1457             9           2       1941.0           1         252   \n",
       "1458             5           0       1950.0           1         240   \n",
       "1459             6           0       1965.0           1         276   \n",
       "\n",
       "      WoodDeckSF  OpenPorchSF  SalePrice  \n",
       "0              0           61     208500  \n",
       "1            298            0     181500  \n",
       "2              0           42     223500  \n",
       "3              0           35     140000  \n",
       "4            192           84     250000  \n",
       "...          ...          ...        ...  \n",
       "1455           0           40     175000  \n",
       "1456         349            0     210000  \n",
       "1457           0           60     266500  \n",
       "1458         366            0     142125  \n",
       "1459         736           68     147500  \n",
       "\n",
       "[1460 rows x 23 columns]"
      ]
     },
     "execution_count": 20,
     "metadata": {},
     "output_type": "execute_result"
    }
   ],
   "source": [
    "train_df"
   ]
  },
  {
   "cell_type": "code",
   "execution_count": 21,
   "id": "8723dde5",
   "metadata": {
    "execution": {
     "iopub.execute_input": "2022-01-07T23:04:18.184669Z",
     "iopub.status.busy": "2022-01-07T23:04:18.183964Z",
     "iopub.status.idle": "2022-01-07T23:04:18.431014Z",
     "shell.execute_reply": "2022-01-07T23:04:18.430227Z",
     "shell.execute_reply.started": "2022-01-07T22:13:11.111949Z"
    },
    "papermill": {
     "duration": 0.289458,
     "end_time": "2022-01-07T23:04:18.431178",
     "exception": false,
     "start_time": "2022-01-07T23:04:18.141720",
     "status": "completed"
    },
    "tags": []
   },
   "outputs": [
    {
     "data": {
      "text/plain": [
       "<AxesSubplot:ylabel='Frequency'>"
      ]
     },
     "execution_count": 21,
     "metadata": {},
     "output_type": "execute_result"
    },
    {
     "data": {
      "image/png": "[encoded data removed]",
      "text/plain": [
       "<Figure size 432x288 with 1 Axes>"
      ]
     },
     "metadata": {
      "needs_background": "light"
     },
     "output_type": "display_data"
    }
   ],
   "source": [
    "train_df[\"YearRemodAdd\"].plot.hist()"
   ]
  },
  {
   "cell_type": "code",
   "execution_count": 22,
   "id": "6d3c1e0b",
   "metadata": {
    "execution": {
     "iopub.execute_input": "2022-01-07T23:04:18.520084Z",
     "iopub.status.busy": "2022-01-07T23:04:18.519350Z",
     "iopub.status.idle": "2022-01-07T23:04:18.523908Z",
     "shell.execute_reply": "2022-01-07T23:04:18.524509Z",
     "shell.execute_reply.started": "2022-01-07T22:13:11.346773Z"
    },
    "papermill": {
     "duration": 0.052291,
     "end_time": "2022-01-07T23:04:18.524693",
     "exception": false,
     "start_time": "2022-01-07T23:04:18.472402",
     "status": "completed"
    },
    "tags": []
   },
   "outputs": [
    {
     "data": {
      "text/plain": [
       "(761, 23)"
      ]
     },
     "execution_count": 22,
     "metadata": {},
     "output_type": "execute_result"
    }
   ],
   "source": [
    "train_df[train_df[\"WoodDeckSF\"] == 0].shape # removing the WoodDeckSF since 761 records have value = 0"
   ]
  },
  {
   "cell_type": "code",
   "execution_count": 23,
   "id": "8c3197c1",
   "metadata": {
    "execution": {
     "iopub.execute_input": "2022-01-07T23:04:18.609246Z",
     "iopub.status.busy": "2022-01-07T23:04:18.608590Z",
     "iopub.status.idle": "2022-01-07T23:04:18.615613Z",
     "shell.execute_reply": "2022-01-07T23:04:18.616526Z",
     "shell.execute_reply.started": "2022-01-07T22:13:11.359879Z"
    },
    "papermill": {
     "duration": 0.051598,
     "end_time": "2022-01-07T23:04:18.616762",
     "exception": false,
     "start_time": "2022-01-07T23:04:18.565164",
     "status": "completed"
    },
    "tags": []
   },
   "outputs": [
    {
     "data": {
      "text/plain": [
       "(656, 23)"
      ]
     },
     "execution_count": 23,
     "metadata": {},
     "output_type": "execute_result"
    }
   ],
   "source": [
    "train_df[train_df[\"OpenPorchSF\"] == 0].shape # removing the OpenPorchSF since 761 records have value = 0"
   ]
  },
  {
   "cell_type": "code",
   "execution_count": 24,
   "id": "1d357042",
   "metadata": {
    "execution": {
     "iopub.execute_input": "2022-01-07T23:04:18.703053Z",
     "iopub.status.busy": "2022-01-07T23:04:18.702342Z",
     "iopub.status.idle": "2022-01-07T23:04:18.712727Z",
     "shell.execute_reply": "2022-01-07T23:04:18.713216Z",
     "shell.execute_reply.started": "2022-01-07T22:13:11.370609Z"
    },
    "papermill": {
     "duration": 0.055252,
     "end_time": "2022-01-07T23:04:18.713409",
     "exception": false,
     "start_time": "2022-01-07T23:04:18.658157",
     "status": "completed"
    },
    "tags": []
   },
   "outputs": [
    {
     "data": {
      "text/html": [
       "<div>\n",
       "<style scoped>\n",
       "    .dataframe tbody tr th:only-of-type {\n",
       "        vertical-align: middle;\n",
       "    }\n",
       "\n",
       "    .dataframe tbody tr th {\n",
       "        vertical-align: top;\n",
       "    }\n",
       "\n",
       "    .dataframe thead th {\n",
       "        text-align: right;\n",
       "    }\n",
       "</style>\n",
       "<table border=\"1\" class=\"dataframe\">\n",
       "  <thead>\n",
       "    <tr style=\"text-align: right;\">\n",
       "      <th></th>\n",
       "      <th>GarageArea</th>\n",
       "      <th>GarageCars</th>\n",
       "    </tr>\n",
       "  </thead>\n",
       "  <tbody>\n",
       "    <tr>\n",
       "      <th>GarageArea</th>\n",
       "      <td>1.000000</td>\n",
       "      <td>0.882475</td>\n",
       "    </tr>\n",
       "    <tr>\n",
       "      <th>GarageCars</th>\n",
       "      <td>0.882475</td>\n",
       "      <td>1.000000</td>\n",
       "    </tr>\n",
       "  </tbody>\n",
       "</table>\n",
       "</div>"
      ],
      "text/plain": [
       "            GarageArea  GarageCars\n",
       "GarageArea    1.000000    0.882475\n",
       "GarageCars    0.882475    1.000000"
      ]
     },
     "execution_count": 24,
     "metadata": {},
     "output_type": "execute_result"
    }
   ],
   "source": [
    "train_df.loc[:, [\"GarageArea\", \"GarageCars\"]].corr()\n",
    "# Looks like GarageArea and GarageCars are highly correlated \n",
    "# so lets use only GarageCars and drop the GarageArea column\n"
   ]
  },
  {
   "cell_type": "code",
   "execution_count": 25,
   "id": "e8fa98df",
   "metadata": {
    "execution": {
     "iopub.execute_input": "2022-01-07T23:04:18.801173Z",
     "iopub.status.busy": "2022-01-07T23:04:18.800489Z",
     "iopub.status.idle": "2022-01-07T23:04:18.810761Z",
     "shell.execute_reply": "2022-01-07T23:04:18.811249Z",
     "shell.execute_reply.started": "2022-01-07T22:13:11.387557Z"
    },
    "papermill": {
     "duration": 0.055544,
     "end_time": "2022-01-07T23:04:18.811455",
     "exception": false,
     "start_time": "2022-01-07T23:04:18.755911",
     "status": "completed"
    },
    "tags": []
   },
   "outputs": [
    {
     "data": {
      "text/html": [
       "<div>\n",
       "<style scoped>\n",
       "    .dataframe tbody tr th:only-of-type {\n",
       "        vertical-align: middle;\n",
       "    }\n",
       "\n",
       "    .dataframe tbody tr th {\n",
       "        vertical-align: top;\n",
       "    }\n",
       "\n",
       "    .dataframe thead th {\n",
       "        text-align: right;\n",
       "    }\n",
       "</style>\n",
       "<table border=\"1\" class=\"dataframe\">\n",
       "  <thead>\n",
       "    <tr style=\"text-align: right;\">\n",
       "      <th></th>\n",
       "      <th>BsmtFinSF1</th>\n",
       "      <th>BsmtUnfSF</th>\n",
       "      <th>TotalBsmtSF</th>\n",
       "    </tr>\n",
       "  </thead>\n",
       "  <tbody>\n",
       "    <tr>\n",
       "      <th>0</th>\n",
       "      <td>706</td>\n",
       "      <td>150</td>\n",
       "      <td>856</td>\n",
       "    </tr>\n",
       "    <tr>\n",
       "      <th>1</th>\n",
       "      <td>978</td>\n",
       "      <td>284</td>\n",
       "      <td>1262</td>\n",
       "    </tr>\n",
       "    <tr>\n",
       "      <th>2</th>\n",
       "      <td>486</td>\n",
       "      <td>434</td>\n",
       "      <td>920</td>\n",
       "    </tr>\n",
       "    <tr>\n",
       "      <th>3</th>\n",
       "      <td>216</td>\n",
       "      <td>540</td>\n",
       "      <td>756</td>\n",
       "    </tr>\n",
       "  </tbody>\n",
       "</table>\n",
       "</div>"
      ],
      "text/plain": [
       "   BsmtFinSF1  BsmtUnfSF  TotalBsmtSF\n",
       "0         706        150          856\n",
       "1         978        284         1262\n",
       "2         486        434          920\n",
       "3         216        540          756"
      ]
     },
     "execution_count": 25,
     "metadata": {},
     "output_type": "execute_result"
    }
   ],
   "source": [
    "train_df.loc[:, [\"BsmtFinSF1\", \"BsmtUnfSF\", \"TotalBsmtSF\"]].head(4)\n",
    "# lets just use the TotalBsmtSF as its a summation of Finished + Unfinished sq ft\n",
    "# need to drop BsmtFinSF1 and BsmtUnfSF"
   ]
  },
  {
   "cell_type": "code",
   "execution_count": 26,
   "id": "608be561",
   "metadata": {
    "execution": {
     "iopub.execute_input": "2022-01-07T23:04:18.904135Z",
     "iopub.status.busy": "2022-01-07T23:04:18.903013Z",
     "iopub.status.idle": "2022-01-07T23:04:18.905945Z",
     "shell.execute_reply": "2022-01-07T23:04:18.905276Z",
     "shell.execute_reply.started": "2022-01-07T22:13:11.401622Z"
    },
    "papermill": {
     "duration": 0.052251,
     "end_time": "2022-01-07T23:04:18.906091",
     "exception": false,
     "start_time": "2022-01-07T23:04:18.853840",
     "status": "completed"
    },
    "tags": []
   },
   "outputs": [],
   "source": [
    "# drop MasVnrArea, YearBuilt, LotFrontage and GarageYrBlt\n",
    "train_final_df = train_df.copy()\n",
    "# train_df.drop(columns = [\"1stFlrSF\", \"2ndFlrSF\", \"TotalBsmtSF\"])\n",
    "# dropping TotalBsmtSF since its value is same as the 1stFlrSF\n",
    "cols_to_drop = [\"BsmtFinSF1\", \"BsmtUnfSF\", \"GarageArea\", \"OpenPorchSF\", \"WoodDeckSF\", \"MasVnrArea\", \"GarageYrBlt\", \"LotFrontage\", \"YearBuilt\", \"1stFlrSF\", \"2ndFlrSF\", \"TotalBsmtSF\"]\n",
    "train_final_df = train_final_df.drop(columns = cols_to_drop)\n"
   ]
  },
  {
   "cell_type": "code",
   "execution_count": 27,
   "id": "1f7f6a36",
   "metadata": {
    "execution": {
     "iopub.execute_input": "2022-01-07T23:04:19.003915Z",
     "iopub.status.busy": "2022-01-07T23:04:19.002968Z",
     "iopub.status.idle": "2022-01-07T23:04:19.007304Z",
     "shell.execute_reply": "2022-01-07T23:04:19.006673Z",
     "shell.execute_reply.started": "2022-01-07T22:13:11.412002Z"
    },
    "papermill": {
     "duration": 0.058772,
     "end_time": "2022-01-07T23:04:19.007458",
     "exception": false,
     "start_time": "2022-01-07T23:04:18.948686",
     "status": "completed"
    },
    "tags": []
   },
   "outputs": [
    {
     "data": {
      "text/html": [
       "<div>\n",
       "<style scoped>\n",
       "    .dataframe tbody tr th:only-of-type {\n",
       "        vertical-align: middle;\n",
       "    }\n",
       "\n",
       "    .dataframe tbody tr th {\n",
       "        vertical-align: top;\n",
       "    }\n",
       "\n",
       "    .dataframe thead th {\n",
       "        text-align: right;\n",
       "    }\n",
       "</style>\n",
       "<table border=\"1\" class=\"dataframe\">\n",
       "  <thead>\n",
       "    <tr style=\"text-align: right;\">\n",
       "      <th></th>\n",
       "      <th>LotArea</th>\n",
       "      <th>OverallQual</th>\n",
       "      <th>YearRemodAdd</th>\n",
       "      <th>GrLivArea</th>\n",
       "      <th>BsmtFullBath</th>\n",
       "      <th>FullBath</th>\n",
       "      <th>HalfBath</th>\n",
       "      <th>TotRmsAbvGrd</th>\n",
       "      <th>Fireplaces</th>\n",
       "      <th>GarageCars</th>\n",
       "      <th>SalePrice</th>\n",
       "    </tr>\n",
       "  </thead>\n",
       "  <tbody>\n",
       "    <tr>\n",
       "      <th>0</th>\n",
       "      <td>8450</td>\n",
       "      <td>7</td>\n",
       "      <td>2003</td>\n",
       "      <td>1710</td>\n",
       "      <td>1</td>\n",
       "      <td>2</td>\n",
       "      <td>1</td>\n",
       "      <td>8</td>\n",
       "      <td>0</td>\n",
       "      <td>2</td>\n",
       "      <td>208500</td>\n",
       "    </tr>\n",
       "    <tr>\n",
       "      <th>1</th>\n",
       "      <td>9600</td>\n",
       "      <td>6</td>\n",
       "      <td>1976</td>\n",
       "      <td>1262</td>\n",
       "      <td>0</td>\n",
       "      <td>2</td>\n",
       "      <td>0</td>\n",
       "      <td>6</td>\n",
       "      <td>1</td>\n",
       "      <td>2</td>\n",
       "      <td>181500</td>\n",
       "    </tr>\n",
       "    <tr>\n",
       "      <th>2</th>\n",
       "      <td>11250</td>\n",
       "      <td>7</td>\n",
       "      <td>2002</td>\n",
       "      <td>1786</td>\n",
       "      <td>1</td>\n",
       "      <td>2</td>\n",
       "      <td>1</td>\n",
       "      <td>6</td>\n",
       "      <td>1</td>\n",
       "      <td>2</td>\n",
       "      <td>223500</td>\n",
       "    </tr>\n",
       "    <tr>\n",
       "      <th>3</th>\n",
       "      <td>9550</td>\n",
       "      <td>7</td>\n",
       "      <td>1970</td>\n",
       "      <td>1717</td>\n",
       "      <td>1</td>\n",
       "      <td>1</td>\n",
       "      <td>0</td>\n",
       "      <td>7</td>\n",
       "      <td>1</td>\n",
       "      <td>3</td>\n",
       "      <td>140000</td>\n",
       "    </tr>\n",
       "    <tr>\n",
       "      <th>4</th>\n",
       "      <td>14260</td>\n",
       "      <td>8</td>\n",
       "      <td>2000</td>\n",
       "      <td>2198</td>\n",
       "      <td>1</td>\n",
       "      <td>2</td>\n",
       "      <td>1</td>\n",
       "      <td>9</td>\n",
       "      <td>1</td>\n",
       "      <td>3</td>\n",
       "      <td>250000</td>\n",
       "    </tr>\n",
       "  </tbody>\n",
       "</table>\n",
       "</div>"
      ],
      "text/plain": [
       "   LotArea  OverallQual  YearRemodAdd  GrLivArea  BsmtFullBath  FullBath  \\\n",
       "0     8450            7          2003       1710             1         2   \n",
       "1     9600            6          1976       1262             0         2   \n",
       "2    11250            7          2002       1786             1         2   \n",
       "3     9550            7          1970       1717             1         1   \n",
       "4    14260            8          2000       2198             1         2   \n",
       "\n",
       "   HalfBath  TotRmsAbvGrd  Fireplaces  GarageCars  SalePrice  \n",
       "0         1             8           0           2     208500  \n",
       "1         0             6           1           2     181500  \n",
       "2         1             6           1           2     223500  \n",
       "3         0             7           1           3     140000  \n",
       "4         1             9           1           3     250000  "
      ]
     },
     "execution_count": 27,
     "metadata": {},
     "output_type": "execute_result"
    }
   ],
   "source": [
    "train_final_df.head(5)"
   ]
  },
  {
   "cell_type": "code",
   "execution_count": 28,
   "id": "e4dabcf8",
   "metadata": {
    "execution": {
     "iopub.execute_input": "2022-01-07T23:04:19.099562Z",
     "iopub.status.busy": "2022-01-07T23:04:19.098519Z",
     "iopub.status.idle": "2022-01-07T23:04:19.300977Z",
     "shell.execute_reply": "2022-01-07T23:04:19.300285Z",
     "shell.execute_reply.started": "2022-01-07T22:13:11.432001Z"
    },
    "papermill": {
     "duration": 0.251171,
     "end_time": "2022-01-07T23:04:19.301129",
     "exception": false,
     "start_time": "2022-01-07T23:04:19.049958",
     "status": "completed"
    },
    "tags": []
   },
   "outputs": [
    {
     "data": {
      "text/plain": [
       "<AxesSubplot:ylabel='Frequency'>"
      ]
     },
     "execution_count": 28,
     "metadata": {},
     "output_type": "execute_result"
    },
    {
     "data": {
      "image/png": "[encoded data removed]",
      "text/plain": [
       "<Figure size 432x288 with 1 Axes>"
      ]
     },
     "metadata": {
      "needs_background": "light"
     },
     "output_type": "display_data"
    }
   ],
   "source": [
    "train_final_df[\"YearRemodAdd\"].plot.hist()"
   ]
  },
  {
   "cell_type": "code",
   "execution_count": 29,
   "id": "5366caaa",
   "metadata": {
    "execution": {
     "iopub.execute_input": "2022-01-07T23:04:19.397049Z",
     "iopub.status.busy": "2022-01-07T23:04:19.396071Z",
     "iopub.status.idle": "2022-01-07T23:04:19.399237Z",
     "shell.execute_reply": "2022-01-07T23:04:19.398622Z",
     "shell.execute_reply.started": "2022-01-07T22:13:11.676016Z"
    },
    "papermill": {
     "duration": 0.053482,
     "end_time": "2022-01-07T23:04:19.399376",
     "exception": false,
     "start_time": "2022-01-07T23:04:19.345894",
     "status": "completed"
    },
    "tags": []
   },
   "outputs": [],
   "source": [
    "# map the YearRemodAdd to numerical values\n",
    "# since more recent the remod year better it is, we will map the histogram bins and assign them numbers\n",
    "def map_year_remod(year):\n",
    "    if year >= 1950 and year < 1960:\n",
    "        return 1\n",
    "    elif year >= 1960 and year < 1970:\n",
    "        return 2\n",
    "    elif year >= 1970 and year < 1980:\n",
    "        return 3\n",
    "    elif year >= 1980 and year < 1990:\n",
    "        return 4\n",
    "    elif year >= 1990 and year < 2000:\n",
    "        return 5\n",
    "    else:\n",
    "        return 6"
   ]
  },
  {
   "cell_type": "code",
   "execution_count": 30,
   "id": "cfa95b11",
   "metadata": {
    "execution": {
     "iopub.execute_input": "2022-01-07T23:04:19.496315Z",
     "iopub.status.busy": "2022-01-07T23:04:19.495439Z",
     "iopub.status.idle": "2022-01-07T23:04:19.499275Z",
     "shell.execute_reply": "2022-01-07T23:04:19.498747Z",
     "shell.execute_reply.started": "2022-01-07T22:13:11.683748Z"
    },
    "papermill": {
     "duration": 0.056357,
     "end_time": "2022-01-07T23:04:19.499414",
     "exception": false,
     "start_time": "2022-01-07T23:04:19.443057",
     "status": "completed"
    },
    "tags": []
   },
   "outputs": [],
   "source": [
    "train_final_df[\"remod_year_mapped\"] = train_final_df['YearRemodAdd'].apply(map_year_remod)\n",
    "train_final_df = train_final_df.drop(columns = [\"YearRemodAdd\"])"
   ]
  },
  {
   "cell_type": "code",
   "execution_count": 31,
   "id": "0df782f0",
   "metadata": {
    "execution": {
     "iopub.execute_input": "2022-01-07T23:04:19.604818Z",
     "iopub.status.busy": "2022-01-07T23:04:19.603734Z",
     "iopub.status.idle": "2022-01-07T23:04:19.623633Z",
     "shell.execute_reply": "2022-01-07T23:04:19.624569Z",
     "shell.execute_reply.started": "2022-01-07T22:13:11.697382Z"
    },
    "papermill": {
     "duration": 0.081669,
     "end_time": "2022-01-07T23:04:19.624809",
     "exception": false,
     "start_time": "2022-01-07T23:04:19.543140",
     "status": "completed"
    },
    "tags": []
   },
   "outputs": [
    {
     "data": {
      "text/html": [
       "<div>\n",
       "<style scoped>\n",
       "    .dataframe tbody tr th:only-of-type {\n",
       "        vertical-align: middle;\n",
       "    }\n",
       "\n",
       "    .dataframe tbody tr th {\n",
       "        vertical-align: top;\n",
       "    }\n",
       "\n",
       "    .dataframe thead th {\n",
       "        text-align: right;\n",
       "    }\n",
       "</style>\n",
       "<table border=\"1\" class=\"dataframe\">\n",
       "  <thead>\n",
       "    <tr style=\"text-align: right;\">\n",
       "      <th></th>\n",
       "      <th>LotArea</th>\n",
       "      <th>OverallQual</th>\n",
       "      <th>GrLivArea</th>\n",
       "      <th>BsmtFullBath</th>\n",
       "      <th>FullBath</th>\n",
       "      <th>HalfBath</th>\n",
       "      <th>TotRmsAbvGrd</th>\n",
       "      <th>Fireplaces</th>\n",
       "      <th>GarageCars</th>\n",
       "      <th>SalePrice</th>\n",
       "      <th>remod_year_mapped</th>\n",
       "    </tr>\n",
       "  </thead>\n",
       "  <tbody>\n",
       "    <tr>\n",
       "      <th>0</th>\n",
       "      <td>8450</td>\n",
       "      <td>7</td>\n",
       "      <td>1710</td>\n",
       "      <td>1</td>\n",
       "      <td>2</td>\n",
       "      <td>1</td>\n",
       "      <td>8</td>\n",
       "      <td>0</td>\n",
       "      <td>2</td>\n",
       "      <td>208500</td>\n",
       "      <td>6</td>\n",
       "    </tr>\n",
       "    <tr>\n",
       "      <th>1</th>\n",
       "      <td>9600</td>\n",
       "      <td>6</td>\n",
       "      <td>1262</td>\n",
       "      <td>0</td>\n",
       "      <td>2</td>\n",
       "      <td>0</td>\n",
       "      <td>6</td>\n",
       "      <td>1</td>\n",
       "      <td>2</td>\n",
       "      <td>181500</td>\n",
       "      <td>3</td>\n",
       "    </tr>\n",
       "    <tr>\n",
       "      <th>2</th>\n",
       "      <td>11250</td>\n",
       "      <td>7</td>\n",
       "      <td>1786</td>\n",
       "      <td>1</td>\n",
       "      <td>2</td>\n",
       "      <td>1</td>\n",
       "      <td>6</td>\n",
       "      <td>1</td>\n",
       "      <td>2</td>\n",
       "      <td>223500</td>\n",
       "      <td>6</td>\n",
       "    </tr>\n",
       "    <tr>\n",
       "      <th>3</th>\n",
       "      <td>9550</td>\n",
       "      <td>7</td>\n",
       "      <td>1717</td>\n",
       "      <td>1</td>\n",
       "      <td>1</td>\n",
       "      <td>0</td>\n",
       "      <td>7</td>\n",
       "      <td>1</td>\n",
       "      <td>3</td>\n",
       "      <td>140000</td>\n",
       "      <td>3</td>\n",
       "    </tr>\n",
       "    <tr>\n",
       "      <th>4</th>\n",
       "      <td>14260</td>\n",
       "      <td>8</td>\n",
       "      <td>2198</td>\n",
       "      <td>1</td>\n",
       "      <td>2</td>\n",
       "      <td>1</td>\n",
       "      <td>9</td>\n",
       "      <td>1</td>\n",
       "      <td>3</td>\n",
       "      <td>250000</td>\n",
       "      <td>6</td>\n",
       "    </tr>\n",
       "  </tbody>\n",
       "</table>\n",
       "</div>"
      ],
      "text/plain": [
       "   LotArea  OverallQual  GrLivArea  BsmtFullBath  FullBath  HalfBath  \\\n",
       "0     8450            7       1710             1         2         1   \n",
       "1     9600            6       1262             0         2         0   \n",
       "2    11250            7       1786             1         2         1   \n",
       "3     9550            7       1717             1         1         0   \n",
       "4    14260            8       2198             1         2         1   \n",
       "\n",
       "   TotRmsAbvGrd  Fireplaces  GarageCars  SalePrice  remod_year_mapped  \n",
       "0             8           0           2     208500                  6  \n",
       "1             6           1           2     181500                  3  \n",
       "2             6           1           2     223500                  6  \n",
       "3             7           1           3     140000                  3  \n",
       "4             9           1           3     250000                  6  "
      ]
     },
     "execution_count": 31,
     "metadata": {},
     "output_type": "execute_result"
    }
   ],
   "source": [
    "train_final_df.head(5)"
   ]
  },
  {
   "cell_type": "code",
   "execution_count": 32,
   "id": "ebeecdb4",
   "metadata": {
    "execution": {
     "iopub.execute_input": "2022-01-07T23:04:19.729924Z",
     "iopub.status.busy": "2022-01-07T23:04:19.728801Z",
     "iopub.status.idle": "2022-01-07T23:04:25.917326Z",
     "shell.execute_reply": "2022-01-07T23:04:25.918120Z",
     "shell.execute_reply.started": "2022-01-07T22:13:11.715024Z"
    },
    "papermill": {
     "duration": 6.245717,
     "end_time": "2022-01-07T23:04:25.918388",
     "exception": false,
     "start_time": "2022-01-07T23:04:19.672671",
     "status": "completed"
    },
    "tags": []
   },
   "outputs": [
    {
     "name": "stdout",
     "output_type": "stream",
     "text": [
      "-37623.66474782881\n",
      "-42782.952538204896\n",
      "-32712.667614211423\n"
     ]
    }
   ],
   "source": [
    "features = [\"LotArea\", \"OverallQual\", \"GrLivArea\", \"BsmtFullBath\", \"FullBath\", \"HalfBath\", \"TotRmsAbvGrd\", \"Fireplaces\", \"GarageCars\", \"remod_year_mapped\"]\n",
    "target = \"SalePrice\"\n",
    "\n",
    "models = [LinearRegression(), DecisionTreeRegressor(), RandomForestRegressor()]\n",
    "for m in models:\n",
    "    rmse = perform_cross_validation(m, features, target, train_final_df)\n",
    "    print(rmse)"
   ]
  },
  {
   "cell_type": "code",
   "execution_count": 33,
   "id": "c7f17dbe",
   "metadata": {
    "execution": {
     "iopub.execute_input": "2022-01-07T23:04:26.013023Z",
     "iopub.status.busy": "2022-01-07T23:04:26.012269Z",
     "iopub.status.idle": "2022-01-07T23:04:26.663642Z",
     "shell.execute_reply": "2022-01-07T23:04:26.663022Z",
     "shell.execute_reply.started": "2022-01-07T22:13:16.901587Z"
    },
    "papermill": {
     "duration": 0.699682,
     "end_time": "2022-01-07T23:04:26.663815",
     "exception": false,
     "start_time": "2022-01-07T23:04:25.964133",
     "status": "completed"
    },
    "tags": []
   },
   "outputs": [],
   "source": [
    "# Looks like RandomForestRegressor has the lowest error.\n",
    "# Let us try to fit and make the predictions\n",
    "test_df[\"remod_year_mapped\"] = test_df['YearRemodAdd'].apply(map_year_remod)\n",
    "test_df[\"BsmtFullBath\"] = test_df[\"BsmtFullBath\"].fillna(test_df[\"BsmtFullBath\"].mode()[0])\n",
    "test_df[\"GarageCars\"] = test_df[\"GarageCars\"].fillna(test_df[\"GarageCars\"].mode()[0])\n",
    "\n",
    "model = RandomForestRegressor(random_state = 1)\n",
    "model.fit(train_final_df[features], train_final_df[target])\n",
    "predictions = model.predict(test_df[features])"
   ]
  },
  {
   "cell_type": "code",
   "execution_count": 34,
   "id": "120c9657",
   "metadata": {
    "execution": {
     "iopub.execute_input": "2022-01-07T23:04:26.759457Z",
     "iopub.status.busy": "2022-01-07T23:04:26.758765Z",
     "iopub.status.idle": "2022-01-07T23:04:26.761193Z",
     "shell.execute_reply": "2022-01-07T23:04:26.761998Z",
     "shell.execute_reply.started": "2022-01-07T22:13:17.420964Z"
    },
    "papermill": {
     "duration": 0.052869,
     "end_time": "2022-01-07T23:04:26.762213",
     "exception": false,
     "start_time": "2022-01-07T23:04:26.709344",
     "status": "completed"
    },
    "tags": []
   },
   "outputs": [],
   "source": [
    "# ids = test_df[\"Id\"]\n",
    "# submission = pd.DataFrame(\n",
    "#     {\n",
    "#         \"Id\": ids,\n",
    "#         \"SalePrice\": predictions\n",
    "#     }\n",
    "# )\n",
    "\n",
    "# submission.to_csv(\"submission.csv\", index=False)"
   ]
  },
  {
   "cell_type": "code",
   "execution_count": 35,
   "id": "d65c0f4e",
   "metadata": {
    "execution": {
     "iopub.execute_input": "2022-01-07T23:04:26.861611Z",
     "iopub.status.busy": "2022-01-07T23:04:26.860781Z",
     "iopub.status.idle": "2022-01-07T23:04:26.863351Z",
     "shell.execute_reply": "2022-01-07T23:04:26.864387Z",
     "shell.execute_reply.started": "2022-01-07T22:40:55.991245Z"
    },
    "papermill": {
     "duration": 0.055825,
     "end_time": "2022-01-07T23:04:26.864639",
     "exception": false,
     "start_time": "2022-01-07T23:04:26.808814",
     "status": "completed"
    },
    "tags": []
   },
   "outputs": [],
   "source": [
    "# # score of 0.16504 (not too shabby!)\n",
    "# # lets try hyper parameter optimization using GridSearchCV\n",
    "# from sklearn.model_selection import GridSearchCV\n",
    "\n",
    "# rfRegressor = \\\n",
    "# {\n",
    "#     \"name\": \"RandomForestRegressor\",\n",
    "#     \"estimator\": RandomForestRegressor(random_state=1),\n",
    "#     \"hyperparameters\":\n",
    "#         {\n",
    "#             \"n_estimators\": [100],\n",
    "#             \"criterion\": [\"mae\"],\n",
    "#             \"max_depth\": [10],\n",
    "#             #\"max_features\": [\"log2\", \"sqrt\"],\n",
    "#             \"min_samples_leaf\": [3, 6, 9, 12],\n",
    "#             \"min_samples_split\": [3, 6, 9, 12]\n",
    "\n",
    "#         }\n",
    "# }\n",
    "# grid = GridSearchCV(rfRegressor[\"estimator\"],\n",
    "#                             param_grid=rfRegressor[\"hyperparameters\"],\n",
    "#                             cv=10)\n",
    "# grid.fit(train_final_df[features],train_final_df[target])\n",
    "\n",
    "# print(\"Best Score: {}\".format(grid.best_score_))\n",
    "# print(\"Best Parameters: {}\\n\".format(grid.best_params_))\n",
    "\n",
    "# final_model = grid.best_estimator_"
   ]
  },
  {
   "cell_type": "code",
   "execution_count": 36,
   "id": "7fed5e18",
   "metadata": {
    "execution": {
     "iopub.execute_input": "2022-01-07T23:04:26.972386Z",
     "iopub.status.busy": "2022-01-07T23:04:26.971598Z",
     "iopub.status.idle": "2022-01-07T23:04:26.974584Z",
     "shell.execute_reply": "2022-01-07T23:04:26.975119Z",
     "shell.execute_reply.started": "2022-01-07T22:53:21.701390Z"
    },
    "papermill": {
     "duration": 0.06402,
     "end_time": "2022-01-07T23:04:26.975303",
     "exception": false,
     "start_time": "2022-01-07T23:04:26.911283",
     "status": "completed"
    },
    "tags": []
   },
   "outputs": [
    {
     "name": "stdout",
     "output_type": "stream",
     "text": [
      "<class 'pandas.core.frame.DataFrame'>\n",
      "RangeIndex: 1460 entries, 0 to 1459\n",
      "Data columns (total 10 columns):\n",
      " #   Column             Non-Null Count  Dtype\n",
      "---  ------             --------------  -----\n",
      " 0   LotArea            1460 non-null   int64\n",
      " 1   OverallQual        1460 non-null   int64\n",
      " 2   GrLivArea          1460 non-null   int64\n",
      " 3   BsmtFullBath       1460 non-null   int64\n",
      " 4   FullBath           1460 non-null   int64\n",
      " 5   HalfBath           1460 non-null   int64\n",
      " 6   TotRmsAbvGrd       1460 non-null   int64\n",
      " 7   Fireplaces         1460 non-null   int64\n",
      " 8   GarageCars         1460 non-null   int64\n",
      " 9   remod_year_mapped  1460 non-null   int64\n",
      "dtypes: int64(10)\n",
      "memory usage: 114.2 KB\n"
     ]
    }
   ],
   "source": [
    "train_final_df[features].info()"
   ]
  },
  {
   "cell_type": "code",
   "execution_count": 37,
   "id": "6360d942",
   "metadata": {
    "execution": {
     "iopub.execute_input": "2022-01-07T23:04:27.076445Z",
     "iopub.status.busy": "2022-01-07T23:04:27.075624Z",
     "iopub.status.idle": "2022-01-07T23:04:27.090047Z",
     "shell.execute_reply": "2022-01-07T23:04:27.090550Z",
     "shell.execute_reply.started": "2022-01-07T22:53:32.797266Z"
    },
    "papermill": {
     "duration": 0.066097,
     "end_time": "2022-01-07T23:04:27.090760",
     "exception": false,
     "start_time": "2022-01-07T23:04:27.024663",
     "status": "completed"
    },
    "tags": []
   },
   "outputs": [
    {
     "name": "stdout",
     "output_type": "stream",
     "text": [
      "<class 'pandas.core.frame.DataFrame'>\n",
      "RangeIndex: 1459 entries, 0 to 1458\n",
      "Data columns (total 10 columns):\n",
      " #   Column             Non-Null Count  Dtype  \n",
      "---  ------             --------------  -----  \n",
      " 0   LotArea            1459 non-null   int64  \n",
      " 1   OverallQual        1459 non-null   int64  \n",
      " 2   GrLivArea          1459 non-null   int64  \n",
      " 3   BsmtFullBath       1459 non-null   float64\n",
      " 4   FullBath           1459 non-null   int64  \n",
      " 5   HalfBath           1459 non-null   int64  \n",
      " 6   TotRmsAbvGrd       1459 non-null   int64  \n",
      " 7   Fireplaces         1459 non-null   int64  \n",
      " 8   GarageCars         1459 non-null   float64\n",
      " 9   remod_year_mapped  1459 non-null   int64  \n",
      "dtypes: float64(2), int64(8)\n",
      "memory usage: 114.1 KB\n"
     ]
    }
   ],
   "source": [
    "test_df[features].info()"
   ]
  },
  {
   "cell_type": "code",
   "execution_count": 38,
   "id": "505dbfad",
   "metadata": {
    "execution": {
     "iopub.execute_input": "2022-01-07T23:04:27.191368Z",
     "iopub.status.busy": "2022-01-07T23:04:27.190398Z",
     "iopub.status.idle": "2022-01-07T23:04:27.193767Z",
     "shell.execute_reply": "2022-01-07T23:04:27.193222Z",
     "shell.execute_reply.started": "2022-01-07T22:56:50.609958Z"
    },
    "papermill": {
     "duration": 0.056221,
     "end_time": "2022-01-07T23:04:27.193948",
     "exception": false,
     "start_time": "2022-01-07T23:04:27.137727",
     "status": "completed"
    },
    "tags": []
   },
   "outputs": [],
   "source": [
    "test_df[\"BsmtFullBath\"] = test_df[\"BsmtFullBath\"].astype(int)\n",
    "test_df[\"GarageCars\"] = test_df[\"GarageCars\"].astype(int)"
   ]
  },
  {
   "cell_type": "code",
   "execution_count": 39,
   "id": "309d9138",
   "metadata": {
    "execution": {
     "iopub.execute_input": "2022-01-07T23:04:27.303942Z",
     "iopub.status.busy": "2022-01-07T23:04:27.298544Z",
     "iopub.status.idle": "2022-01-07T23:04:27.947553Z",
     "shell.execute_reply": "2022-01-07T23:04:27.946876Z"
    },
    "papermill": {
     "duration": 0.706017,
     "end_time": "2022-01-07T23:04:27.947730",
     "exception": false,
     "start_time": "2022-01-07T23:04:27.241713",
     "status": "completed"
    },
    "tags": []
   },
   "outputs": [],
   "source": [
    "# create final submission file\n",
    "\n",
    "final_model = RandomForestRegressor(criterion='mae', max_depth=10, min_samples_leaf=3,\n",
    "                      min_samples_split=3, random_state=1)\n",
    "model.fit(train_final_df[features], train_final_df[target])\n",
    "predictions = model.predict(test_df[features])\n",
    "\n",
    "ids = test_df[\"Id\"]\n",
    "submission = pd.DataFrame(\n",
    "    {\n",
    "        \"Id\": ids,\n",
    "        \"SalePrice\": predictions\n",
    "    }\n",
    ")\n",
    "\n",
    "submission.to_csv(\"submission.csv\", index=False)"
   ]
  },
  {
   "cell_type": "code",
   "execution_count": 40,
   "id": "1ec9ae9e",
   "metadata": {
    "execution": {
     "iopub.execute_input": "2022-01-07T23:04:28.045043Z",
     "iopub.status.busy": "2022-01-07T23:04:28.043715Z",
     "iopub.status.idle": "2022-01-07T23:04:28.058063Z",
     "shell.execute_reply": "2022-01-07T23:04:28.058677Z",
     "shell.execute_reply.started": "2022-01-07T22:57:02.385309Z"
    },
    "papermill": {
     "duration": 0.065096,
     "end_time": "2022-01-07T23:04:28.058860",
     "exception": false,
     "start_time": "2022-01-07T23:04:27.993764",
     "status": "completed"
    },
    "tags": []
   },
   "outputs": [
    {
     "data": {
      "text/html": [
       "<div>\n",
       "<style scoped>\n",
       "    .dataframe tbody tr th:only-of-type {\n",
       "        vertical-align: middle;\n",
       "    }\n",
       "\n",
       "    .dataframe tbody tr th {\n",
       "        vertical-align: top;\n",
       "    }\n",
       "\n",
       "    .dataframe thead th {\n",
       "        text-align: right;\n",
       "    }\n",
       "</style>\n",
       "<table border=\"1\" class=\"dataframe\">\n",
       "  <thead>\n",
       "    <tr style=\"text-align: right;\">\n",
       "      <th></th>\n",
       "      <th>LotArea</th>\n",
       "      <th>OverallQual</th>\n",
       "      <th>GrLivArea</th>\n",
       "      <th>BsmtFullBath</th>\n",
       "      <th>FullBath</th>\n",
       "      <th>HalfBath</th>\n",
       "      <th>TotRmsAbvGrd</th>\n",
       "      <th>Fireplaces</th>\n",
       "      <th>GarageCars</th>\n",
       "      <th>remod_year_mapped</th>\n",
       "    </tr>\n",
       "  </thead>\n",
       "  <tbody>\n",
       "    <tr>\n",
       "      <th>0</th>\n",
       "      <td>11622</td>\n",
       "      <td>5</td>\n",
       "      <td>896</td>\n",
       "      <td>0</td>\n",
       "      <td>1</td>\n",
       "      <td>0</td>\n",
       "      <td>5</td>\n",
       "      <td>0</td>\n",
       "      <td>1</td>\n",
       "      <td>2</td>\n",
       "    </tr>\n",
       "    <tr>\n",
       "      <th>1</th>\n",
       "      <td>14267</td>\n",
       "      <td>6</td>\n",
       "      <td>1329</td>\n",
       "      <td>0</td>\n",
       "      <td>1</td>\n",
       "      <td>1</td>\n",
       "      <td>6</td>\n",
       "      <td>0</td>\n",
       "      <td>1</td>\n",
       "      <td>1</td>\n",
       "    </tr>\n",
       "    <tr>\n",
       "      <th>2</th>\n",
       "      <td>13830</td>\n",
       "      <td>5</td>\n",
       "      <td>1629</td>\n",
       "      <td>0</td>\n",
       "      <td>2</td>\n",
       "      <td>1</td>\n",
       "      <td>6</td>\n",
       "      <td>1</td>\n",
       "      <td>2</td>\n",
       "      <td>5</td>\n",
       "    </tr>\n",
       "    <tr>\n",
       "      <th>3</th>\n",
       "      <td>9978</td>\n",
       "      <td>6</td>\n",
       "      <td>1604</td>\n",
       "      <td>0</td>\n",
       "      <td>2</td>\n",
       "      <td>1</td>\n",
       "      <td>7</td>\n",
       "      <td>1</td>\n",
       "      <td>2</td>\n",
       "      <td>5</td>\n",
       "    </tr>\n",
       "  </tbody>\n",
       "</table>\n",
       "</div>"
      ],
      "text/plain": [
       "   LotArea  OverallQual  GrLivArea  BsmtFullBath  FullBath  HalfBath  \\\n",
       "0    11622            5        896             0         1         0   \n",
       "1    14267            6       1329             0         1         1   \n",
       "2    13830            5       1629             0         2         1   \n",
       "3     9978            6       1604             0         2         1   \n",
       "\n",
       "   TotRmsAbvGrd  Fireplaces  GarageCars  remod_year_mapped  \n",
       "0             5           0           1                  2  \n",
       "1             6           0           1                  1  \n",
       "2             6           1           2                  5  \n",
       "3             7           1           2                  5  "
      ]
     },
     "execution_count": 40,
     "metadata": {},
     "output_type": "execute_result"
    }
   ],
   "source": [
    "test_df[features].head(4)"
   ]
  },
  {
   "cell_type": "code",
   "execution_count": null,
   "id": "8d0cad89",
   "metadata": {
    "papermill": {
     "duration": 0.046626,
     "end_time": "2022-01-07T23:04:28.156764",
     "exception": false,
     "start_time": "2022-01-07T23:04:28.110138",
     "status": "completed"
    },
    "tags": []
   },
   "outputs": [],
   "source": []
  }
 ],
 "metadata": {
  "kernelspec": {
   "display_name": "Python 3",
   "language": "python",
   "name": "python3"
  },
  "language_info": {
   "codemirror_mode": {
    "name": "ipython",
    "version": 3
   },
   "file_extension": ".py",
   "mimetype": "text/x-python",
   "name": "python",
   "nbconvert_exporter": "python",
   "pygments_lexer": "ipython3",
   "version": "3.7.12"
  },
  "papermill": {
   "default_parameters": {},
   "duration": 26.566011,
   "end_time": "2022-01-07T23:04:29.015362",
   "environment_variables": {},
   "exception": null,
   "input_path": "__notebook__.ipynb",
   "output_path": "__notebook__.ipynb",
   "parameters": {},
   "start_time": "2022-01-07T23:04:02.449351",
   "version": "2.3.3"
  }
 },
 "nbformat": 4,
 "nbformat_minor": 5
}
