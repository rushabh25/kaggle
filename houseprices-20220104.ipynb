{
 "cells": [
  {
   "cell_type": "code",
   "execution_count": 1,
   "id": "56de0b45",
   "metadata": {
    "_cell_guid": "b1076dfc-b9ad-4769-8c92-a6c4dae69d19",
    "_uuid": "8f2839f25d086af736a60e9eeb907d3b93b6e0e5",
    "execution": {
     "iopub.execute_input": "2022-01-07T23:14:12.424214Z",
     "iopub.status.busy": "2022-01-07T23:14:12.422403Z",
     "iopub.status.idle": "2022-01-07T23:14:12.439811Z",
     "shell.execute_reply": "2022-01-07T23:14:12.440357Z",
     "shell.execute_reply.started": "2022-01-07T22:13:08.627156Z"
    },
    "papermill": {
     "duration": 0.060947,
     "end_time": "2022-01-07T23:14:12.440692",
     "exception": false,
     "start_time": "2022-01-07T23:14:12.379745",
     "status": "completed"
    },
    "tags": []
   },
   "outputs": [
    {
     "name": "stdout",
     "output_type": "stream",
     "text": [
      "/kaggle/input/house-prices-advanced-regression-techniques/sample_submission.csv\n",
      "/kaggle/input/house-prices-advanced-regression-techniques/data_description.txt\n",
      "/kaggle/input/house-prices-advanced-regression-techniques/train.csv\n",
      "/kaggle/input/house-prices-advanced-regression-techniques/test.csv\n"
     ]
    }
   ],
   "source": [
    "# This Python 3 environment comes with many helpful analytics libraries installed\n",
    "# It is defined by the kaggle/python Docker image: https://github.com/kaggle/docker-python\n",
    "# For example, here's several helpful packages to load\n",
    "\n",
    "import numpy as np # linear algebra\n",
    "import pandas as pd # data processing, CSV file I/O (e.g. pd.read_csv)\n",
    "\n",
    "# Input data files are available in the read-only \"../input/\" directory\n",
    "# For example, running this (by clicking run or pressing Shift+Enter) will list all files under the input directory\n",
    "\n",
    "import os\n",
    "for dirname, _, filenames in os.walk('/kaggle/input'):\n",
    "    for filename in filenames:\n",
    "        print(os.path.join(dirname, filename))\n",
    "\n",
    "# You can write up to 20GB to the current directory (/kaggle/working/) that gets preserved as output when you create a version using \"Save & Run All\" \n",
    "# You can also write temporary files to /kaggle/temp/, but they won't be saved outside of the current session"
   ]
  },
  {
   "cell_type": "code",
   "execution_count": 2,
   "id": "2b54371d",
   "metadata": {
    "execution": {
     "iopub.execute_input": "2022-01-07T23:14:12.522764Z",
     "iopub.status.busy": "2022-01-07T23:14:12.521750Z",
     "iopub.status.idle": "2022-01-07T23:14:12.526091Z",
     "shell.execute_reply": "2022-01-07T23:14:12.526642Z",
     "shell.execute_reply.started": "2022-01-07T22:13:08.641438Z"
    },
    "papermill": {
     "duration": 0.047328,
     "end_time": "2022-01-07T23:14:12.526821",
     "exception": false,
     "start_time": "2022-01-07T23:14:12.479493",
     "status": "completed"
    },
    "tags": []
   },
   "outputs": [],
   "source": [
    "# setup\n",
    "TRAIN_PATH = \"../input/house-prices-advanced-regression-techniques/train.csv\"\n",
    "TEST_PATH = \"../input/house-prices-advanced-regression-techniques/test.csv\"\n",
    "SUBMISSION_PATH = \"../input/house-prices-advanced-regression-techniques/sample_submission.csv\"\n",
    "\n",
    "OUTPUT_PATH = \"../output/kaggle/working/submission.csv\""
   ]
  },
  {
   "cell_type": "code",
   "execution_count": 3,
   "id": "4c5311a1",
   "metadata": {
    "execution": {
     "iopub.execute_input": "2022-01-07T23:14:12.606081Z",
     "iopub.status.busy": "2022-01-07T23:14:12.605367Z",
     "iopub.status.idle": "2022-01-07T23:14:12.689707Z",
     "shell.execute_reply": "2022-01-07T23:14:12.689081Z",
     "shell.execute_reply.started": "2022-01-07T22:13:08.648272Z"
    },
    "papermill": {
     "duration": 0.125413,
     "end_time": "2022-01-07T23:14:12.689852",
     "exception": false,
     "start_time": "2022-01-07T23:14:12.564439",
     "status": "completed"
    },
    "tags": []
   },
   "outputs": [],
   "source": [
    "train_df = pd.read_csv(TRAIN_PATH)\n",
    "test_df = pd.read_csv(TEST_PATH)\n",
    "sample_submission_df = pd.read_csv(SUBMISSION_PATH)"
   ]
  },
  {
   "cell_type": "code",
   "execution_count": 4,
   "id": "d0356659",
   "metadata": {
    "execution": {
     "iopub.execute_input": "2022-01-07T23:14:12.770464Z",
     "iopub.status.busy": "2022-01-07T23:14:12.769428Z",
     "iopub.status.idle": "2022-01-07T23:14:12.807731Z",
     "shell.execute_reply": "2022-01-07T23:14:12.808311Z",
     "shell.execute_reply.started": "2022-01-07T22:13:08.739215Z"
    },
    "papermill": {
     "duration": 0.079161,
     "end_time": "2022-01-07T23:14:12.808519",
     "exception": false,
     "start_time": "2022-01-07T23:14:12.729358",
     "status": "completed"
    },
    "tags": []
   },
   "outputs": [
    {
     "name": "stdout",
     "output_type": "stream",
     "text": [
      "<class 'pandas.core.frame.DataFrame'>\n",
      "RangeIndex: 1460 entries, 0 to 1459\n",
      "Data columns (total 81 columns):\n",
      " #   Column         Non-Null Count  Dtype  \n",
      "---  ------         --------------  -----  \n",
      " 0   Id             1460 non-null   int64  \n",
      " 1   MSSubClass     1460 non-null   int64  \n",
      " 2   MSZoning       1460 non-null   object \n",
      " 3   LotFrontage    1201 non-null   float64\n",
      " 4   LotArea        1460 non-null   int64  \n",
      " 5   Street         1460 non-null   object \n",
      " 6   Alley          91 non-null     object \n",
      " 7   LotShape       1460 non-null   object \n",
      " 8   LandContour    1460 non-null   object \n",
      " 9   Utilities      1460 non-null   object \n",
      " 10  LotConfig      1460 non-null   object \n",
      " 11  LandSlope      1460 non-null   object \n",
      " 12  Neighborhood   1460 non-null   object \n",
      " 13  Condition1     1460 non-null   object \n",
      " 14  Condition2     1460 non-null   object \n",
      " 15  BldgType       1460 non-null   object \n",
      " 16  HouseStyle     1460 non-null   object \n",
      " 17  OverallQual    1460 non-null   int64  \n",
      " 18  OverallCond    1460 non-null   int64  \n",
      " 19  YearBuilt      1460 non-null   int64  \n",
      " 20  YearRemodAdd   1460 non-null   int64  \n",
      " 21  RoofStyle      1460 non-null   object \n",
      " 22  RoofMatl       1460 non-null   object \n",
      " 23  Exterior1st    1460 non-null   object \n",
      " 24  Exterior2nd    1460 non-null   object \n",
      " 25  MasVnrType     1452 non-null   object \n",
      " 26  MasVnrArea     1452 non-null   float64\n",
      " 27  ExterQual      1460 non-null   object \n",
      " 28  ExterCond      1460 non-null   object \n",
      " 29  Foundation     1460 non-null   object \n",
      " 30  BsmtQual       1423 non-null   object \n",
      " 31  BsmtCond       1423 non-null   object \n",
      " 32  BsmtExposure   1422 non-null   object \n",
      " 33  BsmtFinType1   1423 non-null   object \n",
      " 34  BsmtFinSF1     1460 non-null   int64  \n",
      " 35  BsmtFinType2   1422 non-null   object \n",
      " 36  BsmtFinSF2     1460 non-null   int64  \n",
      " 37  BsmtUnfSF      1460 non-null   int64  \n",
      " 38  TotalBsmtSF    1460 non-null   int64  \n",
      " 39  Heating        1460 non-null   object \n",
      " 40  HeatingQC      1460 non-null   object \n",
      " 41  CentralAir     1460 non-null   object \n",
      " 42  Electrical     1459 non-null   object \n",
      " 43  1stFlrSF       1460 non-null   int64  \n",
      " 44  2ndFlrSF       1460 non-null   int64  \n",
      " 45  LowQualFinSF   1460 non-null   int64  \n",
      " 46  GrLivArea      1460 non-null   int64  \n",
      " 47  BsmtFullBath   1460 non-null   int64  \n",
      " 48  BsmtHalfBath   1460 non-null   int64  \n",
      " 49  FullBath       1460 non-null   int64  \n",
      " 50  HalfBath       1460 non-null   int64  \n",
      " 51  BedroomAbvGr   1460 non-null   int64  \n",
      " 52  KitchenAbvGr   1460 non-null   int64  \n",
      " 53  KitchenQual    1460 non-null   object \n",
      " 54  TotRmsAbvGrd   1460 non-null   int64  \n",
      " 55  Functional     1460 non-null   object \n",
      " 56  Fireplaces     1460 non-null   int64  \n",
      " 57  FireplaceQu    770 non-null    object \n",
      " 58  GarageType     1379 non-null   object \n",
      " 59  GarageYrBlt    1379 non-null   float64\n",
      " 60  GarageFinish   1379 non-null   object \n",
      " 61  GarageCars     1460 non-null   int64  \n",
      " 62  GarageArea     1460 non-null   int64  \n",
      " 63  GarageQual     1379 non-null   object \n",
      " 64  GarageCond     1379 non-null   object \n",
      " 65  PavedDrive     1460 non-null   object \n",
      " 66  WoodDeckSF     1460 non-null   int64  \n",
      " 67  OpenPorchSF    1460 non-null   int64  \n",
      " 68  EnclosedPorch  1460 non-null   int64  \n",
      " 69  3SsnPorch      1460 non-null   int64  \n",
      " 70  ScreenPorch    1460 non-null   int64  \n",
      " 71  PoolArea       1460 non-null   int64  \n",
      " 72  PoolQC         7 non-null      object \n",
      " 73  Fence          281 non-null    object \n",
      " 74  MiscFeature    54 non-null     object \n",
      " 75  MiscVal        1460 non-null   int64  \n",
      " 76  MoSold         1460 non-null   int64  \n",
      " 77  YrSold         1460 non-null   int64  \n",
      " 78  SaleType       1460 non-null   object \n",
      " 79  SaleCondition  1460 non-null   object \n",
      " 80  SalePrice      1460 non-null   int64  \n",
      "dtypes: float64(3), int64(35), object(43)\n",
      "memory usage: 924.0+ KB\n"
     ]
    }
   ],
   "source": [
    "train_df.info()"
   ]
  },
  {
   "cell_type": "code",
   "execution_count": 5,
   "id": "2a001250",
   "metadata": {
    "execution": {
     "iopub.execute_input": "2022-01-07T23:14:12.891296Z",
     "iopub.status.busy": "2022-01-07T23:14:12.890502Z",
     "iopub.status.idle": "2022-01-07T23:14:12.904560Z",
     "shell.execute_reply": "2022-01-07T23:14:12.903802Z",
     "shell.execute_reply.started": "2022-01-07T22:13:08.774699Z"
    },
    "papermill": {
     "duration": 0.058333,
     "end_time": "2022-01-07T23:14:12.904707",
     "exception": false,
     "start_time": "2022-01-07T23:14:12.846374",
     "status": "completed"
    },
    "tags": []
   },
   "outputs": [
    {
     "data": {
      "text/html": [
       "<div>\n",
       "<style scoped>\n",
       "    .dataframe tbody tr th:only-of-type {\n",
       "        vertical-align: middle;\n",
       "    }\n",
       "\n",
       "    .dataframe tbody tr th {\n",
       "        vertical-align: top;\n",
       "    }\n",
       "\n",
       "    .dataframe thead th {\n",
       "        text-align: right;\n",
       "    }\n",
       "</style>\n",
       "<table border=\"1\" class=\"dataframe\">\n",
       "  <thead>\n",
       "    <tr style=\"text-align: right;\">\n",
       "      <th></th>\n",
       "      <th>Id</th>\n",
       "      <th>SalePrice</th>\n",
       "    </tr>\n",
       "  </thead>\n",
       "  <tbody>\n",
       "    <tr>\n",
       "      <th>0</th>\n",
       "      <td>1461</td>\n",
       "      <td>169277.052498</td>\n",
       "    </tr>\n",
       "    <tr>\n",
       "      <th>1</th>\n",
       "      <td>1462</td>\n",
       "      <td>187758.393989</td>\n",
       "    </tr>\n",
       "    <tr>\n",
       "      <th>2</th>\n",
       "      <td>1463</td>\n",
       "      <td>183583.683570</td>\n",
       "    </tr>\n",
       "    <tr>\n",
       "      <th>3</th>\n",
       "      <td>1464</td>\n",
       "      <td>179317.477511</td>\n",
       "    </tr>\n",
       "    <tr>\n",
       "      <th>4</th>\n",
       "      <td>1465</td>\n",
       "      <td>150730.079977</td>\n",
       "    </tr>\n",
       "  </tbody>\n",
       "</table>\n",
       "</div>"
      ],
      "text/plain": [
       "     Id      SalePrice\n",
       "0  1461  169277.052498\n",
       "1  1462  187758.393989\n",
       "2  1463  183583.683570\n",
       "3  1464  179317.477511\n",
       "4  1465  150730.079977"
      ]
     },
     "execution_count": 5,
     "metadata": {},
     "output_type": "execute_result"
    }
   ],
   "source": [
    "sample_submission_df.head(5)"
   ]
  },
  {
   "cell_type": "markdown",
   "id": "dc059e36",
   "metadata": {
    "papermill": {
     "duration": 0.038315,
     "end_time": "2022-01-07T23:14:12.981215",
     "exception": false,
     "start_time": "2022-01-07T23:14:12.942900",
     "status": "completed"
    },
    "tags": []
   },
   "source": [
    "### Approach\n",
    "1. First, lets create a basic LinearRegression Model using few features like Bedroom, Bathroom and SqFt\n",
    "2. We will take that neg RMSE as the baseline evaluation metric\n",
    "3. Then we will perform some feature engineering\n",
    "4. We will use more complex models\n",
    "5. Perform model hyper parameter tuning"
   ]
  },
  {
   "cell_type": "code",
   "execution_count": 6,
   "id": "471d3314",
   "metadata": {
    "execution": {
     "iopub.execute_input": "2022-01-07T23:14:13.065614Z",
     "iopub.status.busy": "2022-01-07T23:14:13.064539Z",
     "iopub.status.idle": "2022-01-07T23:14:13.074129Z",
     "shell.execute_reply": "2022-01-07T23:14:13.074656Z",
     "shell.execute_reply.started": "2022-01-07T22:13:08.791199Z"
    },
    "papermill": {
     "duration": 0.055724,
     "end_time": "2022-01-07T23:14:13.074859",
     "exception": false,
     "start_time": "2022-01-07T23:14:13.019135",
     "status": "completed"
    },
    "tags": []
   },
   "outputs": [
    {
     "data": {
      "text/plain": [
       "FullBath\n",
       "2           768\n",
       "1           650\n",
       "3            33\n",
       "0             9\n",
       "dtype: int64"
      ]
     },
     "execution_count": 6,
     "metadata": {},
     "output_type": "execute_result"
    }
   ],
   "source": [
    "train_df[[\"FullBath\"]].value_counts()"
   ]
  },
  {
   "cell_type": "code",
   "execution_count": 7,
   "id": "51c91ff9",
   "metadata": {
    "execution": {
     "iopub.execute_input": "2022-01-07T23:14:13.159338Z",
     "iopub.status.busy": "2022-01-07T23:14:13.156734Z",
     "iopub.status.idle": "2022-01-07T23:14:13.167798Z",
     "shell.execute_reply": "2022-01-07T23:14:13.168392Z",
     "shell.execute_reply.started": "2022-01-07T22:13:08.806097Z"
    },
    "papermill": {
     "duration": 0.05432,
     "end_time": "2022-01-07T23:14:13.168585",
     "exception": false,
     "start_time": "2022-01-07T23:14:13.114265",
     "status": "completed"
    },
    "tags": []
   },
   "outputs": [
    {
     "data": {
      "text/plain": [
       "LotArea\n",
       "7200       25\n",
       "9600       24\n",
       "6000       17\n",
       "9000       14\n",
       "10800      14\n",
       "           ..\n",
       "8930        1\n",
       "8935        1\n",
       "8944        1\n",
       "8960        1\n",
       "215245      1\n",
       "Length: 1073, dtype: int64"
      ]
     },
     "execution_count": 7,
     "metadata": {},
     "output_type": "execute_result"
    }
   ],
   "source": [
    "train_df[[\"LotArea\"]].value_counts()"
   ]
  },
  {
   "cell_type": "code",
   "execution_count": 8,
   "id": "1b903a01",
   "metadata": {
    "execution": {
     "iopub.execute_input": "2022-01-07T23:14:13.250907Z",
     "iopub.status.busy": "2022-01-07T23:14:13.250245Z",
     "iopub.status.idle": "2022-01-07T23:14:13.587657Z",
     "shell.execute_reply": "2022-01-07T23:14:13.588198Z",
     "shell.execute_reply.started": "2022-01-07T22:13:08.819968Z"
    },
    "papermill": {
     "duration": 0.380875,
     "end_time": "2022-01-07T23:14:13.588385",
     "exception": false,
     "start_time": "2022-01-07T23:14:13.207510",
     "status": "completed"
    },
    "tags": []
   },
   "outputs": [
    {
     "data": {
      "text/plain": [
       "<AxesSubplot:ylabel='Frequency'>"
      ]
     },
     "execution_count": 8,
     "metadata": {},
     "output_type": "execute_result"
    },
    {
     "data": {
      "image/png": "[encoded data removed]",
      "text/plain": [
       "<Figure size 432x288 with 1 Axes>"
      ]
     },
     "metadata": {
      "needs_background": "light"
     },
     "output_type": "display_data"
    }
   ],
   "source": [
    "train_df[\"LotArea\"].plot.hist(bins = 30)"
   ]
  },
  {
   "cell_type": "code",
   "execution_count": 9,
   "id": "86aaaf5a",
   "metadata": {
    "execution": {
     "iopub.execute_input": "2022-01-07T23:14:13.670952Z",
     "iopub.status.busy": "2022-01-07T23:14:13.670222Z",
     "iopub.status.idle": "2022-01-07T23:14:14.068969Z",
     "shell.execute_reply": "2022-01-07T23:14:14.069621Z",
     "shell.execute_reply.started": "2022-01-07T22:13:09.192552Z"
    },
    "papermill": {
     "duration": 0.441817,
     "end_time": "2022-01-07T23:14:14.069805",
     "exception": false,
     "start_time": "2022-01-07T23:14:13.627988",
     "status": "completed"
    },
    "tags": []
   },
   "outputs": [
    {
     "data": {
      "text/plain": [
       "<AxesSubplot:ylabel='Frequency'>"
      ]
     },
     "execution_count": 9,
     "metadata": {},
     "output_type": "execute_result"
    },
    {
     "data": {
      "image/png": "[encoded data removed]",
      "text/plain": [
       "<Figure size 432x288 with 1 Axes>"
      ]
     },
     "metadata": {
      "needs_background": "light"
     },
     "output_type": "display_data"
    }
   ],
   "source": [
    "train_df[\"SalePrice\"].plot.hist(bins = 30)"
   ]
  },
  {
   "cell_type": "code",
   "execution_count": 10,
   "id": "a93d02e5",
   "metadata": {
    "execution": {
     "iopub.execute_input": "2022-01-07T23:14:14.155890Z",
     "iopub.status.busy": "2022-01-07T23:14:14.155215Z",
     "iopub.status.idle": "2022-01-07T23:14:15.339649Z",
     "shell.execute_reply": "2022-01-07T23:14:15.339007Z",
     "shell.execute_reply.started": "2022-01-07T22:13:09.442049Z"
    },
    "papermill": {
     "duration": 1.228789,
     "end_time": "2022-01-07T23:14:15.339802",
     "exception": false,
     "start_time": "2022-01-07T23:14:14.111013",
     "status": "completed"
    },
    "tags": []
   },
   "outputs": [],
   "source": [
    "# perform minmax scaler\n",
    "def perform_minmaxscaler(df, col):\n",
    "    min_value = df[col].min()\n",
    "    max_value = df[col].max()\n",
    "    df[col] = (df[col] - min_value) / (max_value - min_value)\n",
    "    return df\n",
    "\n",
    "# perform cross validation\n",
    "from sklearn.model_selection import cross_val_score\n",
    "def perform_cross_validation(model, features, target, train):\n",
    "    X = train[features]\n",
    "    Y = train[target]\n",
    "    scores = cross_val_score(model, X, Y, cv=10, scoring = 'neg_root_mean_squared_error')\n",
    "    mean_score = np.mean(scores)\n",
    "    return mean_score\n",
    "    "
   ]
  },
  {
   "cell_type": "code",
   "execution_count": 11,
   "id": "0f7ac232",
   "metadata": {
    "execution": {
     "iopub.execute_input": "2022-01-07T23:14:15.427327Z",
     "iopub.status.busy": "2022-01-07T23:14:15.426685Z",
     "iopub.status.idle": "2022-01-07T23:14:15.433305Z",
     "shell.execute_reply": "2022-01-07T23:14:15.433890Z",
     "shell.execute_reply.started": "2022-01-07T22:13:10.218099Z"
    },
    "papermill": {
     "duration": 0.053457,
     "end_time": "2022-01-07T23:14:15.434070",
     "exception": false,
     "start_time": "2022-01-07T23:14:15.380613",
     "status": "completed"
    },
    "tags": []
   },
   "outputs": [
    {
     "data": {
      "text/plain": [
       "BedroomAbvGr\n",
       "3               804\n",
       "2               358\n",
       "4               213\n",
       "1                50\n",
       "5                21\n",
       "6                 7\n",
       "0                 6\n",
       "8                 1\n",
       "dtype: int64"
      ]
     },
     "execution_count": 11,
     "metadata": {},
     "output_type": "execute_result"
    }
   ],
   "source": [
    "train_df[[\"BedroomAbvGr\"]].value_counts()"
   ]
  },
  {
   "cell_type": "code",
   "execution_count": 12,
   "id": "b8f61bb3",
   "metadata": {
    "execution": {
     "iopub.execute_input": "2022-01-07T23:14:15.519014Z",
     "iopub.status.busy": "2022-01-07T23:14:15.518291Z",
     "iopub.status.idle": "2022-01-07T23:14:15.526376Z",
     "shell.execute_reply": "2022-01-07T23:14:15.526909Z",
     "shell.execute_reply.started": "2022-01-07T22:13:10.237835Z"
    },
    "papermill": {
     "duration": 0.052494,
     "end_time": "2022-01-07T23:14:15.527096",
     "exception": false,
     "start_time": "2022-01-07T23:14:15.474602",
     "status": "completed"
    },
    "tags": []
   },
   "outputs": [],
   "source": [
    "initial_features = [\"TotRmsAbvGrd\", \"LotArea\", \"FullBath\"]\n",
    "target = \"SalePrice\"\n",
    "for col in initial_features:\n",
    "    train_df = perform_minmaxscaler(train_df, col)"
   ]
  },
  {
   "cell_type": "code",
   "execution_count": 13,
   "id": "7f671615",
   "metadata": {
    "execution": {
     "iopub.execute_input": "2022-01-07T23:14:15.614731Z",
     "iopub.status.busy": "2022-01-07T23:14:15.614017Z",
     "iopub.status.idle": "2022-01-07T23:14:15.892412Z",
     "shell.execute_reply": "2022-01-07T23:14:15.891744Z",
     "shell.execute_reply.started": "2022-01-07T22:13:10.251442Z"
    },
    "papermill": {
     "duration": 0.324349,
     "end_time": "2022-01-07T23:14:15.892580",
     "exception": false,
     "start_time": "2022-01-07T23:14:15.568231",
     "status": "completed"
    },
    "tags": []
   },
   "outputs": [
    {
     "name": "stdout",
     "output_type": "stream",
     "text": [
      "-61274.52565300374\n"
     ]
    }
   ],
   "source": [
    "from sklearn.linear_model import LinearRegression\n",
    "from sklearn.tree import DecisionTreeRegressor\n",
    "from sklearn.ensemble import RandomForestRegressor\n",
    "\n",
    "model = LinearRegression()\n",
    "#model.fit(train_df[initial_features], train_df[target])\n",
    "score = perform_cross_validation(model, initial_features, target, train_df)\n",
    "print(score)"
   ]
  },
  {
   "cell_type": "code",
   "execution_count": 14,
   "id": "07b801b1",
   "metadata": {
    "execution": {
     "iopub.execute_input": "2022-01-07T23:14:15.995210Z",
     "iopub.status.busy": "2022-01-07T23:14:15.994428Z",
     "iopub.status.idle": "2022-01-07T23:14:16.000100Z",
     "shell.execute_reply": "2022-01-07T23:14:16.000607Z",
     "shell.execute_reply.started": "2022-01-07T22:13:10.532646Z"
    },
    "papermill": {
     "duration": 0.057243,
     "end_time": "2022-01-07T23:14:16.000785",
     "exception": false,
     "start_time": "2022-01-07T23:14:15.943542",
     "status": "completed"
    },
    "tags": []
   },
   "outputs": [],
   "source": [
    "def model_training(train_df, features, target):\n",
    "    model = RandomForestRegressor()\n",
    "    X = train_df[features]\n",
    "    Y = train_df[target]\n",
    "    model.fit(X, Y)\n",
    "    return model\n",
    "    \n",
    "def generate_predictions(model, test_df, features):\n",
    "    for col in initial_features:\n",
    "        test_df = perform_minmaxscaler(test_df, col)\n",
    "    predictions = model.predict(test_df[features])\n",
    "    return predictions"
   ]
  },
  {
   "cell_type": "code",
   "execution_count": 15,
   "id": "7d44efbf",
   "metadata": {
    "execution": {
     "iopub.execute_input": "2022-01-07T23:14:16.086737Z",
     "iopub.status.busy": "2022-01-07T23:14:16.086102Z",
     "iopub.status.idle": "2022-01-07T23:14:16.484635Z",
     "shell.execute_reply": "2022-01-07T23:14:16.483933Z",
     "shell.execute_reply.started": "2022-01-07T22:13:10.554287Z"
    },
    "papermill": {
     "duration": 0.442468,
     "end_time": "2022-01-07T23:14:16.484785",
     "exception": false,
     "start_time": "2022-01-07T23:14:16.042317",
     "status": "completed"
    },
    "tags": []
   },
   "outputs": [],
   "source": [
    "model = model_training(train_df, initial_features, target)\n",
    "predictions = generate_predictions(model, test_df, initial_features)"
   ]
  },
  {
   "cell_type": "code",
   "execution_count": 16,
   "id": "32cb2c04",
   "metadata": {
    "execution": {
     "iopub.execute_input": "2022-01-07T23:14:16.572369Z",
     "iopub.status.busy": "2022-01-07T23:14:16.571692Z",
     "iopub.status.idle": "2022-01-07T23:14:16.573474Z",
     "shell.execute_reply": "2022-01-07T23:14:16.574027Z",
     "shell.execute_reply.started": "2022-01-07T22:13:10.983894Z"
    },
    "papermill": {
     "duration": 0.048054,
     "end_time": "2022-01-07T23:14:16.574202",
     "exception": false,
     "start_time": "2022-01-07T23:14:16.526148",
     "status": "completed"
    },
    "tags": []
   },
   "outputs": [],
   "source": [
    "# ids = test_df[\"Id\"]\n",
    "# submission = pd.DataFrame(\n",
    "#     {\n",
    "#         \"Id\": ids,\n",
    "#         \"SalePrice\": predictions\n",
    "#     }\n",
    "# )\n",
    "\n",
    "# submission.to_csv(\"submission.csv\", index=False)"
   ]
  },
  {
   "cell_type": "markdown",
   "id": "0ed39add",
   "metadata": {
    "papermill": {
     "duration": 0.040979,
     "end_time": "2022-01-07T23:14:16.656333",
     "exception": false,
     "start_time": "2022-01-07T23:14:16.615354",
     "status": "completed"
    },
    "tags": []
   },
   "source": [
    "Done with the baseline model with few columns. Best score of 0.33691.\n",
    "\n",
    "Perform more feature engineering and advanced tasks next."
   ]
  },
  {
   "cell_type": "code",
   "execution_count": 17,
   "id": "4566329b",
   "metadata": {
    "execution": {
     "iopub.execute_input": "2022-01-07T23:14:16.742194Z",
     "iopub.status.busy": "2022-01-07T23:14:16.741483Z",
     "iopub.status.idle": "2022-01-07T23:14:16.819008Z",
     "shell.execute_reply": "2022-01-07T23:14:16.819557Z",
     "shell.execute_reply.started": "2022-01-07T22:13:10.990557Z"
    },
    "papermill": {
     "duration": 0.122391,
     "end_time": "2022-01-07T23:14:16.819753",
     "exception": false,
     "start_time": "2022-01-07T23:14:16.697362",
     "status": "completed"
    },
    "tags": []
   },
   "outputs": [],
   "source": [
    "train_df = pd.read_csv(TRAIN_PATH)\n",
    "test_df = pd.read_csv(TEST_PATH)\n",
    "sample_submission_df = pd.read_csv(SUBMISSION_PATH)\n",
    "\n",
    "corr_df = train_df.corr().loc[:, [\"SalePrice\"]]\n",
    "cols_of_interest = corr_df[np.abs(corr_df[\"SalePrice\"]) > 0.2].index\n",
    "# since there are lot of features, we will only focus on those features that have correlation > 0.3"
   ]
  },
  {
   "cell_type": "code",
   "execution_count": 18,
   "id": "0fa2bbfd",
   "metadata": {
    "execution": {
     "iopub.execute_input": "2022-01-07T23:14:16.907014Z",
     "iopub.status.busy": "2022-01-07T23:14:16.906355Z",
     "iopub.status.idle": "2022-01-07T23:14:16.911585Z",
     "shell.execute_reply": "2022-01-07T23:14:16.912236Z",
     "shell.execute_reply.started": "2022-01-07T22:13:11.054669Z"
    },
    "papermill": {
     "duration": 0.050591,
     "end_time": "2022-01-07T23:14:16.912410",
     "exception": false,
     "start_time": "2022-01-07T23:14:16.861819",
     "status": "completed"
    },
    "tags": []
   },
   "outputs": [
    {
     "data": {
      "text/plain": [
       "Index(['LotFrontage', 'LotArea', 'OverallQual', 'YearBuilt', 'YearRemodAdd',\n",
       "       'MasVnrArea', 'BsmtFinSF1', 'BsmtUnfSF', 'TotalBsmtSF', '1stFlrSF',\n",
       "       '2ndFlrSF', 'GrLivArea', 'BsmtFullBath', 'FullBath', 'HalfBath',\n",
       "       'TotRmsAbvGrd', 'Fireplaces', 'GarageYrBlt', 'GarageCars', 'GarageArea',\n",
       "       'WoodDeckSF', 'OpenPorchSF', 'SalePrice'],\n",
       "      dtype='object')"
      ]
     },
     "execution_count": 18,
     "metadata": {},
     "output_type": "execute_result"
    }
   ],
   "source": [
    "cols_of_interest"
   ]
  },
  {
   "cell_type": "code",
   "execution_count": 19,
   "id": "07884857",
   "metadata": {
    "execution": {
     "iopub.execute_input": "2022-01-07T23:14:17.002283Z",
     "iopub.status.busy": "2022-01-07T23:14:17.001592Z",
     "iopub.status.idle": "2022-01-07T23:14:17.004298Z",
     "shell.execute_reply": "2022-01-07T23:14:17.003640Z",
     "shell.execute_reply.started": "2022-01-07T22:13:11.065675Z"
    },
    "papermill": {
     "duration": 0.050217,
     "end_time": "2022-01-07T23:14:17.004444",
     "exception": false,
     "start_time": "2022-01-07T23:14:16.954227",
     "status": "completed"
    },
    "tags": []
   },
   "outputs": [],
   "source": [
    "train_df = train_df[cols_of_interest]"
   ]
  },
  {
   "cell_type": "code",
   "execution_count": 20,
   "id": "1dde355c",
   "metadata": {
    "execution": {
     "iopub.execute_input": "2022-01-07T23:14:17.093589Z",
     "iopub.status.busy": "2022-01-07T23:14:17.092838Z",
     "iopub.status.idle": "2022-01-07T23:14:17.117077Z",
     "shell.execute_reply": "2022-01-07T23:14:17.117651Z",
     "shell.execute_reply.started": "2022-01-07T22:13:11.077152Z"
    },
    "papermill": {
     "duration": 0.071714,
     "end_time": "2022-01-07T23:14:17.117837",
     "exception": false,
     "start_time": "2022-01-07T23:14:17.046123",
     "status": "completed"
    },
    "tags": []
   },
   "outputs": [
    {
     "data": {
      "text/html": [
       "<div>\n",
       "<style scoped>\n",
       "    .dataframe tbody tr th:only-of-type {\n",
       "        vertical-align: middle;\n",
       "    }\n",
       "\n",
       "    .dataframe tbody tr th {\n",
       "        vertical-align: top;\n",
       "    }\n",
       "\n",
       "    .dataframe thead th {\n",
       "        text-align: right;\n",
       "    }\n",
       "</style>\n",
       "<table border=\"1\" class=\"dataframe\">\n",
       "  <thead>\n",
       "    <tr style=\"text-align: right;\">\n",
       "      <th></th>\n",
       "      <th>LotFrontage</th>\n",
       "      <th>LotArea</th>\n",
       "      <th>OverallQual</th>\n",
       "      <th>YearBuilt</th>\n",
       "      <th>YearRemodAdd</th>\n",
       "      <th>MasVnrArea</th>\n",
       "      <th>BsmtFinSF1</th>\n",
       "      <th>BsmtUnfSF</th>\n",
       "      <th>TotalBsmtSF</th>\n",
       "      <th>1stFlrSF</th>\n",
       "      <th>...</th>\n",
       "      <th>FullBath</th>\n",
       "      <th>HalfBath</th>\n",
       "      <th>TotRmsAbvGrd</th>\n",
       "      <th>Fireplaces</th>\n",
       "      <th>GarageYrBlt</th>\n",
       "      <th>GarageCars</th>\n",
       "      <th>GarageArea</th>\n",
       "      <th>WoodDeckSF</th>\n",
       "      <th>OpenPorchSF</th>\n",
       "      <th>SalePrice</th>\n",
       "    </tr>\n",
       "  </thead>\n",
       "  <tbody>\n",
       "    <tr>\n",
       "      <th>0</th>\n",
       "      <td>65.0</td>\n",
       "      <td>8450</td>\n",
       "      <td>7</td>\n",
       "      <td>2003</td>\n",
       "      <td>2003</td>\n",
       "      <td>196.0</td>\n",
       "      <td>706</td>\n",
       "      <td>150</td>\n",
       "      <td>856</td>\n",
       "      <td>856</td>\n",
       "      <td>...</td>\n",
       "      <td>2</td>\n",
       "      <td>1</td>\n",
       "      <td>8</td>\n",
       "      <td>0</td>\n",
       "      <td>2003.0</td>\n",
       "      <td>2</td>\n",
       "      <td>548</td>\n",
       "      <td>0</td>\n",
       "      <td>61</td>\n",
       "      <td>208500</td>\n",
       "    </tr>\n",
       "    <tr>\n",
       "      <th>1</th>\n",
       "      <td>80.0</td>\n",
       "      <td>9600</td>\n",
       "      <td>6</td>\n",
       "      <td>1976</td>\n",
       "      <td>1976</td>\n",
       "      <td>0.0</td>\n",
       "      <td>978</td>\n",
       "      <td>284</td>\n",
       "      <td>1262</td>\n",
       "      <td>1262</td>\n",
       "      <td>...</td>\n",
       "      <td>2</td>\n",
       "      <td>0</td>\n",
       "      <td>6</td>\n",
       "      <td>1</td>\n",
       "      <td>1976.0</td>\n",
       "      <td>2</td>\n",
       "      <td>460</td>\n",
       "      <td>298</td>\n",
       "      <td>0</td>\n",
       "      <td>181500</td>\n",
       "    </tr>\n",
       "    <tr>\n",
       "      <th>2</th>\n",
       "      <td>68.0</td>\n",
       "      <td>11250</td>\n",
       "      <td>7</td>\n",
       "      <td>2001</td>\n",
       "      <td>2002</td>\n",
       "      <td>162.0</td>\n",
       "      <td>486</td>\n",
       "      <td>434</td>\n",
       "      <td>920</td>\n",
       "      <td>920</td>\n",
       "      <td>...</td>\n",
       "      <td>2</td>\n",
       "      <td>1</td>\n",
       "      <td>6</td>\n",
       "      <td>1</td>\n",
       "      <td>2001.0</td>\n",
       "      <td>2</td>\n",
       "      <td>608</td>\n",
       "      <td>0</td>\n",
       "      <td>42</td>\n",
       "      <td>223500</td>\n",
       "    </tr>\n",
       "    <tr>\n",
       "      <th>3</th>\n",
       "      <td>60.0</td>\n",
       "      <td>9550</td>\n",
       "      <td>7</td>\n",
       "      <td>1915</td>\n",
       "      <td>1970</td>\n",
       "      <td>0.0</td>\n",
       "      <td>216</td>\n",
       "      <td>540</td>\n",
       "      <td>756</td>\n",
       "      <td>961</td>\n",
       "      <td>...</td>\n",
       "      <td>1</td>\n",
       "      <td>0</td>\n",
       "      <td>7</td>\n",
       "      <td>1</td>\n",
       "      <td>1998.0</td>\n",
       "      <td>3</td>\n",
       "      <td>642</td>\n",
       "      <td>0</td>\n",
       "      <td>35</td>\n",
       "      <td>140000</td>\n",
       "    </tr>\n",
       "    <tr>\n",
       "      <th>4</th>\n",
       "      <td>84.0</td>\n",
       "      <td>14260</td>\n",
       "      <td>8</td>\n",
       "      <td>2000</td>\n",
       "      <td>2000</td>\n",
       "      <td>350.0</td>\n",
       "      <td>655</td>\n",
       "      <td>490</td>\n",
       "      <td>1145</td>\n",
       "      <td>1145</td>\n",
       "      <td>...</td>\n",
       "      <td>2</td>\n",
       "      <td>1</td>\n",
       "      <td>9</td>\n",
       "      <td>1</td>\n",
       "      <td>2000.0</td>\n",
       "      <td>3</td>\n",
       "      <td>836</td>\n",
       "      <td>192</td>\n",
       "      <td>84</td>\n",
       "      <td>250000</td>\n",
       "    </tr>\n",
       "    <tr>\n",
       "      <th>...</th>\n",
       "      <td>...</td>\n",
       "      <td>...</td>\n",
       "      <td>...</td>\n",
       "      <td>...</td>\n",
       "      <td>...</td>\n",
       "      <td>...</td>\n",
       "      <td>...</td>\n",
       "      <td>...</td>\n",
       "      <td>...</td>\n",
       "      <td>...</td>\n",
       "      <td>...</td>\n",
       "      <td>...</td>\n",
       "      <td>...</td>\n",
       "      <td>...</td>\n",
       "      <td>...</td>\n",
       "      <td>...</td>\n",
       "      <td>...</td>\n",
       "      <td>...</td>\n",
       "      <td>...</td>\n",
       "      <td>...</td>\n",
       "      <td>...</td>\n",
       "    </tr>\n",
       "    <tr>\n",
       "      <th>1455</th>\n",
       "      <td>62.0</td>\n",
       "      <td>7917</td>\n",
       "      <td>6</td>\n",
       "      <td>1999</td>\n",
       "      <td>2000</td>\n",
       "      <td>0.0</td>\n",
       "      <td>0</td>\n",
       "      <td>953</td>\n",
       "      <td>953</td>\n",
       "      <td>953</td>\n",
       "      <td>...</td>\n",
       "      <td>2</td>\n",
       "      <td>1</td>\n",
       "      <td>7</td>\n",
       "      <td>1</td>\n",
       "      <td>1999.0</td>\n",
       "      <td>2</td>\n",
       "      <td>460</td>\n",
       "      <td>0</td>\n",
       "      <td>40</td>\n",
       "      <td>175000</td>\n",
       "    </tr>\n",
       "    <tr>\n",
       "      <th>1456</th>\n",
       "      <td>85.0</td>\n",
       "      <td>13175</td>\n",
       "      <td>6</td>\n",
       "      <td>1978</td>\n",
       "      <td>1988</td>\n",
       "      <td>119.0</td>\n",
       "      <td>790</td>\n",
       "      <td>589</td>\n",
       "      <td>1542</td>\n",
       "      <td>2073</td>\n",
       "      <td>...</td>\n",
       "      <td>2</td>\n",
       "      <td>0</td>\n",
       "      <td>7</td>\n",
       "      <td>2</td>\n",
       "      <td>1978.0</td>\n",
       "      <td>2</td>\n",
       "      <td>500</td>\n",
       "      <td>349</td>\n",
       "      <td>0</td>\n",
       "      <td>210000</td>\n",
       "    </tr>\n",
       "    <tr>\n",
       "      <th>1457</th>\n",
       "      <td>66.0</td>\n",
       "      <td>9042</td>\n",
       "      <td>7</td>\n",
       "      <td>1941</td>\n",
       "      <td>2006</td>\n",
       "      <td>0.0</td>\n",
       "      <td>275</td>\n",
       "      <td>877</td>\n",
       "      <td>1152</td>\n",
       "      <td>1188</td>\n",
       "      <td>...</td>\n",
       "      <td>2</td>\n",
       "      <td>0</td>\n",
       "      <td>9</td>\n",
       "      <td>2</td>\n",
       "      <td>1941.0</td>\n",
       "      <td>1</td>\n",
       "      <td>252</td>\n",
       "      <td>0</td>\n",
       "      <td>60</td>\n",
       "      <td>266500</td>\n",
       "    </tr>\n",
       "    <tr>\n",
       "      <th>1458</th>\n",
       "      <td>68.0</td>\n",
       "      <td>9717</td>\n",
       "      <td>5</td>\n",
       "      <td>1950</td>\n",
       "      <td>1996</td>\n",
       "      <td>0.0</td>\n",
       "      <td>49</td>\n",
       "      <td>0</td>\n",
       "      <td>1078</td>\n",
       "      <td>1078</td>\n",
       "      <td>...</td>\n",
       "      <td>1</td>\n",
       "      <td>0</td>\n",
       "      <td>5</td>\n",
       "      <td>0</td>\n",
       "      <td>1950.0</td>\n",
       "      <td>1</td>\n",
       "      <td>240</td>\n",
       "      <td>366</td>\n",
       "      <td>0</td>\n",
       "      <td>142125</td>\n",
       "    </tr>\n",
       "    <tr>\n",
       "      <th>1459</th>\n",
       "      <td>75.0</td>\n",
       "      <td>9937</td>\n",
       "      <td>5</td>\n",
       "      <td>1965</td>\n",
       "      <td>1965</td>\n",
       "      <td>0.0</td>\n",
       "      <td>830</td>\n",
       "      <td>136</td>\n",
       "      <td>1256</td>\n",
       "      <td>1256</td>\n",
       "      <td>...</td>\n",
       "      <td>1</td>\n",
       "      <td>1</td>\n",
       "      <td>6</td>\n",
       "      <td>0</td>\n",
       "      <td>1965.0</td>\n",
       "      <td>1</td>\n",
       "      <td>276</td>\n",
       "      <td>736</td>\n",
       "      <td>68</td>\n",
       "      <td>147500</td>\n",
       "    </tr>\n",
       "  </tbody>\n",
       "</table>\n",
       "<p>1460 rows × 23 columns</p>\n",
       "</div>"
      ],
      "text/plain": [
       "      LotFrontage  LotArea  OverallQual  YearBuilt  YearRemodAdd  MasVnrArea  \\\n",
       "0            65.0     8450            7       2003          2003       196.0   \n",
       "1            80.0     9600            6       1976          1976         0.0   \n",
       "2            68.0    11250            7       2001          2002       162.0   \n",
       "3            60.0     9550            7       1915          1970         0.0   \n",
       "4            84.0    14260            8       2000          2000       350.0   \n",
       "...           ...      ...          ...        ...           ...         ...   \n",
       "1455         62.0     7917            6       1999          2000         0.0   \n",
       "1456         85.0    13175            6       1978          1988       119.0   \n",
       "1457         66.0     9042            7       1941          2006         0.0   \n",
       "1458         68.0     9717            5       1950          1996         0.0   \n",
       "1459         75.0     9937            5       1965          1965         0.0   \n",
       "\n",
       "      BsmtFinSF1  BsmtUnfSF  TotalBsmtSF  1stFlrSF  ...  FullBath  HalfBath  \\\n",
       "0            706        150          856       856  ...         2         1   \n",
       "1            978        284         1262      1262  ...         2         0   \n",
       "2            486        434          920       920  ...         2         1   \n",
       "3            216        540          756       961  ...         1         0   \n",
       "4            655        490         1145      1145  ...         2         1   \n",
       "...          ...        ...          ...       ...  ...       ...       ...   \n",
       "1455           0        953          953       953  ...         2         1   \n",
       "1456         790        589         1542      2073  ...         2         0   \n",
       "1457         275        877         1152      1188  ...         2         0   \n",
       "1458          49          0         1078      1078  ...         1         0   \n",
       "1459         830        136         1256      1256  ...         1         1   \n",
       "\n",
       "      TotRmsAbvGrd  Fireplaces  GarageYrBlt  GarageCars  GarageArea  \\\n",
       "0                8           0       2003.0           2         548   \n",
       "1                6           1       1976.0           2         460   \n",
       "2                6           1       2001.0           2         608   \n",
       "3                7           1       1998.0           3         642   \n",
       "4                9           1       2000.0           3         836   \n",
       "...            ...         ...          ...         ...         ...   \n",
       "1455             7           1       1999.0           2         460   \n",
       "1456             7           2       1978.0           2         500   \n",
       "1457             9           2       1941.0           1         252   \n",
       "1458             5           0       1950.0           1         240   \n",
       "1459             6           0       1965.0           1         276   \n",
       "\n",
       "      WoodDeckSF  OpenPorchSF  SalePrice  \n",
       "0              0           61     208500  \n",
       "1            298            0     181500  \n",
       "2              0           42     223500  \n",
       "3              0           35     140000  \n",
       "4            192           84     250000  \n",
       "...          ...          ...        ...  \n",
       "1455           0           40     175000  \n",
       "1456         349            0     210000  \n",
       "1457           0           60     266500  \n",
       "1458         366            0     142125  \n",
       "1459         736           68     147500  \n",
       "\n",
       "[1460 rows x 23 columns]"
      ]
     },
     "execution_count": 20,
     "metadata": {},
     "output_type": "execute_result"
    }
   ],
   "source": [
    "train_df"
   ]
  },
  {
   "cell_type": "code",
   "execution_count": 21,
   "id": "45dc1301",
   "metadata": {
    "execution": {
     "iopub.execute_input": "2022-01-07T23:14:17.209634Z",
     "iopub.status.busy": "2022-01-07T23:14:17.207104Z",
     "iopub.status.idle": "2022-01-07T23:14:17.403777Z",
     "shell.execute_reply": "2022-01-07T23:14:17.403171Z",
     "shell.execute_reply.started": "2022-01-07T22:13:11.111949Z"
    },
    "papermill": {
     "duration": 0.242862,
     "end_time": "2022-01-07T23:14:17.403943",
     "exception": false,
     "start_time": "2022-01-07T23:14:17.161081",
     "status": "completed"
    },
    "tags": []
   },
   "outputs": [
    {
     "data": {
      "text/plain": [
       "<AxesSubplot:ylabel='Frequency'>"
      ]
     },
     "execution_count": 21,
     "metadata": {},
     "output_type": "execute_result"
    },
    {
     "data": {
      "image/png": "[encoded data removed]",
      "text/plain": [
       "<Figure size 432x288 with 1 Axes>"
      ]
     },
     "metadata": {
      "needs_background": "light"
     },
     "output_type": "display_data"
    }
   ],
   "source": [
    "train_df[\"YearRemodAdd\"].plot.hist()"
   ]
  },
  {
   "cell_type": "code",
   "execution_count": 22,
   "id": "e3f71d94",
   "metadata": {
    "execution": {
     "iopub.execute_input": "2022-01-07T23:14:17.495216Z",
     "iopub.status.busy": "2022-01-07T23:14:17.494574Z",
     "iopub.status.idle": "2022-01-07T23:14:17.500690Z",
     "shell.execute_reply": "2022-01-07T23:14:17.501255Z",
     "shell.execute_reply.started": "2022-01-07T22:13:11.346773Z"
    },
    "papermill": {
     "duration": 0.052886,
     "end_time": "2022-01-07T23:14:17.501444",
     "exception": false,
     "start_time": "2022-01-07T23:14:17.448558",
     "status": "completed"
    },
    "tags": []
   },
   "outputs": [
    {
     "data": {
      "text/plain": [
       "(761, 23)"
      ]
     },
     "execution_count": 22,
     "metadata": {},
     "output_type": "execute_result"
    }
   ],
   "source": [
    "train_df[train_df[\"WoodDeckSF\"] == 0].shape # removing the WoodDeckSF since 761 records have value = 0"
   ]
  },
  {
   "cell_type": "code",
   "execution_count": 23,
   "id": "0f15049d",
   "metadata": {
    "execution": {
     "iopub.execute_input": "2022-01-07T23:14:17.591852Z",
     "iopub.status.busy": "2022-01-07T23:14:17.591201Z",
     "iopub.status.idle": "2022-01-07T23:14:17.597560Z",
     "shell.execute_reply": "2022-01-07T23:14:17.598165Z",
     "shell.execute_reply.started": "2022-01-07T22:13:11.359879Z"
    },
    "papermill": {
     "duration": 0.053331,
     "end_time": "2022-01-07T23:14:17.598338",
     "exception": false,
     "start_time": "2022-01-07T23:14:17.545007",
     "status": "completed"
    },
    "tags": []
   },
   "outputs": [
    {
     "data": {
      "text/plain": [
       "(656, 23)"
      ]
     },
     "execution_count": 23,
     "metadata": {},
     "output_type": "execute_result"
    }
   ],
   "source": [
    "train_df[train_df[\"OpenPorchSF\"] == 0].shape # removing the OpenPorchSF since 761 records have value = 0"
   ]
  },
  {
   "cell_type": "code",
   "execution_count": 24,
   "id": "a4e4b24c",
   "metadata": {
    "execution": {
     "iopub.execute_input": "2022-01-07T23:14:17.692231Z",
     "iopub.status.busy": "2022-01-07T23:14:17.691553Z",
     "iopub.status.idle": "2022-01-07T23:14:17.699003Z",
     "shell.execute_reply": "2022-01-07T23:14:17.699521Z",
     "shell.execute_reply.started": "2022-01-07T22:13:11.370609Z"
    },
    "papermill": {
     "duration": 0.057717,
     "end_time": "2022-01-07T23:14:17.699716",
     "exception": false,
     "start_time": "2022-01-07T23:14:17.641999",
     "status": "completed"
    },
    "tags": []
   },
   "outputs": [
    {
     "data": {
      "text/html": [
       "<div>\n",
       "<style scoped>\n",
       "    .dataframe tbody tr th:only-of-type {\n",
       "        vertical-align: middle;\n",
       "    }\n",
       "\n",
       "    .dataframe tbody tr th {\n",
       "        vertical-align: top;\n",
       "    }\n",
       "\n",
       "    .dataframe thead th {\n",
       "        text-align: right;\n",
       "    }\n",
       "</style>\n",
       "<table border=\"1\" class=\"dataframe\">\n",
       "  <thead>\n",
       "    <tr style=\"text-align: right;\">\n",
       "      <th></th>\n",
       "      <th>GarageArea</th>\n",
       "      <th>GarageCars</th>\n",
       "    </tr>\n",
       "  </thead>\n",
       "  <tbody>\n",
       "    <tr>\n",
       "      <th>GarageArea</th>\n",
       "      <td>1.000000</td>\n",
       "      <td>0.882475</td>\n",
       "    </tr>\n",
       "    <tr>\n",
       "      <th>GarageCars</th>\n",
       "      <td>0.882475</td>\n",
       "      <td>1.000000</td>\n",
       "    </tr>\n",
       "  </tbody>\n",
       "</table>\n",
       "</div>"
      ],
      "text/plain": [
       "            GarageArea  GarageCars\n",
       "GarageArea    1.000000    0.882475\n",
       "GarageCars    0.882475    1.000000"
      ]
     },
     "execution_count": 24,
     "metadata": {},
     "output_type": "execute_result"
    }
   ],
   "source": [
    "train_df.loc[:, [\"GarageArea\", \"GarageCars\"]].corr()\n",
    "# Looks like GarageArea and GarageCars are highly correlated \n",
    "# so lets use only GarageCars and drop the GarageArea column\n"
   ]
  },
  {
   "cell_type": "code",
   "execution_count": 25,
   "id": "61457c84",
   "metadata": {
    "execution": {
     "iopub.execute_input": "2022-01-07T23:14:17.792528Z",
     "iopub.status.busy": "2022-01-07T23:14:17.791830Z",
     "iopub.status.idle": "2022-01-07T23:14:17.800635Z",
     "shell.execute_reply": "2022-01-07T23:14:17.801110Z",
     "shell.execute_reply.started": "2022-01-07T22:13:11.387557Z"
    },
    "papermill": {
     "duration": 0.057054,
     "end_time": "2022-01-07T23:14:17.801285",
     "exception": false,
     "start_time": "2022-01-07T23:14:17.744231",
     "status": "completed"
    },
    "tags": []
   },
   "outputs": [
    {
     "data": {
      "text/html": [
       "<div>\n",
       "<style scoped>\n",
       "    .dataframe tbody tr th:only-of-type {\n",
       "        vertical-align: middle;\n",
       "    }\n",
       "\n",
       "    .dataframe tbody tr th {\n",
       "        vertical-align: top;\n",
       "    }\n",
       "\n",
       "    .dataframe thead th {\n",
       "        text-align: right;\n",
       "    }\n",
       "</style>\n",
       "<table border=\"1\" class=\"dataframe\">\n",
       "  <thead>\n",
       "    <tr style=\"text-align: right;\">\n",
       "      <th></th>\n",
       "      <th>BsmtFinSF1</th>\n",
       "      <th>BsmtUnfSF</th>\n",
       "      <th>TotalBsmtSF</th>\n",
       "    </tr>\n",
       "  </thead>\n",
       "  <tbody>\n",
       "    <tr>\n",
       "      <th>0</th>\n",
       "      <td>706</td>\n",
       "      <td>150</td>\n",
       "      <td>856</td>\n",
       "    </tr>\n",
       "    <tr>\n",
       "      <th>1</th>\n",
       "      <td>978</td>\n",
       "      <td>284</td>\n",
       "      <td>1262</td>\n",
       "    </tr>\n",
       "    <tr>\n",
       "      <th>2</th>\n",
       "      <td>486</td>\n",
       "      <td>434</td>\n",
       "      <td>920</td>\n",
       "    </tr>\n",
       "    <tr>\n",
       "      <th>3</th>\n",
       "      <td>216</td>\n",
       "      <td>540</td>\n",
       "      <td>756</td>\n",
       "    </tr>\n",
       "  </tbody>\n",
       "</table>\n",
       "</div>"
      ],
      "text/plain": [
       "   BsmtFinSF1  BsmtUnfSF  TotalBsmtSF\n",
       "0         706        150          856\n",
       "1         978        284         1262\n",
       "2         486        434          920\n",
       "3         216        540          756"
      ]
     },
     "execution_count": 25,
     "metadata": {},
     "output_type": "execute_result"
    }
   ],
   "source": [
    "train_df.loc[:, [\"BsmtFinSF1\", \"BsmtUnfSF\", \"TotalBsmtSF\"]].head(4)\n",
    "# lets just use the TotalBsmtSF as its a summation of Finished + Unfinished sq ft\n",
    "# need to drop BsmtFinSF1 and BsmtUnfSF"
   ]
  },
  {
   "cell_type": "code",
   "execution_count": 26,
   "id": "4908c275",
   "metadata": {
    "execution": {
     "iopub.execute_input": "2022-01-07T23:14:17.894806Z",
     "iopub.status.busy": "2022-01-07T23:14:17.894143Z",
     "iopub.status.idle": "2022-01-07T23:14:17.899640Z",
     "shell.execute_reply": "2022-01-07T23:14:17.900155Z",
     "shell.execute_reply.started": "2022-01-07T22:13:11.401622Z"
    },
    "papermill": {
     "duration": 0.05388,
     "end_time": "2022-01-07T23:14:17.900337",
     "exception": false,
     "start_time": "2022-01-07T23:14:17.846457",
     "status": "completed"
    },
    "tags": []
   },
   "outputs": [],
   "source": [
    "# drop MasVnrArea, YearBuilt, LotFrontage and GarageYrBlt\n",
    "train_final_df = train_df.copy()\n",
    "# train_df.drop(columns = [\"1stFlrSF\", \"2ndFlrSF\", \"TotalBsmtSF\"])\n",
    "# dropping TotalBsmtSF since its value is same as the 1stFlrSF\n",
    "cols_to_drop = [\"BsmtFinSF1\", \"BsmtUnfSF\", \"GarageArea\", \"OpenPorchSF\", \"WoodDeckSF\", \"MasVnrArea\", \"GarageYrBlt\", \"LotFrontage\", \"YearBuilt\", \"1stFlrSF\", \"2ndFlrSF\", \"TotalBsmtSF\"]\n",
    "train_final_df = train_final_df.drop(columns = cols_to_drop)\n"
   ]
  },
  {
   "cell_type": "code",
   "execution_count": 27,
   "id": "bc69ced1",
   "metadata": {
    "execution": {
     "iopub.execute_input": "2022-01-07T23:14:17.994133Z",
     "iopub.status.busy": "2022-01-07T23:14:17.993462Z",
     "iopub.status.idle": "2022-01-07T23:14:18.004823Z",
     "shell.execute_reply": "2022-01-07T23:14:18.005353Z",
     "shell.execute_reply.started": "2022-01-07T22:13:11.412002Z"
    },
    "papermill": {
     "duration": 0.060495,
     "end_time": "2022-01-07T23:14:18.005561",
     "exception": false,
     "start_time": "2022-01-07T23:14:17.945066",
     "status": "completed"
    },
    "tags": []
   },
   "outputs": [
    {
     "data": {
      "text/html": [
       "<div>\n",
       "<style scoped>\n",
       "    .dataframe tbody tr th:only-of-type {\n",
       "        vertical-align: middle;\n",
       "    }\n",
       "\n",
       "    .dataframe tbody tr th {\n",
       "        vertical-align: top;\n",
       "    }\n",
       "\n",
       "    .dataframe thead th {\n",
       "        text-align: right;\n",
       "    }\n",
       "</style>\n",
       "<table border=\"1\" class=\"dataframe\">\n",
       "  <thead>\n",
       "    <tr style=\"text-align: right;\">\n",
       "      <th></th>\n",
       "      <th>LotArea</th>\n",
       "      <th>OverallQual</th>\n",
       "      <th>YearRemodAdd</th>\n",
       "      <th>GrLivArea</th>\n",
       "      <th>BsmtFullBath</th>\n",
       "      <th>FullBath</th>\n",
       "      <th>HalfBath</th>\n",
       "      <th>TotRmsAbvGrd</th>\n",
       "      <th>Fireplaces</th>\n",
       "      <th>GarageCars</th>\n",
       "      <th>SalePrice</th>\n",
       "    </tr>\n",
       "  </thead>\n",
       "  <tbody>\n",
       "    <tr>\n",
       "      <th>0</th>\n",
       "      <td>8450</td>\n",
       "      <td>7</td>\n",
       "      <td>2003</td>\n",
       "      <td>1710</td>\n",
       "      <td>1</td>\n",
       "      <td>2</td>\n",
       "      <td>1</td>\n",
       "      <td>8</td>\n",
       "      <td>0</td>\n",
       "      <td>2</td>\n",
       "      <td>208500</td>\n",
       "    </tr>\n",
       "    <tr>\n",
       "      <th>1</th>\n",
       "      <td>9600</td>\n",
       "      <td>6</td>\n",
       "      <td>1976</td>\n",
       "      <td>1262</td>\n",
       "      <td>0</td>\n",
       "      <td>2</td>\n",
       "      <td>0</td>\n",
       "      <td>6</td>\n",
       "      <td>1</td>\n",
       "      <td>2</td>\n",
       "      <td>181500</td>\n",
       "    </tr>\n",
       "    <tr>\n",
       "      <th>2</th>\n",
       "      <td>11250</td>\n",
       "      <td>7</td>\n",
       "      <td>2002</td>\n",
       "      <td>1786</td>\n",
       "      <td>1</td>\n",
       "      <td>2</td>\n",
       "      <td>1</td>\n",
       "      <td>6</td>\n",
       "      <td>1</td>\n",
       "      <td>2</td>\n",
       "      <td>223500</td>\n",
       "    </tr>\n",
       "    <tr>\n",
       "      <th>3</th>\n",
       "      <td>9550</td>\n",
       "      <td>7</td>\n",
       "      <td>1970</td>\n",
       "      <td>1717</td>\n",
       "      <td>1</td>\n",
       "      <td>1</td>\n",
       "      <td>0</td>\n",
       "      <td>7</td>\n",
       "      <td>1</td>\n",
       "      <td>3</td>\n",
       "      <td>140000</td>\n",
       "    </tr>\n",
       "    <tr>\n",
       "      <th>4</th>\n",
       "      <td>14260</td>\n",
       "      <td>8</td>\n",
       "      <td>2000</td>\n",
       "      <td>2198</td>\n",
       "      <td>1</td>\n",
       "      <td>2</td>\n",
       "      <td>1</td>\n",
       "      <td>9</td>\n",
       "      <td>1</td>\n",
       "      <td>3</td>\n",
       "      <td>250000</td>\n",
       "    </tr>\n",
       "  </tbody>\n",
       "</table>\n",
       "</div>"
      ],
      "text/plain": [
       "   LotArea  OverallQual  YearRemodAdd  GrLivArea  BsmtFullBath  FullBath  \\\n",
       "0     8450            7          2003       1710             1         2   \n",
       "1     9600            6          1976       1262             0         2   \n",
       "2    11250            7          2002       1786             1         2   \n",
       "3     9550            7          1970       1717             1         1   \n",
       "4    14260            8          2000       2198             1         2   \n",
       "\n",
       "   HalfBath  TotRmsAbvGrd  Fireplaces  GarageCars  SalePrice  \n",
       "0         1             8           0           2     208500  \n",
       "1         0             6           1           2     181500  \n",
       "2         1             6           1           2     223500  \n",
       "3         0             7           1           3     140000  \n",
       "4         1             9           1           3     250000  "
      ]
     },
     "execution_count": 27,
     "metadata": {},
     "output_type": "execute_result"
    }
   ],
   "source": [
    "train_final_df.head(5)"
   ]
  },
  {
   "cell_type": "code",
   "execution_count": 28,
   "id": "2d241e02",
   "metadata": {
    "execution": {
     "iopub.execute_input": "2022-01-07T23:14:18.099542Z",
     "iopub.status.busy": "2022-01-07T23:14:18.098903Z",
     "iopub.status.idle": "2022-01-07T23:14:18.289437Z",
     "shell.execute_reply": "2022-01-07T23:14:18.288899Z",
     "shell.execute_reply.started": "2022-01-07T22:13:11.432001Z"
    },
    "papermill": {
     "duration": 0.238616,
     "end_time": "2022-01-07T23:14:18.289585",
     "exception": false,
     "start_time": "2022-01-07T23:14:18.050969",
     "status": "completed"
    },
    "tags": []
   },
   "outputs": [
    {
     "data": {
      "text/plain": [
       "<AxesSubplot:ylabel='Frequency'>"
      ]
     },
     "execution_count": 28,
     "metadata": {},
     "output_type": "execute_result"
    },
    {
     "data": {
      "image/png": "[encoded data removed]",
      "text/plain": [
       "<Figure size 432x288 with 1 Axes>"
      ]
     },
     "metadata": {
      "needs_background": "light"
     },
     "output_type": "display_data"
    }
   ],
   "source": [
    "train_final_df[\"YearRemodAdd\"].plot.hist()"
   ]
  },
  {
   "cell_type": "code",
   "execution_count": 29,
   "id": "f03cbfdf",
   "metadata": {
    "execution": {
     "iopub.execute_input": "2022-01-07T23:14:18.385906Z",
     "iopub.status.busy": "2022-01-07T23:14:18.385250Z",
     "iopub.status.idle": "2022-01-07T23:14:18.390788Z",
     "shell.execute_reply": "2022-01-07T23:14:18.391317Z",
     "shell.execute_reply.started": "2022-01-07T22:13:11.676016Z"
    },
    "papermill": {
     "duration": 0.0553,
     "end_time": "2022-01-07T23:14:18.391489",
     "exception": false,
     "start_time": "2022-01-07T23:14:18.336189",
     "status": "completed"
    },
    "tags": []
   },
   "outputs": [],
   "source": [
    "# map the YearRemodAdd to numerical values\n",
    "# since more recent the remod year better it is, we will map the histogram bins and assign them numbers\n",
    "def map_year_remod(year):\n",
    "    if year >= 1950 and year < 1960:\n",
    "        return 1\n",
    "    elif year >= 1960 and year < 1970:\n",
    "        return 2\n",
    "    elif year >= 1970 and year < 1980:\n",
    "        return 3\n",
    "    elif year >= 1980 and year < 1990:\n",
    "        return 4\n",
    "    elif year >= 1990 and year < 2000:\n",
    "        return 5\n",
    "    else:\n",
    "        return 6"
   ]
  },
  {
   "cell_type": "code",
   "execution_count": 30,
   "id": "ac786f92",
   "metadata": {
    "execution": {
     "iopub.execute_input": "2022-01-07T23:14:18.489161Z",
     "iopub.status.busy": "2022-01-07T23:14:18.488435Z",
     "iopub.status.idle": "2022-01-07T23:14:18.496116Z",
     "shell.execute_reply": "2022-01-07T23:14:18.496676Z",
     "shell.execute_reply.started": "2022-01-07T22:13:11.683748Z"
    },
    "papermill": {
     "duration": 0.059239,
     "end_time": "2022-01-07T23:14:18.496848",
     "exception": false,
     "start_time": "2022-01-07T23:14:18.437609",
     "status": "completed"
    },
    "tags": []
   },
   "outputs": [],
   "source": [
    "train_final_df[\"remod_year_mapped\"] = train_final_df['YearRemodAdd'].apply(map_year_remod)\n",
    "train_final_df = train_final_df.drop(columns = [\"YearRemodAdd\"])"
   ]
  },
  {
   "cell_type": "code",
   "execution_count": 31,
   "id": "85afce3c",
   "metadata": {
    "execution": {
     "iopub.execute_input": "2022-01-07T23:14:18.603413Z",
     "iopub.status.busy": "2022-01-07T23:14:18.602750Z",
     "iopub.status.idle": "2022-01-07T23:14:18.606470Z",
     "shell.execute_reply": "2022-01-07T23:14:18.605951Z",
     "shell.execute_reply.started": "2022-01-07T22:13:11.697382Z"
    },
    "papermill": {
     "duration": 0.06216,
     "end_time": "2022-01-07T23:14:18.606617",
     "exception": false,
     "start_time": "2022-01-07T23:14:18.544457",
     "status": "completed"
    },
    "tags": []
   },
   "outputs": [
    {
     "data": {
      "text/html": [
       "<div>\n",
       "<style scoped>\n",
       "    .dataframe tbody tr th:only-of-type {\n",
       "        vertical-align: middle;\n",
       "    }\n",
       "\n",
       "    .dataframe tbody tr th {\n",
       "        vertical-align: top;\n",
       "    }\n",
       "\n",
       "    .dataframe thead th {\n",
       "        text-align: right;\n",
       "    }\n",
       "</style>\n",
       "<table border=\"1\" class=\"dataframe\">\n",
       "  <thead>\n",
       "    <tr style=\"text-align: right;\">\n",
       "      <th></th>\n",
       "      <th>LotArea</th>\n",
       "      <th>OverallQual</th>\n",
       "      <th>GrLivArea</th>\n",
       "      <th>BsmtFullBath</th>\n",
       "      <th>FullBath</th>\n",
       "      <th>HalfBath</th>\n",
       "      <th>TotRmsAbvGrd</th>\n",
       "      <th>Fireplaces</th>\n",
       "      <th>GarageCars</th>\n",
       "      <th>SalePrice</th>\n",
       "      <th>remod_year_mapped</th>\n",
       "    </tr>\n",
       "  </thead>\n",
       "  <tbody>\n",
       "    <tr>\n",
       "      <th>0</th>\n",
       "      <td>8450</td>\n",
       "      <td>7</td>\n",
       "      <td>1710</td>\n",
       "      <td>1</td>\n",
       "      <td>2</td>\n",
       "      <td>1</td>\n",
       "      <td>8</td>\n",
       "      <td>0</td>\n",
       "      <td>2</td>\n",
       "      <td>208500</td>\n",
       "      <td>6</td>\n",
       "    </tr>\n",
       "    <tr>\n",
       "      <th>1</th>\n",
       "      <td>9600</td>\n",
       "      <td>6</td>\n",
       "      <td>1262</td>\n",
       "      <td>0</td>\n",
       "      <td>2</td>\n",
       "      <td>0</td>\n",
       "      <td>6</td>\n",
       "      <td>1</td>\n",
       "      <td>2</td>\n",
       "      <td>181500</td>\n",
       "      <td>3</td>\n",
       "    </tr>\n",
       "    <tr>\n",
       "      <th>2</th>\n",
       "      <td>11250</td>\n",
       "      <td>7</td>\n",
       "      <td>1786</td>\n",
       "      <td>1</td>\n",
       "      <td>2</td>\n",
       "      <td>1</td>\n",
       "      <td>6</td>\n",
       "      <td>1</td>\n",
       "      <td>2</td>\n",
       "      <td>223500</td>\n",
       "      <td>6</td>\n",
       "    </tr>\n",
       "    <tr>\n",
       "      <th>3</th>\n",
       "      <td>9550</td>\n",
       "      <td>7</td>\n",
       "      <td>1717</td>\n",
       "      <td>1</td>\n",
       "      <td>1</td>\n",
       "      <td>0</td>\n",
       "      <td>7</td>\n",
       "      <td>1</td>\n",
       "      <td>3</td>\n",
       "      <td>140000</td>\n",
       "      <td>3</td>\n",
       "    </tr>\n",
       "    <tr>\n",
       "      <th>4</th>\n",
       "      <td>14260</td>\n",
       "      <td>8</td>\n",
       "      <td>2198</td>\n",
       "      <td>1</td>\n",
       "      <td>2</td>\n",
       "      <td>1</td>\n",
       "      <td>9</td>\n",
       "      <td>1</td>\n",
       "      <td>3</td>\n",
       "      <td>250000</td>\n",
       "      <td>6</td>\n",
       "    </tr>\n",
       "  </tbody>\n",
       "</table>\n",
       "</div>"
      ],
      "text/plain": [
       "   LotArea  OverallQual  GrLivArea  BsmtFullBath  FullBath  HalfBath  \\\n",
       "0     8450            7       1710             1         2         1   \n",
       "1     9600            6       1262             0         2         0   \n",
       "2    11250            7       1786             1         2         1   \n",
       "3     9550            7       1717             1         1         0   \n",
       "4    14260            8       2198             1         2         1   \n",
       "\n",
       "   TotRmsAbvGrd  Fireplaces  GarageCars  SalePrice  remod_year_mapped  \n",
       "0             8           0           2     208500                  6  \n",
       "1             6           1           2     181500                  3  \n",
       "2             6           1           2     223500                  6  \n",
       "3             7           1           3     140000                  3  \n",
       "4             9           1           3     250000                  6  "
      ]
     },
     "execution_count": 31,
     "metadata": {},
     "output_type": "execute_result"
    }
   ],
   "source": [
    "train_final_df.head(5)"
   ]
  },
  {
   "cell_type": "code",
   "execution_count": 32,
   "id": "e38f42cb",
   "metadata": {
    "execution": {
     "iopub.execute_input": "2022-01-07T23:14:18.728558Z",
     "iopub.status.busy": "2022-01-07T23:14:18.727536Z",
     "iopub.status.idle": "2022-01-07T23:14:24.423550Z",
     "shell.execute_reply": "2022-01-07T23:14:24.424301Z",
     "shell.execute_reply.started": "2022-01-07T22:13:11.715024Z"
    },
    "papermill": {
     "duration": 5.761716,
     "end_time": "2022-01-07T23:14:24.424547",
     "exception": false,
     "start_time": "2022-01-07T23:14:18.662831",
     "status": "completed"
    },
    "tags": []
   },
   "outputs": [
    {
     "name": "stdout",
     "output_type": "stream",
     "text": [
      "-37623.66474782881\n",
      "-40480.19042488198\n",
      "-32447.749532957852\n"
     ]
    }
   ],
   "source": [
    "features = [\"LotArea\", \"OverallQual\", \"GrLivArea\", \"BsmtFullBath\", \"FullBath\", \"HalfBath\", \"TotRmsAbvGrd\", \"Fireplaces\", \"GarageCars\", \"remod_year_mapped\"]\n",
    "target = \"SalePrice\"\n",
    "\n",
    "models = [LinearRegression(), DecisionTreeRegressor(), RandomForestRegressor()]\n",
    "for m in models:\n",
    "    rmse = perform_cross_validation(m, features, target, train_final_df)\n",
    "    print(rmse)"
   ]
  },
  {
   "cell_type": "code",
   "execution_count": 33,
   "id": "3132e7d2",
   "metadata": {
    "execution": {
     "iopub.execute_input": "2022-01-07T23:14:24.526489Z",
     "iopub.status.busy": "2022-01-07T23:14:24.525804Z",
     "iopub.status.idle": "2022-01-07T23:14:25.148790Z",
     "shell.execute_reply": "2022-01-07T23:14:25.148229Z",
     "shell.execute_reply.started": "2022-01-07T22:13:16.901587Z"
    },
    "papermill": {
     "duration": 0.673947,
     "end_time": "2022-01-07T23:14:25.148950",
     "exception": false,
     "start_time": "2022-01-07T23:14:24.475003",
     "status": "completed"
    },
    "tags": []
   },
   "outputs": [],
   "source": [
    "# Looks like RandomForestRegressor has the lowest error.\n",
    "# Let us try to fit and make the predictions\n",
    "test_df[\"remod_year_mapped\"] = test_df['YearRemodAdd'].apply(map_year_remod)\n",
    "test_df[\"BsmtFullBath\"] = test_df[\"BsmtFullBath\"].fillna(test_df[\"BsmtFullBath\"].mode()[0])\n",
    "test_df[\"GarageCars\"] = test_df[\"GarageCars\"].fillna(test_df[\"GarageCars\"].mode()[0])\n",
    "\n",
    "model = RandomForestRegressor(random_state = 1)\n",
    "model.fit(train_final_df[features], train_final_df[target])\n",
    "predictions = model.predict(test_df[features])"
   ]
  },
  {
   "cell_type": "code",
   "execution_count": 34,
   "id": "94a9ca4a",
   "metadata": {
    "execution": {
     "iopub.execute_input": "2022-01-07T23:14:25.248693Z",
     "iopub.status.busy": "2022-01-07T23:14:25.247656Z",
     "iopub.status.idle": "2022-01-07T23:14:25.249688Z",
     "shell.execute_reply": "2022-01-07T23:14:25.250293Z",
     "shell.execute_reply.started": "2022-01-07T22:13:17.420964Z"
    },
    "papermill": {
     "duration": 0.054251,
     "end_time": "2022-01-07T23:14:25.250463",
     "exception": false,
     "start_time": "2022-01-07T23:14:25.196212",
     "status": "completed"
    },
    "tags": []
   },
   "outputs": [],
   "source": [
    "# ids = test_df[\"Id\"]\n",
    "# submission = pd.DataFrame(\n",
    "#     {\n",
    "#         \"Id\": ids,\n",
    "#         \"SalePrice\": predictions\n",
    "#     }\n",
    "# )\n",
    "\n",
    "# submission.to_csv(\"submission.csv\", index=False)"
   ]
  },
  {
   "cell_type": "code",
   "execution_count": 35,
   "id": "dd00d89c",
   "metadata": {
    "execution": {
     "iopub.execute_input": "2022-01-07T23:14:25.349232Z",
     "iopub.status.busy": "2022-01-07T23:14:25.348558Z",
     "iopub.status.idle": "2022-01-07T23:14:25.352975Z",
     "shell.execute_reply": "2022-01-07T23:14:25.353501Z",
     "shell.execute_reply.started": "2022-01-07T22:40:55.991245Z"
    },
    "papermill": {
     "duration": 0.055522,
     "end_time": "2022-01-07T23:14:25.353672",
     "exception": false,
     "start_time": "2022-01-07T23:14:25.298150",
     "status": "completed"
    },
    "tags": []
   },
   "outputs": [],
   "source": [
    "# # score of 0.16504 (not too shabby!)\n",
    "# # lets try hyper parameter optimization using GridSearchCV\n",
    "# from sklearn.model_selection import GridSearchCV\n",
    "\n",
    "# rfRegressor = \\\n",
    "# {\n",
    "#     \"name\": \"RandomForestRegressor\",\n",
    "#     \"estimator\": RandomForestRegressor(random_state=1),\n",
    "#     \"hyperparameters\":\n",
    "#         {\n",
    "#             \"n_estimators\": [100],\n",
    "#             \"criterion\": [\"mae\"],\n",
    "#             \"max_depth\": [10],\n",
    "#             #\"max_features\": [\"log2\", \"sqrt\"],\n",
    "#             \"min_samples_leaf\": [3, 6, 9, 12],\n",
    "#             \"min_samples_split\": [3, 6, 9, 12]\n",
    "\n",
    "#         }\n",
    "# }\n",
    "# grid = GridSearchCV(rfRegressor[\"estimator\"],\n",
    "#                             param_grid=rfRegressor[\"hyperparameters\"],\n",
    "#                             cv=10)\n",
    "# grid.fit(train_final_df[features],train_final_df[target])\n",
    "\n",
    "# print(\"Best Score: {}\".format(grid.best_score_))\n",
    "# print(\"Best Parameters: {}\\n\".format(grid.best_params_))\n",
    "\n",
    "# final_model = grid.best_estimator_"
   ]
  },
  {
   "cell_type": "code",
   "execution_count": 36,
   "id": "71f23bf2",
   "metadata": {
    "execution": {
     "iopub.execute_input": "2022-01-07T23:14:25.451843Z",
     "iopub.status.busy": "2022-01-07T23:14:25.451227Z",
     "iopub.status.idle": "2022-01-07T23:14:25.463595Z",
     "shell.execute_reply": "2022-01-07T23:14:25.464096Z",
     "shell.execute_reply.started": "2022-01-07T22:53:21.701390Z"
    },
    "papermill": {
     "duration": 0.063147,
     "end_time": "2022-01-07T23:14:25.464288",
     "exception": false,
     "start_time": "2022-01-07T23:14:25.401141",
     "status": "completed"
    },
    "tags": []
   },
   "outputs": [
    {
     "name": "stdout",
     "output_type": "stream",
     "text": [
      "<class 'pandas.core.frame.DataFrame'>\n",
      "RangeIndex: 1460 entries, 0 to 1459\n",
      "Data columns (total 10 columns):\n",
      " #   Column             Non-Null Count  Dtype\n",
      "---  ------             --------------  -----\n",
      " 0   LotArea            1460 non-null   int64\n",
      " 1   OverallQual        1460 non-null   int64\n",
      " 2   GrLivArea          1460 non-null   int64\n",
      " 3   BsmtFullBath       1460 non-null   int64\n",
      " 4   FullBath           1460 non-null   int64\n",
      " 5   HalfBath           1460 non-null   int64\n",
      " 6   TotRmsAbvGrd       1460 non-null   int64\n",
      " 7   Fireplaces         1460 non-null   int64\n",
      " 8   GarageCars         1460 non-null   int64\n",
      " 9   remod_year_mapped  1460 non-null   int64\n",
      "dtypes: int64(10)\n",
      "memory usage: 114.2 KB\n"
     ]
    }
   ],
   "source": [
    "train_final_df[features].info()"
   ]
  },
  {
   "cell_type": "code",
   "execution_count": 37,
   "id": "77d09784",
   "metadata": {
    "execution": {
     "iopub.execute_input": "2022-01-07T23:14:25.568033Z",
     "iopub.status.busy": "2022-01-07T23:14:25.567330Z",
     "iopub.status.idle": "2022-01-07T23:14:25.577908Z",
     "shell.execute_reply": "2022-01-07T23:14:25.578915Z",
     "shell.execute_reply.started": "2022-01-07T22:53:32.797266Z"
    },
    "papermill": {
     "duration": 0.0668,
     "end_time": "2022-01-07T23:14:25.579243",
     "exception": false,
     "start_time": "2022-01-07T23:14:25.512443",
     "status": "completed"
    },
    "tags": []
   },
   "outputs": [
    {
     "name": "stdout",
     "output_type": "stream",
     "text": [
      "<class 'pandas.core.frame.DataFrame'>\n",
      "RangeIndex: 1459 entries, 0 to 1458\n",
      "Data columns (total 10 columns):\n",
      " #   Column             Non-Null Count  Dtype  \n",
      "---  ------             --------------  -----  \n",
      " 0   LotArea            1459 non-null   int64  \n",
      " 1   OverallQual        1459 non-null   int64  \n",
      " 2   GrLivArea          1459 non-null   int64  \n",
      " 3   BsmtFullBath       1459 non-null   float64\n",
      " 4   FullBath           1459 non-null   int64  \n",
      " 5   HalfBath           1459 non-null   int64  \n",
      " 6   TotRmsAbvGrd       1459 non-null   int64  \n",
      " 7   Fireplaces         1459 non-null   int64  \n",
      " 8   GarageCars         1459 non-null   float64\n",
      " 9   remod_year_mapped  1459 non-null   int64  \n",
      "dtypes: float64(2), int64(8)\n",
      "memory usage: 114.1 KB\n"
     ]
    }
   ],
   "source": [
    "test_df[features].info()"
   ]
  },
  {
   "cell_type": "code",
   "execution_count": 38,
   "id": "42b3ccb2",
   "metadata": {
    "execution": {
     "iopub.execute_input": "2022-01-07T23:14:25.682554Z",
     "iopub.status.busy": "2022-01-07T23:14:25.681882Z",
     "iopub.status.idle": "2022-01-07T23:14:25.687109Z",
     "shell.execute_reply": "2022-01-07T23:14:25.687658Z",
     "shell.execute_reply.started": "2022-01-07T22:56:50.609958Z"
    },
    "papermill": {
     "duration": 0.05736,
     "end_time": "2022-01-07T23:14:25.687826",
     "exception": false,
     "start_time": "2022-01-07T23:14:25.630466",
     "status": "completed"
    },
    "tags": []
   },
   "outputs": [],
   "source": [
    "test_df[\"BsmtFullBath\"] = test_df[\"BsmtFullBath\"].astype(int)\n",
    "test_df[\"GarageCars\"] = test_df[\"GarageCars\"].astype(int)"
   ]
  },
  {
   "cell_type": "code",
   "execution_count": 39,
   "id": "f6f235f0",
   "metadata": {
    "execution": {
     "iopub.execute_input": "2022-01-07T23:14:25.788352Z",
     "iopub.status.busy": "2022-01-07T23:14:25.787644Z",
     "iopub.status.idle": "2022-01-07T23:14:25.791264Z",
     "shell.execute_reply": "2022-01-07T23:14:25.791815Z"
    },
    "papermill": {
     "duration": 0.055587,
     "end_time": "2022-01-07T23:14:25.792076",
     "exception": false,
     "start_time": "2022-01-07T23:14:25.736489",
     "status": "completed"
    },
    "tags": []
   },
   "outputs": [],
   "source": [
    "# create final submission file\n",
    "\n",
    "# final_model = RandomForestRegressor(criterion='mae', max_depth=10, min_samples_leaf=3,\n",
    "#                       min_samples_split=3, random_state=1)\n",
    "# final_model.fit(train_final_df[features], train_final_df[target])\n",
    "# predictions = model.predict(test_df[features])\n",
    "\n",
    "# ids = test_df[\"Id\"]\n",
    "# submission = pd.DataFrame(\n",
    "#     {\n",
    "#         \"Id\": ids,\n",
    "#         \"SalePrice\": predictions\n",
    "#     }\n",
    "# )\n",
    "\n",
    "# submission.to_csv(\"submission.csv\", index=False)\n",
    "# 0.16467"
   ]
  },
  {
   "cell_type": "code",
   "execution_count": 40,
   "id": "9e8fc73b",
   "metadata": {
    "execution": {
     "iopub.execute_input": "2022-01-07T23:14:25.893335Z",
     "iopub.status.busy": "2022-01-07T23:14:25.892547Z",
     "iopub.status.idle": "2022-01-07T23:14:25.908405Z",
     "shell.execute_reply": "2022-01-07T23:14:25.908934Z",
     "shell.execute_reply.started": "2022-01-07T23:09:20.116130Z"
    },
    "papermill": {
     "duration": 0.06819,
     "end_time": "2022-01-07T23:14:25.909171",
     "exception": false,
     "start_time": "2022-01-07T23:14:25.840981",
     "status": "completed"
    },
    "tags": []
   },
   "outputs": [],
   "source": [
    "# try minmaxscaler and linear regression\n",
    "for col in features:\n",
    "    train_final_df = perform_minmaxscaler(train_final_df, col)\n",
    "    test_df = perform_minmaxscaler(test_df, col)"
   ]
  },
  {
   "cell_type": "code",
   "execution_count": 41,
   "id": "479758d5",
   "metadata": {
    "execution": {
     "iopub.execute_input": "2022-01-07T23:14:26.010744Z",
     "iopub.status.busy": "2022-01-07T23:14:26.010131Z",
     "iopub.status.idle": "2022-01-07T23:14:26.095740Z",
     "shell.execute_reply": "2022-01-07T23:14:26.096610Z",
     "shell.execute_reply.started": "2022-01-07T23:10:34.712169Z"
    },
    "papermill": {
     "duration": 0.138888,
     "end_time": "2022-01-07T23:14:26.096923",
     "exception": false,
     "start_time": "2022-01-07T23:14:25.958035",
     "status": "completed"
    },
    "tags": []
   },
   "outputs": [
    {
     "name": "stdout",
     "output_type": "stream",
     "text": [
      "-37623.66474782898\n"
     ]
    }
   ],
   "source": [
    "model = LinearRegression()\n",
    "#model.fit(train_df[initial_features], train_df[target])\n",
    "score = perform_cross_validation(model, features, target, train_final_df)\n",
    "print(score)"
   ]
  },
  {
   "cell_type": "code",
   "execution_count": 42,
   "id": "4c74d234",
   "metadata": {
    "execution": {
     "iopub.execute_input": "2022-01-07T23:14:26.249609Z",
     "iopub.status.busy": "2022-01-07T23:14:26.248959Z",
     "iopub.status.idle": "2022-01-07T23:14:26.284186Z",
     "shell.execute_reply": "2022-01-07T23:14:26.285137Z"
    },
    "papermill": {
     "duration": 0.097733,
     "end_time": "2022-01-07T23:14:26.285427",
     "exception": false,
     "start_time": "2022-01-07T23:14:26.187694",
     "status": "completed"
    },
    "tags": []
   },
   "outputs": [],
   "source": [
    "model = LinearRegression()\n",
    "model.fit(train_final_df[features], train_final_df[target])\n",
    "predictions = model.predict(test_df[features])\n",
    "\n",
    "ids = test_df[\"Id\"]\n",
    "submission = pd.DataFrame(\n",
    "    {\n",
    "        \"Id\": ids,\n",
    "        \"SalePrice\": predictions\n",
    "    }\n",
    ")\n",
    "\n",
    "submission.to_csv(\"submission.csv\", index=False)\n",
    "# 0.46921 thats bad"
   ]
  },
  {
   "cell_type": "code",
   "execution_count": 43,
   "id": "8b067514",
   "metadata": {
    "execution": {
     "iopub.execute_input": "2022-01-07T23:14:26.433394Z",
     "iopub.status.busy": "2022-01-07T23:14:26.432425Z",
     "iopub.status.idle": "2022-01-07T23:14:26.448094Z",
     "shell.execute_reply": "2022-01-07T23:14:26.448641Z",
     "shell.execute_reply.started": "2022-01-07T22:57:02.385309Z"
    },
    "papermill": {
     "duration": 0.071958,
     "end_time": "2022-01-07T23:14:26.448813",
     "exception": false,
     "start_time": "2022-01-07T23:14:26.376855",
     "status": "completed"
    },
    "tags": []
   },
   "outputs": [
    {
     "data": {
      "text/html": [
       "<div>\n",
       "<style scoped>\n",
       "    .dataframe tbody tr th:only-of-type {\n",
       "        vertical-align: middle;\n",
       "    }\n",
       "\n",
       "    .dataframe tbody tr th {\n",
       "        vertical-align: top;\n",
       "    }\n",
       "\n",
       "    .dataframe thead th {\n",
       "        text-align: right;\n",
       "    }\n",
       "</style>\n",
       "<table border=\"1\" class=\"dataframe\">\n",
       "  <thead>\n",
       "    <tr style=\"text-align: right;\">\n",
       "      <th></th>\n",
       "      <th>LotArea</th>\n",
       "      <th>OverallQual</th>\n",
       "      <th>GrLivArea</th>\n",
       "      <th>BsmtFullBath</th>\n",
       "      <th>FullBath</th>\n",
       "      <th>HalfBath</th>\n",
       "      <th>TotRmsAbvGrd</th>\n",
       "      <th>Fireplaces</th>\n",
       "      <th>GarageCars</th>\n",
       "      <th>remod_year_mapped</th>\n",
       "    </tr>\n",
       "  </thead>\n",
       "  <tbody>\n",
       "    <tr>\n",
       "      <th>0</th>\n",
       "      <td>0.184147</td>\n",
       "      <td>0.444444</td>\n",
       "      <td>0.104309</td>\n",
       "      <td>0.0</td>\n",
       "      <td>0.25</td>\n",
       "      <td>0.0</td>\n",
       "      <td>0.166667</td>\n",
       "      <td>0.00</td>\n",
       "      <td>0.2</td>\n",
       "      <td>0.2</td>\n",
       "    </tr>\n",
       "    <tr>\n",
       "      <th>1</th>\n",
       "      <td>0.232124</td>\n",
       "      <td>0.555556</td>\n",
       "      <td>0.196672</td>\n",
       "      <td>0.0</td>\n",
       "      <td>0.25</td>\n",
       "      <td>0.5</td>\n",
       "      <td>0.250000</td>\n",
       "      <td>0.00</td>\n",
       "      <td>0.2</td>\n",
       "      <td>0.0</td>\n",
       "    </tr>\n",
       "    <tr>\n",
       "      <th>2</th>\n",
       "      <td>0.224197</td>\n",
       "      <td>0.444444</td>\n",
       "      <td>0.260666</td>\n",
       "      <td>0.0</td>\n",
       "      <td>0.50</td>\n",
       "      <td>0.5</td>\n",
       "      <td>0.250000</td>\n",
       "      <td>0.25</td>\n",
       "      <td>0.4</td>\n",
       "      <td>0.8</td>\n",
       "    </tr>\n",
       "    <tr>\n",
       "      <th>3</th>\n",
       "      <td>0.154326</td>\n",
       "      <td>0.555556</td>\n",
       "      <td>0.255333</td>\n",
       "      <td>0.0</td>\n",
       "      <td>0.50</td>\n",
       "      <td>0.5</td>\n",
       "      <td>0.333333</td>\n",
       "      <td>0.25</td>\n",
       "      <td>0.4</td>\n",
       "      <td>0.8</td>\n",
       "    </tr>\n",
       "  </tbody>\n",
       "</table>\n",
       "</div>"
      ],
      "text/plain": [
       "    LotArea  OverallQual  GrLivArea  BsmtFullBath  FullBath  HalfBath  \\\n",
       "0  0.184147     0.444444   0.104309           0.0      0.25       0.0   \n",
       "1  0.232124     0.555556   0.196672           0.0      0.25       0.5   \n",
       "2  0.224197     0.444444   0.260666           0.0      0.50       0.5   \n",
       "3  0.154326     0.555556   0.255333           0.0      0.50       0.5   \n",
       "\n",
       "   TotRmsAbvGrd  Fireplaces  GarageCars  remod_year_mapped  \n",
       "0      0.166667        0.00         0.2                0.2  \n",
       "1      0.250000        0.00         0.2                0.0  \n",
       "2      0.250000        0.25         0.4                0.8  \n",
       "3      0.333333        0.25         0.4                0.8  "
      ]
     },
     "execution_count": 43,
     "metadata": {},
     "output_type": "execute_result"
    }
   ],
   "source": [
    "test_df[features].head(4)"
   ]
  },
  {
   "cell_type": "code",
   "execution_count": 44,
   "id": "1ed95a61",
   "metadata": {
    "execution": {
     "iopub.execute_input": "2022-01-07T23:14:26.564283Z",
     "iopub.status.busy": "2022-01-07T23:14:26.550155Z",
     "iopub.status.idle": "2022-01-07T23:14:26.567645Z",
     "shell.execute_reply": "2022-01-07T23:14:26.568103Z",
     "shell.execute_reply.started": "2022-01-07T23:05:41.323140Z"
    },
    "papermill": {
     "duration": 0.069706,
     "end_time": "2022-01-07T23:14:26.568278",
     "exception": false,
     "start_time": "2022-01-07T23:14:26.498572",
     "status": "completed"
    },
    "tags": []
   },
   "outputs": [
    {
     "data": {
      "text/html": [
       "<div>\n",
       "<style scoped>\n",
       "    .dataframe tbody tr th:only-of-type {\n",
       "        vertical-align: middle;\n",
       "    }\n",
       "\n",
       "    .dataframe tbody tr th {\n",
       "        vertical-align: top;\n",
       "    }\n",
       "\n",
       "    .dataframe thead th {\n",
       "        text-align: right;\n",
       "    }\n",
       "</style>\n",
       "<table border=\"1\" class=\"dataframe\">\n",
       "  <thead>\n",
       "    <tr style=\"text-align: right;\">\n",
       "      <th></th>\n",
       "      <th>LotArea</th>\n",
       "      <th>OverallQual</th>\n",
       "      <th>GrLivArea</th>\n",
       "      <th>BsmtFullBath</th>\n",
       "      <th>FullBath</th>\n",
       "      <th>HalfBath</th>\n",
       "      <th>TotRmsAbvGrd</th>\n",
       "      <th>Fireplaces</th>\n",
       "      <th>GarageCars</th>\n",
       "      <th>SalePrice</th>\n",
       "      <th>remod_year_mapped</th>\n",
       "    </tr>\n",
       "  </thead>\n",
       "  <tbody>\n",
       "    <tr>\n",
       "      <th>0</th>\n",
       "      <td>0.033420</td>\n",
       "      <td>0.666667</td>\n",
       "      <td>0.259231</td>\n",
       "      <td>0.333333</td>\n",
       "      <td>0.666667</td>\n",
       "      <td>0.5</td>\n",
       "      <td>0.500000</td>\n",
       "      <td>0.000000</td>\n",
       "      <td>0.50</td>\n",
       "      <td>208500</td>\n",
       "      <td>1.0</td>\n",
       "    </tr>\n",
       "    <tr>\n",
       "      <th>1</th>\n",
       "      <td>0.038795</td>\n",
       "      <td>0.555556</td>\n",
       "      <td>0.174830</td>\n",
       "      <td>0.000000</td>\n",
       "      <td>0.666667</td>\n",
       "      <td>0.0</td>\n",
       "      <td>0.333333</td>\n",
       "      <td>0.333333</td>\n",
       "      <td>0.50</td>\n",
       "      <td>181500</td>\n",
       "      <td>0.4</td>\n",
       "    </tr>\n",
       "    <tr>\n",
       "      <th>2</th>\n",
       "      <td>0.046507</td>\n",
       "      <td>0.666667</td>\n",
       "      <td>0.273549</td>\n",
       "      <td>0.333333</td>\n",
       "      <td>0.666667</td>\n",
       "      <td>0.5</td>\n",
       "      <td>0.333333</td>\n",
       "      <td>0.333333</td>\n",
       "      <td>0.50</td>\n",
       "      <td>223500</td>\n",
       "      <td>1.0</td>\n",
       "    </tr>\n",
       "    <tr>\n",
       "      <th>3</th>\n",
       "      <td>0.038561</td>\n",
       "      <td>0.666667</td>\n",
       "      <td>0.260550</td>\n",
       "      <td>0.333333</td>\n",
       "      <td>0.333333</td>\n",
       "      <td>0.0</td>\n",
       "      <td>0.416667</td>\n",
       "      <td>0.333333</td>\n",
       "      <td>0.75</td>\n",
       "      <td>140000</td>\n",
       "      <td>0.4</td>\n",
       "    </tr>\n",
       "    <tr>\n",
       "      <th>4</th>\n",
       "      <td>0.060576</td>\n",
       "      <td>0.777778</td>\n",
       "      <td>0.351168</td>\n",
       "      <td>0.333333</td>\n",
       "      <td>0.666667</td>\n",
       "      <td>0.5</td>\n",
       "      <td>0.583333</td>\n",
       "      <td>0.333333</td>\n",
       "      <td>0.75</td>\n",
       "      <td>250000</td>\n",
       "      <td>1.0</td>\n",
       "    </tr>\n",
       "  </tbody>\n",
       "</table>\n",
       "</div>"
      ],
      "text/plain": [
       "    LotArea  OverallQual  GrLivArea  BsmtFullBath  FullBath  HalfBath  \\\n",
       "0  0.033420     0.666667   0.259231      0.333333  0.666667       0.5   \n",
       "1  0.038795     0.555556   0.174830      0.000000  0.666667       0.0   \n",
       "2  0.046507     0.666667   0.273549      0.333333  0.666667       0.5   \n",
       "3  0.038561     0.666667   0.260550      0.333333  0.333333       0.0   \n",
       "4  0.060576     0.777778   0.351168      0.333333  0.666667       0.5   \n",
       "\n",
       "   TotRmsAbvGrd  Fireplaces  GarageCars  SalePrice  remod_year_mapped  \n",
       "0      0.500000    0.000000        0.50     208500                1.0  \n",
       "1      0.333333    0.333333        0.50     181500                0.4  \n",
       "2      0.333333    0.333333        0.50     223500                1.0  \n",
       "3      0.416667    0.333333        0.75     140000                0.4  \n",
       "4      0.583333    0.333333        0.75     250000                1.0  "
      ]
     },
     "execution_count": 44,
     "metadata": {},
     "output_type": "execute_result"
    }
   ],
   "source": [
    "train_final_df.head(5)"
   ]
  },
  {
   "cell_type": "code",
   "execution_count": 45,
   "id": "98b17a59",
   "metadata": {
    "execution": {
     "iopub.execute_input": "2022-01-07T23:14:26.672166Z",
     "iopub.status.busy": "2022-01-07T23:14:26.671439Z",
     "iopub.status.idle": "2022-01-07T23:14:26.673918Z",
     "shell.execute_reply": "2022-01-07T23:14:26.674399Z"
    },
    "papermill": {
     "duration": 0.056381,
     "end_time": "2022-01-07T23:14:26.674575",
     "exception": false,
     "start_time": "2022-01-07T23:14:26.618194",
     "status": "completed"
    },
    "tags": []
   },
   "outputs": [],
   "source": [
    "# best score is RandomForestRegressor 0.16467"
   ]
  }
 ],
 "metadata": {
  "kernelspec": {
   "display_name": "Python 3",
   "language": "python",
   "name": "python3"
  },
  "language_info": {
   "codemirror_mode": {
    "name": "ipython",
    "version": 3
   },
   "file_extension": ".py",
   "mimetype": "text/x-python",
   "name": "python",
   "nbconvert_exporter": "python",
   "pygments_lexer": "ipython3",
   "version": "3.7.12"
  },
  "papermill": {
   "default_parameters": {},
   "duration": 25.843553,
   "end_time": "2022-01-07T23:14:27.535182",
   "environment_variables": {},
   "exception": null,
   "input_path": "__notebook__.ipynb",
   "output_path": "__notebook__.ipynb",
   "parameters": {},
   "start_time": "2022-01-07T23:14:01.691629",
   "version": "2.3.3"
  }
 },
 "nbformat": 4,
 "nbformat_minor": 5
}
