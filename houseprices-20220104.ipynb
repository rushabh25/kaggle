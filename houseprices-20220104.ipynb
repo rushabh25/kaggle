{
 "cells": [
  {
   "cell_type": "code",
   "execution_count": 1,
   "id": "5fc8390d",
   "metadata": {
    "_cell_guid": "b1076dfc-b9ad-4769-8c92-a6c4dae69d19",
    "_uuid": "8f2839f25d086af736a60e9eeb907d3b93b6e0e5",
    "execution": {
     "iopub.execute_input": "2022-01-05T20:52:31.999691Z",
     "iopub.status.busy": "2022-01-05T20:52:31.994015Z",
     "iopub.status.idle": "2022-01-05T20:52:32.010973Z",
     "shell.execute_reply": "2022-01-05T20:52:32.012075Z",
     "shell.execute_reply.started": "2022-01-05T20:49:56.811908Z"
    },
    "papermill": {
     "duration": 0.062433,
     "end_time": "2022-01-05T20:52:32.012484",
     "exception": false,
     "start_time": "2022-01-05T20:52:31.950051",
     "status": "completed"
    },
    "tags": []
   },
   "outputs": [
    {
     "name": "stdout",
     "output_type": "stream",
     "text": [
      "/kaggle/input/house-prices-advanced-regression-techniques/sample_submission.csv\n",
      "/kaggle/input/house-prices-advanced-regression-techniques/data_description.txt\n",
      "/kaggle/input/house-prices-advanced-regression-techniques/train.csv\n",
      "/kaggle/input/house-prices-advanced-regression-techniques/test.csv\n"
     ]
    }
   ],
   "source": [
    "# This Python 3 environment comes with many helpful analytics libraries installed\n",
    "# It is defined by the kaggle/python Docker image: https://github.com/kaggle/docker-python\n",
    "# For example, here's several helpful packages to load\n",
    "\n",
    "import numpy as np # linear algebra\n",
    "import pandas as pd # data processing, CSV file I/O (e.g. pd.read_csv)\n",
    "\n",
    "# Input data files are available in the read-only \"../input/\" directory\n",
    "# For example, running this (by clicking run or pressing Shift+Enter) will list all files under the input directory\n",
    "\n",
    "import os\n",
    "for dirname, _, filenames in os.walk('/kaggle/input'):\n",
    "    for filename in filenames:\n",
    "        print(os.path.join(dirname, filename))\n",
    "\n",
    "# You can write up to 20GB to the current directory (/kaggle/working/) that gets preserved as output when you create a version using \"Save & Run All\" \n",
    "# You can also write temporary files to /kaggle/temp/, but they won't be saved outside of the current session"
   ]
  },
  {
   "cell_type": "code",
   "execution_count": 2,
   "id": "a625b163",
   "metadata": {
    "execution": {
     "iopub.execute_input": "2022-01-05T20:52:32.076750Z",
     "iopub.status.busy": "2022-01-05T20:52:32.074340Z",
     "iopub.status.idle": "2022-01-05T20:52:32.077525Z",
     "shell.execute_reply": "2022-01-05T20:52:32.078155Z",
     "shell.execute_reply.started": "2022-01-05T20:49:56.826244Z"
    },
    "papermill": {
     "duration": 0.03735,
     "end_time": "2022-01-05T20:52:32.078332",
     "exception": false,
     "start_time": "2022-01-05T20:52:32.040982",
     "status": "completed"
    },
    "tags": []
   },
   "outputs": [],
   "source": [
    "# setup\n",
    "TRAIN_PATH = \"../input/house-prices-advanced-regression-techniques/train.csv\"\n",
    "TEST_PATH = \"../input/house-prices-advanced-regression-techniques/test.csv\"\n",
    "SUBMISSION_PATH = \"../input/house-prices-advanced-regression-techniques/sample_submission.csv\"\n",
    "\n",
    "OUTPUT_PATH = \"../output/kaggle/working/submission.csv\""
   ]
  },
  {
   "cell_type": "code",
   "execution_count": 3,
   "id": "7a2a188a",
   "metadata": {
    "execution": {
     "iopub.execute_input": "2022-01-05T20:52:32.133974Z",
     "iopub.status.busy": "2022-01-05T20:52:32.133238Z",
     "iopub.status.idle": "2022-01-05T20:52:32.215124Z",
     "shell.execute_reply": "2022-01-05T20:52:32.214502Z",
     "shell.execute_reply.started": "2022-01-05T20:49:56.839393Z"
    },
    "papermill": {
     "duration": 0.11122,
     "end_time": "2022-01-05T20:52:32.215277",
     "exception": false,
     "start_time": "2022-01-05T20:52:32.104057",
     "status": "completed"
    },
    "tags": []
   },
   "outputs": [],
   "source": [
    "train_df = pd.read_csv(TRAIN_PATH)\n",
    "test_df = pd.read_csv(TEST_PATH)\n",
    "sample_submission_df = pd.read_csv(SUBMISSION_PATH)"
   ]
  },
  {
   "cell_type": "code",
   "execution_count": 4,
   "id": "9cd75753",
   "metadata": {
    "execution": {
     "iopub.execute_input": "2022-01-05T20:52:32.275312Z",
     "iopub.status.busy": "2022-01-05T20:52:32.267920Z",
     "iopub.status.idle": "2022-01-05T20:52:32.300905Z",
     "shell.execute_reply": "2022-01-05T20:52:32.301802Z",
     "shell.execute_reply.started": "2022-01-05T20:49:56.907309Z"
    },
    "papermill": {
     "duration": 0.064123,
     "end_time": "2022-01-05T20:52:32.302085",
     "exception": false,
     "start_time": "2022-01-05T20:52:32.237962",
     "status": "completed"
    },
    "tags": []
   },
   "outputs": [
    {
     "name": "stdout",
     "output_type": "stream",
     "text": [
      "<class 'pandas.core.frame.DataFrame'>\n",
      "RangeIndex: 1460 entries, 0 to 1459\n",
      "Data columns (total 81 columns):\n",
      " #   Column         Non-Null Count  Dtype  \n",
      "---  ------         --------------  -----  \n",
      " 0   Id             1460 non-null   int64  \n",
      " 1   MSSubClass     1460 non-null   int64  \n",
      " 2   MSZoning       1460 non-null   object \n",
      " 3   LotFrontage    1201 non-null   float64\n",
      " 4   LotArea        1460 non-null   int64  \n",
      " 5   Street         1460 non-null   object \n",
      " 6   Alley          91 non-null     object \n",
      " 7   LotShape       1460 non-null   object \n",
      " 8   LandContour    1460 non-null   object \n",
      " 9   Utilities      1460 non-null   object \n",
      " 10  LotConfig      1460 non-null   object \n",
      " 11  LandSlope      1460 non-null   object \n",
      " 12  Neighborhood   1460 non-null   object \n",
      " 13  Condition1     1460 non-null   object \n",
      " 14  Condition2     1460 non-null   object \n",
      " 15  BldgType       1460 non-null   object \n",
      " 16  HouseStyle     1460 non-null   object \n",
      " 17  OverallQual    1460 non-null   int64  \n",
      " 18  OverallCond    1460 non-null   int64  \n",
      " 19  YearBuilt      1460 non-null   int64  \n",
      " 20  YearRemodAdd   1460 non-null   int64  \n",
      " 21  RoofStyle      1460 non-null   object \n",
      " 22  RoofMatl       1460 non-null   object \n",
      " 23  Exterior1st    1460 non-null   object \n",
      " 24  Exterior2nd    1460 non-null   object \n",
      " 25  MasVnrType     1452 non-null   object \n",
      " 26  MasVnrArea     1452 non-null   float64\n",
      " 27  ExterQual      1460 non-null   object \n",
      " 28  ExterCond      1460 non-null   object \n",
      " 29  Foundation     1460 non-null   object \n",
      " 30  BsmtQual       1423 non-null   object \n",
      " 31  BsmtCond       1423 non-null   object \n",
      " 32  BsmtExposure   1422 non-null   object \n",
      " 33  BsmtFinType1   1423 non-null   object \n",
      " 34  BsmtFinSF1     1460 non-null   int64  \n",
      " 35  BsmtFinType2   1422 non-null   object \n",
      " 36  BsmtFinSF2     1460 non-null   int64  \n",
      " 37  BsmtUnfSF      1460 non-null   int64  \n",
      " 38  TotalBsmtSF    1460 non-null   int64  \n",
      " 39  Heating        1460 non-null   object \n",
      " 40  HeatingQC      1460 non-null   object \n",
      " 41  CentralAir     1460 non-null   object \n",
      " 42  Electrical     1459 non-null   object \n",
      " 43  1stFlrSF       1460 non-null   int64  \n",
      " 44  2ndFlrSF       1460 non-null   int64  \n",
      " 45  LowQualFinSF   1460 non-null   int64  \n",
      " 46  GrLivArea      1460 non-null   int64  \n",
      " 47  BsmtFullBath   1460 non-null   int64  \n",
      " 48  BsmtHalfBath   1460 non-null   int64  \n",
      " 49  FullBath       1460 non-null   int64  \n",
      " 50  HalfBath       1460 non-null   int64  \n",
      " 51  BedroomAbvGr   1460 non-null   int64  \n",
      " 52  KitchenAbvGr   1460 non-null   int64  \n",
      " 53  KitchenQual    1460 non-null   object \n",
      " 54  TotRmsAbvGrd   1460 non-null   int64  \n",
      " 55  Functional     1460 non-null   object \n",
      " 56  Fireplaces     1460 non-null   int64  \n",
      " 57  FireplaceQu    770 non-null    object \n",
      " 58  GarageType     1379 non-null   object \n",
      " 59  GarageYrBlt    1379 non-null   float64\n",
      " 60  GarageFinish   1379 non-null   object \n",
      " 61  GarageCars     1460 non-null   int64  \n",
      " 62  GarageArea     1460 non-null   int64  \n",
      " 63  GarageQual     1379 non-null   object \n",
      " 64  GarageCond     1379 non-null   object \n",
      " 65  PavedDrive     1460 non-null   object \n",
      " 66  WoodDeckSF     1460 non-null   int64  \n",
      " 67  OpenPorchSF    1460 non-null   int64  \n",
      " 68  EnclosedPorch  1460 non-null   int64  \n",
      " 69  3SsnPorch      1460 non-null   int64  \n",
      " 70  ScreenPorch    1460 non-null   int64  \n",
      " 71  PoolArea       1460 non-null   int64  \n",
      " 72  PoolQC         7 non-null      object \n",
      " 73  Fence          281 non-null    object \n",
      " 74  MiscFeature    54 non-null     object \n",
      " 75  MiscVal        1460 non-null   int64  \n",
      " 76  MoSold         1460 non-null   int64  \n",
      " 77  YrSold         1460 non-null   int64  \n",
      " 78  SaleType       1460 non-null   object \n",
      " 79  SaleCondition  1460 non-null   object \n",
      " 80  SalePrice      1460 non-null   int64  \n",
      "dtypes: float64(3), int64(35), object(43)\n",
      "memory usage: 924.0+ KB\n"
     ]
    }
   ],
   "source": [
    "train_df.info()"
   ]
  },
  {
   "cell_type": "code",
   "execution_count": 5,
   "id": "30ca78e1",
   "metadata": {
    "execution": {
     "iopub.execute_input": "2022-01-05T20:52:32.356629Z",
     "iopub.status.busy": "2022-01-05T20:52:32.355494Z",
     "iopub.status.idle": "2022-01-05T20:52:32.369828Z",
     "shell.execute_reply": "2022-01-05T20:52:32.369215Z",
     "shell.execute_reply.started": "2022-01-05T20:49:56.937252Z"
    },
    "papermill": {
     "duration": 0.045515,
     "end_time": "2022-01-05T20:52:32.369990",
     "exception": false,
     "start_time": "2022-01-05T20:52:32.324475",
     "status": "completed"
    },
    "tags": []
   },
   "outputs": [
    {
     "data": {
      "text/html": [
       "<div>\n",
       "<style scoped>\n",
       "    .dataframe tbody tr th:only-of-type {\n",
       "        vertical-align: middle;\n",
       "    }\n",
       "\n",
       "    .dataframe tbody tr th {\n",
       "        vertical-align: top;\n",
       "    }\n",
       "\n",
       "    .dataframe thead th {\n",
       "        text-align: right;\n",
       "    }\n",
       "</style>\n",
       "<table border=\"1\" class=\"dataframe\">\n",
       "  <thead>\n",
       "    <tr style=\"text-align: right;\">\n",
       "      <th></th>\n",
       "      <th>Id</th>\n",
       "      <th>SalePrice</th>\n",
       "    </tr>\n",
       "  </thead>\n",
       "  <tbody>\n",
       "    <tr>\n",
       "      <th>0</th>\n",
       "      <td>1461</td>\n",
       "      <td>169277.052498</td>\n",
       "    </tr>\n",
       "    <tr>\n",
       "      <th>1</th>\n",
       "      <td>1462</td>\n",
       "      <td>187758.393989</td>\n",
       "    </tr>\n",
       "    <tr>\n",
       "      <th>2</th>\n",
       "      <td>1463</td>\n",
       "      <td>183583.683570</td>\n",
       "    </tr>\n",
       "    <tr>\n",
       "      <th>3</th>\n",
       "      <td>1464</td>\n",
       "      <td>179317.477511</td>\n",
       "    </tr>\n",
       "    <tr>\n",
       "      <th>4</th>\n",
       "      <td>1465</td>\n",
       "      <td>150730.079977</td>\n",
       "    </tr>\n",
       "  </tbody>\n",
       "</table>\n",
       "</div>"
      ],
      "text/plain": [
       "     Id      SalePrice\n",
       "0  1461  169277.052498\n",
       "1  1462  187758.393989\n",
       "2  1463  183583.683570\n",
       "3  1464  179317.477511\n",
       "4  1465  150730.079977"
      ]
     },
     "execution_count": 5,
     "metadata": {},
     "output_type": "execute_result"
    }
   ],
   "source": [
    "sample_submission_df.head(5)"
   ]
  },
  {
   "cell_type": "markdown",
   "id": "14b0e5d8",
   "metadata": {
    "papermill": {
     "duration": 0.023323,
     "end_time": "2022-01-05T20:52:32.417016",
     "exception": false,
     "start_time": "2022-01-05T20:52:32.393693",
     "status": "completed"
    },
    "tags": []
   },
   "source": [
    "### Approach\n",
    "1. First, lets create a basic LinearRegression Model using few features like Bedroom, Bathroom and SqFt\n",
    "2. We will take that neg RMSE as the baseline evaluation metric\n",
    "3. Then we will perform some feature engineering\n",
    "4. We will use more complex models\n",
    "5. Perform model hyper parameter tuning"
   ]
  },
  {
   "cell_type": "code",
   "execution_count": 6,
   "id": "173cbc37",
   "metadata": {
    "execution": {
     "iopub.execute_input": "2022-01-05T20:52:32.471770Z",
     "iopub.status.busy": "2022-01-05T20:52:32.468477Z",
     "iopub.status.idle": "2022-01-05T20:52:32.481648Z",
     "shell.execute_reply": "2022-01-05T20:52:32.482225Z",
     "shell.execute_reply.started": "2022-01-05T20:49:56.948980Z"
    },
    "papermill": {
     "duration": 0.042204,
     "end_time": "2022-01-05T20:52:32.482411",
     "exception": false,
     "start_time": "2022-01-05T20:52:32.440207",
     "status": "completed"
    },
    "tags": []
   },
   "outputs": [
    {
     "data": {
      "text/plain": [
       "FullBath\n",
       "2           768\n",
       "1           650\n",
       "3            33\n",
       "0             9\n",
       "dtype: int64"
      ]
     },
     "execution_count": 6,
     "metadata": {},
     "output_type": "execute_result"
    }
   ],
   "source": [
    "train_df[[\"FullBath\"]].value_counts()"
   ]
  },
  {
   "cell_type": "code",
   "execution_count": 7,
   "id": "9e9fca54",
   "metadata": {
    "execution": {
     "iopub.execute_input": "2022-01-05T20:52:32.538385Z",
     "iopub.status.busy": "2022-01-05T20:52:32.537200Z",
     "iopub.status.idle": "2022-01-05T20:52:32.547245Z",
     "shell.execute_reply": "2022-01-05T20:52:32.547819Z",
     "shell.execute_reply.started": "2022-01-05T20:49:56.968560Z"
    },
    "papermill": {
     "duration": 0.041969,
     "end_time": "2022-01-05T20:52:32.548010",
     "exception": false,
     "start_time": "2022-01-05T20:52:32.506041",
     "status": "completed"
    },
    "tags": []
   },
   "outputs": [
    {
     "data": {
      "text/plain": [
       "LotArea\n",
       "7200       25\n",
       "9600       24\n",
       "6000       17\n",
       "9000       14\n",
       "10800      14\n",
       "           ..\n",
       "8930        1\n",
       "8935        1\n",
       "8944        1\n",
       "8960        1\n",
       "215245      1\n",
       "Length: 1073, dtype: int64"
      ]
     },
     "execution_count": 7,
     "metadata": {},
     "output_type": "execute_result"
    }
   ],
   "source": [
    "train_df[[\"LotArea\"]].value_counts()"
   ]
  },
  {
   "cell_type": "code",
   "execution_count": 8,
   "id": "a484f58e",
   "metadata": {
    "execution": {
     "iopub.execute_input": "2022-01-05T20:52:32.600700Z",
     "iopub.status.busy": "2022-01-05T20:52:32.599917Z",
     "iopub.status.idle": "2022-01-05T20:52:32.955125Z",
     "shell.execute_reply": "2022-01-05T20:52:32.955724Z",
     "shell.execute_reply.started": "2022-01-05T20:49:56.983919Z"
    },
    "papermill": {
     "duration": 0.384276,
     "end_time": "2022-01-05T20:52:32.955922",
     "exception": false,
     "start_time": "2022-01-05T20:52:32.571646",
     "status": "completed"
    },
    "tags": []
   },
   "outputs": [
    {
     "data": {
      "text/plain": [
       "<AxesSubplot:ylabel='Frequency'>"
      ]
     },
     "execution_count": 8,
     "metadata": {},
     "output_type": "execute_result"
    },
    {
     "data": {
      "image/png": "[encoded data removed]",
      "text/plain": [
       "<Figure size 432x288 with 1 Axes>"
      ]
     },
     "metadata": {
      "needs_background": "light"
     },
     "output_type": "display_data"
    }
   ],
   "source": [
    "train_df[\"LotArea\"].plot.hist(bins = 30)"
   ]
  },
  {
   "cell_type": "code",
   "execution_count": 9,
   "id": "ae4c9858",
   "metadata": {
    "execution": {
     "iopub.execute_input": "2022-01-05T20:52:33.015588Z",
     "iopub.status.busy": "2022-01-05T20:52:33.014460Z",
     "iopub.status.idle": "2022-01-05T20:52:33.424082Z",
     "shell.execute_reply": "2022-01-05T20:52:33.424854Z",
     "shell.execute_reply.started": "2022-01-05T20:49:57.312733Z"
    },
    "papermill": {
     "duration": 0.444012,
     "end_time": "2022-01-05T20:52:33.425051",
     "exception": false,
     "start_time": "2022-01-05T20:52:32.981039",
     "status": "completed"
    },
    "tags": []
   },
   "outputs": [
    {
     "data": {
      "text/plain": [
       "<AxesSubplot:ylabel='Frequency'>"
      ]
     },
     "execution_count": 9,
     "metadata": {},
     "output_type": "execute_result"
    },
    {
     "data": {
      "image/png": "[encoded data removed]",
      "text/plain": [
       "<Figure size 432x288 with 1 Axes>"
      ]
     },
     "metadata": {
      "needs_background": "light"
     },
     "output_type": "display_data"
    }
   ],
   "source": [
    "train_df[\"SalePrice\"].plot.hist(bins = 30)"
   ]
  },
  {
   "cell_type": "code",
   "execution_count": 10,
   "id": "b7bd0d5a",
   "metadata": {
    "execution": {
     "iopub.execute_input": "2022-01-05T20:52:33.482696Z",
     "iopub.status.busy": "2022-01-05T20:52:33.481736Z",
     "iopub.status.idle": "2022-01-05T20:52:33.486113Z",
     "shell.execute_reply": "2022-01-05T20:52:33.485472Z",
     "shell.execute_reply.started": "2022-01-05T20:49:57.641983Z"
    },
    "papermill": {
     "duration": 0.035016,
     "end_time": "2022-01-05T20:52:33.486255",
     "exception": false,
     "start_time": "2022-01-05T20:52:33.451239",
     "status": "completed"
    },
    "tags": []
   },
   "outputs": [],
   "source": [
    "# since the saleprice target column is right skewed lets apply log transformation on it\n",
    "# this will help us with the rmse error for the outliers\n",
    "\n",
    "#train_df[\"SalePrice\"] = np.log(train_df[\"SalePrice\"])"
   ]
  },
  {
   "cell_type": "code",
   "execution_count": 11,
   "id": "1dc22d84",
   "metadata": {
    "execution": {
     "iopub.execute_input": "2022-01-05T20:52:33.544226Z",
     "iopub.status.busy": "2022-01-05T20:52:33.542965Z",
     "iopub.status.idle": "2022-01-05T20:52:33.546198Z",
     "shell.execute_reply": "2022-01-05T20:52:33.545469Z",
     "shell.execute_reply.started": "2022-01-05T20:49:57.647296Z"
    },
    "papermill": {
     "duration": 0.033172,
     "end_time": "2022-01-05T20:52:33.546334",
     "exception": false,
     "start_time": "2022-01-05T20:52:33.513162",
     "status": "completed"
    },
    "tags": []
   },
   "outputs": [],
   "source": [
    "#train_df[\"SalePrice\"].plot.hist()"
   ]
  },
  {
   "cell_type": "code",
   "execution_count": 12,
   "id": "0aa8f14b",
   "metadata": {
    "execution": {
     "iopub.execute_input": "2022-01-05T20:52:33.605587Z",
     "iopub.status.busy": "2022-01-05T20:52:33.604741Z",
     "iopub.status.idle": "2022-01-05T20:52:34.509943Z",
     "shell.execute_reply": "2022-01-05T20:52:34.510542Z",
     "shell.execute_reply.started": "2022-01-05T20:49:57.663660Z"
    },
    "papermill": {
     "duration": 0.938853,
     "end_time": "2022-01-05T20:52:34.510731",
     "exception": false,
     "start_time": "2022-01-05T20:52:33.571878",
     "status": "completed"
    },
    "tags": []
   },
   "outputs": [],
   "source": [
    "# perform minmax scaler\n",
    "def perform_minmaxscaler(df, col):\n",
    "    min_value = df[col].min()\n",
    "    max_value = df[col].max()\n",
    "    df[col] = (df[col] - min_value) / (max_value - min_value)\n",
    "    return df\n",
    "\n",
    "# perform cross validation\n",
    "from sklearn.model_selection import cross_val_score\n",
    "def perform_cross_validation(model, features, target, train):\n",
    "    X = train[features]\n",
    "    Y = train[target]\n",
    "    scores = cross_val_score(model, X, Y, cv=10, scoring = 'neg_root_mean_squared_error')\n",
    "    mean_score = np.mean(scores)\n",
    "    return mean_score\n",
    "    "
   ]
  },
  {
   "cell_type": "code",
   "execution_count": 13,
   "id": "4abea5fa",
   "metadata": {
    "execution": {
     "iopub.execute_input": "2022-01-05T20:52:34.575901Z",
     "iopub.status.busy": "2022-01-05T20:52:34.574978Z",
     "iopub.status.idle": "2022-01-05T20:52:34.578681Z",
     "shell.execute_reply": "2022-01-05T20:52:34.579247Z",
     "shell.execute_reply.started": "2022-01-05T20:49:57.679876Z"
    },
    "papermill": {
     "duration": 0.041929,
     "end_time": "2022-01-05T20:52:34.579442",
     "exception": false,
     "start_time": "2022-01-05T20:52:34.537513",
     "status": "completed"
    },
    "tags": []
   },
   "outputs": [
    {
     "data": {
      "text/plain": [
       "BedroomAbvGr\n",
       "3               804\n",
       "2               358\n",
       "4               213\n",
       "1                50\n",
       "5                21\n",
       "6                 7\n",
       "0                 6\n",
       "8                 1\n",
       "dtype: int64"
      ]
     },
     "execution_count": 13,
     "metadata": {},
     "output_type": "execute_result"
    }
   ],
   "source": [
    "train_df[[\"BedroomAbvGr\"]].value_counts()"
   ]
  },
  {
   "cell_type": "code",
   "execution_count": 14,
   "id": "f1b1ba41",
   "metadata": {
    "execution": {
     "iopub.execute_input": "2022-01-05T20:52:34.641390Z",
     "iopub.status.busy": "2022-01-05T20:52:34.640205Z",
     "iopub.status.idle": "2022-01-05T20:52:34.646034Z",
     "shell.execute_reply": "2022-01-05T20:52:34.645421Z",
     "shell.execute_reply.started": "2022-01-05T20:49:57.707706Z"
    },
    "papermill": {
     "duration": 0.040161,
     "end_time": "2022-01-05T20:52:34.646179",
     "exception": false,
     "start_time": "2022-01-05T20:52:34.606018",
     "status": "completed"
    },
    "tags": []
   },
   "outputs": [],
   "source": [
    "initial_features = [\"BedroomAbvGr\", \"LotArea\", \"FullBath\"]\n",
    "target = \"SalePrice\"\n",
    "for col in initial_features:\n",
    "    train_df = perform_minmaxscaler(train_df, col)"
   ]
  },
  {
   "cell_type": "code",
   "execution_count": 15,
   "id": "28a5c8f5",
   "metadata": {
    "execution": {
     "iopub.execute_input": "2022-01-05T20:52:34.705517Z",
     "iopub.status.busy": "2022-01-05T20:52:34.704595Z",
     "iopub.status.idle": "2022-01-05T20:52:34.845186Z",
     "shell.execute_reply": "2022-01-05T20:52:34.845736Z",
     "shell.execute_reply.started": "2022-01-05T20:49:57.717430Z"
    },
    "papermill": {
     "duration": 0.172878,
     "end_time": "2022-01-05T20:52:34.845940",
     "exception": false,
     "start_time": "2022-01-05T20:52:34.673062",
     "status": "completed"
    },
    "tags": []
   },
   "outputs": [
    {
     "name": "stdout",
     "output_type": "stream",
     "text": [
      "-64322.25591931094\n"
     ]
    }
   ],
   "source": [
    "from sklearn.linear_model import LinearRegression\n",
    "model = LinearRegression()\n",
    "#model.fit(train_df[initial_features], train_df[target])\n",
    "score = perform_cross_validation(model, initial_features, target, train_df)\n",
    "print(score)"
   ]
  },
  {
   "cell_type": "code",
   "execution_count": 16,
   "id": "e9088635",
   "metadata": {
    "execution": {
     "iopub.execute_input": "2022-01-05T20:52:34.909945Z",
     "iopub.status.busy": "2022-01-05T20:52:34.908860Z",
     "iopub.status.idle": "2022-01-05T20:52:34.912321Z",
     "shell.execute_reply": "2022-01-05T20:52:34.911738Z",
     "shell.execute_reply.started": "2022-01-05T20:49:57.781062Z"
    },
    "papermill": {
     "duration": 0.03833,
     "end_time": "2022-01-05T20:52:34.912488",
     "exception": false,
     "start_time": "2022-01-05T20:52:34.874158",
     "status": "completed"
    },
    "tags": []
   },
   "outputs": [],
   "source": [
    "def model_training(train_df, features, target):\n",
    "    model = LinearRegression()\n",
    "    X = train_df[features]\n",
    "    Y = train_df[target]\n",
    "    model.fit(X, Y)\n",
    "    return model\n",
    "    \n",
    "def generate_predictions(model, test_df, features):\n",
    "    for col in initial_features:\n",
    "        test_df = perform_minmaxscaler(test_df, col)\n",
    "    predictions = model.predict(test_df[features])\n",
    "    return predictions"
   ]
  },
  {
   "cell_type": "code",
   "execution_count": 17,
   "id": "1de21eb4",
   "metadata": {
    "execution": {
     "iopub.execute_input": "2022-01-05T20:52:34.975562Z",
     "iopub.status.busy": "2022-01-05T20:52:34.974476Z",
     "iopub.status.idle": "2022-01-05T20:52:34.979011Z",
     "shell.execute_reply": "2022-01-05T20:52:34.978212Z",
     "shell.execute_reply.started": "2022-01-05T20:49:57.788899Z"
    },
    "papermill": {
     "duration": 0.039516,
     "end_time": "2022-01-05T20:52:34.979156",
     "exception": false,
     "start_time": "2022-01-05T20:52:34.939640",
     "status": "completed"
    },
    "tags": []
   },
   "outputs": [],
   "source": [
    "model = model_training(train_df, initial_features, target)"
   ]
  },
  {
   "cell_type": "code",
   "execution_count": 18,
   "id": "0bb110c0",
   "metadata": {
    "execution": {
     "iopub.execute_input": "2022-01-05T20:52:35.040151Z",
     "iopub.status.busy": "2022-01-05T20:52:35.039178Z",
     "iopub.status.idle": "2022-01-05T20:52:35.042997Z",
     "shell.execute_reply": "2022-01-05T20:52:35.043540Z",
     "shell.execute_reply.started": "2022-01-05T20:49:57.805309Z"
    },
    "papermill": {
     "duration": 0.037611,
     "end_time": "2022-01-05T20:52:35.043719",
     "exception": false,
     "start_time": "2022-01-05T20:52:35.006108",
     "status": "completed"
    },
    "tags": []
   },
   "outputs": [
    {
     "data": {
      "text/plain": [
       "array([-45124.60711927, 341672.38957573, 240706.85495637])"
      ]
     },
     "execution_count": 18,
     "metadata": {},
     "output_type": "execute_result"
    }
   ],
   "source": [
    "model.coef_"
   ]
  },
  {
   "cell_type": "code",
   "execution_count": 19,
   "id": "7ffafb50",
   "metadata": {
    "execution": {
     "iopub.execute_input": "2022-01-05T20:52:35.105919Z",
     "iopub.status.busy": "2022-01-05T20:52:35.103368Z",
     "iopub.status.idle": "2022-01-05T20:52:35.113025Z",
     "shell.execute_reply": "2022-01-05T20:52:35.113669Z",
     "shell.execute_reply.started": "2022-01-05T20:49:57.817851Z"
    },
    "papermill": {
     "duration": 0.043581,
     "end_time": "2022-01-05T20:52:35.113955",
     "exception": false,
     "start_time": "2022-01-05T20:52:35.070374",
     "status": "completed"
    },
    "tags": []
   },
   "outputs": [],
   "source": [
    "predictions = generate_predictions(model, test_df, initial_features)"
   ]
  },
  {
   "cell_type": "code",
   "execution_count": 20,
   "id": "32d9f0cd",
   "metadata": {
    "execution": {
     "iopub.execute_input": "2022-01-05T20:52:35.174235Z",
     "iopub.status.busy": "2022-01-05T20:52:35.172965Z",
     "iopub.status.idle": "2022-01-05T20:52:35.179391Z",
     "shell.execute_reply": "2022-01-05T20:52:35.179994Z",
     "shell.execute_reply.started": "2022-01-05T20:49:57.836495Z"
    },
    "papermill": {
     "duration": 0.038889,
     "end_time": "2022-01-05T20:52:35.180158",
     "exception": false,
     "start_time": "2022-01-05T20:52:35.141269",
     "status": "completed"
    },
    "tags": []
   },
   "outputs": [
    {
     "data": {
      "text/plain": [
       "array([164848.92456241, 173720.74641404, 231189.11924538, 207316.05476786,\n",
       "       184016.27494539, 207452.40144971, 194933.29702484, 197548.67428588,\n",
       "       155887.22901867, 144880.3332471 ])"
      ]
     },
     "execution_count": 20,
     "metadata": {},
     "output_type": "execute_result"
    }
   ],
   "source": [
    "predictions[0:10]"
   ]
  },
  {
   "cell_type": "code",
   "execution_count": 21,
   "id": "75e7b3ef",
   "metadata": {
    "execution": {
     "iopub.execute_input": "2022-01-05T20:52:35.242843Z",
     "iopub.status.busy": "2022-01-05T20:52:35.242086Z",
     "iopub.status.idle": "2022-01-05T20:52:35.253614Z",
     "shell.execute_reply": "2022-01-05T20:52:35.254253Z",
     "shell.execute_reply.started": "2022-01-05T20:49:57.848608Z"
    },
    "papermill": {
     "duration": 0.046268,
     "end_time": "2022-01-05T20:52:35.254424",
     "exception": false,
     "start_time": "2022-01-05T20:52:35.208156",
     "status": "completed"
    },
    "tags": []
   },
   "outputs": [],
   "source": [
    "ids = test_df[\"Id\"]\n",
    "submission = pd.DataFrame(\n",
    "    {\n",
    "        \"Id\": ids,\n",
    "        \"SalePrice\": predictions\n",
    "    }\n",
    ")\n",
    "\n",
    "submission.to_csv(\"submission.csv\", index=False)"
   ]
  },
  {
   "cell_type": "code",
   "execution_count": 22,
   "id": "b903fe96",
   "metadata": {
    "execution": {
     "iopub.execute_input": "2022-01-05T20:52:35.338663Z",
     "iopub.status.busy": "2022-01-05T20:52:35.317381Z",
     "iopub.status.idle": "2022-01-05T20:52:35.343981Z",
     "shell.execute_reply": "2022-01-05T20:52:35.343339Z",
     "shell.execute_reply.started": "2022-01-05T20:49:57.868862Z"
    },
    "papermill": {
     "duration": 0.062743,
     "end_time": "2022-01-05T20:52:35.344160",
     "exception": false,
     "start_time": "2022-01-05T20:52:35.281417",
     "status": "completed"
    },
    "tags": []
   },
   "outputs": [
    {
     "data": {
      "text/html": [
       "<div>\n",
       "<style scoped>\n",
       "    .dataframe tbody tr th:only-of-type {\n",
       "        vertical-align: middle;\n",
       "    }\n",
       "\n",
       "    .dataframe tbody tr th {\n",
       "        vertical-align: top;\n",
       "    }\n",
       "\n",
       "    .dataframe thead th {\n",
       "        text-align: right;\n",
       "    }\n",
       "</style>\n",
       "<table border=\"1\" class=\"dataframe\">\n",
       "  <thead>\n",
       "    <tr style=\"text-align: right;\">\n",
       "      <th></th>\n",
       "      <th>Id</th>\n",
       "      <th>MSSubClass</th>\n",
       "      <th>MSZoning</th>\n",
       "      <th>LotFrontage</th>\n",
       "      <th>LotArea</th>\n",
       "      <th>Street</th>\n",
       "      <th>Alley</th>\n",
       "      <th>LotShape</th>\n",
       "      <th>LandContour</th>\n",
       "      <th>Utilities</th>\n",
       "      <th>...</th>\n",
       "      <th>ScreenPorch</th>\n",
       "      <th>PoolArea</th>\n",
       "      <th>PoolQC</th>\n",
       "      <th>Fence</th>\n",
       "      <th>MiscFeature</th>\n",
       "      <th>MiscVal</th>\n",
       "      <th>MoSold</th>\n",
       "      <th>YrSold</th>\n",
       "      <th>SaleType</th>\n",
       "      <th>SaleCondition</th>\n",
       "    </tr>\n",
       "  </thead>\n",
       "  <tbody>\n",
       "    <tr>\n",
       "      <th>0</th>\n",
       "      <td>1461</td>\n",
       "      <td>20</td>\n",
       "      <td>RH</td>\n",
       "      <td>80.0</td>\n",
       "      <td>0.184147</td>\n",
       "      <td>Pave</td>\n",
       "      <td>NaN</td>\n",
       "      <td>Reg</td>\n",
       "      <td>Lvl</td>\n",
       "      <td>AllPub</td>\n",
       "      <td>...</td>\n",
       "      <td>120</td>\n",
       "      <td>0</td>\n",
       "      <td>NaN</td>\n",
       "      <td>MnPrv</td>\n",
       "      <td>NaN</td>\n",
       "      <td>0</td>\n",
       "      <td>6</td>\n",
       "      <td>2010</td>\n",
       "      <td>WD</td>\n",
       "      <td>Normal</td>\n",
       "    </tr>\n",
       "    <tr>\n",
       "      <th>1</th>\n",
       "      <td>1462</td>\n",
       "      <td>20</td>\n",
       "      <td>RL</td>\n",
       "      <td>81.0</td>\n",
       "      <td>0.232124</td>\n",
       "      <td>Pave</td>\n",
       "      <td>NaN</td>\n",
       "      <td>IR1</td>\n",
       "      <td>Lvl</td>\n",
       "      <td>AllPub</td>\n",
       "      <td>...</td>\n",
       "      <td>0</td>\n",
       "      <td>0</td>\n",
       "      <td>NaN</td>\n",
       "      <td>NaN</td>\n",
       "      <td>Gar2</td>\n",
       "      <td>12500</td>\n",
       "      <td>6</td>\n",
       "      <td>2010</td>\n",
       "      <td>WD</td>\n",
       "      <td>Normal</td>\n",
       "    </tr>\n",
       "    <tr>\n",
       "      <th>2</th>\n",
       "      <td>1463</td>\n",
       "      <td>60</td>\n",
       "      <td>RL</td>\n",
       "      <td>74.0</td>\n",
       "      <td>0.224197</td>\n",
       "      <td>Pave</td>\n",
       "      <td>NaN</td>\n",
       "      <td>IR1</td>\n",
       "      <td>Lvl</td>\n",
       "      <td>AllPub</td>\n",
       "      <td>...</td>\n",
       "      <td>0</td>\n",
       "      <td>0</td>\n",
       "      <td>NaN</td>\n",
       "      <td>MnPrv</td>\n",
       "      <td>NaN</td>\n",
       "      <td>0</td>\n",
       "      <td>3</td>\n",
       "      <td>2010</td>\n",
       "      <td>WD</td>\n",
       "      <td>Normal</td>\n",
       "    </tr>\n",
       "    <tr>\n",
       "      <th>3</th>\n",
       "      <td>1464</td>\n",
       "      <td>60</td>\n",
       "      <td>RL</td>\n",
       "      <td>78.0</td>\n",
       "      <td>0.154326</td>\n",
       "      <td>Pave</td>\n",
       "      <td>NaN</td>\n",
       "      <td>IR1</td>\n",
       "      <td>Lvl</td>\n",
       "      <td>AllPub</td>\n",
       "      <td>...</td>\n",
       "      <td>0</td>\n",
       "      <td>0</td>\n",
       "      <td>NaN</td>\n",
       "      <td>NaN</td>\n",
       "      <td>NaN</td>\n",
       "      <td>0</td>\n",
       "      <td>6</td>\n",
       "      <td>2010</td>\n",
       "      <td>WD</td>\n",
       "      <td>Normal</td>\n",
       "    </tr>\n",
       "    <tr>\n",
       "      <th>4</th>\n",
       "      <td>1465</td>\n",
       "      <td>120</td>\n",
       "      <td>RL</td>\n",
       "      <td>43.0</td>\n",
       "      <td>0.064121</td>\n",
       "      <td>Pave</td>\n",
       "      <td>NaN</td>\n",
       "      <td>IR1</td>\n",
       "      <td>HLS</td>\n",
       "      <td>AllPub</td>\n",
       "      <td>...</td>\n",
       "      <td>144</td>\n",
       "      <td>0</td>\n",
       "      <td>NaN</td>\n",
       "      <td>NaN</td>\n",
       "      <td>NaN</td>\n",
       "      <td>0</td>\n",
       "      <td>1</td>\n",
       "      <td>2010</td>\n",
       "      <td>WD</td>\n",
       "      <td>Normal</td>\n",
       "    </tr>\n",
       "  </tbody>\n",
       "</table>\n",
       "<p>5 rows × 80 columns</p>\n",
       "</div>"
      ],
      "text/plain": [
       "     Id  MSSubClass MSZoning  LotFrontage   LotArea Street Alley LotShape  \\\n",
       "0  1461          20       RH         80.0  0.184147   Pave   NaN      Reg   \n",
       "1  1462          20       RL         81.0  0.232124   Pave   NaN      IR1   \n",
       "2  1463          60       RL         74.0  0.224197   Pave   NaN      IR1   \n",
       "3  1464          60       RL         78.0  0.154326   Pave   NaN      IR1   \n",
       "4  1465         120       RL         43.0  0.064121   Pave   NaN      IR1   \n",
       "\n",
       "  LandContour Utilities  ... ScreenPorch PoolArea PoolQC  Fence MiscFeature  \\\n",
       "0         Lvl    AllPub  ...         120        0    NaN  MnPrv         NaN   \n",
       "1         Lvl    AllPub  ...           0        0    NaN    NaN        Gar2   \n",
       "2         Lvl    AllPub  ...           0        0    NaN  MnPrv         NaN   \n",
       "3         Lvl    AllPub  ...           0        0    NaN    NaN         NaN   \n",
       "4         HLS    AllPub  ...         144        0    NaN    NaN         NaN   \n",
       "\n",
       "  MiscVal MoSold  YrSold  SaleType  SaleCondition  \n",
       "0       0      6    2010        WD         Normal  \n",
       "1   12500      6    2010        WD         Normal  \n",
       "2       0      3    2010        WD         Normal  \n",
       "3       0      6    2010        WD         Normal  \n",
       "4       0      1    2010        WD         Normal  \n",
       "\n",
       "[5 rows x 80 columns]"
      ]
     },
     "execution_count": 22,
     "metadata": {},
     "output_type": "execute_result"
    }
   ],
   "source": [
    "test_df.head(5)"
   ]
  },
  {
   "cell_type": "code",
   "execution_count": null,
   "id": "96a7eff9",
   "metadata": {
    "papermill": {
     "duration": 0.028815,
     "end_time": "2022-01-05T20:52:35.402176",
     "exception": false,
     "start_time": "2022-01-05T20:52:35.373361",
     "status": "completed"
    },
    "tags": []
   },
   "outputs": [],
   "source": []
  }
 ],
 "metadata": {
  "kernelspec": {
   "display_name": "Python 3",
   "language": "python",
   "name": "python3"
  },
  "language_info": {
   "codemirror_mode": {
    "name": "ipython",
    "version": 3
   },
   "file_extension": ".py",
   "mimetype": "text/x-python",
   "name": "python",
   "nbconvert_exporter": "python",
   "pygments_lexer": "ipython3",
   "version": "3.7.12"
  },
  "papermill": {
   "default_parameters": {},
   "duration": 14.530271,
   "end_time": "2022-01-05T20:52:36.142504",
   "environment_variables": {},
   "exception": null,
   "input_path": "__notebook__.ipynb",
   "output_path": "__notebook__.ipynb",
   "parameters": {},
   "start_time": "2022-01-05T20:52:21.612233",
   "version": "2.3.3"
  }
 },
 "nbformat": 4,
 "nbformat_minor": 5
}
